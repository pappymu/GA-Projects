{
 "cells": [
  {
   "cell_type": "markdown",
   "id": "0a1bd44a-9e3d-4020-836e-e904ccd4c00c",
   "metadata": {},
   "source": [
    "# Chapter 2: Creating the Models"
   ]
  },
  {
   "cell_type": "markdown",
   "id": "82545278-866f-41c0-8fab-76a0dd6827cc",
   "metadata": {},
   "source": [
    "# Imports"
   ]
  },
  {
   "cell_type": "code",
   "execution_count": 1,
   "id": "16e2a167-0ae3-4416-9292-692d9f317a5d",
   "metadata": {},
   "outputs": [],
   "source": [
    "import matplotlib.pyplot as plt\n",
    "import numpy as np\n",
    "import pandas as pd\n",
    "import seaborn as sns\n",
    "from scipy.stats import normaltest\n",
    "from sklearn.ensemble import RandomForestRegressor\n",
    "from sklearn.linear_model import (\n",
    "    ElasticNet,\n",
    "    ElasticNetCV,\n",
    "    Lasso,\n",
    "    LassoCV,\n",
    "    LinearRegression,\n",
    "    Ridge,\n",
    "    RidgeCV,\n",
    ")\n",
    "from sklearn.metrics import mean_squared_error, r2_score  # squared=False for RMSE\n",
    "from sklearn.model_selection import GridSearchCV, cross_val_score, train_test_split\n",
    "from sklearn.neighbors import KNeighborsRegressor\n",
    "from sklearn.preprocessing import PowerTransformer"
   ]
  },
  {
   "cell_type": "markdown",
   "id": "49593dbb-1c1a-40fd-95c2-c0c20158dfca",
   "metadata": {},
   "source": [
    "# Loading the Data"
   ]
  },
  {
   "cell_type": "code",
   "execution_count": 2,
   "id": "8406d601-a9fa-491b-96ac-94d46dd342df",
   "metadata": {},
   "outputs": [],
   "source": [
    "train = pd.read_csv(\"datasets/train_clean.csv\")\n",
    "test = pd.read_csv(\"datasets/test_clean.csv\")\n",
    "test_idx = pd.read_csv(\"datasets/test.csv\")"
   ]
  },
  {
   "cell_type": "code",
   "execution_count": 3,
   "id": "dec557d7-893e-4d14-b6db-8acf690c9a61",
   "metadata": {
    "tags": []
   },
   "outputs": [
    {
     "data": {
      "text/html": [
       "<div>\n",
       "<style scoped>\n",
       "    .dataframe tbody tr th:only-of-type {\n",
       "        vertical-align: middle;\n",
       "    }\n",
       "\n",
       "    .dataframe tbody tr th {\n",
       "        vertical-align: top;\n",
       "    }\n",
       "\n",
       "    .dataframe thead th {\n",
       "        text-align: right;\n",
       "    }\n",
       "</style>\n",
       "<table border=\"1\" class=\"dataframe\">\n",
       "  <thead>\n",
       "    <tr style=\"text-align: right;\">\n",
       "      <th></th>\n",
       "      <th>overall_qual</th>\n",
       "      <th>heating_qc</th>\n",
       "      <th>gr_liv_area</th>\n",
       "      <th>full_bath</th>\n",
       "      <th>kitchen_qual</th>\n",
       "      <th>totrms_abvgrd</th>\n",
       "      <th>fireplaces</th>\n",
       "      <th>fireplace_qu</th>\n",
       "      <th>lot_frontage</th>\n",
       "      <th>lot_area</th>\n",
       "      <th>...</th>\n",
       "      <th>bsmt_qual</th>\n",
       "      <th>total_bsmt_sf</th>\n",
       "      <th>garage_finish</th>\n",
       "      <th>garage_cars</th>\n",
       "      <th>garage_age</th>\n",
       "      <th>sold_years</th>\n",
       "      <th>house_age</th>\n",
       "      <th>remod_years</th>\n",
       "      <th>central_air</th>\n",
       "      <th>logsaleprice</th>\n",
       "    </tr>\n",
       "  </thead>\n",
       "  <tbody>\n",
       "    <tr>\n",
       "      <th>0</th>\n",
       "      <td>6</td>\n",
       "      <td>4</td>\n",
       "      <td>1479</td>\n",
       "      <td>2</td>\n",
       "      <td>2</td>\n",
       "      <td>6</td>\n",
       "      <td>0</td>\n",
       "      <td>0</td>\n",
       "      <td>87.9</td>\n",
       "      <td>13517</td>\n",
       "      <td>...</td>\n",
       "      <td>3</td>\n",
       "      <td>725.0</td>\n",
       "      <td>2</td>\n",
       "      <td>2.0</td>\n",
       "      <td>46.0</td>\n",
       "      <td>-35.0</td>\n",
       "      <td>46.0</td>\n",
       "      <td>17.0</td>\n",
       "      <td>1</td>\n",
       "      <td>11.779129</td>\n",
       "    </tr>\n",
       "    <tr>\n",
       "      <th>1</th>\n",
       "      <td>7</td>\n",
       "      <td>4</td>\n",
       "      <td>2122</td>\n",
       "      <td>2</td>\n",
       "      <td>2</td>\n",
       "      <td>8</td>\n",
       "      <td>1</td>\n",
       "      <td>3</td>\n",
       "      <td>43.0</td>\n",
       "      <td>11492</td>\n",
       "      <td>...</td>\n",
       "      <td>4</td>\n",
       "      <td>913.0</td>\n",
       "      <td>2</td>\n",
       "      <td>2.0</td>\n",
       "      <td>25.0</td>\n",
       "      <td>-14.0</td>\n",
       "      <td>26.0</td>\n",
       "      <td>25.0</td>\n",
       "      <td>1</td>\n",
       "      <td>12.301383</td>\n",
       "    </tr>\n",
       "    <tr>\n",
       "      <th>2</th>\n",
       "      <td>5</td>\n",
       "      <td>2</td>\n",
       "      <td>1057</td>\n",
       "      <td>1</td>\n",
       "      <td>2</td>\n",
       "      <td>5</td>\n",
       "      <td>0</td>\n",
       "      <td>0</td>\n",
       "      <td>68.0</td>\n",
       "      <td>7922</td>\n",
       "      <td>...</td>\n",
       "      <td>3</td>\n",
       "      <td>1057.0</td>\n",
       "      <td>1</td>\n",
       "      <td>1.0</td>\n",
       "      <td>69.0</td>\n",
       "      <td>-58.0</td>\n",
       "      <td>69.0</td>\n",
       "      <td>15.0</td>\n",
       "      <td>1</td>\n",
       "      <td>11.599103</td>\n",
       "    </tr>\n",
       "    <tr>\n",
       "      <th>3</th>\n",
       "      <td>5</td>\n",
       "      <td>3</td>\n",
       "      <td>1444</td>\n",
       "      <td>2</td>\n",
       "      <td>1</td>\n",
       "      <td>7</td>\n",
       "      <td>0</td>\n",
       "      <td>0</td>\n",
       "      <td>73.0</td>\n",
       "      <td>9802</td>\n",
       "      <td>...</td>\n",
       "      <td>4</td>\n",
       "      <td>384.0</td>\n",
       "      <td>3</td>\n",
       "      <td>2.0</td>\n",
       "      <td>15.0</td>\n",
       "      <td>-5.0</td>\n",
       "      <td>16.0</td>\n",
       "      <td>15.0</td>\n",
       "      <td>1</td>\n",
       "      <td>12.066811</td>\n",
       "    </tr>\n",
       "    <tr>\n",
       "      <th>4</th>\n",
       "      <td>6</td>\n",
       "      <td>2</td>\n",
       "      <td>1445</td>\n",
       "      <td>2</td>\n",
       "      <td>1</td>\n",
       "      <td>6</td>\n",
       "      <td>0</td>\n",
       "      <td>0</td>\n",
       "      <td>82.0</td>\n",
       "      <td>14235</td>\n",
       "      <td>...</td>\n",
       "      <td>2</td>\n",
       "      <td>676.0</td>\n",
       "      <td>1</td>\n",
       "      <td>2.0</td>\n",
       "      <td>65.0</td>\n",
       "      <td>-111.0</td>\n",
       "      <td>122.0</td>\n",
       "      <td>29.0</td>\n",
       "      <td>1</td>\n",
       "      <td>11.838626</td>\n",
       "    </tr>\n",
       "  </tbody>\n",
       "</table>\n",
       "<p>5 rows × 26 columns</p>\n",
       "</div>"
      ],
      "text/plain": [
       "   overall_qual  heating_qc  gr_liv_area  full_bath  kitchen_qual  \\\n",
       "0             6           4         1479          2             2   \n",
       "1             7           4         2122          2             2   \n",
       "2             5           2         1057          1             2   \n",
       "3             5           3         1444          2             1   \n",
       "4             6           2         1445          2             1   \n",
       "\n",
       "   totrms_abvgrd  fireplaces  fireplace_qu  lot_frontage  lot_area  ...  \\\n",
       "0              6           0             0          87.9     13517  ...   \n",
       "1              8           1             3          43.0     11492  ...   \n",
       "2              5           0             0          68.0      7922  ...   \n",
       "3              7           0             0          73.0      9802  ...   \n",
       "4              6           0             0          82.0     14235  ...   \n",
       "\n",
       "   bsmt_qual  total_bsmt_sf  garage_finish  garage_cars  garage_age  \\\n",
       "0          3          725.0              2          2.0        46.0   \n",
       "1          4          913.0              2          2.0        25.0   \n",
       "2          3         1057.0              1          1.0        69.0   \n",
       "3          4          384.0              3          2.0        15.0   \n",
       "4          2          676.0              1          2.0        65.0   \n",
       "\n",
       "   sold_years  house_age  remod_years  central_air  logsaleprice  \n",
       "0       -35.0       46.0         17.0            1     11.779129  \n",
       "1       -14.0       26.0         25.0            1     12.301383  \n",
       "2       -58.0       69.0         15.0            1     11.599103  \n",
       "3        -5.0       16.0         15.0            1     12.066811  \n",
       "4      -111.0      122.0         29.0            1     11.838626  \n",
       "\n",
       "[5 rows x 26 columns]"
      ]
     },
     "execution_count": 3,
     "metadata": {},
     "output_type": "execute_result"
    }
   ],
   "source": [
    "train.head()"
   ]
  },
  {
   "cell_type": "code",
   "execution_count": 4,
   "id": "e7c6e859-11bf-4bfd-ba31-c9b0dd7ad820",
   "metadata": {
    "tags": []
   },
   "outputs": [
    {
     "name": "stdout",
     "output_type": "stream",
     "text": [
      "<class 'pandas.core.frame.DataFrame'>\n",
      "RangeIndex: 2049 entries, 0 to 2048\n",
      "Data columns (total 26 columns):\n",
      " #   Column         Non-Null Count  Dtype  \n",
      "---  ------         --------------  -----  \n",
      " 0   overall_qual   2049 non-null   int64  \n",
      " 1   heating_qc     2049 non-null   int64  \n",
      " 2   gr_liv_area    2049 non-null   int64  \n",
      " 3   full_bath      2049 non-null   int64  \n",
      " 4   kitchen_qual   2049 non-null   int64  \n",
      " 5   totrms_abvgrd  2049 non-null   int64  \n",
      " 6   fireplaces     2049 non-null   int64  \n",
      " 7   fireplace_qu   2049 non-null   int64  \n",
      " 8   lot_frontage   2049 non-null   float64\n",
      " 9   lot_area       2049 non-null   int64  \n",
      " 10  lot_shape      2049 non-null   int64  \n",
      " 11  exter_qual     2049 non-null   int64  \n",
      " 12  mas_vnr_stone  2049 non-null   int64  \n",
      " 13  mas_vnr_none   2049 non-null   int64  \n",
      " 14  mas_vnr_brick  2049 non-null   int64  \n",
      " 15  neighborhood   2049 non-null   int64  \n",
      " 16  bsmt_qual      2049 non-null   int64  \n",
      " 17  total_bsmt_sf  2049 non-null   float64\n",
      " 18  garage_finish  2049 non-null   int64  \n",
      " 19  garage_cars    2049 non-null   float64\n",
      " 20  garage_age     2049 non-null   float64\n",
      " 21  sold_years     2049 non-null   float64\n",
      " 22  house_age      2049 non-null   float64\n",
      " 23  remod_years    2049 non-null   float64\n",
      " 24  central_air    2049 non-null   int64  \n",
      " 25  logsaleprice   2049 non-null   float64\n",
      "dtypes: float64(8), int64(18)\n",
      "memory usage: 416.3 KB\n"
     ]
    }
   ],
   "source": [
    "train.info()"
   ]
  },
  {
   "cell_type": "code",
   "execution_count": 5,
   "id": "096d4c21-3aeb-4143-b517-9b44ce2a0d27",
   "metadata": {
    "tags": []
   },
   "outputs": [
    {
     "data": {
      "text/html": [
       "<div>\n",
       "<style scoped>\n",
       "    .dataframe tbody tr th:only-of-type {\n",
       "        vertical-align: middle;\n",
       "    }\n",
       "\n",
       "    .dataframe tbody tr th {\n",
       "        vertical-align: top;\n",
       "    }\n",
       "\n",
       "    .dataframe thead th {\n",
       "        text-align: right;\n",
       "    }\n",
       "</style>\n",
       "<table border=\"1\" class=\"dataframe\">\n",
       "  <thead>\n",
       "    <tr style=\"text-align: right;\">\n",
       "      <th></th>\n",
       "      <th>overall_qual</th>\n",
       "      <th>heating_qc</th>\n",
       "      <th>gr_liv_area</th>\n",
       "      <th>full_bath</th>\n",
       "      <th>kitchen_qual</th>\n",
       "      <th>totrms_abvgrd</th>\n",
       "      <th>fireplaces</th>\n",
       "      <th>fireplace_qu</th>\n",
       "      <th>lot_frontage</th>\n",
       "      <th>lot_area</th>\n",
       "      <th>...</th>\n",
       "      <th>neighborhood</th>\n",
       "      <th>bsmt_qual</th>\n",
       "      <th>total_bsmt_sf</th>\n",
       "      <th>garage_finish</th>\n",
       "      <th>garage_cars</th>\n",
       "      <th>garage_age</th>\n",
       "      <th>sold_years</th>\n",
       "      <th>house_age</th>\n",
       "      <th>remod_years</th>\n",
       "      <th>central_air</th>\n",
       "    </tr>\n",
       "  </thead>\n",
       "  <tbody>\n",
       "    <tr>\n",
       "      <th>0</th>\n",
       "      <td>6</td>\n",
       "      <td>3</td>\n",
       "      <td>1928</td>\n",
       "      <td>2</td>\n",
       "      <td>1</td>\n",
       "      <td>9</td>\n",
       "      <td>0</td>\n",
       "      <td>0</td>\n",
       "      <td>69.0</td>\n",
       "      <td>9142</td>\n",
       "      <td>...</td>\n",
       "      <td>2</td>\n",
       "      <td>2</td>\n",
       "      <td>1020</td>\n",
       "      <td>1</td>\n",
       "      <td>1</td>\n",
       "      <td>112.0</td>\n",
       "      <td>16.0</td>\n",
       "      <td>112.0</td>\n",
       "      <td>72.0</td>\n",
       "      <td>0</td>\n",
       "    </tr>\n",
       "    <tr>\n",
       "      <th>1</th>\n",
       "      <td>5</td>\n",
       "      <td>2</td>\n",
       "      <td>1967</td>\n",
       "      <td>2</td>\n",
       "      <td>2</td>\n",
       "      <td>10</td>\n",
       "      <td>0</td>\n",
       "      <td>0</td>\n",
       "      <td>70.0</td>\n",
       "      <td>9662</td>\n",
       "      <td>...</td>\n",
       "      <td>2</td>\n",
       "      <td>4</td>\n",
       "      <td>1967</td>\n",
       "      <td>3</td>\n",
       "      <td>2</td>\n",
       "      <td>45.0</td>\n",
       "      <td>16.0</td>\n",
       "      <td>45.0</td>\n",
       "      <td>45.0</td>\n",
       "      <td>1</td>\n",
       "    </tr>\n",
       "    <tr>\n",
       "      <th>2</th>\n",
       "      <td>7</td>\n",
       "      <td>4</td>\n",
       "      <td>1496</td>\n",
       "      <td>2</td>\n",
       "      <td>3</td>\n",
       "      <td>7</td>\n",
       "      <td>1</td>\n",
       "      <td>4</td>\n",
       "      <td>58.0</td>\n",
       "      <td>17104</td>\n",
       "      <td>...</td>\n",
       "      <td>4</td>\n",
       "      <td>4</td>\n",
       "      <td>654</td>\n",
       "      <td>2</td>\n",
       "      <td>2</td>\n",
       "      <td>16.0</td>\n",
       "      <td>16.0</td>\n",
       "      <td>16.0</td>\n",
       "      <td>16.0</td>\n",
       "      <td>1</td>\n",
       "    </tr>\n",
       "    <tr>\n",
       "      <th>3</th>\n",
       "      <td>5</td>\n",
       "      <td>2</td>\n",
       "      <td>968</td>\n",
       "      <td>1</td>\n",
       "      <td>2</td>\n",
       "      <td>5</td>\n",
       "      <td>0</td>\n",
       "      <td>0</td>\n",
       "      <td>60.0</td>\n",
       "      <td>8520</td>\n",
       "      <td>...</td>\n",
       "      <td>2</td>\n",
       "      <td>3</td>\n",
       "      <td>968</td>\n",
       "      <td>1</td>\n",
       "      <td>2</td>\n",
       "      <td>87.0</td>\n",
       "      <td>15.0</td>\n",
       "      <td>99.0</td>\n",
       "      <td>16.0</td>\n",
       "      <td>1</td>\n",
       "    </tr>\n",
       "    <tr>\n",
       "      <th>4</th>\n",
       "      <td>6</td>\n",
       "      <td>3</td>\n",
       "      <td>1394</td>\n",
       "      <td>1</td>\n",
       "      <td>2</td>\n",
       "      <td>6</td>\n",
       "      <td>2</td>\n",
       "      <td>4</td>\n",
       "      <td>74.9</td>\n",
       "      <td>9500</td>\n",
       "      <td>...</td>\n",
       "      <td>2</td>\n",
       "      <td>4</td>\n",
       "      <td>1394</td>\n",
       "      <td>2</td>\n",
       "      <td>2</td>\n",
       "      <td>59.0</td>\n",
       "      <td>13.0</td>\n",
       "      <td>59.0</td>\n",
       "      <td>59.0</td>\n",
       "      <td>1</td>\n",
       "    </tr>\n",
       "  </tbody>\n",
       "</table>\n",
       "<p>5 rows × 25 columns</p>\n",
       "</div>"
      ],
      "text/plain": [
       "   overall_qual  heating_qc  gr_liv_area  full_bath  kitchen_qual  \\\n",
       "0             6           3         1928          2             1   \n",
       "1             5           2         1967          2             2   \n",
       "2             7           4         1496          2             3   \n",
       "3             5           2          968          1             2   \n",
       "4             6           3         1394          1             2   \n",
       "\n",
       "   totrms_abvgrd  fireplaces  fireplace_qu  lot_frontage  lot_area  ...  \\\n",
       "0              9           0             0          69.0      9142  ...   \n",
       "1             10           0             0          70.0      9662  ...   \n",
       "2              7           1             4          58.0     17104  ...   \n",
       "3              5           0             0          60.0      8520  ...   \n",
       "4              6           2             4          74.9      9500  ...   \n",
       "\n",
       "   neighborhood  bsmt_qual  total_bsmt_sf  garage_finish  garage_cars  \\\n",
       "0             2          2           1020              1            1   \n",
       "1             2          4           1967              3            2   \n",
       "2             4          4            654              2            2   \n",
       "3             2          3            968              1            2   \n",
       "4             2          4           1394              2            2   \n",
       "\n",
       "   garage_age  sold_years  house_age  remod_years  central_air  \n",
       "0       112.0        16.0      112.0         72.0            0  \n",
       "1        45.0        16.0       45.0         45.0            1  \n",
       "2        16.0        16.0       16.0         16.0            1  \n",
       "3        87.0        15.0       99.0         16.0            1  \n",
       "4        59.0        13.0       59.0         59.0            1  \n",
       "\n",
       "[5 rows x 25 columns]"
      ]
     },
     "execution_count": 5,
     "metadata": {},
     "output_type": "execute_result"
    }
   ],
   "source": [
    "test.head()"
   ]
  },
  {
   "cell_type": "code",
   "execution_count": 6,
   "id": "42cf01c4-aadf-4b32-9548-cdee04fe18cf",
   "metadata": {},
   "outputs": [
    {
     "name": "stdout",
     "output_type": "stream",
     "text": [
      "<class 'pandas.core.frame.DataFrame'>\n",
      "RangeIndex: 878 entries, 0 to 877\n",
      "Data columns (total 25 columns):\n",
      " #   Column         Non-Null Count  Dtype  \n",
      "---  ------         --------------  -----  \n",
      " 0   overall_qual   878 non-null    int64  \n",
      " 1   heating_qc     878 non-null    int64  \n",
      " 2   gr_liv_area    878 non-null    int64  \n",
      " 3   full_bath      878 non-null    int64  \n",
      " 4   kitchen_qual   878 non-null    int64  \n",
      " 5   totrms_abvgrd  878 non-null    int64  \n",
      " 6   fireplaces     878 non-null    int64  \n",
      " 7   fireplace_qu   878 non-null    int64  \n",
      " 8   lot_frontage   878 non-null    float64\n",
      " 9   lot_area       878 non-null    int64  \n",
      " 10  lot_shape      878 non-null    int64  \n",
      " 11  exter_qual     878 non-null    int64  \n",
      " 12  mas_vnr_stone  878 non-null    int64  \n",
      " 13  mas_vnr_none   878 non-null    int64  \n",
      " 14  mas_vnr_brick  878 non-null    int64  \n",
      " 15  neighborhood   878 non-null    int64  \n",
      " 16  bsmt_qual      878 non-null    int64  \n",
      " 17  total_bsmt_sf  878 non-null    int64  \n",
      " 18  garage_finish  878 non-null    int64  \n",
      " 19  garage_cars    878 non-null    int64  \n",
      " 20  garage_age     878 non-null    float64\n",
      " 21  sold_years     878 non-null    float64\n",
      " 22  house_age      878 non-null    float64\n",
      " 23  remod_years    878 non-null    float64\n",
      " 24  central_air    878 non-null    int64  \n",
      "dtypes: float64(5), int64(20)\n",
      "memory usage: 171.6 KB\n"
     ]
    }
   ],
   "source": [
    "test.info()"
   ]
  },
  {
   "cell_type": "markdown",
   "id": "bc6eb6ed-a5e5-433f-8caf-0a414f444d90",
   "metadata": {},
   "source": [
    "# Pre-processing"
   ]
  },
  {
   "cell_type": "markdown",
   "id": "6e4a93f3-f43d-40f2-834e-197ca608ead0",
   "metadata": {},
   "source": [
    "Let's define a function that can give us all the metrics at one go."
   ]
  },
  {
   "cell_type": "code",
   "execution_count": 7,
   "id": "57abe52a-7a9f-456a-a06a-088db59b4e5c",
   "metadata": {},
   "outputs": [],
   "source": [
    "def lin_reg_metrics(lr, X_train, y_train, pred, X_test, y_test):\n",
    "    \"\"\"\n",
    "    gives the RMSE, the cross-validation score, and the R^2 value for the train and test models. Assumes a log scale used.\n",
    "    \"\"\"\n",
    "    y_act = np.exp(y_test)\n",
    "    y_pred = np.exp(pred)\n",
    "    print(f\"RMSE Score: {mean_squared_error(y_act, y_pred, squared=False)}\")\n",
    "    print(f\"Train Score (R^2): {lr.score(X_train,y_train)}\")\n",
    "    print(f\"Test Score (R^2): {lr.score(X_test,y_test)}\")\n",
    "    print(f\"CrossVal Score (R^2): {cross_val_score(lr,X_train,y_train,cv=10).mean()}\")\n",
    "    print(\n",
    "        f'CrossVal Score (RMSE): {abs(cross_val_score(lr,X_train,np.exp(y_train),cv=10,scoring=\"neg_root_mean_squared_error\").mean())}'\n",
    "    )"
   ]
  },
  {
   "cell_type": "markdown",
   "id": "8bc31398-69b6-4809-8d4b-830a8f2d524d",
   "metadata": {},
   "source": [
    "The scores are:\n",
    "1. the RMSE score of the predicted value and the actual value from the testing data - tells us how accurate our model is\n",
    "2. the $r^2$ (coefficient of determination) value of our training data gives how well our model fits the training data\n",
    "3. same as above, but for the test data\n",
    "4. the mean $r^2$ value for the training data across all the cross-valuation scores\n",
    "5. same as above, but for RMSE - could be lower or higher, depending on how the data is split."
   ]
  },
  {
   "cell_type": "markdown",
   "id": "972e5ab6-8580-4715-90b0-ce3070f13b37",
   "metadata": {},
   "source": [
    "We can then perform a train-test split on the `train` dataset."
   ]
  },
  {
   "cell_type": "code",
   "execution_count": 8,
   "id": "eb7594bf-d227-421e-9928-be0ad68a7b6e",
   "metadata": {},
   "outputs": [],
   "source": [
    "X = train.drop(columns=\"logsaleprice\")\n",
    "y = train[\"logsaleprice\"]\n",
    "X_train, X_test, y_train, y_test = train_test_split(\n",
    "    X, y, test_size=0.3, random_state=42\n",
    ")"
   ]
  },
  {
   "cell_type": "markdown",
   "id": "3c8c0006-d38e-4ae3-818c-9add8acb896c",
   "metadata": {},
   "source": [
    "## Scaling the data\n",
    "\n",
    "We scale data to normalize them to the standard normal curve, and for easier comparison between data of different magnitudes. According to the official [sklearn website](https://scikit-learn.org/stable/auto_examples/preprocessing/plot_all_scaling.html), `StandardScaler` is sensitive to outliers, but `PowerTransformer` isn't. We shall use the latter."
   ]
  },
  {
   "cell_type": "code",
   "execution_count": 9,
   "id": "28c8c3cc-89bb-498a-8bf8-bb3a821c0267",
   "metadata": {},
   "outputs": [],
   "source": [
    "pt = PowerTransformer()\n",
    "Z_train = pt.fit_transform(X_train)\n",
    "Z_test = pt.transform(X_test)"
   ]
  },
  {
   "cell_type": "code",
   "execution_count": 10,
   "id": "6679e082-66aa-4aa8-8d14-cfc21a7d6c2c",
   "metadata": {},
   "outputs": [
    {
     "name": "stdout",
     "output_type": "stream",
     "text": [
      "Z_train shape is: (1434, 25)\n",
      "y_train shape is: (1434,)\n",
      "Z_test shape is: (615, 25)\n",
      "y_test shape is: (615,)\n"
     ]
    }
   ],
   "source": [
    "print(f\"Z_train shape is: {Z_train.shape}\")\n",
    "print(f\"y_train shape is: {y_train.shape}\")\n",
    "print(f\"Z_test shape is: {Z_test.shape}\")\n",
    "print(f\"y_test shape is: {y_test.shape}\")"
   ]
  },
  {
   "cell_type": "markdown",
   "id": "87c86c7a-ce13-4790-b554-8a640ae8b3ab",
   "metadata": {},
   "source": [
    "# Baseline Score"
   ]
  },
  {
   "cell_type": "markdown",
   "id": "777a18c3-470d-4afb-a48f-4f93e4a44571",
   "metadata": {},
   "source": [
    "We will be setting a baseline score such that the `saleprice` variable for the train set is used to predict the test set. Given the minimum amount of information to predict the model, the subsequent adding of features should improve this baseline score considerably."
   ]
  },
  {
   "cell_type": "code",
   "execution_count": 11,
   "id": "8bdec15f-2ab7-4884-b301-1e0dab9cda04",
   "metadata": {},
   "outputs": [],
   "source": [
    "lr_base = LinearRegression()\n",
    "lr_base.fit(pd.DataFrame(Z_train[:, -1]), y_train)\n",
    "lr_base_pred = lr_base.predict(pd.DataFrame(Z_test[:, -1]))"
   ]
  },
  {
   "cell_type": "code",
   "execution_count": 12,
   "id": "30432d11-77e0-4973-ac71-03a94f7950ea",
   "metadata": {},
   "outputs": [
    {
     "name": "stdout",
     "output_type": "stream",
     "text": [
      "RMSE Score: 80826.10422267922\n",
      "Train Score (R^2): 0.1479011412771961\n",
      "Test Score (R^2): 0.1492141070703341\n",
      "CrossVal Score (R^2): 0.1382131712508336\n",
      "CrossVal Score (RMSE): 74777.37199239884\n"
     ]
    }
   ],
   "source": [
    "lin_reg_metrics(\n",
    "    lr_base,\n",
    "    pd.DataFrame(Z_train[:, -1]),\n",
    "    y_train,\n",
    "    lr_base_pred,\n",
    "    pd.DataFrame(Z_test[:, -1]),\n",
    "    y_test,\n",
    ")"
   ]
  },
  {
   "cell_type": "markdown",
   "id": "390c6a4a-7eef-4cc7-b148-e5cd19768d7d",
   "metadata": {},
   "source": [
    "# Linear Regressor"
   ]
  },
  {
   "cell_type": "markdown",
   "id": "5a5d95fb-fe16-4e27-ba76-b7f7e8fd219b",
   "metadata": {},
   "source": [
    "We will first be building a basic OLS model."
   ]
  },
  {
   "cell_type": "code",
   "execution_count": 13,
   "id": "815a0e23-9e9a-405a-9d99-f61ecc9a86fd",
   "metadata": {},
   "outputs": [],
   "source": [
    "lr = LinearRegression()\n",
    "lr.fit(Z_train, y_train)\n",
    "lr_pred = lr.predict(Z_test)"
   ]
  },
  {
   "cell_type": "code",
   "execution_count": 14,
   "id": "9c98af9a-d33e-4f5b-89c9-50b07b836e52",
   "metadata": {},
   "outputs": [
    {
     "name": "stdout",
     "output_type": "stream",
     "text": [
      "RMSE Score: 23973.981796178472\n",
      "Train Score (R^2): 0.8849219547900887\n",
      "Test Score (R^2): 0.8748929790515798\n",
      "CrossVal Score (R^2): 0.8780937401282319\n",
      "CrossVal Score (RMSE): 31869.36207779501\n"
     ]
    }
   ],
   "source": [
    "lin_reg_metrics(lr, Z_train, y_train, lr_pred, Z_test, y_test)"
   ]
  },
  {
   "cell_type": "markdown",
   "id": "81b54326-4229-4aad-bb29-637cc668f5f3",
   "metadata": {},
   "source": [
    "# Regularization"
   ]
  },
  {
   "cell_type": "markdown",
   "id": "0143ccc2-8d1d-499c-8a0d-236c33b08e17",
   "metadata": {},
   "source": [
    "## Ridge Regularization"
   ]
  },
  {
   "cell_type": "markdown",
   "id": "201e50f8-8aac-4f87-a03e-7e098f1a5cf7",
   "metadata": {},
   "source": [
    "We will use a cross valuation technique to generate the best alpha (regularization hyperparameter) for the best fitting of our model."
   ]
  },
  {
   "cell_type": "code",
   "execution_count": 15,
   "id": "3eb68e22-9040-45f5-beef-229e7d1cb36f",
   "metadata": {},
   "outputs": [
    {
     "data": {
      "text/plain": [
       "18.367346938775512"
      ]
     },
     "execution_count": 15,
     "metadata": {},
     "output_type": "execute_result"
    }
   ],
   "source": [
    "ridge_cv = RidgeCV(alphas=np.linspace(0, 100, 50), cv=10)\n",
    "ridge_cv.fit(Z_train, y_train)\n",
    "ridge_cv.alpha_"
   ]
  },
  {
   "cell_type": "markdown",
   "id": "6f6fdc69-32d9-4cd6-8bc1-464ecdd88eb5",
   "metadata": {},
   "source": [
    "We can then fit the optimal alpha into our `Ridge` model."
   ]
  },
  {
   "cell_type": "code",
   "execution_count": 16,
   "id": "7b8abf4e-63a9-4d5f-96dc-4df9c1c51099",
   "metadata": {},
   "outputs": [
    {
     "name": "stdout",
     "output_type": "stream",
     "text": [
      "RMSE Score: 24068.648604401773\n",
      "Train Score (R^2): 0.8847451886203214\n",
      "Test Score (R^2): 0.8747435681842315\n",
      "CrossVal Score (R^2): 0.8783406383700907\n",
      "CrossVal Score (RMSE): 31843.81652232081\n"
     ]
    }
   ],
   "source": [
    "ridge = Ridge(alpha=ridge_cv.alpha_)\n",
    "ridge.fit(Z_train, y_train)\n",
    "ridge_pred = ridge.predict(Z_test)\n",
    "lin_reg_metrics(ridge, Z_train, y_train, ridge_pred, Z_test, y_test)"
   ]
  },
  {
   "cell_type": "markdown",
   "id": "d1042089-5060-4323-9078-5f50cbc803c7",
   "metadata": {},
   "source": [
    "## Lasso Regularization"
   ]
  },
  {
   "cell_type": "code",
   "execution_count": 17,
   "id": "e2102553-e5cb-447f-a1b1-2b4f5e5e42d9",
   "metadata": {},
   "outputs": [
    {
     "data": {
      "text/plain": [
       "0.001"
      ]
     },
     "execution_count": 17,
     "metadata": {},
     "output_type": "execute_result"
    }
   ],
   "source": [
    "l_alphas = np.logspace(-3, 10, 100)\n",
    "lasso_cv = LassoCV(alphas=l_alphas, cv=10, max_iter=50000)\n",
    "lasso_cv.fit(Z_train, y_train)\n",
    "lasso_cv.alpha_"
   ]
  },
  {
   "cell_type": "code",
   "execution_count": 18,
   "id": "bc93fd62-c755-4db2-a097-c5ca774e28cc",
   "metadata": {},
   "outputs": [
    {
     "name": "stdout",
     "output_type": "stream",
     "text": [
      "RMSE Score: 24258.499811495494\n",
      "Train Score (R^2): 0.8843545172330356\n",
      "Test Score (R^2): 0.8740560657009282\n",
      "CrossVal Score (R^2): 0.8781181474154087\n",
      "CrossVal Score (RMSE): 31869.360746299953\n"
     ]
    }
   ],
   "source": [
    "lasso = Lasso(alpha=lasso_cv.alpha_, max_iter=5000)\n",
    "lasso.fit(Z_train, y_train)\n",
    "lasso_pred = lasso.predict(Z_test)\n",
    "lin_reg_metrics(lasso, Z_train, y_train, lasso_pred, Z_test, y_test)"
   ]
  },
  {
   "cell_type": "code",
   "execution_count": 19,
   "id": "2a611b37-9616-4bd9-80ff-206f1864b3df",
   "metadata": {},
   "outputs": [
    {
     "data": {
      "text/plain": [
       "array([128282.44522522, 260769.52798832, 101031.52407913, 133105.21924412,\n",
       "       121505.43172253, 275695.08172088, 194992.71683157, 182118.41546799,\n",
       "       237022.52731561, 143137.54943902])"
      ]
     },
     "execution_count": 19,
     "metadata": {},
     "output_type": "execute_result"
    }
   ],
   "source": [
    "np.exp(lasso_pred)[0:10]"
   ]
  },
  {
   "cell_type": "markdown",
   "id": "c2eb88a7-c225-45f7-b4e8-af01ebbd73b7",
   "metadata": {},
   "source": [
    "## Elastic Net Regression"
   ]
  },
  {
   "cell_type": "markdown",
   "id": "913246bc-b1fd-4a54-bb2a-c642a1664f0a",
   "metadata": {},
   "source": [
    "For the elastic net model, we will attempt two different methods to get the optimal alpha and l1 ratio (the ratio between the lasso and ridge contributions)."
   ]
  },
  {
   "cell_type": "code",
   "execution_count": 20,
   "id": "df4633a6-84a4-40d4-ab41-5b84e61fe644",
   "metadata": {
    "tags": []
   },
   "outputs": [
    {
     "name": "stdout",
     "output_type": "stream",
     "text": [
      "0.0015569995396851413\n",
      "0.21625000000000003\n"
     ]
    }
   ],
   "source": [
    "l1_ratios = np.linspace(0.01, 1.0, 25)\n",
    "\n",
    "optimal_enet = ElasticNetCV(l1_ratio=l1_ratios, n_alphas=100, cv=10)\n",
    "optimal_enet.fit(Z_train, y_train)\n",
    "\n",
    "print(optimal_enet.alpha_)\n",
    "print(optimal_enet.l1_ratio_)"
   ]
  },
  {
   "cell_type": "markdown",
   "id": "c1da5f42-6fa8-4a8d-9c9d-0a75f8cf3907",
   "metadata": {},
   "source": [
    "## GridSearchCV"
   ]
  },
  {
   "cell_type": "code",
   "execution_count": 21,
   "id": "b7dc4ade-a6af-48af-ae20-41087fc8cbc3",
   "metadata": {},
   "outputs": [],
   "source": [
    "enet_alphas = np.linspace(0.001, 0.8, 100)\n",
    "enet_ratio = np.linspace(0.001, 1, 50)\n",
    "param_grid = dict(alpha=enet_alphas, l1_ratio=enet_ratio)\n",
    "\n",
    "enet = ElasticNet(max_iter=5000)\n",
    "grid = GridSearchCV(estimator=enet, param_grid=param_grid, cv=5)"
   ]
  },
  {
   "cell_type": "code",
   "execution_count": 22,
   "id": "eff06624-1de6-4316-9d5f-10331eed6472",
   "metadata": {},
   "outputs": [
    {
     "name": "stdout",
     "output_type": "stream",
     "text": [
      "43.8 s ± 2.41 s per loop (mean ± std. dev. of 7 runs, 1 loop each)\n"
     ]
    }
   ],
   "source": [
    "%timeit grid.fit(Z_train, y_train)"
   ]
  },
  {
   "cell_type": "code",
   "execution_count": 23,
   "id": "f64b3647-d27e-4d72-a3ec-a2f3f6933b5c",
   "metadata": {},
   "outputs": [
    {
     "name": "stdout",
     "output_type": "stream",
     "text": [
      "The best parameters are {'alpha': 0.00907070707070707, 'l1_ratio': 0.001} with a score of 0.88\n"
     ]
    }
   ],
   "source": [
    "print(\n",
    "    f\"The best parameters are {grid.best_params_} with a score of {grid.best_score_:.2f}\"\n",
    ")"
   ]
  },
  {
   "cell_type": "code",
   "execution_count": 24,
   "id": "bbe21f9f-a526-493e-a1fe-05b086d6f196",
   "metadata": {},
   "outputs": [
    {
     "name": "stdout",
     "output_type": "stream",
     "text": [
      "RMSE Score: 24066.071324563047\n",
      "Train Score (R^2): 0.8847435171206973\n",
      "Test Score (R^2): 0.8745338590645613\n",
      "CrossVal Score (R^2): 0.8782826881266799\n",
      "CrossVal Score (RMSE): 31862.360896806982\n"
     ]
    }
   ],
   "source": [
    "# optimal hyperparameters from ElasticNetCV\n",
    "enet = ElasticNet(alpha=0.00156, l1_ratio=0.216, max_iter=5000)\n",
    "enet.fit(Z_train, y_train)\n",
    "enet_pred = enet.predict(Z_test)\n",
    "lin_reg_metrics(enet, Z_train, y_train, enet_pred, Z_test, y_test)"
   ]
  },
  {
   "cell_type": "code",
   "execution_count": 40,
   "id": "347376dc-f5b4-45af-af2a-c7ada81cd98c",
   "metadata": {},
   "outputs": [
    {
     "name": "stdout",
     "output_type": "stream",
     "text": [
      "RMSE Score: 24032.040601027737\n",
      "Train Score (R^2): 0.8848131591705948\n",
      "Test Score (R^2): 0.874806562555242\n",
      "CrossVal Score (R^2): 0.8783227315778902\n",
      "CrossVal Score (RMSE): 31848.171386011032\n"
     ]
    }
   ],
   "source": [
    "# optimal hyperparameters from GridSearchCV\n",
    "enet = ElasticNet(alpha=0.009, l1_ratio=0.001, max_iter=2000)\n",
    "enet.fit(Z_train, y_train)\n",
    "enet_pred = enet.predict(Z_test)\n",
    "lin_reg_metrics(enet, Z_train, y_train, enet_pred, Z_test, y_test)"
   ]
  },
  {
   "cell_type": "markdown",
   "id": "5c732dc0-ffb0-41e4-a0df-fff2e96aae29",
   "metadata": {},
   "source": [
    "# Training the model with `test`"
   ]
  },
  {
   "cell_type": "markdown",
   "id": "55a96afd-206a-47c2-ae68-c8937701188c",
   "metadata": {},
   "source": [
    "It seems that our bare bones linear regression model gives the best predictions for new data, with the lowest RMSE score of 23973. It also has a relatively close $r^2$ score when fitted with the training and test data, which means that it has a good bias-variance tradeoff. Furthermore, the cross valuation RMSE is amongst the lowest of all the models, which means it fits the training data pretty well. We will use it for our final model."
   ]
  },
  {
   "cell_type": "code",
   "execution_count": 26,
   "id": "ca8d10fa-9fa1-4447-bc2b-6d4afc16f3fc",
   "metadata": {},
   "outputs": [],
   "source": [
    "pt_final_train = PowerTransformer()\n",
    "pt_final_test = PowerTransformer()\n",
    "Z = pt_final_train.fit_transform(X)\n",
    "Z_final = pt_final_test.fit_transform(test)"
   ]
  },
  {
   "cell_type": "code",
   "execution_count": 27,
   "id": "72ca0126-efe2-4ca3-a93c-7fd019ec3eee",
   "metadata": {
    "tags": []
   },
   "outputs": [],
   "source": [
    "lr_final = LinearRegression()\n",
    "lr_final.fit(Z, y)\n",
    "lr_final_sub = np.exp(lr_final.predict(Z_final))"
   ]
  },
  {
   "cell_type": "code",
   "execution_count": 28,
   "id": "7119f8f0-6653-4414-b738-ef830a580000",
   "metadata": {},
   "outputs": [],
   "source": [
    "submission = pd.DataFrame()\n",
    "submission[\"Id\"] = test_idx[\"Id\"]\n",
    "submission[\"SalePrice\"] = lr_final_sub"
   ]
  },
  {
   "cell_type": "code",
   "execution_count": 29,
   "id": "e5d98977-251d-4c47-bb6d-8bd2f7d2dd66",
   "metadata": {},
   "outputs": [
    {
     "data": {
      "text/html": [
       "<div>\n",
       "<style scoped>\n",
       "    .dataframe tbody tr th:only-of-type {\n",
       "        vertical-align: middle;\n",
       "    }\n",
       "\n",
       "    .dataframe tbody tr th {\n",
       "        vertical-align: top;\n",
       "    }\n",
       "\n",
       "    .dataframe thead th {\n",
       "        text-align: right;\n",
       "    }\n",
       "</style>\n",
       "<table border=\"1\" class=\"dataframe\">\n",
       "  <thead>\n",
       "    <tr style=\"text-align: right;\">\n",
       "      <th></th>\n",
       "      <th>Id</th>\n",
       "      <th>SalePrice</th>\n",
       "    </tr>\n",
       "  </thead>\n",
       "  <tbody>\n",
       "    <tr>\n",
       "      <th>0</th>\n",
       "      <td>2658</td>\n",
       "      <td>127600.240444</td>\n",
       "    </tr>\n",
       "    <tr>\n",
       "      <th>1</th>\n",
       "      <td>2718</td>\n",
       "      <td>182849.954369</td>\n",
       "    </tr>\n",
       "    <tr>\n",
       "      <th>2</th>\n",
       "      <td>2414</td>\n",
       "      <td>210041.134443</td>\n",
       "    </tr>\n",
       "    <tr>\n",
       "      <th>3</th>\n",
       "      <td>1989</td>\n",
       "      <td>130660.982270</td>\n",
       "    </tr>\n",
       "    <tr>\n",
       "      <th>4</th>\n",
       "      <td>625</td>\n",
       "      <td>177712.005716</td>\n",
       "    </tr>\n",
       "  </tbody>\n",
       "</table>\n",
       "</div>"
      ],
      "text/plain": [
       "     Id      SalePrice\n",
       "0  2658  127600.240444\n",
       "1  2718  182849.954369\n",
       "2  2414  210041.134443\n",
       "3  1989  130660.982270\n",
       "4   625  177712.005716"
      ]
     },
     "execution_count": 29,
     "metadata": {},
     "output_type": "execute_result"
    }
   ],
   "source": [
    "submission.head()"
   ]
  },
  {
   "cell_type": "code",
   "execution_count": 30,
   "id": "59a889d6-e573-45f2-931a-26a3853ed784",
   "metadata": {},
   "outputs": [
    {
     "data": {
      "text/plain": [
       "Id           878\n",
       "SalePrice    878\n",
       "dtype: int64"
      ]
     },
     "execution_count": 30,
     "metadata": {},
     "output_type": "execute_result"
    }
   ],
   "source": [
    "submission.count()"
   ]
  },
  {
   "cell_type": "code",
   "execution_count": 31,
   "id": "6a912d02-b5b0-4309-ace5-206140c6c168",
   "metadata": {},
   "outputs": [],
   "source": [
    "submission.to_csv(\"datasets/submission.csv\", index=False)"
   ]
  },
  {
   "cell_type": "markdown",
   "id": "3d5fdc2f-d082-4aab-83dc-791383f472fb",
   "metadata": {},
   "source": [
    "# Business Recommendations"
   ]
  },
  {
   "cell_type": "markdown",
   "id": "52c3c200-2762-452f-9125-53c73181962a",
   "metadata": {},
   "source": [
    "## Important Features"
   ]
  },
  {
   "cell_type": "code",
   "execution_count": 32,
   "id": "fb92a169-27a4-49b4-be9b-54f14d12ae9b",
   "metadata": {},
   "outputs": [
    {
     "data": {
      "image/png": "[encoded data removed]",
      "text/plain": [
       "<Figure size 1080x576 with 2 Axes>"
      ]
     },
     "metadata": {
      "needs_background": "light"
     },
     "output_type": "display_data"
    }
   ],
   "source": [
    "corr = train.corr()\n",
    "mask = np.triu(np.ones_like(corr, dtype=bool))\n",
    "plt.figure(figsize=(15, 8))\n",
    "heatmap = sns.heatmap(\n",
    "    corr, annot=True, fmt=\".2f\", mask=mask, cmap=\"Spectral\", vmax=1, vmin=-1\n",
    ")\n",
    "heatmap.set_title(\n",
    "    \"Correlation matrix of fireplace vs sale price\", fontdict={\"fontsize\": 15}, pad=16\n",
    ");"
   ]
  },
  {
   "cell_type": "markdown",
   "id": "7d78bb0e-80ed-40d8-8241-1fc63e29883e",
   "metadata": {},
   "source": [
    "It seems that our linear regression model is decent enough to handle new data, with a kaggle RMSE score of 22038 and a cross valuation RMSE of 31917. Therefore, we are confident enough to present it to the client and make some recommendations.\n",
    "\n",
    "From the selected features, it seems like attention has to be paid to the following variables:\n",
    "* the material and finish of the house and its exterior quality will definitely affect the prices, and those are the more static features (harder to change)\n",
    "* the gross living area, together with the sizes and quality of the garage and basement, also plays a big part\n",
    "* the amenities that are important include the quality of the heating, the number and quality of fireplaces, the quality of the kitchen, the central air-conditioning, and the number of full bathrooms\n",
    "* the important exterior qualities include the lot area and frontage, and the type of masonry veneer (it's better to have it than not at all!)\n",
    "* the type of neighborhood also plays a huge role in the sale price, understandably\n",
    "* however, the older the house and garage, and the longer since the last remodeling, the lower the sale price\n",
    "* the shape of the lot also has an inverse relationship with the sale price - the more irregular it is the lower the prices!\n",
    "\n",
    "On the topic of neighborhoods, the best seems to be Stone Brooke, Northridge Heights, Northridge, Green Hills, and Veenker, although your best bet might be Northridge Heights as it has the most number of houses but also the 2nd highest housing price.  "
   ]
  },
  {
   "cell_type": "code",
   "execution_count": 33,
   "id": "f5aba5ac-18b6-4d1e-a138-68f9de1ff631",
   "metadata": {},
   "outputs": [
    {
     "data": {
      "text/plain": [
       "logsaleprice     1.000000\n",
       "overall_qual     0.825607\n",
       "neighborhood     0.731007\n",
       "gr_liv_area      0.708456\n",
       "exter_qual       0.692654\n",
       "kitchen_qual     0.683070\n",
       "garage_cars      0.667439\n",
       "total_bsmt_sf    0.655644\n",
       "bsmt_qual        0.642841\n",
       "sold_years       0.626193\n",
       "garage_finish    0.598384\n",
       "full_bath        0.565977\n",
       "fireplace_qu     0.542376\n",
       "heating_qc       0.502071\n",
       "totrms_abvgrd    0.501322\n",
       "fireplaces       0.486948\n",
       "lot_area         0.405289\n",
       "central_air      0.387044\n",
       "lot_frontage     0.363835\n",
       "mas_vnr_brick    0.282828\n",
       "mas_vnr_stone    0.277033\n",
       "lot_shape       -0.318317\n",
       "mas_vnr_none    -0.415727\n",
       "garage_age      -0.551204\n",
       "remod_years     -0.599779\n",
       "house_age       -0.624820\n",
       "Name: logsaleprice, dtype: float64"
      ]
     },
     "execution_count": 33,
     "metadata": {},
     "output_type": "execute_result"
    }
   ],
   "source": [
    "train.corr().iloc[[-1]].squeeze().sort_values(ascending=False)"
   ]
  },
  {
   "cell_type": "markdown",
   "id": "0d23a74a-eae7-440b-8a48-82426dd22096",
   "metadata": {},
   "source": [
    "The overall quality and condition of the exterior of the house, the neighborhood the house is in, and the gross living area are the important factors to look out for when buying a property, because those are the most difficult to flip but also have the highest relevance to the sale price. They should also look for newer houses, or that have done the latest touch ups.\n",
    "\n",
    "On the other hand, features like the roof condition, deck/porch, and pool do not feature heavily in the sale prices, and can be lower in priority."
   ]
  },
  {
   "cell_type": "markdown",
   "id": "7779dbb3-b2f3-4610-a479-a2135c7b05a4",
   "metadata": {},
   "source": [
    "## Analysis and Limitations"
   ]
  },
  {
   "cell_type": "markdown",
   "id": "2b966fb6-d32d-4249-acb8-e41147e40fae",
   "metadata": {},
   "source": [
    "We learnt in class that an OLS model should satisfy the following conditions:\n",
    "\n",
    "- Linearity: the relationship between the features and the dependent variable should be approximately linear\n",
    "- Independence: the features and observations should be roughly independent\n",
    "- Normality: our residuals should be normally distributed\n",
    "- Equal variances (homoscedasticity): the residuals should have approximately equal variances for each feature\n",
    "\n",
    "Of course, as we have seen, a lot of our data do not follow a normal distribution, which would be ideal for entering into a model. This could be improved by simply taking more observations, but it is hard to observe perfect normalcy in real-world data."
   ]
  },
  {
   "cell_type": "code",
   "execution_count": 34,
   "id": "ae440268-aff8-4734-b581-bd88f1711de5",
   "metadata": {},
   "outputs": [
    {
     "data": {
      "image/png": "[encoded data removed]",
      "text/plain": [
       "<Figure size 720x360 with 1 Axes>"
      ]
     },
     "metadata": {
      "needs_background": "light"
     },
     "output_type": "display_data"
    }
   ],
   "source": [
    "plt.figure(figsize=(10, 5))\n",
    "plt.title(\"Histogram of residuals from linear regression model\")\n",
    "sns.histplot(y_test - lr_pred, kde=True, color=\"slateblue\");"
   ]
  },
  {
   "cell_type": "code",
   "execution_count": 35,
   "id": "b96b4446-1b51-43e6-a646-6faac756e704",
   "metadata": {},
   "outputs": [
    {
     "data": {
      "text/plain": [
       "NormaltestResult(statistic=556.8798026819288, pvalue=1.18874117527305e-121)"
      ]
     },
     "execution_count": 35,
     "metadata": {},
     "output_type": "execute_result"
    }
   ],
   "source": [
    "normaltest(y_test - lr_pred)"
   ]
  },
  {
   "cell_type": "markdown",
   "id": "91511517-ff98-4bea-95f1-2ea5486f4a38",
   "metadata": {},
   "source": [
    "The figure looks approximately normal except for the large number of outliers. These make it skewed, which would mean that the normalcy condition fails."
   ]
  },
  {
   "cell_type": "markdown",
   "id": "5e7b8dc5-3a0e-43b3-ab22-04502043addf",
   "metadata": {},
   "source": [
    "There is relatively high interdependence of some of the features as can be seen from the correlation matrix in this section, but it is not large. Some interdependence is to be expected from our dataset as there are many overlapping features. The regularization models help to tame some of the interdependences."
   ]
  },
  {
   "cell_type": "markdown",
   "id": "36c3791e-0921-4c92-ac68-7e6e3a49e139",
   "metadata": {},
   "source": [
    "Whether this model can be generalized to other contexts is a tricky question, as this would depend on domain knowledge on what features are values by house buyers in that context. For example, a HDB in Singapore would definitely not prize lot frontage highly, as there is negligible access to the void decks. This is a highly contextual model, and would need to be fine-tuned before being applied in other contexts."
   ]
  },
  {
   "cell_type": "markdown",
   "id": "61f61d48-da21-4469-813f-5328d4d9c7ef",
   "metadata": {},
   "source": [
    "# Appendix A: Other Models"
   ]
  },
  {
   "cell_type": "markdown",
   "id": "ef4b11f4-7e1a-4eda-af3f-7353dce89d2f",
   "metadata": {},
   "source": [
    "This section is mostly for my reference, to go back and test out the RMSE of other models when we have learnt them."
   ]
  },
  {
   "cell_type": "markdown",
   "id": "f77fc907-13e2-477a-bea5-612dfa48b640",
   "metadata": {},
   "source": [
    "## K-Nearest Neighbors"
   ]
  },
  {
   "cell_type": "code",
   "execution_count": 36,
   "id": "13c0ae18-911d-4b9c-8b0b-61dea0b624fb",
   "metadata": {},
   "outputs": [],
   "source": [
    "knn = KNeighborsRegressor(n_neighbors=10)\n",
    "knn.fit(Z_train, y_train)\n",
    "knn_pred = knn.predict(Z_test)"
   ]
  },
  {
   "cell_type": "code",
   "execution_count": 37,
   "id": "344bebb3-eabc-4f30-a77c-af8d9179ed5b",
   "metadata": {},
   "outputs": [
    {
     "name": "stdout",
     "output_type": "stream",
     "text": [
      "RMSE Score: 31722.19922557327\n",
      "Train Score (R^2): 0.8690027350608598\n",
      "Test Score (R^2): 0.8270381939261112\n",
      "CrossVal Score (R^2): 0.8348817998195154\n",
      "CrossVal Score (RMSE): 30169.59500962204\n"
     ]
    }
   ],
   "source": [
    "lin_reg_metrics(knn, Z_train, y_train, knn_pred, Z_test, y_test)"
   ]
  },
  {
   "cell_type": "markdown",
   "id": "515b3fce-1c71-4a43-916f-726ea7c7d856",
   "metadata": {},
   "source": [
    "## Random Forest Regressor"
   ]
  },
  {
   "cell_type": "code",
   "execution_count": 38,
   "id": "9626d8b0-fdc0-4da9-99a8-4de94420706a",
   "metadata": {},
   "outputs": [],
   "source": [
    "max_features_range = np.arange(1, 6, 1)\n",
    "n_estimators_range = np.arange(10, 210, 10)\n",
    "param_grid = dict(max_features=max_features_range, n_estimators=n_estimators_range)\n",
    "\n",
    "rf = RandomForestRegressor()\n",
    "grid = GridSearchCV(estimator=rf, param_grid=param_grid, cv=5)"
   ]
  },
  {
   "cell_type": "code",
   "execution_count": 39,
   "id": "64f7215f-9305-4aab-83b2-607e86282324",
   "metadata": {},
   "outputs": [
    {
     "ename": "KeyboardInterrupt",
     "evalue": "",
     "output_type": "error",
     "traceback": [
      "\u001b[0;31m---------------------------------------------------------------------------\u001b[0m",
      "\u001b[0;31mKeyboardInterrupt\u001b[0m                         Traceback (most recent call last)",
      "\u001b[0;32m/var/folders/j1/xsvj06t13klft0v6r5jcyv3r0000gp/T/ipykernel_9014/2681401717.py\u001b[0m in \u001b[0;36m<module>\u001b[0;34m\u001b[0m\n\u001b[0;32m----> 1\u001b[0;31m \u001b[0mgrid\u001b[0m\u001b[0;34m.\u001b[0m\u001b[0mfit\u001b[0m\u001b[0;34m(\u001b[0m\u001b[0mZ_train\u001b[0m\u001b[0;34m,\u001b[0m \u001b[0my_train\u001b[0m\u001b[0;34m)\u001b[0m\u001b[0;34m\u001b[0m\u001b[0;34m\u001b[0m\u001b[0m\n\u001b[0m",
      "\u001b[0;32m/opt/anaconda3/envs/python/lib/python3.9/site-packages/sklearn/model_selection/_search.py\u001b[0m in \u001b[0;36mfit\u001b[0;34m(self, X, y, groups, **fit_params)\u001b[0m\n\u001b[1;32m    889\u001b[0m                 \u001b[0;32mreturn\u001b[0m \u001b[0mresults\u001b[0m\u001b[0;34m\u001b[0m\u001b[0;34m\u001b[0m\u001b[0m\n\u001b[1;32m    890\u001b[0m \u001b[0;34m\u001b[0m\u001b[0m\n\u001b[0;32m--> 891\u001b[0;31m             \u001b[0mself\u001b[0m\u001b[0;34m.\u001b[0m\u001b[0m_run_search\u001b[0m\u001b[0;34m(\u001b[0m\u001b[0mevaluate_candidates\u001b[0m\u001b[0;34m)\u001b[0m\u001b[0;34m\u001b[0m\u001b[0;34m\u001b[0m\u001b[0m\n\u001b[0m\u001b[1;32m    892\u001b[0m \u001b[0;34m\u001b[0m\u001b[0m\n\u001b[1;32m    893\u001b[0m             \u001b[0;31m# multimetric is determined here because in the case of a callable\u001b[0m\u001b[0;34m\u001b[0m\u001b[0;34m\u001b[0m\u001b[0m\n",
      "\u001b[0;32m/opt/anaconda3/envs/python/lib/python3.9/site-packages/sklearn/model_selection/_search.py\u001b[0m in \u001b[0;36m_run_search\u001b[0;34m(self, evaluate_candidates)\u001b[0m\n\u001b[1;32m   1390\u001b[0m     \u001b[0;32mdef\u001b[0m \u001b[0m_run_search\u001b[0m\u001b[0;34m(\u001b[0m\u001b[0mself\u001b[0m\u001b[0;34m,\u001b[0m \u001b[0mevaluate_candidates\u001b[0m\u001b[0;34m)\u001b[0m\u001b[0;34m:\u001b[0m\u001b[0;34m\u001b[0m\u001b[0;34m\u001b[0m\u001b[0m\n\u001b[1;32m   1391\u001b[0m         \u001b[0;34m\"\"\"Search all candidates in param_grid\"\"\"\u001b[0m\u001b[0;34m\u001b[0m\u001b[0;34m\u001b[0m\u001b[0m\n\u001b[0;32m-> 1392\u001b[0;31m         \u001b[0mevaluate_candidates\u001b[0m\u001b[0;34m(\u001b[0m\u001b[0mParameterGrid\u001b[0m\u001b[0;34m(\u001b[0m\u001b[0mself\u001b[0m\u001b[0;34m.\u001b[0m\u001b[0mparam_grid\u001b[0m\u001b[0;34m)\u001b[0m\u001b[0;34m)\u001b[0m\u001b[0;34m\u001b[0m\u001b[0;34m\u001b[0m\u001b[0m\n\u001b[0m\u001b[1;32m   1393\u001b[0m \u001b[0;34m\u001b[0m\u001b[0m\n\u001b[1;32m   1394\u001b[0m \u001b[0;34m\u001b[0m\u001b[0m\n",
      "\u001b[0;32m/opt/anaconda3/envs/python/lib/python3.9/site-packages/sklearn/model_selection/_search.py\u001b[0m in \u001b[0;36mevaluate_candidates\u001b[0;34m(candidate_params, cv, more_results)\u001b[0m\n\u001b[1;32m    836\u001b[0m                     )\n\u001b[1;32m    837\u001b[0m \u001b[0;34m\u001b[0m\u001b[0m\n\u001b[0;32m--> 838\u001b[0;31m                 out = parallel(\n\u001b[0m\u001b[1;32m    839\u001b[0m                     delayed(_fit_and_score)(\n\u001b[1;32m    840\u001b[0m                         \u001b[0mclone\u001b[0m\u001b[0;34m(\u001b[0m\u001b[0mbase_estimator\u001b[0m\u001b[0;34m)\u001b[0m\u001b[0;34m,\u001b[0m\u001b[0;34m\u001b[0m\u001b[0;34m\u001b[0m\u001b[0m\n",
      "\u001b[0;32m/opt/anaconda3/envs/python/lib/python3.9/site-packages/joblib/parallel.py\u001b[0m in \u001b[0;36m__call__\u001b[0;34m(self, iterable)\u001b[0m\n\u001b[1;32m   1044\u001b[0m                 \u001b[0mself\u001b[0m\u001b[0;34m.\u001b[0m\u001b[0m_iterating\u001b[0m \u001b[0;34m=\u001b[0m \u001b[0mself\u001b[0m\u001b[0;34m.\u001b[0m\u001b[0m_original_iterator\u001b[0m \u001b[0;32mis\u001b[0m \u001b[0;32mnot\u001b[0m \u001b[0;32mNone\u001b[0m\u001b[0;34m\u001b[0m\u001b[0;34m\u001b[0m\u001b[0m\n\u001b[1;32m   1045\u001b[0m \u001b[0;34m\u001b[0m\u001b[0m\n\u001b[0;32m-> 1046\u001b[0;31m             \u001b[0;32mwhile\u001b[0m \u001b[0mself\u001b[0m\u001b[0;34m.\u001b[0m\u001b[0mdispatch_one_batch\u001b[0m\u001b[0;34m(\u001b[0m\u001b[0miterator\u001b[0m\u001b[0;34m)\u001b[0m\u001b[0;34m:\u001b[0m\u001b[0;34m\u001b[0m\u001b[0;34m\u001b[0m\u001b[0m\n\u001b[0m\u001b[1;32m   1047\u001b[0m                 \u001b[0;32mpass\u001b[0m\u001b[0;34m\u001b[0m\u001b[0;34m\u001b[0m\u001b[0m\n\u001b[1;32m   1048\u001b[0m \u001b[0;34m\u001b[0m\u001b[0m\n",
      "\u001b[0;32m/opt/anaconda3/envs/python/lib/python3.9/site-packages/joblib/parallel.py\u001b[0m in \u001b[0;36mdispatch_one_batch\u001b[0;34m(self, iterator)\u001b[0m\n\u001b[1;32m    859\u001b[0m                 \u001b[0;32mreturn\u001b[0m \u001b[0;32mFalse\u001b[0m\u001b[0;34m\u001b[0m\u001b[0;34m\u001b[0m\u001b[0m\n\u001b[1;32m    860\u001b[0m             \u001b[0;32melse\u001b[0m\u001b[0;34m:\u001b[0m\u001b[0;34m\u001b[0m\u001b[0;34m\u001b[0m\u001b[0m\n\u001b[0;32m--> 861\u001b[0;31m                 \u001b[0mself\u001b[0m\u001b[0;34m.\u001b[0m\u001b[0m_dispatch\u001b[0m\u001b[0;34m(\u001b[0m\u001b[0mtasks\u001b[0m\u001b[0;34m)\u001b[0m\u001b[0;34m\u001b[0m\u001b[0;34m\u001b[0m\u001b[0m\n\u001b[0m\u001b[1;32m    862\u001b[0m                 \u001b[0;32mreturn\u001b[0m \u001b[0;32mTrue\u001b[0m\u001b[0;34m\u001b[0m\u001b[0;34m\u001b[0m\u001b[0m\n\u001b[1;32m    863\u001b[0m \u001b[0;34m\u001b[0m\u001b[0m\n",
      "\u001b[0;32m/opt/anaconda3/envs/python/lib/python3.9/site-packages/joblib/parallel.py\u001b[0m in \u001b[0;36m_dispatch\u001b[0;34m(self, batch)\u001b[0m\n\u001b[1;32m    777\u001b[0m         \u001b[0;32mwith\u001b[0m \u001b[0mself\u001b[0m\u001b[0;34m.\u001b[0m\u001b[0m_lock\u001b[0m\u001b[0;34m:\u001b[0m\u001b[0;34m\u001b[0m\u001b[0;34m\u001b[0m\u001b[0m\n\u001b[1;32m    778\u001b[0m             \u001b[0mjob_idx\u001b[0m \u001b[0;34m=\u001b[0m \u001b[0mlen\u001b[0m\u001b[0;34m(\u001b[0m\u001b[0mself\u001b[0m\u001b[0;34m.\u001b[0m\u001b[0m_jobs\u001b[0m\u001b[0;34m)\u001b[0m\u001b[0;34m\u001b[0m\u001b[0;34m\u001b[0m\u001b[0m\n\u001b[0;32m--> 779\u001b[0;31m             \u001b[0mjob\u001b[0m \u001b[0;34m=\u001b[0m \u001b[0mself\u001b[0m\u001b[0;34m.\u001b[0m\u001b[0m_backend\u001b[0m\u001b[0;34m.\u001b[0m\u001b[0mapply_async\u001b[0m\u001b[0;34m(\u001b[0m\u001b[0mbatch\u001b[0m\u001b[0;34m,\u001b[0m \u001b[0mcallback\u001b[0m\u001b[0;34m=\u001b[0m\u001b[0mcb\u001b[0m\u001b[0;34m)\u001b[0m\u001b[0;34m\u001b[0m\u001b[0;34m\u001b[0m\u001b[0m\n\u001b[0m\u001b[1;32m    780\u001b[0m             \u001b[0;31m# A job can complete so quickly than its callback is\u001b[0m\u001b[0;34m\u001b[0m\u001b[0;34m\u001b[0m\u001b[0m\n\u001b[1;32m    781\u001b[0m             \u001b[0;31m# called before we get here, causing self._jobs to\u001b[0m\u001b[0;34m\u001b[0m\u001b[0;34m\u001b[0m\u001b[0m\n",
      "\u001b[0;32m/opt/anaconda3/envs/python/lib/python3.9/site-packages/joblib/_parallel_backends.py\u001b[0m in \u001b[0;36mapply_async\u001b[0;34m(self, func, callback)\u001b[0m\n\u001b[1;32m    206\u001b[0m     \u001b[0;32mdef\u001b[0m \u001b[0mapply_async\u001b[0m\u001b[0;34m(\u001b[0m\u001b[0mself\u001b[0m\u001b[0;34m,\u001b[0m \u001b[0mfunc\u001b[0m\u001b[0;34m,\u001b[0m \u001b[0mcallback\u001b[0m\u001b[0;34m=\u001b[0m\u001b[0;32mNone\u001b[0m\u001b[0;34m)\u001b[0m\u001b[0;34m:\u001b[0m\u001b[0;34m\u001b[0m\u001b[0;34m\u001b[0m\u001b[0m\n\u001b[1;32m    207\u001b[0m         \u001b[0;34m\"\"\"Schedule a func to be run\"\"\"\u001b[0m\u001b[0;34m\u001b[0m\u001b[0;34m\u001b[0m\u001b[0m\n\u001b[0;32m--> 208\u001b[0;31m         \u001b[0mresult\u001b[0m \u001b[0;34m=\u001b[0m \u001b[0mImmediateResult\u001b[0m\u001b[0;34m(\u001b[0m\u001b[0mfunc\u001b[0m\u001b[0;34m)\u001b[0m\u001b[0;34m\u001b[0m\u001b[0;34m\u001b[0m\u001b[0m\n\u001b[0m\u001b[1;32m    209\u001b[0m         \u001b[0;32mif\u001b[0m \u001b[0mcallback\u001b[0m\u001b[0;34m:\u001b[0m\u001b[0;34m\u001b[0m\u001b[0;34m\u001b[0m\u001b[0m\n\u001b[1;32m    210\u001b[0m             \u001b[0mcallback\u001b[0m\u001b[0;34m(\u001b[0m\u001b[0mresult\u001b[0m\u001b[0;34m)\u001b[0m\u001b[0;34m\u001b[0m\u001b[0;34m\u001b[0m\u001b[0m\n",
      "\u001b[0;32m/opt/anaconda3/envs/python/lib/python3.9/site-packages/joblib/_parallel_backends.py\u001b[0m in \u001b[0;36m__init__\u001b[0;34m(self, batch)\u001b[0m\n\u001b[1;32m    570\u001b[0m         \u001b[0;31m# Don't delay the application, to avoid keeping the input\u001b[0m\u001b[0;34m\u001b[0m\u001b[0;34m\u001b[0m\u001b[0m\n\u001b[1;32m    571\u001b[0m         \u001b[0;31m# arguments in memory\u001b[0m\u001b[0;34m\u001b[0m\u001b[0;34m\u001b[0m\u001b[0m\n\u001b[0;32m--> 572\u001b[0;31m         \u001b[0mself\u001b[0m\u001b[0;34m.\u001b[0m\u001b[0mresults\u001b[0m \u001b[0;34m=\u001b[0m \u001b[0mbatch\u001b[0m\u001b[0;34m(\u001b[0m\u001b[0;34m)\u001b[0m\u001b[0;34m\u001b[0m\u001b[0;34m\u001b[0m\u001b[0m\n\u001b[0m\u001b[1;32m    573\u001b[0m \u001b[0;34m\u001b[0m\u001b[0m\n\u001b[1;32m    574\u001b[0m     \u001b[0;32mdef\u001b[0m \u001b[0mget\u001b[0m\u001b[0;34m(\u001b[0m\u001b[0mself\u001b[0m\u001b[0;34m)\u001b[0m\u001b[0;34m:\u001b[0m\u001b[0;34m\u001b[0m\u001b[0;34m\u001b[0m\u001b[0m\n",
      "\u001b[0;32m/opt/anaconda3/envs/python/lib/python3.9/site-packages/joblib/parallel.py\u001b[0m in \u001b[0;36m__call__\u001b[0;34m(self)\u001b[0m\n\u001b[1;32m    260\u001b[0m         \u001b[0;31m# change the default number of processes to -1\u001b[0m\u001b[0;34m\u001b[0m\u001b[0;34m\u001b[0m\u001b[0m\n\u001b[1;32m    261\u001b[0m         \u001b[0;32mwith\u001b[0m \u001b[0mparallel_backend\u001b[0m\u001b[0;34m(\u001b[0m\u001b[0mself\u001b[0m\u001b[0;34m.\u001b[0m\u001b[0m_backend\u001b[0m\u001b[0;34m,\u001b[0m \u001b[0mn_jobs\u001b[0m\u001b[0;34m=\u001b[0m\u001b[0mself\u001b[0m\u001b[0;34m.\u001b[0m\u001b[0m_n_jobs\u001b[0m\u001b[0;34m)\u001b[0m\u001b[0;34m:\u001b[0m\u001b[0;34m\u001b[0m\u001b[0;34m\u001b[0m\u001b[0m\n\u001b[0;32m--> 262\u001b[0;31m             return [func(*args, **kwargs)\n\u001b[0m\u001b[1;32m    263\u001b[0m                     for func, args, kwargs in self.items]\n\u001b[1;32m    264\u001b[0m \u001b[0;34m\u001b[0m\u001b[0m\n",
      "\u001b[0;32m/opt/anaconda3/envs/python/lib/python3.9/site-packages/joblib/parallel.py\u001b[0m in \u001b[0;36m<listcomp>\u001b[0;34m(.0)\u001b[0m\n\u001b[1;32m    260\u001b[0m         \u001b[0;31m# change the default number of processes to -1\u001b[0m\u001b[0;34m\u001b[0m\u001b[0;34m\u001b[0m\u001b[0m\n\u001b[1;32m    261\u001b[0m         \u001b[0;32mwith\u001b[0m \u001b[0mparallel_backend\u001b[0m\u001b[0;34m(\u001b[0m\u001b[0mself\u001b[0m\u001b[0;34m.\u001b[0m\u001b[0m_backend\u001b[0m\u001b[0;34m,\u001b[0m \u001b[0mn_jobs\u001b[0m\u001b[0;34m=\u001b[0m\u001b[0mself\u001b[0m\u001b[0;34m.\u001b[0m\u001b[0m_n_jobs\u001b[0m\u001b[0;34m)\u001b[0m\u001b[0;34m:\u001b[0m\u001b[0;34m\u001b[0m\u001b[0;34m\u001b[0m\u001b[0m\n\u001b[0;32m--> 262\u001b[0;31m             return [func(*args, **kwargs)\n\u001b[0m\u001b[1;32m    263\u001b[0m                     for func, args, kwargs in self.items]\n\u001b[1;32m    264\u001b[0m \u001b[0;34m\u001b[0m\u001b[0m\n",
      "\u001b[0;32m/opt/anaconda3/envs/python/lib/python3.9/site-packages/sklearn/utils/fixes.py\u001b[0m in \u001b[0;36m__call__\u001b[0;34m(self, *args, **kwargs)\u001b[0m\n\u001b[1;32m    209\u001b[0m     \u001b[0;32mdef\u001b[0m \u001b[0m__call__\u001b[0m\u001b[0;34m(\u001b[0m\u001b[0mself\u001b[0m\u001b[0;34m,\u001b[0m \u001b[0;34m*\u001b[0m\u001b[0margs\u001b[0m\u001b[0;34m,\u001b[0m \u001b[0;34m**\u001b[0m\u001b[0mkwargs\u001b[0m\u001b[0;34m)\u001b[0m\u001b[0;34m:\u001b[0m\u001b[0;34m\u001b[0m\u001b[0;34m\u001b[0m\u001b[0m\n\u001b[1;32m    210\u001b[0m         \u001b[0;32mwith\u001b[0m \u001b[0mconfig_context\u001b[0m\u001b[0;34m(\u001b[0m\u001b[0;34m**\u001b[0m\u001b[0mself\u001b[0m\u001b[0;34m.\u001b[0m\u001b[0mconfig\u001b[0m\u001b[0;34m)\u001b[0m\u001b[0;34m:\u001b[0m\u001b[0;34m\u001b[0m\u001b[0;34m\u001b[0m\u001b[0m\n\u001b[0;32m--> 211\u001b[0;31m             \u001b[0;32mreturn\u001b[0m \u001b[0mself\u001b[0m\u001b[0;34m.\u001b[0m\u001b[0mfunction\u001b[0m\u001b[0;34m(\u001b[0m\u001b[0;34m*\u001b[0m\u001b[0margs\u001b[0m\u001b[0;34m,\u001b[0m \u001b[0;34m**\u001b[0m\u001b[0mkwargs\u001b[0m\u001b[0;34m)\u001b[0m\u001b[0;34m\u001b[0m\u001b[0;34m\u001b[0m\u001b[0m\n\u001b[0m\u001b[1;32m    212\u001b[0m \u001b[0;34m\u001b[0m\u001b[0m\n\u001b[1;32m    213\u001b[0m \u001b[0;34m\u001b[0m\u001b[0m\n",
      "\u001b[0;32m/opt/anaconda3/envs/python/lib/python3.9/site-packages/sklearn/model_selection/_validation.py\u001b[0m in \u001b[0;36m_fit_and_score\u001b[0;34m(estimator, X, y, scorer, train, test, verbose, parameters, fit_params, return_train_score, return_parameters, return_n_test_samples, return_times, return_estimator, split_progress, candidate_progress, error_score)\u001b[0m\n\u001b[1;32m    679\u001b[0m             \u001b[0mestimator\u001b[0m\u001b[0;34m.\u001b[0m\u001b[0mfit\u001b[0m\u001b[0;34m(\u001b[0m\u001b[0mX_train\u001b[0m\u001b[0;34m,\u001b[0m \u001b[0;34m**\u001b[0m\u001b[0mfit_params\u001b[0m\u001b[0;34m)\u001b[0m\u001b[0;34m\u001b[0m\u001b[0;34m\u001b[0m\u001b[0m\n\u001b[1;32m    680\u001b[0m         \u001b[0;32melse\u001b[0m\u001b[0;34m:\u001b[0m\u001b[0;34m\u001b[0m\u001b[0;34m\u001b[0m\u001b[0m\n\u001b[0;32m--> 681\u001b[0;31m             \u001b[0mestimator\u001b[0m\u001b[0;34m.\u001b[0m\u001b[0mfit\u001b[0m\u001b[0;34m(\u001b[0m\u001b[0mX_train\u001b[0m\u001b[0;34m,\u001b[0m \u001b[0my_train\u001b[0m\u001b[0;34m,\u001b[0m \u001b[0;34m**\u001b[0m\u001b[0mfit_params\u001b[0m\u001b[0;34m)\u001b[0m\u001b[0;34m\u001b[0m\u001b[0;34m\u001b[0m\u001b[0m\n\u001b[0m\u001b[1;32m    682\u001b[0m \u001b[0;34m\u001b[0m\u001b[0m\n\u001b[1;32m    683\u001b[0m     \u001b[0;32mexcept\u001b[0m \u001b[0mException\u001b[0m\u001b[0;34m:\u001b[0m\u001b[0;34m\u001b[0m\u001b[0;34m\u001b[0m\u001b[0m\n",
      "\u001b[0;32m/opt/anaconda3/envs/python/lib/python3.9/site-packages/sklearn/ensemble/_forest.py\u001b[0m in \u001b[0;36mfit\u001b[0;34m(self, X, y, sample_weight)\u001b[0m\n\u001b[1;32m    440\u001b[0m             \u001b[0;31m# parallel_backend contexts set at a higher level,\u001b[0m\u001b[0;34m\u001b[0m\u001b[0;34m\u001b[0m\u001b[0m\n\u001b[1;32m    441\u001b[0m             \u001b[0;31m# since correctness does not rely on using threads.\u001b[0m\u001b[0;34m\u001b[0m\u001b[0;34m\u001b[0m\u001b[0m\n\u001b[0;32m--> 442\u001b[0;31m             trees = Parallel(\n\u001b[0m\u001b[1;32m    443\u001b[0m                 \u001b[0mn_jobs\u001b[0m\u001b[0;34m=\u001b[0m\u001b[0mself\u001b[0m\u001b[0;34m.\u001b[0m\u001b[0mn_jobs\u001b[0m\u001b[0;34m,\u001b[0m\u001b[0;34m\u001b[0m\u001b[0;34m\u001b[0m\u001b[0m\n\u001b[1;32m    444\u001b[0m                 \u001b[0mverbose\u001b[0m\u001b[0;34m=\u001b[0m\u001b[0mself\u001b[0m\u001b[0;34m.\u001b[0m\u001b[0mverbose\u001b[0m\u001b[0;34m,\u001b[0m\u001b[0;34m\u001b[0m\u001b[0;34m\u001b[0m\u001b[0m\n",
      "\u001b[0;32m/opt/anaconda3/envs/python/lib/python3.9/site-packages/joblib/parallel.py\u001b[0m in \u001b[0;36m__call__\u001b[0;34m(self, iterable)\u001b[0m\n\u001b[1;32m   1044\u001b[0m                 \u001b[0mself\u001b[0m\u001b[0;34m.\u001b[0m\u001b[0m_iterating\u001b[0m \u001b[0;34m=\u001b[0m \u001b[0mself\u001b[0m\u001b[0;34m.\u001b[0m\u001b[0m_original_iterator\u001b[0m \u001b[0;32mis\u001b[0m \u001b[0;32mnot\u001b[0m \u001b[0;32mNone\u001b[0m\u001b[0;34m\u001b[0m\u001b[0;34m\u001b[0m\u001b[0m\n\u001b[1;32m   1045\u001b[0m \u001b[0;34m\u001b[0m\u001b[0m\n\u001b[0;32m-> 1046\u001b[0;31m             \u001b[0;32mwhile\u001b[0m \u001b[0mself\u001b[0m\u001b[0;34m.\u001b[0m\u001b[0mdispatch_one_batch\u001b[0m\u001b[0;34m(\u001b[0m\u001b[0miterator\u001b[0m\u001b[0;34m)\u001b[0m\u001b[0;34m:\u001b[0m\u001b[0;34m\u001b[0m\u001b[0;34m\u001b[0m\u001b[0m\n\u001b[0m\u001b[1;32m   1047\u001b[0m                 \u001b[0;32mpass\u001b[0m\u001b[0;34m\u001b[0m\u001b[0;34m\u001b[0m\u001b[0m\n\u001b[1;32m   1048\u001b[0m \u001b[0;34m\u001b[0m\u001b[0m\n",
      "\u001b[0;32m/opt/anaconda3/envs/python/lib/python3.9/site-packages/joblib/parallel.py\u001b[0m in \u001b[0;36mdispatch_one_batch\u001b[0;34m(self, iterator)\u001b[0m\n\u001b[1;32m    859\u001b[0m                 \u001b[0;32mreturn\u001b[0m \u001b[0;32mFalse\u001b[0m\u001b[0;34m\u001b[0m\u001b[0;34m\u001b[0m\u001b[0m\n\u001b[1;32m    860\u001b[0m             \u001b[0;32melse\u001b[0m\u001b[0;34m:\u001b[0m\u001b[0;34m\u001b[0m\u001b[0;34m\u001b[0m\u001b[0m\n\u001b[0;32m--> 861\u001b[0;31m                 \u001b[0mself\u001b[0m\u001b[0;34m.\u001b[0m\u001b[0m_dispatch\u001b[0m\u001b[0;34m(\u001b[0m\u001b[0mtasks\u001b[0m\u001b[0;34m)\u001b[0m\u001b[0;34m\u001b[0m\u001b[0;34m\u001b[0m\u001b[0m\n\u001b[0m\u001b[1;32m    862\u001b[0m                 \u001b[0;32mreturn\u001b[0m \u001b[0;32mTrue\u001b[0m\u001b[0;34m\u001b[0m\u001b[0;34m\u001b[0m\u001b[0m\n\u001b[1;32m    863\u001b[0m \u001b[0;34m\u001b[0m\u001b[0m\n",
      "\u001b[0;32m/opt/anaconda3/envs/python/lib/python3.9/site-packages/joblib/parallel.py\u001b[0m in \u001b[0;36m_dispatch\u001b[0;34m(self, batch)\u001b[0m\n\u001b[1;32m    777\u001b[0m         \u001b[0;32mwith\u001b[0m \u001b[0mself\u001b[0m\u001b[0;34m.\u001b[0m\u001b[0m_lock\u001b[0m\u001b[0;34m:\u001b[0m\u001b[0;34m\u001b[0m\u001b[0;34m\u001b[0m\u001b[0m\n\u001b[1;32m    778\u001b[0m             \u001b[0mjob_idx\u001b[0m \u001b[0;34m=\u001b[0m \u001b[0mlen\u001b[0m\u001b[0;34m(\u001b[0m\u001b[0mself\u001b[0m\u001b[0;34m.\u001b[0m\u001b[0m_jobs\u001b[0m\u001b[0;34m)\u001b[0m\u001b[0;34m\u001b[0m\u001b[0;34m\u001b[0m\u001b[0m\n\u001b[0;32m--> 779\u001b[0;31m             \u001b[0mjob\u001b[0m \u001b[0;34m=\u001b[0m \u001b[0mself\u001b[0m\u001b[0;34m.\u001b[0m\u001b[0m_backend\u001b[0m\u001b[0;34m.\u001b[0m\u001b[0mapply_async\u001b[0m\u001b[0;34m(\u001b[0m\u001b[0mbatch\u001b[0m\u001b[0;34m,\u001b[0m \u001b[0mcallback\u001b[0m\u001b[0;34m=\u001b[0m\u001b[0mcb\u001b[0m\u001b[0;34m)\u001b[0m\u001b[0;34m\u001b[0m\u001b[0;34m\u001b[0m\u001b[0m\n\u001b[0m\u001b[1;32m    780\u001b[0m             \u001b[0;31m# A job can complete so quickly than its callback is\u001b[0m\u001b[0;34m\u001b[0m\u001b[0;34m\u001b[0m\u001b[0m\n\u001b[1;32m    781\u001b[0m             \u001b[0;31m# called before we get here, causing self._jobs to\u001b[0m\u001b[0;34m\u001b[0m\u001b[0;34m\u001b[0m\u001b[0m\n",
      "\u001b[0;32m/opt/anaconda3/envs/python/lib/python3.9/site-packages/joblib/_parallel_backends.py\u001b[0m in \u001b[0;36mapply_async\u001b[0;34m(self, func, callback)\u001b[0m\n\u001b[1;32m    206\u001b[0m     \u001b[0;32mdef\u001b[0m \u001b[0mapply_async\u001b[0m\u001b[0;34m(\u001b[0m\u001b[0mself\u001b[0m\u001b[0;34m,\u001b[0m \u001b[0mfunc\u001b[0m\u001b[0;34m,\u001b[0m \u001b[0mcallback\u001b[0m\u001b[0;34m=\u001b[0m\u001b[0;32mNone\u001b[0m\u001b[0;34m)\u001b[0m\u001b[0;34m:\u001b[0m\u001b[0;34m\u001b[0m\u001b[0;34m\u001b[0m\u001b[0m\n\u001b[1;32m    207\u001b[0m         \u001b[0;34m\"\"\"Schedule a func to be run\"\"\"\u001b[0m\u001b[0;34m\u001b[0m\u001b[0;34m\u001b[0m\u001b[0m\n\u001b[0;32m--> 208\u001b[0;31m         \u001b[0mresult\u001b[0m \u001b[0;34m=\u001b[0m \u001b[0mImmediateResult\u001b[0m\u001b[0;34m(\u001b[0m\u001b[0mfunc\u001b[0m\u001b[0;34m)\u001b[0m\u001b[0;34m\u001b[0m\u001b[0;34m\u001b[0m\u001b[0m\n\u001b[0m\u001b[1;32m    209\u001b[0m         \u001b[0;32mif\u001b[0m \u001b[0mcallback\u001b[0m\u001b[0;34m:\u001b[0m\u001b[0;34m\u001b[0m\u001b[0;34m\u001b[0m\u001b[0m\n\u001b[1;32m    210\u001b[0m             \u001b[0mcallback\u001b[0m\u001b[0;34m(\u001b[0m\u001b[0mresult\u001b[0m\u001b[0;34m)\u001b[0m\u001b[0;34m\u001b[0m\u001b[0;34m\u001b[0m\u001b[0m\n",
      "\u001b[0;32m/opt/anaconda3/envs/python/lib/python3.9/site-packages/joblib/_parallel_backends.py\u001b[0m in \u001b[0;36m__init__\u001b[0;34m(self, batch)\u001b[0m\n\u001b[1;32m    570\u001b[0m         \u001b[0;31m# Don't delay the application, to avoid keeping the input\u001b[0m\u001b[0;34m\u001b[0m\u001b[0;34m\u001b[0m\u001b[0m\n\u001b[1;32m    571\u001b[0m         \u001b[0;31m# arguments in memory\u001b[0m\u001b[0;34m\u001b[0m\u001b[0;34m\u001b[0m\u001b[0m\n\u001b[0;32m--> 572\u001b[0;31m         \u001b[0mself\u001b[0m\u001b[0;34m.\u001b[0m\u001b[0mresults\u001b[0m \u001b[0;34m=\u001b[0m \u001b[0mbatch\u001b[0m\u001b[0;34m(\u001b[0m\u001b[0;34m)\u001b[0m\u001b[0;34m\u001b[0m\u001b[0;34m\u001b[0m\u001b[0m\n\u001b[0m\u001b[1;32m    573\u001b[0m \u001b[0;34m\u001b[0m\u001b[0m\n\u001b[1;32m    574\u001b[0m     \u001b[0;32mdef\u001b[0m \u001b[0mget\u001b[0m\u001b[0;34m(\u001b[0m\u001b[0mself\u001b[0m\u001b[0;34m)\u001b[0m\u001b[0;34m:\u001b[0m\u001b[0;34m\u001b[0m\u001b[0;34m\u001b[0m\u001b[0m\n",
      "\u001b[0;32m/opt/anaconda3/envs/python/lib/python3.9/site-packages/joblib/parallel.py\u001b[0m in \u001b[0;36m__call__\u001b[0;34m(self)\u001b[0m\n\u001b[1;32m    260\u001b[0m         \u001b[0;31m# change the default number of processes to -1\u001b[0m\u001b[0;34m\u001b[0m\u001b[0;34m\u001b[0m\u001b[0m\n\u001b[1;32m    261\u001b[0m         \u001b[0;32mwith\u001b[0m \u001b[0mparallel_backend\u001b[0m\u001b[0;34m(\u001b[0m\u001b[0mself\u001b[0m\u001b[0;34m.\u001b[0m\u001b[0m_backend\u001b[0m\u001b[0;34m,\u001b[0m \u001b[0mn_jobs\u001b[0m\u001b[0;34m=\u001b[0m\u001b[0mself\u001b[0m\u001b[0;34m.\u001b[0m\u001b[0m_n_jobs\u001b[0m\u001b[0;34m)\u001b[0m\u001b[0;34m:\u001b[0m\u001b[0;34m\u001b[0m\u001b[0;34m\u001b[0m\u001b[0m\n\u001b[0;32m--> 262\u001b[0;31m             return [func(*args, **kwargs)\n\u001b[0m\u001b[1;32m    263\u001b[0m                     for func, args, kwargs in self.items]\n\u001b[1;32m    264\u001b[0m \u001b[0;34m\u001b[0m\u001b[0m\n",
      "\u001b[0;32m/opt/anaconda3/envs/python/lib/python3.9/site-packages/joblib/parallel.py\u001b[0m in \u001b[0;36m<listcomp>\u001b[0;34m(.0)\u001b[0m\n\u001b[1;32m    260\u001b[0m         \u001b[0;31m# change the default number of processes to -1\u001b[0m\u001b[0;34m\u001b[0m\u001b[0;34m\u001b[0m\u001b[0m\n\u001b[1;32m    261\u001b[0m         \u001b[0;32mwith\u001b[0m \u001b[0mparallel_backend\u001b[0m\u001b[0;34m(\u001b[0m\u001b[0mself\u001b[0m\u001b[0;34m.\u001b[0m\u001b[0m_backend\u001b[0m\u001b[0;34m,\u001b[0m \u001b[0mn_jobs\u001b[0m\u001b[0;34m=\u001b[0m\u001b[0mself\u001b[0m\u001b[0;34m.\u001b[0m\u001b[0m_n_jobs\u001b[0m\u001b[0;34m)\u001b[0m\u001b[0;34m:\u001b[0m\u001b[0;34m\u001b[0m\u001b[0;34m\u001b[0m\u001b[0m\n\u001b[0;32m--> 262\u001b[0;31m             return [func(*args, **kwargs)\n\u001b[0m\u001b[1;32m    263\u001b[0m                     for func, args, kwargs in self.items]\n\u001b[1;32m    264\u001b[0m \u001b[0;34m\u001b[0m\u001b[0m\n",
      "\u001b[0;32m/opt/anaconda3/envs/python/lib/python3.9/site-packages/sklearn/utils/fixes.py\u001b[0m in \u001b[0;36m__call__\u001b[0;34m(self, *args, **kwargs)\u001b[0m\n\u001b[1;32m    209\u001b[0m     \u001b[0;32mdef\u001b[0m \u001b[0m__call__\u001b[0m\u001b[0;34m(\u001b[0m\u001b[0mself\u001b[0m\u001b[0;34m,\u001b[0m \u001b[0;34m*\u001b[0m\u001b[0margs\u001b[0m\u001b[0;34m,\u001b[0m \u001b[0;34m**\u001b[0m\u001b[0mkwargs\u001b[0m\u001b[0;34m)\u001b[0m\u001b[0;34m:\u001b[0m\u001b[0;34m\u001b[0m\u001b[0;34m\u001b[0m\u001b[0m\n\u001b[1;32m    210\u001b[0m         \u001b[0;32mwith\u001b[0m \u001b[0mconfig_context\u001b[0m\u001b[0;34m(\u001b[0m\u001b[0;34m**\u001b[0m\u001b[0mself\u001b[0m\u001b[0;34m.\u001b[0m\u001b[0mconfig\u001b[0m\u001b[0;34m)\u001b[0m\u001b[0;34m:\u001b[0m\u001b[0;34m\u001b[0m\u001b[0;34m\u001b[0m\u001b[0m\n\u001b[0;32m--> 211\u001b[0;31m             \u001b[0;32mreturn\u001b[0m \u001b[0mself\u001b[0m\u001b[0;34m.\u001b[0m\u001b[0mfunction\u001b[0m\u001b[0;34m(\u001b[0m\u001b[0;34m*\u001b[0m\u001b[0margs\u001b[0m\u001b[0;34m,\u001b[0m \u001b[0;34m**\u001b[0m\u001b[0mkwargs\u001b[0m\u001b[0;34m)\u001b[0m\u001b[0;34m\u001b[0m\u001b[0;34m\u001b[0m\u001b[0m\n\u001b[0m\u001b[1;32m    212\u001b[0m \u001b[0;34m\u001b[0m\u001b[0m\n\u001b[1;32m    213\u001b[0m \u001b[0;34m\u001b[0m\u001b[0m\n",
      "\u001b[0;32m/opt/anaconda3/envs/python/lib/python3.9/site-packages/sklearn/ensemble/_forest.py\u001b[0m in \u001b[0;36m_parallel_build_trees\u001b[0;34m(tree, forest, X, y, sample_weight, tree_idx, n_trees, verbose, class_weight, n_samples_bootstrap)\u001b[0m\n\u001b[1;32m    183\u001b[0m             \u001b[0mcurr_sample_weight\u001b[0m \u001b[0;34m*=\u001b[0m \u001b[0mcompute_sample_weight\u001b[0m\u001b[0;34m(\u001b[0m\u001b[0;34m\"balanced\"\u001b[0m\u001b[0;34m,\u001b[0m \u001b[0my\u001b[0m\u001b[0;34m,\u001b[0m \u001b[0mindices\u001b[0m\u001b[0;34m=\u001b[0m\u001b[0mindices\u001b[0m\u001b[0;34m)\u001b[0m\u001b[0;34m\u001b[0m\u001b[0;34m\u001b[0m\u001b[0m\n\u001b[1;32m    184\u001b[0m \u001b[0;34m\u001b[0m\u001b[0m\n\u001b[0;32m--> 185\u001b[0;31m         \u001b[0mtree\u001b[0m\u001b[0;34m.\u001b[0m\u001b[0mfit\u001b[0m\u001b[0;34m(\u001b[0m\u001b[0mX\u001b[0m\u001b[0;34m,\u001b[0m \u001b[0my\u001b[0m\u001b[0;34m,\u001b[0m \u001b[0msample_weight\u001b[0m\u001b[0;34m=\u001b[0m\u001b[0mcurr_sample_weight\u001b[0m\u001b[0;34m,\u001b[0m \u001b[0mcheck_input\u001b[0m\u001b[0;34m=\u001b[0m\u001b[0;32mFalse\u001b[0m\u001b[0;34m)\u001b[0m\u001b[0;34m\u001b[0m\u001b[0;34m\u001b[0m\u001b[0m\n\u001b[0m\u001b[1;32m    186\u001b[0m     \u001b[0;32melse\u001b[0m\u001b[0;34m:\u001b[0m\u001b[0;34m\u001b[0m\u001b[0;34m\u001b[0m\u001b[0m\n\u001b[1;32m    187\u001b[0m         \u001b[0mtree\u001b[0m\u001b[0;34m.\u001b[0m\u001b[0mfit\u001b[0m\u001b[0;34m(\u001b[0m\u001b[0mX\u001b[0m\u001b[0;34m,\u001b[0m \u001b[0my\u001b[0m\u001b[0;34m,\u001b[0m \u001b[0msample_weight\u001b[0m\u001b[0;34m=\u001b[0m\u001b[0msample_weight\u001b[0m\u001b[0;34m,\u001b[0m \u001b[0mcheck_input\u001b[0m\u001b[0;34m=\u001b[0m\u001b[0;32mFalse\u001b[0m\u001b[0;34m)\u001b[0m\u001b[0;34m\u001b[0m\u001b[0;34m\u001b[0m\u001b[0m\n",
      "\u001b[0;32m/opt/anaconda3/envs/python/lib/python3.9/site-packages/sklearn/tree/_classes.py\u001b[0m in \u001b[0;36mfit\u001b[0;34m(self, X, y, sample_weight, check_input, X_idx_sorted)\u001b[0m\n\u001b[1;32m   1313\u001b[0m         \"\"\"\n\u001b[1;32m   1314\u001b[0m \u001b[0;34m\u001b[0m\u001b[0m\n\u001b[0;32m-> 1315\u001b[0;31m         super().fit(\n\u001b[0m\u001b[1;32m   1316\u001b[0m             \u001b[0mX\u001b[0m\u001b[0;34m,\u001b[0m\u001b[0;34m\u001b[0m\u001b[0;34m\u001b[0m\u001b[0m\n\u001b[1;32m   1317\u001b[0m             \u001b[0my\u001b[0m\u001b[0;34m,\u001b[0m\u001b[0;34m\u001b[0m\u001b[0;34m\u001b[0m\u001b[0m\n",
      "\u001b[0;32m/opt/anaconda3/envs/python/lib/python3.9/site-packages/sklearn/tree/_classes.py\u001b[0m in \u001b[0;36mfit\u001b[0;34m(self, X, y, sample_weight, check_input, X_idx_sorted)\u001b[0m\n\u001b[1;32m    418\u001b[0m             )\n\u001b[1;32m    419\u001b[0m \u001b[0;34m\u001b[0m\u001b[0m\n\u001b[0;32m--> 420\u001b[0;31m         \u001b[0mbuilder\u001b[0m\u001b[0;34m.\u001b[0m\u001b[0mbuild\u001b[0m\u001b[0;34m(\u001b[0m\u001b[0mself\u001b[0m\u001b[0;34m.\u001b[0m\u001b[0mtree_\u001b[0m\u001b[0;34m,\u001b[0m \u001b[0mX\u001b[0m\u001b[0;34m,\u001b[0m \u001b[0my\u001b[0m\u001b[0;34m,\u001b[0m \u001b[0msample_weight\u001b[0m\u001b[0;34m)\u001b[0m\u001b[0;34m\u001b[0m\u001b[0;34m\u001b[0m\u001b[0m\n\u001b[0m\u001b[1;32m    421\u001b[0m \u001b[0;34m\u001b[0m\u001b[0m\n\u001b[1;32m    422\u001b[0m         \u001b[0;32mif\u001b[0m \u001b[0mself\u001b[0m\u001b[0;34m.\u001b[0m\u001b[0mn_outputs_\u001b[0m \u001b[0;34m==\u001b[0m \u001b[0;36m1\u001b[0m \u001b[0;32mand\u001b[0m \u001b[0mis_classifier\u001b[0m\u001b[0;34m(\u001b[0m\u001b[0mself\u001b[0m\u001b[0;34m)\u001b[0m\u001b[0;34m:\u001b[0m\u001b[0;34m\u001b[0m\u001b[0;34m\u001b[0m\u001b[0m\n",
      "\u001b[0;31mKeyboardInterrupt\u001b[0m: "
     ]
    }
   ],
   "source": [
    "grid.fit(Z_train, y_train)"
   ]
  },
  {
   "cell_type": "code",
   "execution_count": null,
   "id": "6c9a95bc-cb2b-4e9d-9ea2-4afb58580c56",
   "metadata": {},
   "outputs": [],
   "source": [
    "print(\n",
    "    f\"The best parameters are {grid.best_params_} with a score of {grid.best_score_:.2f}\"\n",
    ")"
   ]
  },
  {
   "cell_type": "code",
   "execution_count": null,
   "id": "b62123c7-b230-4e6b-905a-045592aa6008",
   "metadata": {},
   "outputs": [],
   "source": [
    "randfor = RandomForestRegressor(max_features=5, n_estimators=200)\n",
    "randfor.fit(Z_train, y_train)\n",
    "randfor_pred = randfor.predict(Z_test)"
   ]
  },
  {
   "cell_type": "code",
   "execution_count": null,
   "id": "6f538ebe-01d2-4ce0-accd-2b962b68cb79",
   "metadata": {},
   "outputs": [],
   "source": [
    "lin_reg_metrics(randfor, Z_train, y_train, randfor_pred, Z_test, y_test)"
   ]
  }
 ],
 "metadata": {
  "kernelspec": {
   "display_name": "Python 3 (ipykernel)",
   "language": "python",
   "name": "python3"
  },
  "language_info": {
   "codemirror_mode": {
    "name": "ipython",
    "version": 3
   },
   "file_extension": ".py",
   "mimetype": "text/x-python",
   "name": "python",
   "nbconvert_exporter": "python",
   "pygments_lexer": "ipython3",
   "version": "3.9.7"
  }
 },
 "nbformat": 4,
 "nbformat_minor": 5
}
