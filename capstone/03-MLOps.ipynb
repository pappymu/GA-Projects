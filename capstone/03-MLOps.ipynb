{
 "cells": [
  {
   "cell_type": "markdown",
   "id": "90cbd080-fc70-4bed-9cf6-02f609c937b4",
   "metadata": {},
   "source": [
    "# Operationalizing the Model"
   ]
  },
  {
   "cell_type": "code",
   "execution_count": null,
   "id": "6a0fe56f-d9a1-4928-b121-6a74e08ff708",
   "metadata": {},
   "outputs": [],
   "source": []
  }
 ],
 "metadata": {
  "kernelspec": {
   "display_name": "Python 3 (ipykernel)",
   "language": "python",
   "name": "python3"
  },
  "language_info": {
   "codemirror_mode": {
    "name": "ipython",
    "version": 3
   },
   "file_extension": ".py",
   "mimetype": "text/x-python",
   "name": "python",
   "nbconvert_exporter": "python",
   "pygments_lexer": "ipython3",
   "version": "3.9.12"
  }
 },
 "nbformat": 4,
 "nbformat_minor": 5
}
