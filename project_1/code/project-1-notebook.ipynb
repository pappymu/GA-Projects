{
 "cells": [
  {
   "cell_type": "markdown",
   "metadata": {},
   "source": [
    "<img src=\"http://imgur.com/1ZcRyrc.png\" style=\"float: left; margin: 20px; height: 55px\">\n",
    "\n",
    "# Project 1: Standardized Test Analysis"
   ]
  },
  {
   "cell_type": "markdown",
   "metadata": {},
   "source": [
    "--- \n",
    "# Part 1\n",
    "\n",
    "---"
   ]
  },
  {
   "cell_type": "markdown",
   "metadata": {},
   "source": [
    "## Problem Statement"
   ]
  },
  {
   "cell_type": "markdown",
   "metadata": {},
   "source": [
    "How much does the economic background of students US states affect their ACT/SAT scores and participation rates?"
   ]
  },
  {
   "cell_type": "markdown",
   "metadata": {},
   "source": [
    "### Contents:\n",
    "- [Background](#Background)\n",
    "- [Data Import & Cleaning](#Data-Import-and-Cleaning)\n",
    "- [Exploratory Data Analysis](#Exploratory-Data-Analysis)\n",
    "- [Data Visualization](#Visualize-the-Data)\n",
    "- [Conclusions and Recommendations](#Conclusions-and-Recommendations)"
   ]
  },
  {
   "cell_type": "markdown",
   "metadata": {},
   "source": [
    "## Background"
   ]
  },
  {
   "cell_type": "markdown",
   "metadata": {},
   "source": [
    "### Outside Research"
   ]
  },
  {
   "cell_type": "markdown",
   "metadata": {},
   "source": [
    "The SAT and ACT are the main standardized tests required by colleges in the United States for admission into their courses. They are considered heavily in whether a student will be admitted, together with the grade point average (GPA) achieved in high schools and the essay responses.\n",
    "\n",
    "The SAT has two sections: Evidence-Based Reading and Writing, and Math. The subject test has been [removed](https://blog.collegeboard.org/January-2021-sat-subject-test-and-essay-faq) as of Jan 2021. The [ACT](https://www.latutors123.com/tutoring-resources/act/format-dates/) has 4 multiple-choice sections with an optional written test.\n",
    "\n",
    "[More students](https://www.collegeraptor.com/getting-in/articles/act-sat/act-vs-sat-comparing-two-college-entrance-exams/) take the ACT over the SAT, and there is a \"different standardized testing preference on a state by state basis\", shown in the [infographic](https://www.collegeraptor.com/getting-in/articles/act-sat/preference-act-sat-state-infographic/) below. [In fact](https://www.niche.com/blog/students-who-take-the-sat-vs-the-act-in-each-state/), more coastal states choose the SAT and middle states choose the ACT.\n",
    "\n",
    "There have been claims that standardized testing propagates economic inequality, for reasons such as [better access to preparation](https://www.cnbc.com/2019/10/03/rich-students-get-better-sat-scores-heres-why.html), including a 2013 [paper](https://www.researchgate.net/publication/280232788_Race_Poverty_and_SAT_Scores_Modeling_the_Influences_of_Family_Income_on_Black_and_White_High_School_Students'_SAT_Performance) that claims \"the effects of family income on SAT scores... are substantial, non-linear, and nearly twice as large for Black students\". There was also an [article](https://www.nea.org/advocating-for-change/new-from-nea/racist-beginnings-standardized-testing) by the National Education Association that links the racist beginnings of standardized testing with eugenics. There was even a [lawsuit](https://www.forbes.com/sites/kimelsesser/2019/12/11/lawsuit-claims-sat-and-act-are-biased-heres-what-research-says/) in 2019 claiming that the SAT and ACT are racially and economically biased, but some claim other factors like lack of test preparation and bribery.\n",
    "\n",
    "A College Board (administrator of the SAT) [research report](https://files.eric.ed.gov/fulltext/ED562860.pdf) claims that \"the vast majority of the SAT–grade relationship is independent of SES \\[socio-economic status\\]\", while another 2013 College Board [report](https://secure-media.collegeboard.org/digitalServices/pdf/research/2013/TotalGroup-2013.pdf) shows a proportional relationship between family income and scores attained. The ACT, on the other hand, published a [2016 report](https://www.act.org/content/dam/act/unsecured/documents/R1604-ACT-Composite-Score-by-Family-Income.pdf) shows a flat relationship between family income and the scores attained.\n",
    "\n",
    "In the face of seemingly conflicting information, it would be prudent to perform an analysis on test results for both standardized tests, comparing the scores attained and participation rates with the economic status across states."
   ]
  },
  {
   "cell_type": "markdown",
   "metadata": {},
   "source": [
    "<div>\n",
    "<img src=\"../images/sat_act_infographic.jpg\" width=\"450\"/>\n",
    "</div>"
   ]
  },
  {
   "cell_type": "markdown",
   "metadata": {
    "tags": []
   },
   "source": [
    "### Choosing Data\n",
    "\n",
    "Of the datasets provided, we chose 2 to work with:\n",
    "\n",
    "* [`act_2019.csv`](./data/act_2019.csv): 2019 ACT Scores by State\n",
    "* [`sat_2019.csv`](./data/sat_2019.csv): 2019 SAT Scores by State\n",
    "\n",
    "The first is a list of (average) ACT composite scores and participation rate by state, and the second is a list of (average) total SAT scores and participation rate by state.\n",
    "\n",
    "In addition, we also examine a [list of US states by GDP](https://en.wikipedia.org/wiki/List_of_U.S._states_and_territories_by_GDP_per_capita), which provides the GDP per capita for each US state in 2019, exactly the time period we will analyse."
   ]
  },
  {
   "cell_type": "markdown",
   "metadata": {},
   "source": [
    "### Coding Challenges\n",
    "\n",
    "1. Manually calculate mean:"
   ]
  },
  {
   "cell_type": "code",
   "execution_count": 1,
   "metadata": {},
   "outputs": [],
   "source": [
    "def new_mean(n):\n",
    "    return sum(n) / len(n)"
   ]
  },
  {
   "cell_type": "markdown",
   "metadata": {},
   "source": [
    "2. Manually calculate standard deviation:"
   ]
  },
  {
   "cell_type": "code",
   "execution_count": 2,
   "metadata": {},
   "outputs": [],
   "source": [
    "def new_std(n):\n",
    "    var = sum((i - new_mean(n)) ** 2 for i in n)\n",
    "    return (1 / len(n) * var) ** 0.5"
   ]
  },
  {
   "cell_type": "markdown",
   "metadata": {},
   "source": [
    "3. Data cleaning function:\n"
   ]
  },
  {
   "cell_type": "code",
   "execution_count": 3,
   "metadata": {},
   "outputs": [],
   "source": [
    "def percent_to_dec(n):\n",
    "    x = float(n.replace(\"%\", \"\"))\n",
    "    return x / 100"
   ]
  },
  {
   "cell_type": "markdown",
   "metadata": {},
   "source": [
    "--- \n",
    "# Part 2\n",
    "\n",
    "\n",
    "---"
   ]
  },
  {
   "cell_type": "code",
   "execution_count": 4,
   "metadata": {},
   "outputs": [],
   "source": [
    "import matplotlib.pyplot as plt\n",
    "import numpy as np\n",
    "import pandas as pd\n",
    "import seaborn as sns\n",
    "from scipy.stats import normaltest, skew"
   ]
  },
  {
   "cell_type": "markdown",
   "metadata": {},
   "source": [
    "## Data Import and Cleaning\n",
    "___"
   ]
  },
  {
   "cell_type": "markdown",
   "metadata": {
    "tags": []
   },
   "source": [
    "### Data Import & Cleaning"
   ]
  },
  {
   "cell_type": "code",
   "execution_count": 5,
   "metadata": {},
   "outputs": [],
   "source": [
    "act2019 = pd.read_csv(\"../data/act_2019.csv\")\n",
    "sat2019 = pd.read_csv(\"../data/sat_2019.csv\")"
   ]
  },
  {
   "cell_type": "markdown",
   "metadata": {
    "tags": []
   },
   "source": [
    "### Cleaning `act2019` and `sat2019` datasets"
   ]
  },
  {
   "cell_type": "code",
   "execution_count": 6,
   "metadata": {},
   "outputs": [
    {
     "data": {
      "text/html": [
       "<div>\n",
       "<style scoped>\n",
       "    .dataframe tbody tr th:only-of-type {\n",
       "        vertical-align: middle;\n",
       "    }\n",
       "\n",
       "    .dataframe tbody tr th {\n",
       "        vertical-align: top;\n",
       "    }\n",
       "\n",
       "    .dataframe thead th {\n",
       "        text-align: right;\n",
       "    }\n",
       "</style>\n",
       "<table border=\"1\" class=\"dataframe\">\n",
       "  <thead>\n",
       "    <tr style=\"text-align: right;\">\n",
       "      <th></th>\n",
       "      <th>State</th>\n",
       "      <th>Participation</th>\n",
       "      <th>Composite</th>\n",
       "    </tr>\n",
       "  </thead>\n",
       "  <tbody>\n",
       "    <tr>\n",
       "      <th>0</th>\n",
       "      <td>Alabama</td>\n",
       "      <td>100%</td>\n",
       "      <td>18.9</td>\n",
       "    </tr>\n",
       "    <tr>\n",
       "      <th>1</th>\n",
       "      <td>Alaska</td>\n",
       "      <td>38%</td>\n",
       "      <td>20.1</td>\n",
       "    </tr>\n",
       "    <tr>\n",
       "      <th>2</th>\n",
       "      <td>Arizona</td>\n",
       "      <td>73%</td>\n",
       "      <td>19.0</td>\n",
       "    </tr>\n",
       "    <tr>\n",
       "      <th>3</th>\n",
       "      <td>Arkansas</td>\n",
       "      <td>100%</td>\n",
       "      <td>19.3</td>\n",
       "    </tr>\n",
       "    <tr>\n",
       "      <th>4</th>\n",
       "      <td>California</td>\n",
       "      <td>23%</td>\n",
       "      <td>22.6</td>\n",
       "    </tr>\n",
       "  </tbody>\n",
       "</table>\n",
       "</div>"
      ],
      "text/plain": [
       "        State Participation  Composite\n",
       "0     Alabama          100%       18.9\n",
       "1      Alaska           38%       20.1\n",
       "2     Arizona           73%       19.0\n",
       "3    Arkansas          100%       19.3\n",
       "4  California           23%       22.6"
      ]
     },
     "execution_count": 6,
     "metadata": {},
     "output_type": "execute_result"
    }
   ],
   "source": [
    "act2019.head()"
   ]
  },
  {
   "cell_type": "code",
   "execution_count": 7,
   "metadata": {},
   "outputs": [
    {
     "name": "stdout",
     "output_type": "stream",
     "text": [
      "<class 'pandas.core.frame.DataFrame'>\n",
      "RangeIndex: 52 entries, 0 to 51\n",
      "Data columns (total 3 columns):\n",
      " #   Column         Non-Null Count  Dtype  \n",
      "---  ------         --------------  -----  \n",
      " 0   State          52 non-null     object \n",
      " 1   Participation  52 non-null     object \n",
      " 2   Composite      52 non-null     float64\n",
      "dtypes: float64(1), object(2)\n",
      "memory usage: 1.3+ KB\n"
     ]
    }
   ],
   "source": [
    "act2019.info()"
   ]
  },
  {
   "cell_type": "markdown",
   "metadata": {},
   "source": [
    "It is fortunate that there are no null entries. The only cleaning we need is to convert the participation column to a float and the column headers into lower case. Since the 'National' row isn't in the `sat2019` dataset, we will also remove it."
   ]
  },
  {
   "cell_type": "code",
   "execution_count": 8,
   "metadata": {},
   "outputs": [
    {
     "data": {
      "text/html": [
       "<div>\n",
       "<style scoped>\n",
       "    .dataframe tbody tr th:only-of-type {\n",
       "        vertical-align: middle;\n",
       "    }\n",
       "\n",
       "    .dataframe tbody tr th {\n",
       "        vertical-align: top;\n",
       "    }\n",
       "\n",
       "    .dataframe thead th {\n",
       "        text-align: right;\n",
       "    }\n",
       "</style>\n",
       "<table border=\"1\" class=\"dataframe\">\n",
       "  <thead>\n",
       "    <tr style=\"text-align: right;\">\n",
       "      <th></th>\n",
       "      <th>state</th>\n",
       "      <th>participation</th>\n",
       "      <th>composite</th>\n",
       "    </tr>\n",
       "  </thead>\n",
       "  <tbody>\n",
       "    <tr>\n",
       "      <th>0</th>\n",
       "      <td>Alabama</td>\n",
       "      <td>1.00</td>\n",
       "      <td>18.9</td>\n",
       "    </tr>\n",
       "    <tr>\n",
       "      <th>1</th>\n",
       "      <td>Alaska</td>\n",
       "      <td>0.38</td>\n",
       "      <td>20.1</td>\n",
       "    </tr>\n",
       "    <tr>\n",
       "      <th>2</th>\n",
       "      <td>Arizona</td>\n",
       "      <td>0.73</td>\n",
       "      <td>19.0</td>\n",
       "    </tr>\n",
       "    <tr>\n",
       "      <th>3</th>\n",
       "      <td>Arkansas</td>\n",
       "      <td>1.00</td>\n",
       "      <td>19.3</td>\n",
       "    </tr>\n",
       "    <tr>\n",
       "      <th>4</th>\n",
       "      <td>California</td>\n",
       "      <td>0.23</td>\n",
       "      <td>22.6</td>\n",
       "    </tr>\n",
       "  </tbody>\n",
       "</table>\n",
       "</div>"
      ],
      "text/plain": [
       "        state  participation  composite\n",
       "0     Alabama           1.00       18.9\n",
       "1      Alaska           0.38       20.1\n",
       "2     Arizona           0.73       19.0\n",
       "3    Arkansas           1.00       19.3\n",
       "4  California           0.23       22.6"
      ]
     },
     "execution_count": 8,
     "metadata": {},
     "output_type": "execute_result"
    }
   ],
   "source": [
    "act2019_clean = act2019.rename(str.lower, axis=1)\n",
    "act2019_clean = act2019_clean[act2019_clean[\"state\"] != \"National\"]\n",
    "act2019_clean[\"participation\"] = act2019_clean[\"participation\"].map(percent_to_dec)\n",
    "act2019_clean.head()"
   ]
  },
  {
   "cell_type": "markdown",
   "metadata": {},
   "source": [
    "We can perform the same cleaning steps for the `sat2019` dataset."
   ]
  },
  {
   "cell_type": "code",
   "execution_count": 9,
   "metadata": {},
   "outputs": [
    {
     "data": {
      "text/html": [
       "<div>\n",
       "<style scoped>\n",
       "    .dataframe tbody tr th:only-of-type {\n",
       "        vertical-align: middle;\n",
       "    }\n",
       "\n",
       "    .dataframe tbody tr th {\n",
       "        vertical-align: top;\n",
       "    }\n",
       "\n",
       "    .dataframe thead th {\n",
       "        text-align: right;\n",
       "    }\n",
       "</style>\n",
       "<table border=\"1\" class=\"dataframe\">\n",
       "  <thead>\n",
       "    <tr style=\"text-align: right;\">\n",
       "      <th></th>\n",
       "      <th>State</th>\n",
       "      <th>Participation Rate</th>\n",
       "      <th>EBRW</th>\n",
       "      <th>Math</th>\n",
       "      <th>Total</th>\n",
       "    </tr>\n",
       "  </thead>\n",
       "  <tbody>\n",
       "    <tr>\n",
       "      <th>0</th>\n",
       "      <td>Alabama</td>\n",
       "      <td>7%</td>\n",
       "      <td>583</td>\n",
       "      <td>560</td>\n",
       "      <td>1143</td>\n",
       "    </tr>\n",
       "    <tr>\n",
       "      <th>1</th>\n",
       "      <td>Alaska</td>\n",
       "      <td>41%</td>\n",
       "      <td>556</td>\n",
       "      <td>541</td>\n",
       "      <td>1097</td>\n",
       "    </tr>\n",
       "    <tr>\n",
       "      <th>2</th>\n",
       "      <td>Arizona</td>\n",
       "      <td>31%</td>\n",
       "      <td>569</td>\n",
       "      <td>565</td>\n",
       "      <td>1134</td>\n",
       "    </tr>\n",
       "    <tr>\n",
       "      <th>3</th>\n",
       "      <td>Arkansas</td>\n",
       "      <td>6%</td>\n",
       "      <td>582</td>\n",
       "      <td>559</td>\n",
       "      <td>1141</td>\n",
       "    </tr>\n",
       "    <tr>\n",
       "      <th>4</th>\n",
       "      <td>California</td>\n",
       "      <td>63%</td>\n",
       "      <td>534</td>\n",
       "      <td>531</td>\n",
       "      <td>1065</td>\n",
       "    </tr>\n",
       "  </tbody>\n",
       "</table>\n",
       "</div>"
      ],
      "text/plain": [
       "        State Participation Rate  EBRW  Math  Total\n",
       "0     Alabama                 7%   583   560   1143\n",
       "1      Alaska                41%   556   541   1097\n",
       "2     Arizona                31%   569   565   1134\n",
       "3    Arkansas                 6%   582   559   1141\n",
       "4  California                63%   534   531   1065"
      ]
     },
     "execution_count": 9,
     "metadata": {},
     "output_type": "execute_result"
    }
   ],
   "source": [
    "sat2019.head()"
   ]
  },
  {
   "cell_type": "code",
   "execution_count": 10,
   "metadata": {},
   "outputs": [
    {
     "name": "stdout",
     "output_type": "stream",
     "text": [
      "<class 'pandas.core.frame.DataFrame'>\n",
      "RangeIndex: 53 entries, 0 to 52\n",
      "Data columns (total 5 columns):\n",
      " #   Column              Non-Null Count  Dtype \n",
      "---  ------              --------------  ----- \n",
      " 0   State               53 non-null     object\n",
      " 1   Participation Rate  53 non-null     object\n",
      " 2   EBRW                53 non-null     int64 \n",
      " 3   Math                53 non-null     int64 \n",
      " 4   Total               53 non-null     int64 \n",
      "dtypes: int64(3), object(2)\n",
      "memory usage: 2.2+ KB\n"
     ]
    }
   ],
   "source": [
    "sat2019.info()"
   ]
  },
  {
   "cell_type": "markdown",
   "metadata": {},
   "source": [
    "Again, there are no null entries. However, there are two additional states, Puerto Rico and Virgin Islands (with participation rate `-`), that were added in this dataset. But since they are not in the `act2019` dataset, we will drop them from our data."
   ]
  },
  {
   "cell_type": "code",
   "execution_count": 11,
   "metadata": {},
   "outputs": [],
   "source": [
    "sat2019_clean = sat2019.rename(str.lower, axis=1)\n",
    "sat2019_clean = sat2019_clean[sat2019_clean[\"participation rate\"] != \"—\"]"
   ]
  },
  {
   "cell_type": "code",
   "execution_count": 12,
   "metadata": {},
   "outputs": [
    {
     "data": {
      "text/html": [
       "<div>\n",
       "<style scoped>\n",
       "    .dataframe tbody tr th:only-of-type {\n",
       "        vertical-align: middle;\n",
       "    }\n",
       "\n",
       "    .dataframe tbody tr th {\n",
       "        vertical-align: top;\n",
       "    }\n",
       "\n",
       "    .dataframe thead th {\n",
       "        text-align: right;\n",
       "    }\n",
       "</style>\n",
       "<table border=\"1\" class=\"dataframe\">\n",
       "  <thead>\n",
       "    <tr style=\"text-align: right;\">\n",
       "      <th></th>\n",
       "      <th>state</th>\n",
       "      <th>participation rate</th>\n",
       "      <th>ebrw</th>\n",
       "      <th>math</th>\n",
       "      <th>total</th>\n",
       "    </tr>\n",
       "  </thead>\n",
       "  <tbody>\n",
       "    <tr>\n",
       "      <th>0</th>\n",
       "      <td>Alabama</td>\n",
       "      <td>0.07</td>\n",
       "      <td>583</td>\n",
       "      <td>560</td>\n",
       "      <td>1143</td>\n",
       "    </tr>\n",
       "    <tr>\n",
       "      <th>1</th>\n",
       "      <td>Alaska</td>\n",
       "      <td>0.41</td>\n",
       "      <td>556</td>\n",
       "      <td>541</td>\n",
       "      <td>1097</td>\n",
       "    </tr>\n",
       "    <tr>\n",
       "      <th>2</th>\n",
       "      <td>Arizona</td>\n",
       "      <td>0.31</td>\n",
       "      <td>569</td>\n",
       "      <td>565</td>\n",
       "      <td>1134</td>\n",
       "    </tr>\n",
       "    <tr>\n",
       "      <th>3</th>\n",
       "      <td>Arkansas</td>\n",
       "      <td>0.06</td>\n",
       "      <td>582</td>\n",
       "      <td>559</td>\n",
       "      <td>1141</td>\n",
       "    </tr>\n",
       "    <tr>\n",
       "      <th>4</th>\n",
       "      <td>California</td>\n",
       "      <td>0.63</td>\n",
       "      <td>534</td>\n",
       "      <td>531</td>\n",
       "      <td>1065</td>\n",
       "    </tr>\n",
       "  </tbody>\n",
       "</table>\n",
       "</div>"
      ],
      "text/plain": [
       "        state  participation rate  ebrw  math  total\n",
       "0     Alabama                0.07   583   560   1143\n",
       "1      Alaska                0.41   556   541   1097\n",
       "2     Arizona                0.31   569   565   1134\n",
       "3    Arkansas                0.06   582   559   1141\n",
       "4  California                0.63   534   531   1065"
      ]
     },
     "execution_count": 12,
     "metadata": {},
     "output_type": "execute_result"
    }
   ],
   "source": [
    "sat2019_clean[\"participation rate\"] = sat2019_clean[\"participation rate\"].map(\n",
    "    percent_to_dec\n",
    ")\n",
    "sat2019_clean.head()"
   ]
  },
  {
   "cell_type": "code",
   "execution_count": 13,
   "metadata": {},
   "outputs": [
    {
     "name": "stdout",
     "output_type": "stream",
     "text": [
      "<class 'pandas.core.frame.DataFrame'>\n",
      "Int64Index: 51 entries, 0 to 52\n",
      "Data columns (total 5 columns):\n",
      " #   Column              Non-Null Count  Dtype  \n",
      "---  ------              --------------  -----  \n",
      " 0   state               51 non-null     object \n",
      " 1   participation rate  51 non-null     float64\n",
      " 2   ebrw                51 non-null     int64  \n",
      " 3   math                51 non-null     int64  \n",
      " 4   total               51 non-null     int64  \n",
      "dtypes: float64(1), int64(3), object(1)\n",
      "memory usage: 2.4+ KB\n"
     ]
    }
   ],
   "source": [
    "sat2019_clean.info()"
   ]
  },
  {
   "cell_type": "markdown",
   "metadata": {},
   "source": [
    "By observing the information from both datasets, they are primed and ready to be compared. Let's save them into csv files."
   ]
  },
  {
   "cell_type": "code",
   "execution_count": 14,
   "metadata": {},
   "outputs": [],
   "source": [
    "act2019_clean.to_csv(\"../data/act2019_clean.csv\")\n",
    "sat2019_clean.to_csv(\"../data/sat2019_clean.csv\")"
   ]
  },
  {
   "cell_type": "markdown",
   "metadata": {},
   "source": [
    "### Cleaning additional dataset\n",
    "\n",
    "To obtain the economic status of US states, we can examine a table from the [list of US states by GDP](https://en.wikipedia.org/wiki/List_of_U.S._states_and_territories_by_GDP_per_capita)."
   ]
  },
  {
   "cell_type": "markdown",
   "metadata": {},
   "source": [
    "list of undone stuff:\n",
    "- save to new `.csv`\n",
    "- decide which stat is more important"
   ]
  },
  {
   "cell_type": "code",
   "execution_count": 15,
   "metadata": {
    "tags": []
   },
   "outputs": [
    {
     "data": {
      "text/html": [
       "<div>\n",
       "<style scoped>\n",
       "    .dataframe tbody tr th:only-of-type {\n",
       "        vertical-align: middle;\n",
       "    }\n",
       "\n",
       "    .dataframe tbody tr th {\n",
       "        vertical-align: top;\n",
       "    }\n",
       "\n",
       "    .dataframe thead th {\n",
       "        text-align: right;\n",
       "    }\n",
       "</style>\n",
       "<table border=\"1\" class=\"dataframe\">\n",
       "  <thead>\n",
       "    <tr style=\"text-align: right;\">\n",
       "      <th></th>\n",
       "      <th>Nationalrank</th>\n",
       "      <th>Globalrank</th>\n",
       "      <th>State or territory</th>\n",
       "      <th>2019</th>\n",
       "    </tr>\n",
       "  </thead>\n",
       "  <tbody>\n",
       "    <tr>\n",
       "      <th>0</th>\n",
       "      <td>1</td>\n",
       "      <td>1</td>\n",
       "      <td>District of Columbia</td>\n",
       "      <td>200,277</td>\n",
       "    </tr>\n",
       "    <tr>\n",
       "      <th>1</th>\n",
       "      <td>2</td>\n",
       "      <td>2</td>\n",
       "      <td>New York</td>\n",
       "      <td>90,043</td>\n",
       "    </tr>\n",
       "    <tr>\n",
       "      <th>2</th>\n",
       "      <td>3</td>\n",
       "      <td>2</td>\n",
       "      <td>Massachusetts</td>\n",
       "      <td>86,942</td>\n",
       "    </tr>\n",
       "    <tr>\n",
       "      <th>3</th>\n",
       "      <td>4</td>\n",
       "      <td>3</td>\n",
       "      <td>Connecticut</td>\n",
       "      <td>81,055</td>\n",
       "    </tr>\n",
       "    <tr>\n",
       "      <th>4</th>\n",
       "      <td>5</td>\n",
       "      <td>3</td>\n",
       "      <td>California</td>\n",
       "      <td>80,563</td>\n",
       "    </tr>\n",
       "  </tbody>\n",
       "</table>\n",
       "</div>"
      ],
      "text/plain": [
       "  Nationalrank Globalrank    State or territory     2019\n",
       "0            1          1  District of Columbia  200,277\n",
       "1            2          2              New York   90,043\n",
       "2            3          2         Massachusetts   86,942\n",
       "3            4          3           Connecticut   81,055\n",
       "4            5          3            California   80,563"
      ]
     },
     "execution_count": 15,
     "metadata": {},
     "output_type": "execute_result"
    }
   ],
   "source": [
    "states_gdp = pd.read_csv(\"../data/states_gdp.csv\")\n",
    "states_gdp.head()"
   ]
  },
  {
   "cell_type": "markdown",
   "metadata": {},
   "source": [
    "We need to convert the variables to lower case, and drop unnecessary columns. The entries are also in object type, and need to be converted to floats. Furthermore, there are 57 rows where there should be 51 - these are the additional territories and the national average that we are not considering (with `globalrank` or `nationalrank` as '-'). We will remove them too."
   ]
  },
  {
   "cell_type": "code",
   "execution_count": 16,
   "metadata": {},
   "outputs": [],
   "source": [
    "# delete unnecessary columns/rows\n",
    "\n",
    "states_gdp_clean = states_gdp.rename(str.lower, axis=1)\n",
    "states_gdp_clean.rename({\"state or territory\": \"state\"}, axis=1, inplace=True)\n",
    "states_gdp_clean = states_gdp_clean[\n",
    "    (states_gdp_clean[\"globalrank\"] != \"—\") & (states_gdp_clean[\"nationalrank\"] != \"—\")\n",
    "]\n",
    "states_gdp_clean = states_gdp_clean[[\"state\", \"2019\"]]"
   ]
  },
  {
   "cell_type": "code",
   "execution_count": 17,
   "metadata": {},
   "outputs": [
    {
     "data": {
      "text/html": [
       "<div>\n",
       "<style scoped>\n",
       "    .dataframe tbody tr th:only-of-type {\n",
       "        vertical-align: middle;\n",
       "    }\n",
       "\n",
       "    .dataframe tbody tr th {\n",
       "        vertical-align: top;\n",
       "    }\n",
       "\n",
       "    .dataframe thead th {\n",
       "        text-align: right;\n",
       "    }\n",
       "</style>\n",
       "<table border=\"1\" class=\"dataframe\">\n",
       "  <thead>\n",
       "    <tr style=\"text-align: right;\">\n",
       "      <th></th>\n",
       "      <th>state</th>\n",
       "      <th>2019</th>\n",
       "    </tr>\n",
       "  </thead>\n",
       "  <tbody>\n",
       "    <tr>\n",
       "      <th>0</th>\n",
       "      <td>District of Columbia</td>\n",
       "      <td>200277.0</td>\n",
       "    </tr>\n",
       "    <tr>\n",
       "      <th>1</th>\n",
       "      <td>New York</td>\n",
       "      <td>90043.0</td>\n",
       "    </tr>\n",
       "    <tr>\n",
       "      <th>2</th>\n",
       "      <td>Massachusetts</td>\n",
       "      <td>86942.0</td>\n",
       "    </tr>\n",
       "    <tr>\n",
       "      <th>3</th>\n",
       "      <td>Connecticut</td>\n",
       "      <td>81055.0</td>\n",
       "    </tr>\n",
       "    <tr>\n",
       "      <th>4</th>\n",
       "      <td>California</td>\n",
       "      <td>80563.0</td>\n",
       "    </tr>\n",
       "  </tbody>\n",
       "</table>\n",
       "</div>"
      ],
      "text/plain": [
       "                  state      2019\n",
       "0  District of Columbia  200277.0\n",
       "1              New York   90043.0\n",
       "2         Massachusetts   86942.0\n",
       "3           Connecticut   81055.0\n",
       "4            California   80563.0"
      ]
     },
     "execution_count": 17,
     "metadata": {},
     "output_type": "execute_result"
    }
   ],
   "source": [
    "# change dtype\n",
    "\n",
    "states_gdp_clean[\"2019\"] = (\n",
    "    states_gdp_clean[\"2019\"].str.split(\",\").str.join(\"\").astype(float)\n",
    ")\n",
    "states_gdp_clean.head()"
   ]
  },
  {
   "cell_type": "code",
   "execution_count": 18,
   "metadata": {},
   "outputs": [
    {
     "name": "stdout",
     "output_type": "stream",
     "text": [
      "<class 'pandas.core.frame.DataFrame'>\n",
      "Int64Index: 51 entries, 0 to 51\n",
      "Data columns (total 2 columns):\n",
      " #   Column  Non-Null Count  Dtype  \n",
      "---  ------  --------------  -----  \n",
      " 0   state   51 non-null     object \n",
      " 1   2019    51 non-null     float64\n",
      "dtypes: float64(1), object(1)\n",
      "memory usage: 1.2+ KB\n"
     ]
    }
   ],
   "source": [
    "states_gdp_clean.info()"
   ]
  },
  {
   "cell_type": "markdown",
   "metadata": {},
   "source": [
    "As we can see from the information of this new variable, the data is in order and is ready for use. We will save it in a new csv file."
   ]
  },
  {
   "cell_type": "code",
   "execution_count": 19,
   "metadata": {},
   "outputs": [],
   "source": [
    "states_gdp_clean.to_csv(\"../data/states_gdp_clean.csv\")"
   ]
  },
  {
   "cell_type": "markdown",
   "metadata": {},
   "source": [
    "### Merging the useful datasets"
   ]
  },
  {
   "cell_type": "markdown",
   "metadata": {},
   "source": [
    "Lastly, we should merge the relevant data into one dataframe for easier reference. We will combine the ACT/SAT scores and participation rates, and GDP into one table."
   ]
  },
  {
   "cell_type": "code",
   "execution_count": 20,
   "metadata": {},
   "outputs": [
    {
     "data": {
      "text/html": [
       "<div>\n",
       "<style scoped>\n",
       "    .dataframe tbody tr th:only-of-type {\n",
       "        vertical-align: middle;\n",
       "    }\n",
       "\n",
       "    .dataframe tbody tr th {\n",
       "        vertical-align: top;\n",
       "    }\n",
       "\n",
       "    .dataframe thead th {\n",
       "        text-align: right;\n",
       "    }\n",
       "</style>\n",
       "<table border=\"1\" class=\"dataframe\">\n",
       "  <thead>\n",
       "    <tr style=\"text-align: right;\">\n",
       "      <th></th>\n",
       "      <th>state</th>\n",
       "      <th>act</th>\n",
       "      <th>act_part_rate</th>\n",
       "      <th>sat</th>\n",
       "      <th>sat_part_rate</th>\n",
       "      <th>gdp_per_capita</th>\n",
       "    </tr>\n",
       "  </thead>\n",
       "  <tbody>\n",
       "    <tr>\n",
       "      <th>0</th>\n",
       "      <td>Alabama</td>\n",
       "      <td>18.9</td>\n",
       "      <td>1.00</td>\n",
       "      <td>1143</td>\n",
       "      <td>0.07</td>\n",
       "      <td>47735.0</td>\n",
       "    </tr>\n",
       "    <tr>\n",
       "      <th>1</th>\n",
       "      <td>Alaska</td>\n",
       "      <td>20.1</td>\n",
       "      <td>0.38</td>\n",
       "      <td>1097</td>\n",
       "      <td>0.41</td>\n",
       "      <td>76220.0</td>\n",
       "    </tr>\n",
       "    <tr>\n",
       "      <th>2</th>\n",
       "      <td>Arizona</td>\n",
       "      <td>19.0</td>\n",
       "      <td>0.73</td>\n",
       "      <td>1134</td>\n",
       "      <td>0.31</td>\n",
       "      <td>51179.0</td>\n",
       "    </tr>\n",
       "    <tr>\n",
       "      <th>3</th>\n",
       "      <td>Arkansas</td>\n",
       "      <td>19.3</td>\n",
       "      <td>1.00</td>\n",
       "      <td>1141</td>\n",
       "      <td>0.06</td>\n",
       "      <td>44808.0</td>\n",
       "    </tr>\n",
       "    <tr>\n",
       "      <th>4</th>\n",
       "      <td>California</td>\n",
       "      <td>22.6</td>\n",
       "      <td>0.23</td>\n",
       "      <td>1065</td>\n",
       "      <td>0.63</td>\n",
       "      <td>80563.0</td>\n",
       "    </tr>\n",
       "  </tbody>\n",
       "</table>\n",
       "</div>"
      ],
      "text/plain": [
       "        state   act  act_part_rate   sat  sat_part_rate  gdp_per_capita\n",
       "0     Alabama  18.9           1.00  1143           0.07         47735.0\n",
       "1      Alaska  20.1           0.38  1097           0.41         76220.0\n",
       "2     Arizona  19.0           0.73  1134           0.31         51179.0\n",
       "3    Arkansas  19.3           1.00  1141           0.06         44808.0\n",
       "4  California  22.6           0.23  1065           0.63         80563.0"
      ]
     },
     "execution_count": 20,
     "metadata": {},
     "output_type": "execute_result"
    }
   ],
   "source": [
    "scores_gdp = pd.merge(\n",
    "    act2019_clean[[\"state\", \"composite\", \"participation\"]],\n",
    "    sat2019_clean[[\"state\", \"total\", \"participation rate\"]],\n",
    "    on=\"state\",\n",
    ")\n",
    "scores_gdp = pd.merge(scores_gdp, states_gdp_clean[[\"state\", \"2019\"]], on=\"state\")\n",
    "scores_gdp.rename(\n",
    "    {\n",
    "        \"composite\": \"act\",\n",
    "        \"participation\": \"act_part_rate\",\n",
    "        \"total\": \"sat\",\n",
    "        \"participation rate\": \"sat_part_rate\",\n",
    "        \"2019\": \"gdp_per_capita\",\n",
    "    },\n",
    "    axis=1,\n",
    "    inplace=True,\n",
    ")\n",
    "scores_gdp.head()"
   ]
  },
  {
   "cell_type": "markdown",
   "metadata": {},
   "source": [
    "For easier plotting later, we will add an additional column beside `state` that has the abbreviations of the state names."
   ]
  },
  {
   "cell_type": "code",
   "execution_count": 21,
   "metadata": {},
   "outputs": [
    {
     "data": {
      "text/html": [
       "<div>\n",
       "<style scoped>\n",
       "    .dataframe tbody tr th:only-of-type {\n",
       "        vertical-align: middle;\n",
       "    }\n",
       "\n",
       "    .dataframe tbody tr th {\n",
       "        vertical-align: top;\n",
       "    }\n",
       "\n",
       "    .dataframe thead th {\n",
       "        text-align: right;\n",
       "    }\n",
       "</style>\n",
       "<table border=\"1\" class=\"dataframe\">\n",
       "  <thead>\n",
       "    <tr style=\"text-align: right;\">\n",
       "      <th></th>\n",
       "      <th>state</th>\n",
       "      <th>state_abbr</th>\n",
       "      <th>act</th>\n",
       "      <th>act_part_rate</th>\n",
       "      <th>sat</th>\n",
       "      <th>sat_part_rate</th>\n",
       "      <th>gdp_per_capita</th>\n",
       "    </tr>\n",
       "  </thead>\n",
       "  <tbody>\n",
       "    <tr>\n",
       "      <th>0</th>\n",
       "      <td>Alabama</td>\n",
       "      <td>AL</td>\n",
       "      <td>18.9</td>\n",
       "      <td>1.00</td>\n",
       "      <td>1143</td>\n",
       "      <td>0.07</td>\n",
       "      <td>47735.0</td>\n",
       "    </tr>\n",
       "    <tr>\n",
       "      <th>1</th>\n",
       "      <td>Alaska</td>\n",
       "      <td>AK</td>\n",
       "      <td>20.1</td>\n",
       "      <td>0.38</td>\n",
       "      <td>1097</td>\n",
       "      <td>0.41</td>\n",
       "      <td>76220.0</td>\n",
       "    </tr>\n",
       "    <tr>\n",
       "      <th>2</th>\n",
       "      <td>Arizona</td>\n",
       "      <td>AZ</td>\n",
       "      <td>19.0</td>\n",
       "      <td>0.73</td>\n",
       "      <td>1134</td>\n",
       "      <td>0.31</td>\n",
       "      <td>51179.0</td>\n",
       "    </tr>\n",
       "    <tr>\n",
       "      <th>3</th>\n",
       "      <td>Arkansas</td>\n",
       "      <td>AR</td>\n",
       "      <td>19.3</td>\n",
       "      <td>1.00</td>\n",
       "      <td>1141</td>\n",
       "      <td>0.06</td>\n",
       "      <td>44808.0</td>\n",
       "    </tr>\n",
       "    <tr>\n",
       "      <th>4</th>\n",
       "      <td>California</td>\n",
       "      <td>CA</td>\n",
       "      <td>22.6</td>\n",
       "      <td>0.23</td>\n",
       "      <td>1065</td>\n",
       "      <td>0.63</td>\n",
       "      <td>80563.0</td>\n",
       "    </tr>\n",
       "  </tbody>\n",
       "</table>\n",
       "</div>"
      ],
      "text/plain": [
       "        state state_abbr   act  act_part_rate   sat  sat_part_rate  \\\n",
       "0     Alabama         AL  18.9           1.00  1143           0.07   \n",
       "1      Alaska         AK  20.1           0.38  1097           0.41   \n",
       "2     Arizona         AZ  19.0           0.73  1134           0.31   \n",
       "3    Arkansas         AR  19.3           1.00  1141           0.06   \n",
       "4  California         CA  22.6           0.23  1065           0.63   \n",
       "\n",
       "   gdp_per_capita  \n",
       "0         47735.0  \n",
       "1         76220.0  \n",
       "2         51179.0  \n",
       "3         44808.0  \n",
       "4         80563.0  "
      ]
     },
     "execution_count": 21,
     "metadata": {},
     "output_type": "execute_result"
    }
   ],
   "source": [
    "us_state_to_abbrev = {\n",
    "    \"Alabama\": \"AL\",\n",
    "    \"Alaska\": \"AK\",\n",
    "    \"Arizona\": \"AZ\",\n",
    "    \"Arkansas\": \"AR\",\n",
    "    \"California\": \"CA\",\n",
    "    \"Colorado\": \"CO\",\n",
    "    \"Connecticut\": \"CT\",\n",
    "    \"District of Columbia\": \"DC\",\n",
    "    \"Delaware\": \"DE\",\n",
    "    \"Florida\": \"FL\",\n",
    "    \"Georgia\": \"GA\",\n",
    "    \"Hawaii\": \"HI\",\n",
    "    \"Idaho\": \"ID\",\n",
    "    \"Illinois\": \"IL\",\n",
    "    \"Indiana\": \"IN\",\n",
    "    \"Iowa\": \"IA\",\n",
    "    \"Kansas\": \"KS\",\n",
    "    \"Kentucky\": \"KY\",\n",
    "    \"Louisiana\": \"LA\",\n",
    "    \"Maine\": \"ME\",\n",
    "    \"Maryland\": \"MD\",\n",
    "    \"Massachusetts\": \"MA\",\n",
    "    \"Michigan\": \"MI\",\n",
    "    \"Minnesota\": \"MN\",\n",
    "    \"Mississippi\": \"MS\",\n",
    "    \"Missouri\": \"MO\",\n",
    "    \"Montana\": \"MT\",\n",
    "    \"Nebraska\": \"NE\",\n",
    "    \"Nevada\": \"NV\",\n",
    "    \"New Hampshire\": \"NH\",\n",
    "    \"New Jersey\": \"NJ\",\n",
    "    \"New Mexico\": \"NM\",\n",
    "    \"New York\": \"NY\",\n",
    "    \"North Carolina\": \"NC\",\n",
    "    \"North Dakota\": \"ND\",\n",
    "    \"Ohio\": \"OH\",\n",
    "    \"Oklahoma\": \"OK\",\n",
    "    \"Oregon\": \"OR\",\n",
    "    \"Pennsylvania\": \"PA\",\n",
    "    \"Rhode Island\": \"RI\",\n",
    "    \"South Carolina\": \"SC\",\n",
    "    \"South Dakota\": \"SD\",\n",
    "    \"Tennessee\": \"TN\",\n",
    "    \"Texas\": \"TX\",\n",
    "    \"Utah\": \"UT\",\n",
    "    \"Vermont\": \"VT\",\n",
    "    \"Virginia\": \"VA\",\n",
    "    \"Washington\": \"WA\",\n",
    "    \"West Virginia\": \"WV\",\n",
    "    \"Wisconsin\": \"WI\",\n",
    "    \"Wyoming\": \"WY\",\n",
    "}\n",
    "\n",
    "scores_gdp[\"state_abbr\"] = scores_gdp[\"state\"].map(us_state_to_abbrev)\n",
    "cols = list(scores_gdp.columns.values)\n",
    "scores_gdp = scores_gdp[\n",
    "    [cols[0]] + [cols[-1]] + cols[1:6]\n",
    "]  # reordering state_abbr column to be at the front\n",
    "scores_gdp.head()"
   ]
  },
  {
   "cell_type": "markdown",
   "metadata": {},
   "source": [
    "We can do a final check of our dataframe, and everything is in order - the types, the columns, and no null values. The data is ready to be processed."
   ]
  },
  {
   "cell_type": "code",
   "execution_count": 22,
   "metadata": {},
   "outputs": [
    {
     "name": "stdout",
     "output_type": "stream",
     "text": [
      "<class 'pandas.core.frame.DataFrame'>\n",
      "Int64Index: 51 entries, 0 to 50\n",
      "Data columns (total 7 columns):\n",
      " #   Column          Non-Null Count  Dtype  \n",
      "---  ------          --------------  -----  \n",
      " 0   state           51 non-null     object \n",
      " 1   state_abbr      51 non-null     object \n",
      " 2   act             51 non-null     float64\n",
      " 3   act_part_rate   51 non-null     float64\n",
      " 4   sat             51 non-null     int64  \n",
      " 5   sat_part_rate   51 non-null     float64\n",
      " 6   gdp_per_capita  51 non-null     float64\n",
      "dtypes: float64(4), int64(1), object(2)\n",
      "memory usage: 3.2+ KB\n"
     ]
    }
   ],
   "source": [
    "scores_gdp.info()"
   ]
  },
  {
   "cell_type": "markdown",
   "metadata": {},
   "source": [
    "### Data Dictionary\n",
    "\n",
    "| Feature        | Type   | Dataset   | Description                                                                       |\n",
    "| ---            | ---    | ---       | ---                                                                               |\n",
    "| state          | object | act_2019  | The names of the 52 states in the US (not including territories and dependencies) |\n",
    "| state_abbr     | object | -         | The abbreviated names of the states for easier plotting                           |\n",
    "| act            | float  | act_2019  | average ACT composite score by state                                              |\n",
    "| act_part_rate  | float  | act_2019  | ACT participation rate by state                                                   |\n",
    "| sat            | int    | sat_2019  | average SAT composite score by state                                              |\n",
    "| sat_part_rate  | float  | sat_2019  | SAT participation rate by state                                                   |\n",
    "| gdp_per_capita | float  | state_gdp | The GDP per capita of each US state in 2019, taken from wikipedia                 |"
   ]
  },
  {
   "cell_type": "markdown",
   "metadata": {},
   "source": [
    "## Exploratory Data Analysis\n",
    "___"
   ]
  },
  {
   "cell_type": "markdown",
   "metadata": {},
   "source": [
    "It would be prudent to first take a look at the high-level statistics. From this, a few important information stand out:\n",
    "- the mean ACT score is 21, SAT is 1113, and GDP is about $64,000.\n",
    "- the standard deviation of the GDP is relatively huge across states, while not for the SAT and ACT scores"
   ]
  },
  {
   "cell_type": "code",
   "execution_count": 23,
   "metadata": {},
   "outputs": [
    {
     "data": {
      "text/html": [
       "<div>\n",
       "<style scoped>\n",
       "    .dataframe tbody tr th:only-of-type {\n",
       "        vertical-align: middle;\n",
       "    }\n",
       "\n",
       "    .dataframe tbody tr th {\n",
       "        vertical-align: top;\n",
       "    }\n",
       "\n",
       "    .dataframe thead th {\n",
       "        text-align: right;\n",
       "    }\n",
       "</style>\n",
       "<table border=\"1\" class=\"dataframe\">\n",
       "  <thead>\n",
       "    <tr style=\"text-align: right;\">\n",
       "      <th></th>\n",
       "      <th>act</th>\n",
       "      <th>act_part_rate</th>\n",
       "      <th>sat</th>\n",
       "      <th>sat_part_rate</th>\n",
       "      <th>gdp_per_capita</th>\n",
       "    </tr>\n",
       "  </thead>\n",
       "  <tbody>\n",
       "    <tr>\n",
       "      <th>count</th>\n",
       "      <td>51.000</td>\n",
       "      <td>51.000</td>\n",
       "      <td>51.000</td>\n",
       "      <td>51.000</td>\n",
       "      <td>51.000</td>\n",
       "    </tr>\n",
       "    <tr>\n",
       "      <th>mean</th>\n",
       "      <td>21.465</td>\n",
       "      <td>0.587</td>\n",
       "      <td>1113.078</td>\n",
       "      <td>0.491</td>\n",
       "      <td>64394.412</td>\n",
       "    </tr>\n",
       "    <tr>\n",
       "      <th>std</th>\n",
       "      <td>2.195</td>\n",
       "      <td>0.345</td>\n",
       "      <td>97.198</td>\n",
       "      <td>0.387</td>\n",
       "      <td>22616.341</td>\n",
       "    </tr>\n",
       "    <tr>\n",
       "      <th>min</th>\n",
       "      <td>17.900</td>\n",
       "      <td>0.060</td>\n",
       "      <td>943.000</td>\n",
       "      <td>0.020</td>\n",
       "      <td>40464.000</td>\n",
       "    </tr>\n",
       "    <tr>\n",
       "      <th>25%</th>\n",
       "      <td>19.800</td>\n",
       "      <td>0.245</td>\n",
       "      <td>1038.000</td>\n",
       "      <td>0.055</td>\n",
       "      <td>52077.000</td>\n",
       "    </tr>\n",
       "    <tr>\n",
       "      <th>50%</th>\n",
       "      <td>21.100</td>\n",
       "      <td>0.540</td>\n",
       "      <td>1097.000</td>\n",
       "      <td>0.540</td>\n",
       "      <td>60464.000</td>\n",
       "    </tr>\n",
       "    <tr>\n",
       "      <th>75%</th>\n",
       "      <td>23.700</td>\n",
       "      <td>1.000</td>\n",
       "      <td>1210.000</td>\n",
       "      <td>0.820</td>\n",
       "      <td>69210.500</td>\n",
       "    </tr>\n",
       "    <tr>\n",
       "      <th>max</th>\n",
       "      <td>25.500</td>\n",
       "      <td>1.000</td>\n",
       "      <td>1284.000</td>\n",
       "      <td>1.000</td>\n",
       "      <td>200277.000</td>\n",
       "    </tr>\n",
       "  </tbody>\n",
       "</table>\n",
       "</div>"
      ],
      "text/plain": [
       "          act  act_part_rate       sat  sat_part_rate  gdp_per_capita\n",
       "count  51.000         51.000    51.000         51.000          51.000\n",
       "mean   21.465          0.587  1113.078          0.491       64394.412\n",
       "std     2.195          0.345    97.198          0.387       22616.341\n",
       "min    17.900          0.060   943.000          0.020       40464.000\n",
       "25%    19.800          0.245  1038.000          0.055       52077.000\n",
       "50%    21.100          0.540  1097.000          0.540       60464.000\n",
       "75%    23.700          1.000  1210.000          0.820       69210.500\n",
       "max    25.500          1.000  1284.000          1.000      200277.000"
      ]
     },
     "execution_count": 23,
     "metadata": {},
     "output_type": "execute_result"
    }
   ],
   "source": [
    "scores_gdp.describe().round(3)"
   ]
  },
  {
   "cell_type": "markdown",
   "metadata": {},
   "source": [
    "From the high-level statistics, a few salient points can be observed:\n",
    "- the participation rates for both tests have a large spread, as evidenced by the standard deviations being almost the same as the mean\n",
    "- the ACT participation rate is smaller than the SAT one\n",
    "- the test scores have relatively small standard deviations\n",
    "\n",
    "Another point to note is that the mean of the SAT participation rate is almost 10% less than the ACT, a relationship that will be explored [later](#Participation-rates-for-both-tests)."
   ]
  },
  {
   "cell_type": "code",
   "execution_count": 24,
   "metadata": {},
   "outputs": [
    {
     "data": {
      "text/plain": [
       "{'act': 2.172901153595978,\n",
       " 'act_part_rate': 0.3417582373703047,\n",
       " 'sat': 96.24027185617864,\n",
       " 'sat_part_rate': 0.3836584048685726,\n",
       " 'gdp_per_capita': 22393.51452959791}"
      ]
     },
     "execution_count": 24,
     "metadata": {},
     "output_type": "execute_result"
    }
   ],
   "source": [
    "sd = {col: new_std(scores_gdp[col]) for col in scores_gdp.columns[2:]}\n",
    "sd"
   ]
  },
  {
   "cell_type": "markdown",
   "metadata": {},
   "source": [
    "We can take a look at the scores of the richest states. With the exception of Massachusetts, the rest of the top 5 richest states have average SAT scores below the mean. On the other hand, their ACT scores ranked near or above the 75th percentile. This seems to be correlated with the participation rates of each test too."
   ]
  },
  {
   "cell_type": "code",
   "execution_count": 25,
   "metadata": {},
   "outputs": [
    {
     "data": {
      "text/html": [
       "<div>\n",
       "<style scoped>\n",
       "    .dataframe tbody tr th:only-of-type {\n",
       "        vertical-align: middle;\n",
       "    }\n",
       "\n",
       "    .dataframe tbody tr th {\n",
       "        vertical-align: top;\n",
       "    }\n",
       "\n",
       "    .dataframe thead th {\n",
       "        text-align: right;\n",
       "    }\n",
       "</style>\n",
       "<table border=\"1\" class=\"dataframe\">\n",
       "  <thead>\n",
       "    <tr style=\"text-align: right;\">\n",
       "      <th></th>\n",
       "      <th>state</th>\n",
       "      <th>state_abbr</th>\n",
       "      <th>act</th>\n",
       "      <th>act_part_rate</th>\n",
       "      <th>sat</th>\n",
       "      <th>sat_part_rate</th>\n",
       "      <th>gdp_per_capita</th>\n",
       "    </tr>\n",
       "  </thead>\n",
       "  <tbody>\n",
       "    <tr>\n",
       "      <th>8</th>\n",
       "      <td>District of Columbia</td>\n",
       "      <td>DC</td>\n",
       "      <td>23.5</td>\n",
       "      <td>0.32</td>\n",
       "      <td>975</td>\n",
       "      <td>0.94</td>\n",
       "      <td>200277.0</td>\n",
       "    </tr>\n",
       "    <tr>\n",
       "      <th>32</th>\n",
       "      <td>New York</td>\n",
       "      <td>NY</td>\n",
       "      <td>24.5</td>\n",
       "      <td>0.22</td>\n",
       "      <td>1064</td>\n",
       "      <td>0.79</td>\n",
       "      <td>90043.0</td>\n",
       "    </tr>\n",
       "    <tr>\n",
       "      <th>21</th>\n",
       "      <td>Massachusetts</td>\n",
       "      <td>MA</td>\n",
       "      <td>25.5</td>\n",
       "      <td>0.21</td>\n",
       "      <td>1120</td>\n",
       "      <td>0.81</td>\n",
       "      <td>86942.0</td>\n",
       "    </tr>\n",
       "    <tr>\n",
       "      <th>6</th>\n",
       "      <td>Connecticut</td>\n",
       "      <td>CT</td>\n",
       "      <td>25.5</td>\n",
       "      <td>0.22</td>\n",
       "      <td>1046</td>\n",
       "      <td>1.00</td>\n",
       "      <td>81055.0</td>\n",
       "    </tr>\n",
       "    <tr>\n",
       "      <th>4</th>\n",
       "      <td>California</td>\n",
       "      <td>CA</td>\n",
       "      <td>22.6</td>\n",
       "      <td>0.23</td>\n",
       "      <td>1065</td>\n",
       "      <td>0.63</td>\n",
       "      <td>80563.0</td>\n",
       "    </tr>\n",
       "  </tbody>\n",
       "</table>\n",
       "</div>"
      ],
      "text/plain": [
       "                   state state_abbr   act  act_part_rate   sat  sat_part_rate  \\\n",
       "8   District of Columbia         DC  23.5           0.32   975           0.94   \n",
       "32              New York         NY  24.5           0.22  1064           0.79   \n",
       "21         Massachusetts         MA  25.5           0.21  1120           0.81   \n",
       "6            Connecticut         CT  25.5           0.22  1046           1.00   \n",
       "4             California         CA  22.6           0.23  1065           0.63   \n",
       "\n",
       "    gdp_per_capita  \n",
       "8         200277.0  \n",
       "32         90043.0  \n",
       "21         86942.0  \n",
       "6          81055.0  \n",
       "4          80563.0  "
      ]
     },
     "execution_count": 25,
     "metadata": {},
     "output_type": "execute_result"
    }
   ],
   "source": [
    "scores_gdp.nlargest(5, \"gdp_per_capita\")"
   ]
  },
  {
   "cell_type": "markdown",
   "metadata": {},
   "source": [
    "At the other end of the spectrum, we can also examine the scores of the poorest states. At first glance, with the exception of Idaho, the scores for these states are below the mean for the ACT, the spread of the SAT scores are more varied. In both the top and bottom earners, the participation rates for the ACT seem to be inversely proportionate with that of SAT. "
   ]
  },
  {
   "cell_type": "code",
   "execution_count": 26,
   "metadata": {},
   "outputs": [
    {
     "data": {
      "text/html": [
       "<div>\n",
       "<style scoped>\n",
       "    .dataframe tbody tr th:only-of-type {\n",
       "        vertical-align: middle;\n",
       "    }\n",
       "\n",
       "    .dataframe tbody tr th {\n",
       "        vertical-align: top;\n",
       "    }\n",
       "\n",
       "    .dataframe thead th {\n",
       "        text-align: right;\n",
       "    }\n",
       "</style>\n",
       "<table border=\"1\" class=\"dataframe\">\n",
       "  <thead>\n",
       "    <tr style=\"text-align: right;\">\n",
       "      <th></th>\n",
       "      <th>state</th>\n",
       "      <th>state_abbr</th>\n",
       "      <th>act</th>\n",
       "      <th>act_part_rate</th>\n",
       "      <th>sat</th>\n",
       "      <th>sat_part_rate</th>\n",
       "      <th>gdp_per_capita</th>\n",
       "    </tr>\n",
       "  </thead>\n",
       "  <tbody>\n",
       "    <tr>\n",
       "      <th>24</th>\n",
       "      <td>Mississippi</td>\n",
       "      <td>MS</td>\n",
       "      <td>18.4</td>\n",
       "      <td>1.00</td>\n",
       "      <td>1237</td>\n",
       "      <td>0.03</td>\n",
       "      <td>40464.0</td>\n",
       "    </tr>\n",
       "    <tr>\n",
       "      <th>48</th>\n",
       "      <td>West Virginia</td>\n",
       "      <td>WV</td>\n",
       "      <td>20.8</td>\n",
       "      <td>0.49</td>\n",
       "      <td>943</td>\n",
       "      <td>0.99</td>\n",
       "      <td>43806.0</td>\n",
       "    </tr>\n",
       "    <tr>\n",
       "      <th>3</th>\n",
       "      <td>Arkansas</td>\n",
       "      <td>AR</td>\n",
       "      <td>19.3</td>\n",
       "      <td>1.00</td>\n",
       "      <td>1141</td>\n",
       "      <td>0.06</td>\n",
       "      <td>44808.0</td>\n",
       "    </tr>\n",
       "    <tr>\n",
       "      <th>12</th>\n",
       "      <td>Idaho</td>\n",
       "      <td>ID</td>\n",
       "      <td>22.5</td>\n",
       "      <td>0.31</td>\n",
       "      <td>993</td>\n",
       "      <td>1.00</td>\n",
       "      <td>46043.0</td>\n",
       "    </tr>\n",
       "    <tr>\n",
       "      <th>0</th>\n",
       "      <td>Alabama</td>\n",
       "      <td>AL</td>\n",
       "      <td>18.9</td>\n",
       "      <td>1.00</td>\n",
       "      <td>1143</td>\n",
       "      <td>0.07</td>\n",
       "      <td>47735.0</td>\n",
       "    </tr>\n",
       "  </tbody>\n",
       "</table>\n",
       "</div>"
      ],
      "text/plain": [
       "            state state_abbr   act  act_part_rate   sat  sat_part_rate  \\\n",
       "24    Mississippi         MS  18.4           1.00  1237           0.03   \n",
       "48  West Virginia         WV  20.8           0.49   943           0.99   \n",
       "3        Arkansas         AR  19.3           1.00  1141           0.06   \n",
       "12          Idaho         ID  22.5           0.31   993           1.00   \n",
       "0         Alabama         AL  18.9           1.00  1143           0.07   \n",
       "\n",
       "    gdp_per_capita  \n",
       "24         40464.0  \n",
       "48         43806.0  \n",
       "3          44808.0  \n",
       "12         46043.0  \n",
       "0          47735.0  "
      ]
     },
     "execution_count": 26,
     "metadata": {},
     "output_type": "execute_result"
    }
   ],
   "source": [
    "scores_gdp.nsmallest(5, \"gdp_per_capita\")"
   ]
  },
  {
   "cell_type": "markdown",
   "metadata": {},
   "source": [
    "### Scores and participation rates vs GDP per capita"
   ]
  },
  {
   "cell_type": "markdown",
   "metadata": {},
   "source": [
    "We would naturally assume that the higher the mean scores, the higher the GDP and vice versa. "
   ]
  },
  {
   "cell_type": "markdown",
   "metadata": {},
   "source": [
    "There were 14 states that did above average on the ACT while having GDP per capita above the average, but their participation rates were all below the mean. This might possibly indicate that only those in better schools took the ACT. It is also worth noting that even though they had low participation rates for the ACT, they all had SAT participation rates above the mean. This might indicate that some brighter students would have taken both the ACT and SAT to boost their portfolios. This is especially prominent in states like CT and DE where the SAT participation rates are 100%, but a minority still chose to take the ACT too."
   ]
  },
  {
   "cell_type": "code",
   "execution_count": 27,
   "metadata": {
    "tags": []
   },
   "outputs": [
    {
     "data": {
      "text/html": [
       "<div>\n",
       "<style scoped>\n",
       "    .dataframe tbody tr th:only-of-type {\n",
       "        vertical-align: middle;\n",
       "    }\n",
       "\n",
       "    .dataframe tbody tr th {\n",
       "        vertical-align: top;\n",
       "    }\n",
       "\n",
       "    .dataframe thead th {\n",
       "        text-align: right;\n",
       "    }\n",
       "</style>\n",
       "<table border=\"1\" class=\"dataframe\">\n",
       "  <thead>\n",
       "    <tr style=\"text-align: right;\">\n",
       "      <th></th>\n",
       "      <th>state</th>\n",
       "      <th>state_abbr</th>\n",
       "      <th>act</th>\n",
       "      <th>act_part_rate</th>\n",
       "      <th>sat</th>\n",
       "      <th>sat_part_rate</th>\n",
       "      <th>gdp_per_capita</th>\n",
       "    </tr>\n",
       "  </thead>\n",
       "  <tbody>\n",
       "    <tr>\n",
       "      <th>8</th>\n",
       "      <td>District of Columbia</td>\n",
       "      <td>DC</td>\n",
       "      <td>23.5</td>\n",
       "      <td>0.32</td>\n",
       "      <td>975</td>\n",
       "      <td>0.94</td>\n",
       "      <td>200277.0</td>\n",
       "    </tr>\n",
       "    <tr>\n",
       "      <th>32</th>\n",
       "      <td>New York</td>\n",
       "      <td>NY</td>\n",
       "      <td>24.5</td>\n",
       "      <td>0.22</td>\n",
       "      <td>1064</td>\n",
       "      <td>0.79</td>\n",
       "      <td>90043.0</td>\n",
       "    </tr>\n",
       "    <tr>\n",
       "      <th>21</th>\n",
       "      <td>Massachusetts</td>\n",
       "      <td>MA</td>\n",
       "      <td>25.5</td>\n",
       "      <td>0.21</td>\n",
       "      <td>1120</td>\n",
       "      <td>0.81</td>\n",
       "      <td>86942.0</td>\n",
       "    </tr>\n",
       "    <tr>\n",
       "      <th>6</th>\n",
       "      <td>Connecticut</td>\n",
       "      <td>CT</td>\n",
       "      <td>25.5</td>\n",
       "      <td>0.22</td>\n",
       "      <td>1046</td>\n",
       "      <td>1.00</td>\n",
       "      <td>81055.0</td>\n",
       "    </tr>\n",
       "    <tr>\n",
       "      <th>4</th>\n",
       "      <td>California</td>\n",
       "      <td>CA</td>\n",
       "      <td>22.6</td>\n",
       "      <td>0.23</td>\n",
       "      <td>1065</td>\n",
       "      <td>0.63</td>\n",
       "      <td>80563.0</td>\n",
       "    </tr>\n",
       "  </tbody>\n",
       "</table>\n",
       "</div>"
      ],
      "text/plain": [
       "                   state state_abbr   act  act_part_rate   sat  sat_part_rate  \\\n",
       "8   District of Columbia         DC  23.5           0.32   975           0.94   \n",
       "32              New York         NY  24.5           0.22  1064           0.79   \n",
       "21         Massachusetts         MA  25.5           0.21  1120           0.81   \n",
       "6            Connecticut         CT  25.5           0.22  1046           1.00   \n",
       "4             California         CA  22.6           0.23  1065           0.63   \n",
       "\n",
       "    gdp_per_capita  \n",
       "8         200277.0  \n",
       "32         90043.0  \n",
       "21         86942.0  \n",
       "6          81055.0  \n",
       "4          80563.0  "
      ]
     },
     "execution_count": 27,
     "metadata": {},
     "output_type": "execute_result"
    }
   ],
   "source": [
    "# high GDP high ACT score\n",
    "\n",
    "scores_gdp.loc[\n",
    "    (scores_gdp[\"act\"] > scores_gdp[\"act\"].mean())\n",
    "    & (scores_gdp[\"gdp_per_capita\"] > scores_gdp[\"gdp_per_capita\"].mean())\n",
    "].sort_values([\"gdp_per_capita\"], ascending=False).head()"
   ]
  },
  {
   "cell_type": "markdown",
   "metadata": {},
   "source": [
    "The converse also seems to be true, where states that had GDP below the mean and did badly for the ACT, had high participation rates. This might indicate the presence of weaker students being made to take the test and thus pulling down the average. The ACT and SAT participation rates also generally have an inverse relationship, where high ACT participation rates generally mean low SAT ones (with a few exceptions). However, in both analyses, the relationship between the GDP and ACT scores are not very clear, with the fluctuations relatively significant. \n",
    "\n",
    "These relationships will be made clearer upon a visual analysis [later](#Scatterplot)."
   ]
  },
  {
   "cell_type": "code",
   "execution_count": 28,
   "metadata": {
    "tags": []
   },
   "outputs": [
    {
     "data": {
      "text/html": [
       "<div>\n",
       "<style scoped>\n",
       "    .dataframe tbody tr th:only-of-type {\n",
       "        vertical-align: middle;\n",
       "    }\n",
       "\n",
       "    .dataframe tbody tr th {\n",
       "        vertical-align: top;\n",
       "    }\n",
       "\n",
       "    .dataframe thead th {\n",
       "        text-align: right;\n",
       "    }\n",
       "</style>\n",
       "<table border=\"1\" class=\"dataframe\">\n",
       "  <thead>\n",
       "    <tr style=\"text-align: right;\">\n",
       "      <th></th>\n",
       "      <th>state</th>\n",
       "      <th>state_abbr</th>\n",
       "      <th>act</th>\n",
       "      <th>act_part_rate</th>\n",
       "      <th>sat</th>\n",
       "      <th>sat_part_rate</th>\n",
       "      <th>gdp_per_capita</th>\n",
       "    </tr>\n",
       "  </thead>\n",
       "  <tbody>\n",
       "    <tr>\n",
       "      <th>37</th>\n",
       "      <td>Oregon</td>\n",
       "      <td>OR</td>\n",
       "      <td>21.1</td>\n",
       "      <td>0.42</td>\n",
       "      <td>1112</td>\n",
       "      <td>0.51</td>\n",
       "      <td>60558.0</td>\n",
       "    </tr>\n",
       "    <tr>\n",
       "      <th>35</th>\n",
       "      <td>Ohio</td>\n",
       "      <td>OH</td>\n",
       "      <td>20.0</td>\n",
       "      <td>1.00</td>\n",
       "      <td>1097</td>\n",
       "      <td>0.19</td>\n",
       "      <td>60464.0</td>\n",
       "    </tr>\n",
       "    <tr>\n",
       "      <th>49</th>\n",
       "      <td>Wisconsin</td>\n",
       "      <td>WI</td>\n",
       "      <td>20.3</td>\n",
       "      <td>1.00</td>\n",
       "      <td>1283</td>\n",
       "      <td>0.03</td>\n",
       "      <td>60425.0</td>\n",
       "    </tr>\n",
       "    <tr>\n",
       "      <th>16</th>\n",
       "      <td>Kansas</td>\n",
       "      <td>KS</td>\n",
       "      <td>21.2</td>\n",
       "      <td>0.72</td>\n",
       "      <td>1241</td>\n",
       "      <td>0.04</td>\n",
       "      <td>60310.0</td>\n",
       "    </tr>\n",
       "    <tr>\n",
       "      <th>10</th>\n",
       "      <td>Georgia</td>\n",
       "      <td>GA</td>\n",
       "      <td>21.4</td>\n",
       "      <td>0.49</td>\n",
       "      <td>1058</td>\n",
       "      <td>0.71</td>\n",
       "      <td>58896.0</td>\n",
       "    </tr>\n",
       "  </tbody>\n",
       "</table>\n",
       "</div>"
      ],
      "text/plain": [
       "        state state_abbr   act  act_part_rate   sat  sat_part_rate  \\\n",
       "37     Oregon         OR  21.1           0.42  1112           0.51   \n",
       "35       Ohio         OH  20.0           1.00  1097           0.19   \n",
       "49  Wisconsin         WI  20.3           1.00  1283           0.03   \n",
       "16     Kansas         KS  21.2           0.72  1241           0.04   \n",
       "10    Georgia         GA  21.4           0.49  1058           0.71   \n",
       "\n",
       "    gdp_per_capita  \n",
       "37         60558.0  \n",
       "35         60464.0  \n",
       "49         60425.0  \n",
       "16         60310.0  \n",
       "10         58896.0  "
      ]
     },
     "execution_count": 28,
     "metadata": {},
     "output_type": "execute_result"
    }
   ],
   "source": [
    "# low ACT score low GDP\n",
    "\n",
    "scores_gdp.loc[\n",
    "    (scores_gdp[\"act\"] < scores_gdp[\"act\"].mean())\n",
    "    & (scores_gdp[\"gdp_per_capita\"] < scores_gdp[\"gdp_per_capita\"].mean())\n",
    "].sort_values([\"gdp_per_capita\"], ascending=False).head()"
   ]
  },
  {
   "cell_type": "markdown",
   "metadata": {},
   "source": [
    "We perform the same analyses on the SAT scores against the GDP, and similar patterns emerge. Again, an inverse relationship can be seen between the ACT and SAT participation rates, and the SAT scores and participation rates. There is again no clear relationship between the SAT scores and the GDP."
   ]
  },
  {
   "cell_type": "code",
   "execution_count": 29,
   "metadata": {
    "tags": []
   },
   "outputs": [
    {
     "data": {
      "text/html": [
       "<div>\n",
       "<style scoped>\n",
       "    .dataframe tbody tr th:only-of-type {\n",
       "        vertical-align: middle;\n",
       "    }\n",
       "\n",
       "    .dataframe tbody tr th {\n",
       "        vertical-align: top;\n",
       "    }\n",
       "\n",
       "    .dataframe thead th {\n",
       "        text-align: right;\n",
       "    }\n",
       "</style>\n",
       "<table border=\"1\" class=\"dataframe\">\n",
       "  <thead>\n",
       "    <tr style=\"text-align: right;\">\n",
       "      <th></th>\n",
       "      <th>state</th>\n",
       "      <th>state_abbr</th>\n",
       "      <th>act</th>\n",
       "      <th>act_part_rate</th>\n",
       "      <th>sat</th>\n",
       "      <th>sat_part_rate</th>\n",
       "      <th>gdp_per_capita</th>\n",
       "    </tr>\n",
       "  </thead>\n",
       "  <tbody>\n",
       "    <tr>\n",
       "      <th>21</th>\n",
       "      <td>Massachusetts</td>\n",
       "      <td>MA</td>\n",
       "      <td>25.5</td>\n",
       "      <td>0.21</td>\n",
       "      <td>1120</td>\n",
       "      <td>0.81</td>\n",
       "      <td>86942.0</td>\n",
       "    </tr>\n",
       "    <tr>\n",
       "      <th>34</th>\n",
       "      <td>North Dakota</td>\n",
       "      <td>ND</td>\n",
       "      <td>19.9</td>\n",
       "      <td>0.96</td>\n",
       "      <td>1263</td>\n",
       "      <td>0.02</td>\n",
       "      <td>75321.0</td>\n",
       "    </tr>\n",
       "    <tr>\n",
       "      <th>50</th>\n",
       "      <td>Wyoming</td>\n",
       "      <td>WY</td>\n",
       "      <td>19.8</td>\n",
       "      <td>1.00</td>\n",
       "      <td>1238</td>\n",
       "      <td>0.03</td>\n",
       "      <td>68757.0</td>\n",
       "    </tr>\n",
       "    <tr>\n",
       "      <th>23</th>\n",
       "      <td>Minnesota</td>\n",
       "      <td>MN</td>\n",
       "      <td>21.4</td>\n",
       "      <td>0.95</td>\n",
       "      <td>1284</td>\n",
       "      <td>0.04</td>\n",
       "      <td>68427.0</td>\n",
       "    </tr>\n",
       "    <tr>\n",
       "      <th>27</th>\n",
       "      <td>Nebraska</td>\n",
       "      <td>NE</td>\n",
       "      <td>20.0</td>\n",
       "      <td>1.00</td>\n",
       "      <td>1260</td>\n",
       "      <td>0.03</td>\n",
       "      <td>66737.0</td>\n",
       "    </tr>\n",
       "    <tr>\n",
       "      <th>46</th>\n",
       "      <td>Virginia</td>\n",
       "      <td>VA</td>\n",
       "      <td>24.0</td>\n",
       "      <td>0.21</td>\n",
       "      <td>1119</td>\n",
       "      <td>0.68</td>\n",
       "      <td>65824.0</td>\n",
       "    </tr>\n",
       "  </tbody>\n",
       "</table>\n",
       "</div>"
      ],
      "text/plain": [
       "            state state_abbr   act  act_part_rate   sat  sat_part_rate  \\\n",
       "21  Massachusetts         MA  25.5           0.21  1120           0.81   \n",
       "34   North Dakota         ND  19.9           0.96  1263           0.02   \n",
       "50        Wyoming         WY  19.8           1.00  1238           0.03   \n",
       "23      Minnesota         MN  21.4           0.95  1284           0.04   \n",
       "27       Nebraska         NE  20.0           1.00  1260           0.03   \n",
       "46       Virginia         VA  24.0           0.21  1119           0.68   \n",
       "\n",
       "    gdp_per_capita  \n",
       "21         86942.0  \n",
       "34         75321.0  \n",
       "50         68757.0  \n",
       "23         68427.0  \n",
       "27         66737.0  \n",
       "46         65824.0  "
      ]
     },
     "execution_count": 29,
     "metadata": {},
     "output_type": "execute_result"
    }
   ],
   "source": [
    "# high SAT high GDP\n",
    "\n",
    "scores_gdp.loc[\n",
    "    (scores_gdp[\"sat\"] > scores_gdp[\"sat\"].mean())\n",
    "    & (scores_gdp[\"gdp_per_capita\"] > scores_gdp[\"gdp_per_capita\"].mean())\n",
    "].sort_values([\"gdp_per_capita\"], ascending=False)"
   ]
  },
  {
   "cell_type": "code",
   "execution_count": 30,
   "metadata": {
    "tags": []
   },
   "outputs": [
    {
     "data": {
      "text/html": [
       "<div>\n",
       "<style scoped>\n",
       "    .dataframe tbody tr th:only-of-type {\n",
       "        vertical-align: middle;\n",
       "    }\n",
       "\n",
       "    .dataframe tbody tr th {\n",
       "        vertical-align: top;\n",
       "    }\n",
       "\n",
       "    .dataframe thead th {\n",
       "        text-align: right;\n",
       "    }\n",
       "</style>\n",
       "<table border=\"1\" class=\"dataframe\">\n",
       "  <thead>\n",
       "    <tr style=\"text-align: right;\">\n",
       "      <th></th>\n",
       "      <th>state</th>\n",
       "      <th>state_abbr</th>\n",
       "      <th>act</th>\n",
       "      <th>act_part_rate</th>\n",
       "      <th>sat</th>\n",
       "      <th>sat_part_rate</th>\n",
       "      <th>gdp_per_capita</th>\n",
       "    </tr>\n",
       "  </thead>\n",
       "  <tbody>\n",
       "    <tr>\n",
       "      <th>39</th>\n",
       "      <td>Rhode Island</td>\n",
       "      <td>RI</td>\n",
       "      <td>24.7</td>\n",
       "      <td>0.12</td>\n",
       "      <td>995</td>\n",
       "      <td>1.00</td>\n",
       "      <td>60830.0</td>\n",
       "    </tr>\n",
       "    <tr>\n",
       "      <th>37</th>\n",
       "      <td>Oregon</td>\n",
       "      <td>OR</td>\n",
       "      <td>21.1</td>\n",
       "      <td>0.42</td>\n",
       "      <td>1112</td>\n",
       "      <td>0.51</td>\n",
       "      <td>60558.0</td>\n",
       "    </tr>\n",
       "    <tr>\n",
       "      <th>35</th>\n",
       "      <td>Ohio</td>\n",
       "      <td>OH</td>\n",
       "      <td>20.0</td>\n",
       "      <td>1.00</td>\n",
       "      <td>1097</td>\n",
       "      <td>0.19</td>\n",
       "      <td>60464.0</td>\n",
       "    </tr>\n",
       "    <tr>\n",
       "      <th>10</th>\n",
       "      <td>Georgia</td>\n",
       "      <td>GA</td>\n",
       "      <td>21.4</td>\n",
       "      <td>0.49</td>\n",
       "      <td>1058</td>\n",
       "      <td>0.71</td>\n",
       "      <td>58896.0</td>\n",
       "    </tr>\n",
       "    <tr>\n",
       "      <th>33</th>\n",
       "      <td>North Carolina</td>\n",
       "      <td>NC</td>\n",
       "      <td>19.0</td>\n",
       "      <td>1.00</td>\n",
       "      <td>1100</td>\n",
       "      <td>0.51</td>\n",
       "      <td>56862.0</td>\n",
       "    </tr>\n",
       "  </tbody>\n",
       "</table>\n",
       "</div>"
      ],
      "text/plain": [
       "             state state_abbr   act  act_part_rate   sat  sat_part_rate  \\\n",
       "39    Rhode Island         RI  24.7           0.12   995           1.00   \n",
       "37          Oregon         OR  21.1           0.42  1112           0.51   \n",
       "35            Ohio         OH  20.0           1.00  1097           0.19   \n",
       "10         Georgia         GA  21.4           0.49  1058           0.71   \n",
       "33  North Carolina         NC  19.0           1.00  1100           0.51   \n",
       "\n",
       "    gdp_per_capita  \n",
       "39         60830.0  \n",
       "37         60558.0  \n",
       "35         60464.0  \n",
       "10         58896.0  \n",
       "33         56862.0  "
      ]
     },
     "execution_count": 30,
     "metadata": {},
     "output_type": "execute_result"
    }
   ],
   "source": [
    "# low SAT low GDP\n",
    "\n",
    "scores_gdp.loc[\n",
    "    (scores_gdp[\"sat\"] < scores_gdp[\"sat\"].mean())\n",
    "    & (scores_gdp[\"gdp_per_capita\"] < scores_gdp[\"gdp_per_capita\"].mean())\n",
    "].sort_values([\"gdp_per_capita\"], ascending=False).head()"
   ]
  },
  {
   "cell_type": "markdown",
   "metadata": {},
   "source": [
    "## Data Visualisation\n",
    "\n",
    "___"
   ]
  },
  {
   "cell_type": "markdown",
   "metadata": {},
   "source": [
    "### Heatmap"
   ]
  },
  {
   "cell_type": "code",
   "execution_count": 31,
   "metadata": {},
   "outputs": [
    {
     "data": {
      "text/html": [
       "<div>\n",
       "<style scoped>\n",
       "    .dataframe tbody tr th:only-of-type {\n",
       "        vertical-align: middle;\n",
       "    }\n",
       "\n",
       "    .dataframe tbody tr th {\n",
       "        vertical-align: top;\n",
       "    }\n",
       "\n",
       "    .dataframe thead th {\n",
       "        text-align: right;\n",
       "    }\n",
       "</style>\n",
       "<table border=\"1\" class=\"dataframe\">\n",
       "  <thead>\n",
       "    <tr style=\"text-align: right;\">\n",
       "      <th></th>\n",
       "      <th>act</th>\n",
       "      <th>act_part_rate</th>\n",
       "      <th>sat</th>\n",
       "      <th>sat_part_rate</th>\n",
       "      <th>gdp_per_capita</th>\n",
       "    </tr>\n",
       "  </thead>\n",
       "  <tbody>\n",
       "    <tr>\n",
       "      <th>act</th>\n",
       "      <td>1.000000</td>\n",
       "      <td>-0.866819</td>\n",
       "      <td>-0.424782</td>\n",
       "      <td>0.724619</td>\n",
       "      <td>0.383936</td>\n",
       "    </tr>\n",
       "    <tr>\n",
       "      <th>act_part_rate</th>\n",
       "      <td>-0.866819</td>\n",
       "      <td>1.000000</td>\n",
       "      <td>0.666966</td>\n",
       "      <td>-0.865435</td>\n",
       "      <td>-0.324806</td>\n",
       "    </tr>\n",
       "    <tr>\n",
       "      <th>sat</th>\n",
       "      <td>-0.424782</td>\n",
       "      <td>0.666966</td>\n",
       "      <td>1.000000</td>\n",
       "      <td>-0.861786</td>\n",
       "      <td>-0.206848</td>\n",
       "    </tr>\n",
       "    <tr>\n",
       "      <th>sat_part_rate</th>\n",
       "      <td>0.724619</td>\n",
       "      <td>-0.865435</td>\n",
       "      <td>-0.861786</td>\n",
       "      <td>1.000000</td>\n",
       "      <td>0.293163</td>\n",
       "    </tr>\n",
       "    <tr>\n",
       "      <th>gdp_per_capita</th>\n",
       "      <td>0.383936</td>\n",
       "      <td>-0.324806</td>\n",
       "      <td>-0.206848</td>\n",
       "      <td>0.293163</td>\n",
       "      <td>1.000000</td>\n",
       "    </tr>\n",
       "  </tbody>\n",
       "</table>\n",
       "</div>"
      ],
      "text/plain": [
       "                     act  act_part_rate       sat  sat_part_rate  \\\n",
       "act             1.000000      -0.866819 -0.424782       0.724619   \n",
       "act_part_rate  -0.866819       1.000000  0.666966      -0.865435   \n",
       "sat            -0.424782       0.666966  1.000000      -0.861786   \n",
       "sat_part_rate   0.724619      -0.865435 -0.861786       1.000000   \n",
       "gdp_per_capita  0.383936      -0.324806 -0.206848       0.293163   \n",
       "\n",
       "                gdp_per_capita  \n",
       "act                   0.383936  \n",
       "act_part_rate        -0.324806  \n",
       "sat                  -0.206848  \n",
       "sat_part_rate         0.293163  \n",
       "gdp_per_capita        1.000000  "
      ]
     },
     "execution_count": 31,
     "metadata": {},
     "output_type": "execute_result"
    }
   ],
   "source": [
    "scores_gdp.corr()"
   ]
  },
  {
   "cell_type": "code",
   "execution_count": 32,
   "metadata": {},
   "outputs": [
    {
     "data": {
      "image/png": "[encoded data removed]",
      "text/plain": [
       "<Figure size 432x288 with 2 Axes>"
      ]
     },
     "metadata": {
      "needs_background": "light"
     },
     "output_type": "display_data"
    }
   ],
   "source": [
    "heatmap = sns.heatmap(scores_gdp.corr(), annot=True, fmt=\".2f\")\n",
    "heatmap.set_title(\n",
    "    \"Correlation between ACT/SAT and GDP per capita\", fontdict={\"fontsize\": 15}, pad=16\n",
    ");"
   ]
  },
  {
   "cell_type": "markdown",
   "metadata": {},
   "source": [
    "What is interesting from the heatmap is that the GDP has a low correlation (0.38 with ACT and -0.21 with SAT) with the other variables. \n",
    "\n",
    "Another observation is that both tests have a strong inverse relationship between the grades and the participation rates (-0.87 for ACT and -0.86 for SAT), giving credence to the hypotheses discussed in the [statistical analysis](#Scores-and-participation-rates-vs-GDP-per-capita) above. \n",
    "\n",
    "The ACT and SAT participation rates also have a strong inverse correlation (-0.87), suggesting that students generally choose one or the other."
   ]
  },
  {
   "cell_type": "markdown",
   "metadata": {},
   "source": [
    "### Histogram"
   ]
  },
  {
   "cell_type": "code",
   "execution_count": 33,
   "metadata": {},
   "outputs": [
    {
     "data": {
      "image/png": "[encoded data removed]",
      "text/plain": [
       "<Figure size 864x216 with 2 Axes>"
      ]
     },
     "metadata": {
      "needs_background": "light"
     },
     "output_type": "display_data"
    }
   ],
   "source": [
    "fig, axes = plt.subplots(1, 2, figsize=(12, 3))\n",
    "axes[0].hist(scores_gdp[\"sat\"], color=\"seagreen\")\n",
    "axes[0].set_title(\"SAT Scores\")\n",
    "axes[0].set_xlabel(\"SAT scores\")\n",
    "axes[0].set_ylabel(\"count\")\n",
    "\n",
    "axes[1].hist(scores_gdp[\"sat_part_rate\"], color=\"darkturquoise\")\n",
    "axes[1].set_title(\"SAT Participation Rate\")\n",
    "axes[1].set_xlabel(\"participation rate\")\n",
    "axes[1].set_ylabel(\"count\");"
   ]
  },
  {
   "cell_type": "markdown",
   "metadata": {},
   "source": [
    "The SAT score seems like it might follow a normal curve upon visual inspection, whereas the participation rate does not. This can be further verified with a 2-tailed chi-squared test."
   ]
  },
  {
   "cell_type": "code",
   "execution_count": 34,
   "metadata": {},
   "outputs": [
    {
     "name": "stdout",
     "output_type": "stream",
     "text": [
      "NormaltestResult(statistic=9.093181082099653, pvalue=0.010603294322038527)\n",
      "NormaltestResult(statistic=88.9759718932383, pvalue=4.77653750777514e-20)\n"
     ]
    }
   ],
   "source": [
    "print(normaltest(scores_gdp[\"sat\"]))\n",
    "print(normaltest(scores_gdp[\"sat_part_rate\"]))"
   ]
  },
  {
   "cell_type": "markdown",
   "metadata": {},
   "source": [
    "A p-value of more than 0.05 shows a close fit (to a 5% confidence level), and both the scores and the participation rates fail this criterion. The normal distribution of the scores should be expected for standardized testing, whereas participation rates might be influenced by other factors like states making ACT compulsory while not the SAT. The failure of the scores to fit a normal distribution can be down to the lack of data points and that these are averages across a whole state, which may not be representative.\n",
    "\n",
    "The z-score ('statistic') shows the skewness of the data, and a higher value means the the data is skewed more from a normal distribution. In this case, the participation rate is definitely skewed heavily."
   ]
  },
  {
   "cell_type": "code",
   "execution_count": 35,
   "metadata": {},
   "outputs": [
    {
     "data": {
      "image/png": "[encoded data removed]",
      "text/plain": [
       "<Figure size 864x216 with 2 Axes>"
      ]
     },
     "metadata": {
      "needs_background": "light"
     },
     "output_type": "display_data"
    }
   ],
   "source": [
    "fig, axes = plt.subplots(1, 2, figsize=(12, 3))\n",
    "axes[0].hist(scores_gdp[\"act\"], color=\"lightcoral\")\n",
    "axes[0].set_title(\"ACT scores\")\n",
    "axes[0].set_xlabel(\"ACT scores\")\n",
    "axes[0].set_ylabel(\"count\")\n",
    "\n",
    "axes[1].hist(scores_gdp[\"act_part_rate\"], color=\"sandybrown\")\n",
    "axes[1].set_title(\"ACT Participation Rate\")\n",
    "axes[1].set_xlabel(\"participation rate\")\n",
    "axes[1].set_ylabel(\"count\");"
   ]
  },
  {
   "cell_type": "code",
   "execution_count": 36,
   "metadata": {},
   "outputs": [
    {
     "name": "stdout",
     "output_type": "stream",
     "text": [
      "NormaltestResult(statistic=14.753131457417009, pvalue=0.0006257461822757828)\n",
      "NormaltestResult(statistic=113.58272495182037, pvalue=2.166829087620389e-25)\n"
     ]
    }
   ],
   "source": [
    "print(normaltest(scores_gdp[\"act\"]))\n",
    "print(normaltest(scores_gdp[\"act_part_rate\"]))"
   ]
  },
  {
   "cell_type": "markdown",
   "metadata": {},
   "source": [
    "Once again, we see that the test scores and participation rates do not follow a normal distribution, with the participation rate heavily skewed and has a low p-value. The explanation would be the same as that of SAT."
   ]
  },
  {
   "cell_type": "code",
   "execution_count": 37,
   "metadata": {},
   "outputs": [
    {
     "data": {
      "image/png": "[encoded data removed]",
      "text/plain": [
       "<Figure size 432x288 with 1 Axes>"
      ]
     },
     "metadata": {
      "needs_background": "light"
     },
     "output_type": "display_data"
    }
   ],
   "source": [
    "hist = plt.hist(scores_gdp[\"gdp_per_capita\"], color=\"steelblue\")\n",
    "plt.title(\"Number of States With a Certain GDP per Capita\")\n",
    "plt.xlabel(\"GDP per capita\")\n",
    "plt.ylabel(\"count\");"
   ]
  },
  {
   "cell_type": "markdown",
   "metadata": {},
   "source": [
    "A simple visual inspection would inform us that this is definitely not a normal distribution, but we shall perform the same normal test for sake of completeness."
   ]
  },
  {
   "cell_type": "code",
   "execution_count": 38,
   "metadata": {},
   "outputs": [
    {
     "data": {
      "text/plain": [
       "NormaltestResult(statistic=82.52503130874888, pvalue=1.2020350789651113e-18)"
      ]
     },
     "execution_count": 38,
     "metadata": {},
     "output_type": "execute_result"
    }
   ],
   "source": [
    "normaltest(scores_gdp[\"gdp_per_capita\"])"
   ]
  },
  {
   "cell_type": "markdown",
   "metadata": {},
   "source": [
    "As expected, because of the large outlier (DC), the GDP does not follow a normal distribution, being heavily skewed. This could be attributed to the lack of data points, and the fact that there is systemic inequality present across the states."
   ]
  },
  {
   "cell_type": "markdown",
   "metadata": {},
   "source": [
    "### Boxplot"
   ]
  },
  {
   "cell_type": "markdown",
   "metadata": {},
   "source": [
    "The boxplot of the ACT scores show the median being skewed towards the bottom. The large interquartile range of the participation rate indicates that there is a large deviation within the dataset."
   ]
  },
  {
   "cell_type": "code",
   "execution_count": 39,
   "metadata": {},
   "outputs": [
    {
     "data": {
      "image/png": "[encoded data removed]",
      "text/plain": [
       "<Figure size 864x216 with 2 Axes>"
      ]
     },
     "metadata": {
      "needs_background": "light"
     },
     "output_type": "display_data"
    }
   ],
   "source": [
    "fig, axes = plt.subplots(1, 2, figsize=(12, 3))\n",
    "axes[0].boxplot(x=scores_gdp[\"act\"])\n",
    "axes[0].set_title(\"ACT scores\")\n",
    "axes[0].set_ylabel(\"scores\")\n",
    "\n",
    "axes[1].boxplot(scores_gdp[\"act_part_rate\"])\n",
    "axes[1].set_title(\"ACT Participation Rate\")\n",
    "axes[1].set_ylabel(\"participation rate (%)\");"
   ]
  },
  {
   "cell_type": "markdown",
   "metadata": {},
   "source": [
    "We see the same patterns with the SAT data, of the skewness of the scores and the large range in the participation rates. This might again be influenced by the variation in educational policies across states."
   ]
  },
  {
   "cell_type": "code",
   "execution_count": 40,
   "metadata": {},
   "outputs": [
    {
     "data": {
      "image/png": "[encoded data removed]",
      "text/plain": [
       "<Figure size 864x216 with 2 Axes>"
      ]
     },
     "metadata": {
      "needs_background": "light"
     },
     "output_type": "display_data"
    }
   ],
   "source": [
    "fig, axes = plt.subplots(1, 2, figsize=(12, 3))\n",
    "axes[0].boxplot(x=scores_gdp[\"sat\"])\n",
    "axes[0].set_title(\"SAT scores\")\n",
    "axes[0].set_ylabel(\"scores\")\n",
    "\n",
    "axes[1].boxplot(scores_gdp[\"sat_part_rate\"])\n",
    "axes[1].set_title(\"SAT Participation Rate\")\n",
    "axes[1].set_ylabel(\"participation rate (%)\");"
   ]
  },
  {
   "cell_type": "markdown",
   "metadata": {},
   "source": [
    "The single outlier that is DC makes this boxplot slightly harder to read, but it is still obvious that there is a skew towards the higher GDP, again bringing up the problem of inequality across states. The boxplot below (without DC) shows a large skew towards the poorer end of the spectrum."
   ]
  },
  {
   "cell_type": "code",
   "execution_count": 41,
   "metadata": {},
   "outputs": [
    {
     "data": {
      "image/png": "[encoded data removed]",
      "text/plain": [
       "<Figure size 432x288 with 1 Axes>"
      ]
     },
     "metadata": {
      "needs_background": "light"
     },
     "output_type": "display_data"
    }
   ],
   "source": [
    "plt.boxplot(x=scores_gdp[\"gdp_per_capita\"])\n",
    "plt.title(\"GDP per capita\")\n",
    "plt.ylabel(\"GDP per capita (US$)\");"
   ]
  },
  {
   "cell_type": "code",
   "execution_count": 42,
   "metadata": {},
   "outputs": [
    {
     "data": {
      "image/png": "[encoded data removed]",
      "text/plain": [
       "<Figure size 432x288 with 1 Axes>"
      ]
     },
     "metadata": {
      "needs_background": "light"
     },
     "output_type": "display_data"
    }
   ],
   "source": [
    "plt.boxplot(x=scores_gdp.loc[scores_gdp[\"state_abbr\"] != \"DC\"][\"gdp_per_capita\"])\n",
    "plt.title(\"GDP per capita without DC\")\n",
    "plt.ylabel(\"GDP per capita (US$)\");"
   ]
  },
  {
   "cell_type": "markdown",
   "metadata": {},
   "source": [
    "### Scatterplot"
   ]
  },
  {
   "cell_type": "markdown",
   "metadata": {},
   "source": [
    "#### GDP against scores\n",
    "\n",
    "Both the correlation matrix and the scatterplot show a relatively weak correlation between the SAT/ACT scores across the economic spectrum with the obvious outlier being DC. There is no clear relationship between the GDP and the scores for both tests, which is consistent with what we found from our earlier analyses."
   ]
  },
  {
   "cell_type": "code",
   "execution_count": 43,
   "metadata": {},
   "outputs": [
    {
     "data": {
      "image/png": "[encoded data removed]",
      "text/plain": [
       "<Figure size 432x288 with 1 Axes>"
      ]
     },
     "metadata": {
      "needs_background": "light"
     },
     "output_type": "display_data"
    }
   ],
   "source": [
    "sns.scatterplot(\n",
    "    x=scores_gdp[\"act\"],\n",
    "    y=scores_gdp[\"gdp_per_capita\"],\n",
    "    data=scores_gdp[\"state\"],\n",
    "    color=\"deepskyblue\",\n",
    ")\n",
    "for idx, st in enumerate(scores_gdp[\"state_abbr\"]):\n",
    "    plt.annotate(st, (scores_gdp[\"act\"][idx], scores_gdp[\"gdp_per_capita\"][idx]))\n",
    "plt.xlabel(\"ACT scores\")\n",
    "plt.ylabel(\"GDP per capita (US$)\")\n",
    "plt.title(\"Plot of GDP against ACT score\")\n",
    "plt.savefig(\"../images/act_gdp_sp.png\", bbox_inches=\"tight\");"
   ]
  },
  {
   "cell_type": "code",
   "execution_count": 44,
   "metadata": {},
   "outputs": [
    {
     "data": {
      "image/png": "[encoded data removed]",
      "text/plain": [
       "<Figure size 432x288 with 1 Axes>"
      ]
     },
     "metadata": {
      "needs_background": "light"
     },
     "output_type": "display_data"
    }
   ],
   "source": [
    "sns.scatterplot(\n",
    "    x=scores_gdp[\"sat\"],\n",
    "    y=scores_gdp[\"gdp_per_capita\"],\n",
    "    data=scores_gdp[\"state\"],\n",
    "    color=\"m\",\n",
    ")\n",
    "for idx, st in enumerate(scores_gdp[\"state_abbr\"]):\n",
    "    plt.annotate(st, (scores_gdp[\"sat\"][idx], scores_gdp[\"gdp_per_capita\"][idx]))\n",
    "plt.xlabel(\"SAT score\")\n",
    "plt.ylabel(\"GDP per capita (US$)\")\n",
    "plt.title(\"Plot of GDP against SAT score\")\n",
    "plt.savefig(\"../images/sat_gdp_sp.png\", bbox_inches=\"tight\");"
   ]
  },
  {
   "cell_type": "markdown",
   "metadata": {},
   "source": [
    "#### GDP against participation rates\n",
    "\n",
    "There is no clear relation between the GDP and the participation rates of both tests, which again corroborates our earlier analysis. Even without considering the obvious outlier (DC), there is no obvious trend in the relationship between these two variables. We can see the SAT participation having a larger spread than the ACT, which is what we saw in an earlier [section](#Exploratory-Data-Analysis)."
   ]
  },
  {
   "cell_type": "code",
   "execution_count": 45,
   "metadata": {},
   "outputs": [
    {
     "data": {
      "image/png": "[encoded data removed]",
      "text/plain": [
       "<Figure size 432x288 with 1 Axes>"
      ]
     },
     "metadata": {
      "needs_background": "light"
     },
     "output_type": "display_data"
    }
   ],
   "source": [
    "sns.scatterplot(\n",
    "    x=scores_gdp[\"act_part_rate\"],\n",
    "    y=scores_gdp[\"gdp_per_capita\"],\n",
    "    data=scores_gdp[\"state\"],\n",
    "    color=\"royalblue\",\n",
    ")\n",
    "for idx, st in enumerate(scores_gdp[\"state_abbr\"]):\n",
    "    plt.annotate(\n",
    "        st, (scores_gdp[\"act_part_rate\"][idx], scores_gdp[\"gdp_per_capita\"][idx])\n",
    "    )\n",
    "plt.xlabel(\"ACT participation rate (%)\")\n",
    "plt.ylabel(\"GDP per capita (US$)\")\n",
    "plt.title(\"Plot of GDP against ACT participation rates\")\n",
    "plt.savefig(\"../images/actpart_gdp_sp.png\", bbox_inches=\"tight\");"
   ]
  },
  {
   "cell_type": "code",
   "execution_count": 46,
   "metadata": {},
   "outputs": [
    {
     "data": {
      "image/png": "[encoded data removed]",
      "text/plain": [
       "<Figure size 432x288 with 1 Axes>"
      ]
     },
     "metadata": {
      "needs_background": "light"
     },
     "output_type": "display_data"
    }
   ],
   "source": [
    "sns.scatterplot(\n",
    "    x=scores_gdp[\"sat_part_rate\"],\n",
    "    y=scores_gdp[\"gdp_per_capita\"],\n",
    "    data=scores_gdp[\"state\"],\n",
    "    color=\"crimson\",\n",
    ")\n",
    "for idx, st in enumerate(scores_gdp[\"state_abbr\"]):\n",
    "    plt.annotate(\n",
    "        st, (scores_gdp[\"sat_part_rate\"][idx], scores_gdp[\"gdp_per_capita\"][idx])\n",
    "    )\n",
    "plt.xlabel(\"SAT participation rate (%)\")\n",
    "plt.ylabel(\"GDP per capita (US$)\")\n",
    "plt.title(\"Plot of GDP against SAT participation rate\")\n",
    "plt.savefig(\"../images/satpart_gdp_sp.png\", bbox_inches=\"tight\");"
   ]
  },
  {
   "cell_type": "markdown",
   "metadata": {},
   "source": [
    "There is a cluster of states at the bottom left of the SAT graph, indicating a relatively large proportion (33%) of states having less than 10% participation in the SAT. This is high compared to the 2% of states with less than 10% participation in the ACT."
   ]
  },
  {
   "cell_type": "code",
   "execution_count": 47,
   "metadata": {},
   "outputs": [
    {
     "data": {
      "text/plain": [
       "0.3269230769230769"
      ]
     },
     "execution_count": 47,
     "metadata": {},
     "output_type": "execute_result"
    }
   ],
   "source": [
    "len(scores_gdp.loc[scores_gdp[\"sat_part_rate\"] < 0.1]) / 52"
   ]
  },
  {
   "cell_type": "code",
   "execution_count": 48,
   "metadata": {},
   "outputs": [
    {
     "data": {
      "text/plain": [
       "0.019230769230769232"
      ]
     },
     "execution_count": 48,
     "metadata": {},
     "output_type": "execute_result"
    }
   ],
   "source": [
    "len(scores_gdp.loc[scores_gdp[\"act_part_rate\"] < 0.1]) / 52"
   ]
  },
  {
   "cell_type": "markdown",
   "metadata": {},
   "source": [
    "There are also more states having a 90% participation rate in the ACT (33%) as compared to the SAT (23%)."
   ]
  },
  {
   "cell_type": "code",
   "execution_count": 49,
   "metadata": {},
   "outputs": [
    {
     "data": {
      "text/plain": [
       "0.23076923076923078"
      ]
     },
     "execution_count": 49,
     "metadata": {},
     "output_type": "execute_result"
    }
   ],
   "source": [
    "len(scores_gdp.loc[scores_gdp[\"sat_part_rate\"] > 0.9]) / 52"
   ]
  },
  {
   "cell_type": "code",
   "execution_count": 50,
   "metadata": {},
   "outputs": [
    {
     "data": {
      "text/plain": [
       "0.3269230769230769"
      ]
     },
     "execution_count": 50,
     "metadata": {},
     "output_type": "execute_result"
    }
   ],
   "source": [
    "len(scores_gdp.loc[scores_gdp[\"act_part_rate\"] > 0.9]) / 52"
   ]
  },
  {
   "cell_type": "markdown",
   "metadata": {},
   "source": [
    "This shows that the ACT is much more popular than the SAT. This relationship will be explored in the section below."
   ]
  },
  {
   "cell_type": "markdown",
   "metadata": {},
   "source": [
    "#### Participation rates for both tests"
   ]
  },
  {
   "cell_type": "markdown",
   "metadata": {},
   "source": [
    "An important scatterplot we can plot is that comparing the participation rates between the two tests. There is a noticeable inverse trend between them, which lends support to our previous hypothesis. The cluster at the bottom right indicates that there is a higher participation rate for the ACT than the SAT."
   ]
  },
  {
   "cell_type": "code",
   "execution_count": 51,
   "metadata": {},
   "outputs": [
    {
     "data": {
      "image/png": "[encoded data removed]",
      "text/plain": [
       "<Figure size 432x288 with 1 Axes>"
      ]
     },
     "metadata": {
      "needs_background": "light"
     },
     "output_type": "display_data"
    }
   ],
   "source": [
    "sns.scatterplot(\n",
    "    x=scores_gdp[\"act_part_rate\"],\n",
    "    y=scores_gdp[\"sat_part_rate\"],\n",
    "    data=scores_gdp[\"state\"],\n",
    "    color=\"indianred\",\n",
    ")\n",
    "for idx, st in enumerate(scores_gdp[\"state_abbr\"]):\n",
    "    plt.annotate(\n",
    "        st, (scores_gdp[\"act_part_rate\"][idx], scores_gdp[\"sat_part_rate\"][idx])\n",
    "    )\n",
    "plt.xlabel(\"ACT participation rate (%)\")\n",
    "plt.ylabel(\"SAT participation rate (%)\")\n",
    "plt.title(\"Plot of participation rates for SAT against ACT\")\n",
    "plt.savefig(\"../images/satpart_actpart_sp.png\", bbox_inches=\"tight\");"
   ]
  },
  {
   "cell_type": "markdown",
   "metadata": {},
   "source": [
    "#### Scores against participation rates"
   ]
  },
  {
   "cell_type": "markdown",
   "metadata": {},
   "source": [
    "The plots below show relatively clear decreasing trends between the score achieved and the participation rates for both tests. This is consistent with the correlation value in the heatmap."
   ]
  },
  {
   "cell_type": "code",
   "execution_count": 52,
   "metadata": {},
   "outputs": [
    {
     "data": {
      "image/png": "[encoded data removed]",
      "text/plain": [
       "<Figure size 432x288 with 1 Axes>"
      ]
     },
     "metadata": {
      "needs_background": "light"
     },
     "output_type": "display_data"
    }
   ],
   "source": [
    "sns.scatterplot(\n",
    "    x=scores_gdp[\"act_part_rate\"],\n",
    "    y=scores_gdp[\"act\"],\n",
    "    data=scores_gdp[\"state\"],\n",
    "    color=\"darkmagenta\",\n",
    ")\n",
    "for idx, st in enumerate(scores_gdp[\"state_abbr\"]):\n",
    "    plt.annotate(st, (scores_gdp[\"act_part_rate\"][idx], scores_gdp[\"act\"][idx]))\n",
    "plt.xlabel(\"ACT participation rate (%)\")\n",
    "plt.ylabel(\"ACT score\")\n",
    "plt.title(\"Plot of score against participation rates for ACT\")\n",
    "plt.savefig(\"../images/actpart_act_sp.png\", bbox_inches=\"tight\");"
   ]
  },
  {
   "cell_type": "code",
   "execution_count": 53,
   "metadata": {},
   "outputs": [
    {
     "data": {
      "image/png": "[encoded data removed]",
      "text/plain": [
       "<Figure size 432x288 with 1 Axes>"
      ]
     },
     "metadata": {
      "needs_background": "light"
     },
     "output_type": "display_data"
    }
   ],
   "source": [
    "sns.scatterplot(\n",
    "    x=scores_gdp[\"sat_part_rate\"],\n",
    "    y=scores_gdp[\"sat\"],\n",
    "    data=scores_gdp[\"state\"],\n",
    "    color=\"saddlebrown\",\n",
    ")\n",
    "for idx, st in enumerate(scores_gdp[\"state_abbr\"]):\n",
    "    plt.annotate(st, (scores_gdp[\"sat_part_rate\"][idx], scores_gdp[\"sat\"][idx]))\n",
    "plt.xlabel(\"SAT participation rate (%)\")\n",
    "plt.ylabel(\"SAT score\")\n",
    "plt.title(\"Plot of score against participation rates for SAT\")\n",
    "plt.savefig(\"../images/satpart_sat_sp.png\", bbox_inches=\"tight\");"
   ]
  },
  {
   "cell_type": "markdown",
   "metadata": {},
   "source": [
    "## Conclusions and Recommendations"
   ]
  },
  {
   "cell_type": "markdown",
   "metadata": {},
   "source": [
    "### Conclusion\n",
    "\n",
    "Throughout our analysis, a few points have been salient:\n",
    "- there is low correlation between the GDP per capita of the states and their scores in the standardized tests (p=0.38 for ACT and p=-0.21 for SAT)\n",
    "- an inverse relationship is prominent between the scores and the participation rates, i.e. the less students taking the tests, the higher the average grades (p=-0.87 for ACT, p=-0.86 for SAT)\n",
    "- there is also an inverse relationship between the participation rates for both tests, i.e. students who take the SAT generally do not take the ACT and vice versa (p=-0.87)\n",
    "- there is a significant number of states with low SAT participation, compared to the ACT\n",
    "\n",
    "This suggests, against most of the sources cited in the [background](#Background), that standardised tests are not related to economic data. There is indeed no clear correlation, and the problem statement can be answered in the **negative**. However, given the limitations ([discussed later](#Limitations-and-future-work)) of the data provided and time constraints, there is still much work to be done to provide a thorough analysis. \n",
    "\n",
    "The inverse relationship between the scores and participation rates indicates that when the participation rates are below 100%, only the smarter students choose to take the tests. This could be linked to the desire for higher education rather than more technical fields of study.\n",
    "\n",
    "The inverse relationship between both tests corroborates the [prior research](#Outside-Research), but more work can be done in finding out why, and how this relates to economic distribution.\n",
    "\n",
    "It is also telling that the distributions of SAT and ACT scores are inversely proportionate, verifying the infographic presented at the start, and also verifying that more students take the ACT over the SAT in the US. "
   ]
  },
  {
   "cell_type": "markdown",
   "metadata": {},
   "source": [
    "### Limitations and recommendations\n",
    "\n",
    "Firstly, GDP per capita is not the only economic metric that should be considered, others include household income, personal income, family income etc. \n",
    "\n",
    "Next, other factors that affect academic performance should also be considered, e.g. access to resources, teaching quality scores. There are also related factors that affect the varying participation rates, e.g. school funding.\n",
    "\n",
    "More data could also be gathered to see the trends across various years, which might allow clearer patterns to emerge.\n",
    "\n",
    "One conspicuous area not considered is why the proportion of students taking the tests vary considerably between states. Other than the cursory information that the the SAT is most popular in the coastal states while the ACT is popular in the middle states, more information could be gathered to explore why this is so, but this is beyond the scope of this analysis. "
   ]
  }
 ],
 "metadata": {
  "anaconda-cloud": {},
  "kernelspec": {
   "display_name": "Python 3 (ipykernel)",
   "language": "python",
   "name": "python3"
  },
  "language_info": {
   "codemirror_mode": {
    "name": "ipython",
    "version": 3
   },
   "file_extension": ".py",
   "mimetype": "text/x-python",
   "name": "python",
   "nbconvert_exporter": "python",
   "pygments_lexer": "ipython3",
   "version": "3.9.7"
  }
 },
 "nbformat": 4,
 "nbformat_minor": 4
}
