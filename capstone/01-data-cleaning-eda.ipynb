{
 "cells": [
  {
   "cell_type": "markdown",
   "id": "9d9beff6-d85b-4b19-97c1-4f0e5e3b63a1",
   "metadata": {},
   "source": [
    "# Test Everything, Carefully: Generating Questions from Text\n",
    "## GA DSI 26 Capstone Project\n",
    "## Chapter 1: Data Cleaning and Exploratory Data Analysis"
   ]
  },
  {
   "cell_type": "markdown",
   "id": "be8bcd5a-1d33-4768-9e9b-091cdd41002f",
   "metadata": {},
   "source": [
    "# Introduction\n",
    "\n",
    "Education technology (edtech) is a crucial field that can help teachers with automate tasks so that they can focus on the more human aspects of their jobs, e.g. the personal interaction with students. With the maturing of Massive Open Online Courses (MOOCs), there is plenty of space for the automation of tasks like answer grading and setting test papers.\n",
    "\n",
    "One of the many areas in edtech, question and answer generation can populate question banks for various stakeholders: for teachers to set exam papers, for students to test themselves, and for institutions to standardize their exam difficulty levels. With this, students and teachers can assess the skills attained by the learner and identify weak spots to focus on.  \n",
    "\n",
    "There are various flavors of question generation, of which the one with the longest history is answer-aware question generation, where questions are generated from a given context paragraph and an inputted answer (e.g. [Zhou et al, 2017](https://arxiv.org/abs/1704.01792)). Work has also been done on generating multiple-choice questions with 3 distractors from a given text ([Vachev et al, 2022](https://arxiv.org/abs/2201.09012)). There is also answer-agnostic question generation, where a mask is given as the answer and a question-answer pair is generated from a given text ([Scialom et al, 2019](https://aclanthology.org/P19-1604.pdf)). There are of course many other directions in the literature (collected in this [github](https://github.com/teacherpeterpan/Question-Generation-Paper-List)).\n",
    "\n",
    "The state-of-the-art models for text generation are transformer models, first introduced in the seminal paper [Attention Is All You Need](https://nlp.seas.harvard.edu/2018/04/03/attention.html). These deep learning models solved the problems of recurrent neural networks to provide robust text generation algorithms.\n",
    "\n",
    "In this light, we aim to create a question and answer generator based on text given to the model. We will be mixing answer-agnostic and answer-aware methods, as we believe these will average out the problems in both methods while providing flexibility."
   ]
  },
  {
   "cell_type": "markdown",
   "id": "435c1a5f-69b9-486d-a808-1c490db282be",
   "metadata": {},
   "source": [
    "# Methodology\n",
    "\n",
    "We will be training our models on the famous Stanford Question and Answering Dataset (SQuAD) dataset compiled by [Rajpurkar et al, 2016](https://arxiv.org/abs/1606.05250). We decided to use version 1.1 instead of 2.0 as the latter contains unanswerable questions, which is beyond the scope of our project.\n",
    "\n",
    "We will then be building various models:\n",
    "1. T5 Model ([Raffel et al, 2020](https://arxiv.org/abs/1910.10683)) in Pytorch\n",
    "\n",
    "Lastly, we will be comparing the models based on their cross entropy loss, and the scoring results with BLEU and cosine similarity scores. In the process, we found out that none of the scoring methods are robust enough to ensure the quality of the questions, in accordance with [Nema et al, 2018](https://arxiv.org/abs/1808.10192), [Callison-Burch et al, 2006](https://aclanthology.org/E06-1032.pdf) and [Liu et al, 2016](https://arxiv.org/abs/1603.08023v1) which showed that \"these metrics correlate very weakly or not at all with human judgements of the response quality\"."
   ]
  },
  {
   "cell_type": "markdown",
   "id": "e637c849-2be7-4ea7-b190-18fd809f5d40",
   "metadata": {},
   "source": [
    "# Library Imports"
   ]
  },
  {
   "cell_type": "code",
   "execution_count": 2,
   "id": "12bc8bfa-a942-4440-b8cd-b6181c8c2b68",
   "metadata": {},
   "outputs": [],
   "source": [
    "# fantastic four\n",
    "import numpy as np\n",
    "import pandas as pd\n",
    "import matplotlib.pyplot as plt\n",
    "import seaborn as sns\n",
    "\n",
    "# text cleaning\n",
    "import json\n",
    "import spacy\n",
    "import torch\n",
    "import re\n",
    "import torch\n",
    "from tqdm import tqdm # progress bar\n",
    "tqdm.pandas(bar_format='{desc:<5.5}{percentage:3.0f}%|{bar:50}{r_bar}')\n",
    "\n",
    "# EDA\n",
    "from collections import Counter\n",
    "from sklearn.feature_extraction.text import CountVectorizer, TfidfVectorizer\n",
    "from spacy import displacy"
   ]
  },
  {
   "cell_type": "markdown",
   "id": "e643b1ae-93c5-4724-b014-6d3cfab31779",
   "metadata": {},
   "source": [
    "[tqdm docs](https://datascientyst.com/progress-bars-pandas-python-tqdm/)"
   ]
  },
  {
   "cell_type": "markdown",
   "id": "dd9dc046-feef-424c-a4e7-1ce3cf7e4398",
   "metadata": {},
   "source": [
    "# Data Importing\n",
    "\n",
    "We will be using the SQuAD v1.1 dataset which can be downloaded [here](https://rajpurkar.github.io/SQuAD-explorer/), to train our models. As a brief introduction, it consists of 536 English Wikipedia articles chosen at random, and workers were tasked to generate question-answer pairs. The answers had to be highlighted from the text itself.\n",
    "\n",
    "Function below adapted from [Vladimir Araujo](https://gist.github.com/vgaraujov/fd17b0c151657fbce73189a98617f1c6)."
   ]
  },
  {
   "cell_type": "code",
   "execution_count": 3,
   "id": "d45cfbf0-1b80-4612-88b7-2efb7ba2fe55",
   "metadata": {},
   "outputs": [],
   "source": [
    "def json_to_dataframe(file):\n",
    "    f = open(file) \n",
    "    data = json.loads(f.read())               \n",
    "    iid = []                                  \n",
    "    tit = []                                  \n",
    "    con = []\n",
    "    que = []\n",
    "    ans_st = []\n",
    "    txt = []\n",
    "    \n",
    "    for i in range(len(data['data'])):       # root tag of the json file contains 'title' tag & 'paragraphs' list\n",
    "        title = data['data'][i]['title']\n",
    "        for p in range(len(data['data'][i]['paragraphs'])):  # 'paragraphs' list contains 'context' tag & 'qas' list\n",
    "            context = data['data'][i]['paragraphs'][p]['context']\n",
    "            for q in range(len(data['data'][i]['paragraphs'][p]['qas'])):  # 'qas' list contains 'question', 'Id' tag & 'answers' list\n",
    "                question = data['data'][i]['paragraphs'][p]['qas'][q]['question']\n",
    "                Id = data['data'][i]['paragraphs'][p]['qas'][q]['id']\n",
    "                for a in range(len(data['data'][i]['paragraphs'][p]['qas'][q]['answers'])): # 'answers' list contains 'ans_start', 'text' tags.\n",
    "                    ans_start = data['data'][i]['paragraphs'][p]['qas'][q]['answers'][a]['answer_start']\n",
    "                    text = data['data'][i]['paragraphs'][p]['qas'][q]['answers'][a]['text']\n",
    "                    \n",
    "                    tit.append(title)\n",
    "                    con.append(context)\n",
    "                    que.append(question)                    \n",
    "                    iid.append(Id)\n",
    "                    ans_st.append(ans_start)\n",
    "                    txt.append(text)\n",
    "\n",
    "    new_df = pd.DataFrame(columns=['id','title','context','question','ans_start','answer']) \n",
    "    new_df.id = iid\n",
    "    new_df.title = tit           \n",
    "    new_df.context = con\n",
    "    new_df.question = que\n",
    "    new_df.ans_start = ans_st\n",
    "    new_df.answer = txt\n",
    "\n",
    "    final_df = new_df.drop_duplicates(keep='first')  # dropping duplicate rows from the create Dataframe\n",
    "    final_df.drop('id', axis=1, inplace=True) # remove unnecessary columns\n",
    "    final_df.drop('ans_start', axis=1, inplace=True)\n",
    "    print(f'The shape of the dataframe is {final_df.shape()}')\n",
    "    return final_df"
   ]
  },
  {
   "cell_type": "code",
   "execution_count": 7,
   "id": "40abe505-1761-4817-ba2f-37110815b1bd",
   "metadata": {},
   "outputs": [
    {
     "data": {
      "text/html": [
       "<div>\n",
       "<style scoped>\n",
       "    .dataframe tbody tr th:only-of-type {\n",
       "        vertical-align: middle;\n",
       "    }\n",
       "\n",
       "    .dataframe tbody tr th {\n",
       "        vertical-align: top;\n",
       "    }\n",
       "\n",
       "    .dataframe thead th {\n",
       "        text-align: right;\n",
       "    }\n",
       "</style>\n",
       "<table border=\"1\" class=\"dataframe\">\n",
       "  <thead>\n",
       "    <tr style=\"text-align: right;\">\n",
       "      <th></th>\n",
       "      <th>title</th>\n",
       "      <th>context</th>\n",
       "      <th>question</th>\n",
       "      <th>answer</th>\n",
       "    </tr>\n",
       "  </thead>\n",
       "  <tbody>\n",
       "    <tr>\n",
       "      <th>0</th>\n",
       "      <td>University_of_Notre_Dame</td>\n",
       "      <td>Architecturally, the school has a Catholic cha...</td>\n",
       "      <td>To whom did the Virgin Mary allegedly appear i...</td>\n",
       "      <td>Saint Bernadette Soubirous</td>\n",
       "    </tr>\n",
       "    <tr>\n",
       "      <th>1</th>\n",
       "      <td>University_of_Notre_Dame</td>\n",
       "      <td>Architecturally, the school has a Catholic cha...</td>\n",
       "      <td>What is in front of the Notre Dame Main Building?</td>\n",
       "      <td>a copper statue of Christ</td>\n",
       "    </tr>\n",
       "    <tr>\n",
       "      <th>2</th>\n",
       "      <td>University_of_Notre_Dame</td>\n",
       "      <td>Architecturally, the school has a Catholic cha...</td>\n",
       "      <td>The Basilica of the Sacred heart at Notre Dame...</td>\n",
       "      <td>the Main Building</td>\n",
       "    </tr>\n",
       "    <tr>\n",
       "      <th>3</th>\n",
       "      <td>University_of_Notre_Dame</td>\n",
       "      <td>Architecturally, the school has a Catholic cha...</td>\n",
       "      <td>What is the Grotto at Notre Dame?</td>\n",
       "      <td>a Marian place of prayer and reflection</td>\n",
       "    </tr>\n",
       "    <tr>\n",
       "      <th>4</th>\n",
       "      <td>University_of_Notre_Dame</td>\n",
       "      <td>Architecturally, the school has a Catholic cha...</td>\n",
       "      <td>What sits on top of the Main Building at Notre...</td>\n",
       "      <td>a golden statue of the Virgin Mary</td>\n",
       "    </tr>\n",
       "  </tbody>\n",
       "</table>\n",
       "</div>"
      ],
      "text/plain": [
       "                      title  \\\n",
       "0  University_of_Notre_Dame   \n",
       "1  University_of_Notre_Dame   \n",
       "2  University_of_Notre_Dame   \n",
       "3  University_of_Notre_Dame   \n",
       "4  University_of_Notre_Dame   \n",
       "\n",
       "                                             context  \\\n",
       "0  Architecturally, the school has a Catholic cha...   \n",
       "1  Architecturally, the school has a Catholic cha...   \n",
       "2  Architecturally, the school has a Catholic cha...   \n",
       "3  Architecturally, the school has a Catholic cha...   \n",
       "4  Architecturally, the school has a Catholic cha...   \n",
       "\n",
       "                                            question  \\\n",
       "0  To whom did the Virgin Mary allegedly appear i...   \n",
       "1  What is in front of the Notre Dame Main Building?   \n",
       "2  The Basilica of the Sacred heart at Notre Dame...   \n",
       "3                  What is the Grotto at Notre Dame?   \n",
       "4  What sits on top of the Main Building at Notre...   \n",
       "\n",
       "                                    answer  \n",
       "0               Saint Bernadette Soubirous  \n",
       "1                a copper statue of Christ  \n",
       "2                        the Main Building  \n",
       "3  a Marian place of prayer and reflection  \n",
       "4       a golden statue of the Virgin Mary  "
      ]
     },
     "execution_count": 7,
     "metadata": {},
     "output_type": "execute_result"
    }
   ],
   "source": [
    "train = json_to_dataframe('squad1.1/train-v1.1.json')\n",
    "train.head()"
   ]
  },
  {
   "cell_type": "code",
   "execution_count": 8,
   "id": "06a02ba1-ae4b-4906-b5c0-46d014c67a19",
   "metadata": {},
   "outputs": [
    {
     "data": {
      "text/html": [
       "<div>\n",
       "<style scoped>\n",
       "    .dataframe tbody tr th:only-of-type {\n",
       "        vertical-align: middle;\n",
       "    }\n",
       "\n",
       "    .dataframe tbody tr th {\n",
       "        vertical-align: top;\n",
       "    }\n",
       "\n",
       "    .dataframe thead th {\n",
       "        text-align: right;\n",
       "    }\n",
       "</style>\n",
       "<table border=\"1\" class=\"dataframe\">\n",
       "  <thead>\n",
       "    <tr style=\"text-align: right;\">\n",
       "      <th></th>\n",
       "      <th>title</th>\n",
       "      <th>context</th>\n",
       "      <th>question</th>\n",
       "      <th>answer</th>\n",
       "    </tr>\n",
       "  </thead>\n",
       "  <tbody>\n",
       "    <tr>\n",
       "      <th>0</th>\n",
       "      <td>Super_Bowl_50</td>\n",
       "      <td>Super Bowl 50 was an American football game to...</td>\n",
       "      <td>Which NFL team represented the AFC at Super Bo...</td>\n",
       "      <td>Denver Broncos</td>\n",
       "    </tr>\n",
       "    <tr>\n",
       "      <th>3</th>\n",
       "      <td>Super_Bowl_50</td>\n",
       "      <td>Super Bowl 50 was an American football game to...</td>\n",
       "      <td>Which NFL team represented the NFC at Super Bo...</td>\n",
       "      <td>Carolina Panthers</td>\n",
       "    </tr>\n",
       "    <tr>\n",
       "      <th>6</th>\n",
       "      <td>Super_Bowl_50</td>\n",
       "      <td>Super Bowl 50 was an American football game to...</td>\n",
       "      <td>Where did Super Bowl 50 take place?</td>\n",
       "      <td>Santa Clara, California</td>\n",
       "    </tr>\n",
       "    <tr>\n",
       "      <th>7</th>\n",
       "      <td>Super_Bowl_50</td>\n",
       "      <td>Super Bowl 50 was an American football game to...</td>\n",
       "      <td>Where did Super Bowl 50 take place?</td>\n",
       "      <td>Levi's Stadium</td>\n",
       "    </tr>\n",
       "    <tr>\n",
       "      <th>8</th>\n",
       "      <td>Super_Bowl_50</td>\n",
       "      <td>Super Bowl 50 was an American football game to...</td>\n",
       "      <td>Where did Super Bowl 50 take place?</td>\n",
       "      <td>Levi's Stadium in the San Francisco Bay Area a...</td>\n",
       "    </tr>\n",
       "  </tbody>\n",
       "</table>\n",
       "</div>"
      ],
      "text/plain": [
       "           title                                            context  \\\n",
       "0  Super_Bowl_50  Super Bowl 50 was an American football game to...   \n",
       "3  Super_Bowl_50  Super Bowl 50 was an American football game to...   \n",
       "6  Super_Bowl_50  Super Bowl 50 was an American football game to...   \n",
       "7  Super_Bowl_50  Super Bowl 50 was an American football game to...   \n",
       "8  Super_Bowl_50  Super Bowl 50 was an American football game to...   \n",
       "\n",
       "                                            question  \\\n",
       "0  Which NFL team represented the AFC at Super Bo...   \n",
       "3  Which NFL team represented the NFC at Super Bo...   \n",
       "6                Where did Super Bowl 50 take place?   \n",
       "7                Where did Super Bowl 50 take place?   \n",
       "8                Where did Super Bowl 50 take place?   \n",
       "\n",
       "                                              answer  \n",
       "0                                     Denver Broncos  \n",
       "3                                  Carolina Panthers  \n",
       "6                            Santa Clara, California  \n",
       "7                                     Levi's Stadium  \n",
       "8  Levi's Stadium in the San Francisco Bay Area a...  "
      ]
     },
     "execution_count": 8,
     "metadata": {},
     "output_type": "execute_result"
    }
   ],
   "source": [
    "test = json_to_dataframe('squad1.1/dev-v1.1.json')\n",
    "test.head()"
   ]
  },
  {
   "cell_type": "code",
   "execution_count": 9,
   "id": "b5c83aa9-afdc-4d6f-9fe8-63df8f17ba98",
   "metadata": {},
   "outputs": [
    {
     "data": {
      "text/html": [
       "<div>\n",
       "<style scoped>\n",
       "    .dataframe tbody tr th:only-of-type {\n",
       "        vertical-align: middle;\n",
       "    }\n",
       "\n",
       "    .dataframe tbody tr th {\n",
       "        vertical-align: top;\n",
       "    }\n",
       "\n",
       "    .dataframe thead th {\n",
       "        text-align: right;\n",
       "    }\n",
       "</style>\n",
       "<table border=\"1\" class=\"dataframe\">\n",
       "  <thead>\n",
       "    <tr style=\"text-align: right;\">\n",
       "      <th></th>\n",
       "      <th>title</th>\n",
       "      <th>context</th>\n",
       "      <th>question</th>\n",
       "      <th>answer</th>\n",
       "    </tr>\n",
       "  </thead>\n",
       "  <tbody>\n",
       "    <tr>\n",
       "      <th>0</th>\n",
       "      <td>University_of_Notre_Dame</td>\n",
       "      <td>Architecturally, the school has a Catholic cha...</td>\n",
       "      <td>To whom did the Virgin Mary allegedly appear i...</td>\n",
       "      <td>Saint Bernadette Soubirous</td>\n",
       "    </tr>\n",
       "    <tr>\n",
       "      <th>1</th>\n",
       "      <td>University_of_Notre_Dame</td>\n",
       "      <td>Architecturally, the school has a Catholic cha...</td>\n",
       "      <td>What is in front of the Notre Dame Main Building?</td>\n",
       "      <td>a copper statue of Christ</td>\n",
       "    </tr>\n",
       "    <tr>\n",
       "      <th>2</th>\n",
       "      <td>University_of_Notre_Dame</td>\n",
       "      <td>Architecturally, the school has a Catholic cha...</td>\n",
       "      <td>The Basilica of the Sacred heart at Notre Dame...</td>\n",
       "      <td>the Main Building</td>\n",
       "    </tr>\n",
       "    <tr>\n",
       "      <th>3</th>\n",
       "      <td>University_of_Notre_Dame</td>\n",
       "      <td>Architecturally, the school has a Catholic cha...</td>\n",
       "      <td>What is the Grotto at Notre Dame?</td>\n",
       "      <td>a Marian place of prayer and reflection</td>\n",
       "    </tr>\n",
       "    <tr>\n",
       "      <th>4</th>\n",
       "      <td>University_of_Notre_Dame</td>\n",
       "      <td>Architecturally, the school has a Catholic cha...</td>\n",
       "      <td>What sits on top of the Main Building at Notre...</td>\n",
       "      <td>a golden statue of the Virgin Mary</td>\n",
       "    </tr>\n",
       "  </tbody>\n",
       "</table>\n",
       "</div>"
      ],
      "text/plain": [
       "                      title  \\\n",
       "0  University_of_Notre_Dame   \n",
       "1  University_of_Notre_Dame   \n",
       "2  University_of_Notre_Dame   \n",
       "3  University_of_Notre_Dame   \n",
       "4  University_of_Notre_Dame   \n",
       "\n",
       "                                             context  \\\n",
       "0  Architecturally, the school has a Catholic cha...   \n",
       "1  Architecturally, the school has a Catholic cha...   \n",
       "2  Architecturally, the school has a Catholic cha...   \n",
       "3  Architecturally, the school has a Catholic cha...   \n",
       "4  Architecturally, the school has a Catholic cha...   \n",
       "\n",
       "                                            question  \\\n",
       "0  To whom did the Virgin Mary allegedly appear i...   \n",
       "1  What is in front of the Notre Dame Main Building?   \n",
       "2  The Basilica of the Sacred heart at Notre Dame...   \n",
       "3                  What is the Grotto at Notre Dame?   \n",
       "4  What sits on top of the Main Building at Notre...   \n",
       "\n",
       "                                    answer  \n",
       "0               Saint Bernadette Soubirous  \n",
       "1                a copper statue of Christ  \n",
       "2                        the Main Building  \n",
       "3  a Marian place of prayer and reflection  \n",
       "4       a golden statue of the Virgin Mary  "
      ]
     },
     "execution_count": 9,
     "metadata": {},
     "output_type": "execute_result"
    }
   ],
   "source": [
    "# slicing dataset for EDA\n",
    "pizza = train[:30].copy()\n",
    "pizza.head()"
   ]
  },
  {
   "cell_type": "markdown",
   "id": "958e42d3-1c4e-4297-8574-ce59e4a73fe6",
   "metadata": {},
   "source": [
    "# Data Preprocessing\n",
    "\n",
    "We first begin with a basic data cleaning, to remove the usual suspects that might plague our data. We first check for null values and that the datatypes are correct."
   ]
  },
  {
   "cell_type": "code",
   "execution_count": 7,
   "id": "58a9c7f1-4393-42f8-8e7c-f2cbe3d93a81",
   "metadata": {},
   "outputs": [
    {
     "data": {
      "text/plain": [
       "0"
      ]
     },
     "execution_count": 7,
     "metadata": {},
     "output_type": "execute_result"
    }
   ],
   "source": [
    "train.duplicated().sum()"
   ]
  },
  {
   "cell_type": "code",
   "execution_count": 8,
   "id": "b725070a-4a03-43d2-8c7b-8ef45dd9a071",
   "metadata": {},
   "outputs": [
    {
     "name": "stdout",
     "output_type": "stream",
     "text": [
      "<class 'pandas.core.frame.DataFrame'>\n",
      "Int64Index: 87599 entries, 0 to 87598\n",
      "Data columns (total 6 columns):\n",
      " #   Column     Non-Null Count  Dtype \n",
      "---  ------     --------------  ----- \n",
      " 0   id         87599 non-null  object\n",
      " 1   title      87599 non-null  object\n",
      " 2   context    87599 non-null  object\n",
      " 3   question   87599 non-null  object\n",
      " 4   ans_start  87599 non-null  int64 \n",
      " 5   answer     87599 non-null  object\n",
      "dtypes: int64(1), object(5)\n",
      "memory usage: 4.7+ MB\n"
     ]
    }
   ],
   "source": [
    "train.info()"
   ]
  },
  {
   "cell_type": "markdown",
   "id": "9505af83-36e1-4b9d-a5ad-fc9a4ba84f6c",
   "metadata": {},
   "source": [
    "It seems that they are in order. We can then clean the text to remove unwanted noise."
   ]
  },
  {
   "cell_type": "code",
   "execution_count": 9,
   "id": "e27a3ce7-1681-45fc-82c8-aec6ff7bff0d",
   "metadata": {},
   "outputs": [],
   "source": [
    "def text_cleaning(text):\n",
    "    \"\"\"\n",
    "    removes unwanted characters (punctuation, HTML relics, and delimiters) and unwanted data (emails, emojis)\n",
    "    \"\"\"\n",
    "    \n",
    "    # remove whitespaces\n",
    "    clean = text.strip()\n",
    "    \n",
    "    # # removing punctuation\n",
    "    # punc = re.sub(r\"[/%]\", \"\", string.punctuation)\n",
    "    # clean = \"\".join(l for l in text if l not in punc)\n",
    "\n",
    "    # # remove html\n",
    "    # text = bs(clean)\n",
    "    # clean = text.get_text(strip=True)\n",
    "\n",
    "    # remove delimiters\n",
    "    clean = re.sub(r\"(\\\\n)+\", \" \", clean)\n",
    "\n",
    "    # remove hyperlinks\n",
    "    clean = re.sub(r\"http\\S+|www.\\S+\", \"\", clean)\n",
    "    \n",
    "    # # lower case\n",
    "    # clean = clean.lower()\n",
    "    \n",
    "    return clean"
   ]
  },
  {
   "cell_type": "code",
   "execution_count": 10,
   "id": "067a3cbe-33a9-4fe2-83f8-aa136f61f328",
   "metadata": {},
   "outputs": [
    {
     "name": "stderr",
     "output_type": "stream",
     "text": [
      "     100%|██████████████████████████████████████████████████| 87599/87599 [00:02<00:00, 39387.52it/s]\n",
      "     100%|██████████████████████████████████████████████████| 87599/87599 [00:00<00:00, 240437.95it/s]\n",
      "     100%|██████████████████████████████████████████████████| 87599/87599 [00:00<00:00, 337913.60it/s]\n"
     ]
    }
   ],
   "source": [
    "word_cols = ['context', 'question', 'answer']\n",
    "for i in word_cols:\n",
    "    train[i] = train[i].progress_apply(text_cleaning)"
   ]
  },
  {
   "cell_type": "markdown",
   "id": "39db168a-3703-431f-8b5e-2655d29dc89a",
   "metadata": {},
   "source": [
    "# Exploratory Data Analysis\n",
    "\n",
    "We can first do some EDA to explore the data and hopefully gain some interesting insights. We will first do a corpus-level analysis before a word-level analysis."
   ]
  },
  {
   "cell_type": "markdown",
   "id": "a6aaa3d3-0cac-46db-b134-0f4d7ff1cb69",
   "metadata": {},
   "source": [
    "## Word and Character Lengths\n",
    "\n",
    "We can first examine the character and word length distribution for each entry."
   ]
  },
  {
   "cell_type": "code",
   "execution_count": 11,
   "id": "4ec67846-3212-4eec-a573-cfe85d8e31da",
   "metadata": {
    "tags": []
   },
   "outputs": [],
   "source": [
    "def char_plot(df, *cols):\n",
    "    fig, axes = plt.subplots(1, 3, figsize=(18, 5))\n",
    "    plt.suptitle(f'Histogram of number of characters in each column{newline}', fontsize=25)\n",
    "\n",
    "    axes[0].set_title(f'Length of contexts', fontsize = 15)\n",
    "    axes[0].set_xlabel('Length')\n",
    "    axes[0].set_ylabel('Count')\n",
    "    axes[0].hist(df['context'].str.len(), color='r')\n",
    "\n",
    "    axes[1].set_title(f'Length of questions', fontsize = 15)\n",
    "    axes[1].set_xlabel('Length')\n",
    "    axes[1].set_ylabel('Count')\n",
    "    axes[1].hist(df['question'].str.len(), color='g', bins=np.linspace(0, 200, 20));\n",
    "    \n",
    "    axes[2].set_title(f'Length of answers', fontsize = 15)\n",
    "    axes[2].set_xlabel('Length')\n",
    "    axes[2].set_ylabel('Count')\n",
    "    axes[2].hist(df['answer'].str.len(), color='b');"
   ]
  },
  {
   "cell_type": "code",
   "execution_count": 12,
   "id": "42b9950f-890f-4848-a2c5-99958c385255",
   "metadata": {},
   "outputs": [
    {
     "data": {
      "image/png": "[encoded data removed]",
      "text/plain": [
       "<Figure size 1296x360 with 3 Axes>"
      ]
     },
     "metadata": {
      "needs_background": "light"
     },
     "output_type": "display_data"
    }
   ],
   "source": [
    "char_plot(train)"
   ]
  },
  {
   "cell_type": "markdown",
   "id": "41214353-9337-41b3-bf7c-12e5c789103c",
   "metadata": {},
   "source": [
    "Most of the answers are short answers as the answers histogram is heavily right-skewed. There are also some longer contexts and answers, which we would expect from more complicated passages."
   ]
  },
  {
   "cell_type": "code",
   "execution_count": 13,
   "id": "8ccd6958-d0c6-441a-adce-8aeea1ae97db",
   "metadata": {
    "tags": []
   },
   "outputs": [],
   "source": [
    "def word_plot(df):\n",
    "    fig, axes = plt.subplots(1, 3, figsize=(18, 5))\n",
    "    plt.suptitle(f'Histogram of number of words in each column{newline}', fontsize=25)\n",
    "\n",
    "    axes[0].set_title(f'Number of words in contexts', fontsize=15)\n",
    "    axes[0].set_xlabel('Number of words')\n",
    "    axes[0].set_ylabel('Count')\n",
    "    con = df['context'].str.split().map(lambda x: len(x))\n",
    "    axes[0].hist(con, color='r')\n",
    "\n",
    "    axes[1].set_title(f'Number of words in questions', fontsize=15)\n",
    "    axes[1].set_xlabel('Number of words')\n",
    "    axes[1].set_ylabel('Count')\n",
    "    que = df['context'].str.split().map(lambda x: len(x))\n",
    "    axes[1].bar(que.index, que.values, color='g');\n",
    "    \n",
    "    axes[2].set_title(f'Number of words in answers', fontsize=15)\n",
    "    axes[2].set_xlabel('Number of words')\n",
    "    axes[2].set_ylabel('Count')\n",
    "    ans = df['answer'].str.split().map(lambda x: len(x))\n",
    "    axes[2].bar(ans.index, ans.values, color='b');"
   ]
  },
  {
   "cell_type": "code",
   "execution_count": 14,
   "id": "0d475315-9ef0-43e6-9e2f-4eebbe3d38d8",
   "metadata": {
    "tags": []
   },
   "outputs": [
    {
     "name": "stdout",
     "output_type": "stream",
     "text": [
      "Wall time: 1min 10s\n"
     ]
    },
    {
     "data": {
      "image/png": "[encoded data removed]",
      "text/plain": [
       "<Figure size 1296x360 with 3 Axes>"
      ]
     },
     "metadata": {
      "needs_background": "light"
     },
     "output_type": "display_data"
    }
   ],
   "source": [
    "%time word_plot(train)"
   ]
  },
  {
   "cell_type": "markdown",
   "id": "a913b946-2fb8-4f56-82dc-5c0b5d44f28d",
   "metadata": {},
   "source": [
    "## Data Engineering"
   ]
  },
  {
   "cell_type": "markdown",
   "id": "077ed088-d3f4-4c8a-8052-106aeefb7efc",
   "metadata": {
    "tags": []
   },
   "source": [
    "### n-grams\n",
    "\n",
    "We can take a look at the n-grams with the help of the `nltk` and `sklearn` libraries."
   ]
  },
  {
   "cell_type": "code",
   "execution_count": 15,
   "id": "4e0457c3-179d-4e18-9526-98a97ec7bf72",
   "metadata": {},
   "outputs": [],
   "source": [
    "stop_words = set(stopwords.words(\"english\"))"
   ]
  },
  {
   "cell_type": "code",
   "execution_count": 16,
   "id": "d96cd67e-94c0-456b-9e8f-4c4d6f10e71b",
   "metadata": {},
   "outputs": [],
   "source": [
    "def freq_plot(df, vec):\n",
    "    '''\n",
    "    function to plot the most frequent unigrams, bigrams, and tf-idf given the dataframe (df) and vectorization (vec)\n",
    "    returns the top 20 most common tokens and their frequency charts\n",
    "    '''\n",
    "    \n",
    "    if vec == 'unigram':\n",
    "        v = CountVectorizer(ngram_range=(1,2), stop_words=stop_words)\n",
    "    elif vec == 'bigram':\n",
    "        v = CountVectorizer(ngram_range=(2,2), stop_words=stop_words)\n",
    "    elif vec == 'tf-idf unigram':\n",
    "        v = TfidfVectorizer(ngram_range=(1,2), stop_words=stop_words)\n",
    "    else:\n",
    "        v = TfidfVectorizer(ngram_range=(2,2), stop_words=stop_words)\n",
    "    \n",
    "    context = v.fit_transform(df['context'].unique())\n",
    "    context = pd.DataFrame(context.todense(), columns=v.get_feature_names_out()).sum().sort_values().tail(20)\n",
    "    question = v.fit_transform(df['question'])\n",
    "    question = pd.DataFrame(question.todense(), columns=v.get_feature_names_out()).sum().sort_values().tail(20)    \n",
    "    answer = v.fit_transform(df['answer'])\n",
    "    answer = pd.DataFrame(answer.todense(), columns=v.get_feature_names_out()).sum().sort_values().tail(20)\n",
    "\n",
    "    fig, axes = plt.subplots(3, 1, figsize=(10, 15))\n",
    "    plt.suptitle(f'Plot of most frequest {vec}s in the dataset', fontsize=20)\n",
    "\n",
    "    axes[0].set_title(f'Top 20 words in context', fontsize = 15)\n",
    "    axes[0].set_xlabel('Number of words')\n",
    "    axes[0].set_ylabel('Count')\n",
    "    axes[0].barh(context.index, context, color='r')\n",
    "\n",
    "    axes[1].set_title(f'Top 20 words in question', fontsize = 15)\n",
    "    axes[1].set_xlabel('Number of words')\n",
    "    axes[1].set_ylabel('Count')\n",
    "    axes[1].barh(question.index, question, color='g')\n",
    "    \n",
    "    axes[2].set_title(f'Top 20 words in answer', fontsize = 15)\n",
    "    axes[2].set_xlabel('Number of words')\n",
    "    axes[2].set_ylabel('Count')\n",
    "    axes[2].barh(answer.index, answer, color='b')"
   ]
  },
  {
   "cell_type": "code",
   "execution_count": 17,
   "id": "a51c6b48-b7da-45e3-9373-c8b3112fd6fc",
   "metadata": {},
   "outputs": [
    {
     "data": {
      "image/png": "[encoded data removed]",
      "text/plain": [
       "<Figure size 720x1080 with 3 Axes>"
      ]
     },
     "metadata": {
      "needs_background": "light"
     },
     "output_type": "display_data"
    }
   ],
   "source": [
    "# slice\n",
    "freq_plot(pizza, 'tf-idf bigram')"
   ]
  },
  {
   "cell_type": "markdown",
   "id": "8fa0b81a-c2ea-4fd5-ba7b-4219dd64f9df",
   "metadata": {},
   "source": [
    "Since the topics are so varied, the n-grams would not show much important information other than the most common topics which questions were generated from. We can thus simply plot the frequency of the topic words to find out which topics have the most questions."
   ]
  },
  {
   "cell_type": "code",
   "execution_count": 18,
   "id": "01c75952-b66b-4a1b-8dda-39cafb882cf3",
   "metadata": {},
   "outputs": [
    {
     "data": {
      "image/png": "[encoded data removed]",
      "text/plain": [
       "<Figure size 432x288 with 1 Axes>"
      ]
     },
     "metadata": {
      "needs_background": "light"
     },
     "output_type": "display_data"
    }
   ],
   "source": [
    "count = Counter(train['title'])\n",
    "x,y=map(list,zip(*count.most_common(20)))\n",
    "sns.barplot(x=y,y=x);"
   ]
  },
  {
   "cell_type": "markdown",
   "id": "e6a50aa1-b5f5-4c3f-9653-f413c28e3f4b",
   "metadata": {},
   "source": [
    "As we can see, the topics are varied and range from events to places, people to religions."
   ]
  },
  {
   "cell_type": "markdown",
   "id": "3861cfd7-c607-4b78-9f0f-2a323306ac5b",
   "metadata": {},
   "source": [
    "### spaCy Pipeline\n",
    "\n",
    "We can use the `spaCy` library which can tokenize, lemmatize, and give pos and ner tags."
   ]
  },
  {
   "cell_type": "code",
   "execution_count": 12,
   "id": "102f0817-5454-4623-bb80-97e5798f7384",
   "metadata": {},
   "outputs": [
    {
     "name": "stdout",
     "output_type": "stream",
     "text": [
      "spaCy is using GPU!\n"
     ]
    }
   ],
   "source": [
    "is_using_gpu = spacy.require_gpu()\n",
    "if is_using_gpu:\n",
    "    torch.set_default_tensor_type(\"torch.cuda.FloatTensor\")\n",
    "    print('spaCy is using GPU!')\n",
    "else:\n",
    "    print('spaCy is not using GPU...')\n",
    "\n",
    "nlp = spacy.load(\"en_core_web_sm\")"
   ]
  },
  {
   "cell_type": "markdown",
   "id": "8c1f9a7e-89fa-4bee-af40-7bfaa5fbe637",
   "metadata": {},
   "source": [
    "These are the components of the spaCy pipeline:\n",
    "   1. tokenizer: splits sentences into word chunks\n",
    "   2. tagger: part-of-speech tagging\n",
    "   3. parser: gives the dependency parsing of each word in relation to the text\n",
    "   4. lemmatizer: breaks words down into their lemmas (word stems)\n",
    "   5. ner: named entity recognition tagging"
   ]
  },
  {
   "cell_type": "markdown",
   "id": "a330d282-9f44-4eca-b363-19847a0303d1",
   "metadata": {},
   "source": [
    "### NER Tags\n",
    "\n",
    "`spaCy`'s ner tagging is not very accurate, as we can demonstrate. "
   ]
  },
  {
   "cell_type": "markdown",
   "id": "14fe280e-7b92-4972-bfeb-acda5b3632da",
   "metadata": {},
   "source": [
    "We will define a sample text to display how `spaCy` will be transforming our text."
   ]
  },
  {
   "cell_type": "code",
   "execution_count": 20,
   "id": "df01f1b7-0191-4702-ac6f-70e61e96c293",
   "metadata": {},
   "outputs": [
    {
     "data": {
      "text/plain": [
       "The university first offered graduate degrees, in the form of a Master of Arts (MA), in the 1854–1855 academic year. The program expanded to include Master of Laws (LL.M.) and Master of Civil Engineering in its early stages of growth, before a formal graduate school education was developed with a thesis not required to receive the degrees. This changed in 1924 with formal requirements developed for graduate degrees, including offering Doctorate (PhD) degrees. Today each of the five colleges offer graduate education. Most of the departments from the College of Arts and Letters offer PhD programs, while a professional Master of Divinity (M.Div.) program also exists. All of the departments in the College of Science offer PhD programs, except for the Department of Pre-Professional Studies. The School of Architecture offers a Master of Architecture, while each of the departments of the College of Engineering offer PhD programs. The College of Business offers multiple professional programs including MBA and Master of Science in Accountancy programs. It also operates facilities in Chicago and Cincinnati for its executive MBA program. Additionally, the Alliance for Catholic Education program offers a Master of Education program where students study at the university during the summer and teach in Catholic elementary schools, middle schools, and high schools across the Southern United States for two school years."
      ]
     },
     "execution_count": 20,
     "metadata": {},
     "output_type": "execute_result"
    }
   ],
   "source": [
    "sample = nlp(pizza['context'][25])\n",
    "sample"
   ]
  },
  {
   "cell_type": "code",
   "execution_count": 21,
   "id": "582b1589-00cc-4c14-9425-1a61636bb728",
   "metadata": {},
   "outputs": [
    {
     "name": "stdout",
     "output_type": "stream",
     "text": [
      "first ORDINAL\n",
      "a Master of Arts (MA WORK_OF_ART\n",
      "the 1854–1855 academic year DATE\n",
      "Master of Laws WORK_OF_ART\n",
      "1924 DATE\n",
      "Doctorate (PhD WORK_OF_ART\n",
      "Today DATE\n",
      "five CARDINAL\n",
      "the College of Arts and Letters ORG\n",
      "PhD WORK_OF_ART\n",
      "the College of Science ORG\n",
      "PhD WORK_OF_ART\n",
      "the Department of Pre-Professional Studies ORG\n",
      "The School of Architecture ORG\n",
      "the College of Engineering ORG\n",
      "PhD WORK_OF_ART\n",
      "The College of Business ORG\n",
      "MBA WORK_OF_ART\n",
      "Chicago GPE\n",
      "Cincinnati GPE\n",
      "MBA WORK_OF_ART\n",
      "the Alliance for Catholic Education ORG\n",
      "a Master of Education WORK_OF_ART\n",
      "Catholic NORP\n",
      "the Southern United States GPE\n",
      "two school years DATE\n"
     ]
    }
   ],
   "source": [
    "for ent in sample.ents:\n",
    "    print(ent.text, ent.label_)"
   ]
  },
  {
   "cell_type": "code",
   "execution_count": 22,
   "id": "51954691-6466-4865-9e6e-8df7caa6ed53",
   "metadata": {},
   "outputs": [
    {
     "data": {
      "text/html": [
       "<span class=\"tex2jax_ignore\"><div class=\"entities\" style=\"line-height: 2.5; direction: ltr\">The university \n",
       "<mark class=\"entity\" style=\"background: #e4e7d2; padding: 0.45em 0.6em; margin: 0 0.25em; line-height: 1; border-radius: 0.35em;\">\n",
       "    first\n",
       "    <span style=\"font-size: 0.8em; font-weight: bold; line-height: 1; border-radius: 0.35em; vertical-align: middle; margin-left: 0.5rem\">ORDINAL</span>\n",
       "</mark>\n",
       " offered graduate degrees, in the form of \n",
       "<mark class=\"entity\" style=\"background: #f0d0ff; padding: 0.45em 0.6em; margin: 0 0.25em; line-height: 1; border-radius: 0.35em;\">\n",
       "    a Master of Arts (MA\n",
       "    <span style=\"font-size: 0.8em; font-weight: bold; line-height: 1; border-radius: 0.35em; vertical-align: middle; margin-left: 0.5rem\">WORK_OF_ART</span>\n",
       "</mark>\n",
       "), in \n",
       "<mark class=\"entity\" style=\"background: #bfe1d9; padding: 0.45em 0.6em; margin: 0 0.25em; line-height: 1; border-radius: 0.35em;\">\n",
       "    the 1854–1855 academic year\n",
       "    <span style=\"font-size: 0.8em; font-weight: bold; line-height: 1; border-radius: 0.35em; vertical-align: middle; margin-left: 0.5rem\">DATE</span>\n",
       "</mark>\n",
       ". The program expanded to include \n",
       "<mark class=\"entity\" style=\"background: #f0d0ff; padding: 0.45em 0.6em; margin: 0 0.25em; line-height: 1; border-radius: 0.35em;\">\n",
       "    Master of Laws\n",
       "    <span style=\"font-size: 0.8em; font-weight: bold; line-height: 1; border-radius: 0.35em; vertical-align: middle; margin-left: 0.5rem\">WORK_OF_ART</span>\n",
       "</mark>\n",
       " (LL.M.) and Master of Civil Engineering in its early stages of growth, before a formal graduate school education was developed with a thesis not required to receive the degrees. This changed in \n",
       "<mark class=\"entity\" style=\"background: #bfe1d9; padding: 0.45em 0.6em; margin: 0 0.25em; line-height: 1; border-radius: 0.35em;\">\n",
       "    1924\n",
       "    <span style=\"font-size: 0.8em; font-weight: bold; line-height: 1; border-radius: 0.35em; vertical-align: middle; margin-left: 0.5rem\">DATE</span>\n",
       "</mark>\n",
       " with formal requirements developed for graduate degrees, including offering \n",
       "<mark class=\"entity\" style=\"background: #f0d0ff; padding: 0.45em 0.6em; margin: 0 0.25em; line-height: 1; border-radius: 0.35em;\">\n",
       "    Doctorate (PhD\n",
       "    <span style=\"font-size: 0.8em; font-weight: bold; line-height: 1; border-radius: 0.35em; vertical-align: middle; margin-left: 0.5rem\">WORK_OF_ART</span>\n",
       "</mark>\n",
       ") degrees. \n",
       "<mark class=\"entity\" style=\"background: #bfe1d9; padding: 0.45em 0.6em; margin: 0 0.25em; line-height: 1; border-radius: 0.35em;\">\n",
       "    Today\n",
       "    <span style=\"font-size: 0.8em; font-weight: bold; line-height: 1; border-radius: 0.35em; vertical-align: middle; margin-left: 0.5rem\">DATE</span>\n",
       "</mark>\n",
       " each of the \n",
       "<mark class=\"entity\" style=\"background: #e4e7d2; padding: 0.45em 0.6em; margin: 0 0.25em; line-height: 1; border-radius: 0.35em;\">\n",
       "    five\n",
       "    <span style=\"font-size: 0.8em; font-weight: bold; line-height: 1; border-radius: 0.35em; vertical-align: middle; margin-left: 0.5rem\">CARDINAL</span>\n",
       "</mark>\n",
       " colleges offer graduate education. Most of the departments from \n",
       "<mark class=\"entity\" style=\"background: #7aecec; padding: 0.45em 0.6em; margin: 0 0.25em; line-height: 1; border-radius: 0.35em;\">\n",
       "    the College of Arts and Letters\n",
       "    <span style=\"font-size: 0.8em; font-weight: bold; line-height: 1; border-radius: 0.35em; vertical-align: middle; margin-left: 0.5rem\">ORG</span>\n",
       "</mark>\n",
       " offer \n",
       "<mark class=\"entity\" style=\"background: #f0d0ff; padding: 0.45em 0.6em; margin: 0 0.25em; line-height: 1; border-radius: 0.35em;\">\n",
       "    PhD\n",
       "    <span style=\"font-size: 0.8em; font-weight: bold; line-height: 1; border-radius: 0.35em; vertical-align: middle; margin-left: 0.5rem\">WORK_OF_ART</span>\n",
       "</mark>\n",
       " programs, while a professional Master of Divinity (M.Div.) program also exists. All of the departments in \n",
       "<mark class=\"entity\" style=\"background: #7aecec; padding: 0.45em 0.6em; margin: 0 0.25em; line-height: 1; border-radius: 0.35em;\">\n",
       "    the College of Science\n",
       "    <span style=\"font-size: 0.8em; font-weight: bold; line-height: 1; border-radius: 0.35em; vertical-align: middle; margin-left: 0.5rem\">ORG</span>\n",
       "</mark>\n",
       " offer \n",
       "<mark class=\"entity\" style=\"background: #f0d0ff; padding: 0.45em 0.6em; margin: 0 0.25em; line-height: 1; border-radius: 0.35em;\">\n",
       "    PhD\n",
       "    <span style=\"font-size: 0.8em; font-weight: bold; line-height: 1; border-radius: 0.35em; vertical-align: middle; margin-left: 0.5rem\">WORK_OF_ART</span>\n",
       "</mark>\n",
       " programs, except for \n",
       "<mark class=\"entity\" style=\"background: #7aecec; padding: 0.45em 0.6em; margin: 0 0.25em; line-height: 1; border-radius: 0.35em;\">\n",
       "    the Department of Pre-Professional Studies\n",
       "    <span style=\"font-size: 0.8em; font-weight: bold; line-height: 1; border-radius: 0.35em; vertical-align: middle; margin-left: 0.5rem\">ORG</span>\n",
       "</mark>\n",
       ". \n",
       "<mark class=\"entity\" style=\"background: #7aecec; padding: 0.45em 0.6em; margin: 0 0.25em; line-height: 1; border-radius: 0.35em;\">\n",
       "    The School of Architecture\n",
       "    <span style=\"font-size: 0.8em; font-weight: bold; line-height: 1; border-radius: 0.35em; vertical-align: middle; margin-left: 0.5rem\">ORG</span>\n",
       "</mark>\n",
       " offers a Master of Architecture, while each of the departments of \n",
       "<mark class=\"entity\" style=\"background: #7aecec; padding: 0.45em 0.6em; margin: 0 0.25em; line-height: 1; border-radius: 0.35em;\">\n",
       "    the College of Engineering\n",
       "    <span style=\"font-size: 0.8em; font-weight: bold; line-height: 1; border-radius: 0.35em; vertical-align: middle; margin-left: 0.5rem\">ORG</span>\n",
       "</mark>\n",
       " offer \n",
       "<mark class=\"entity\" style=\"background: #f0d0ff; padding: 0.45em 0.6em; margin: 0 0.25em; line-height: 1; border-radius: 0.35em;\">\n",
       "    PhD\n",
       "    <span style=\"font-size: 0.8em; font-weight: bold; line-height: 1; border-radius: 0.35em; vertical-align: middle; margin-left: 0.5rem\">WORK_OF_ART</span>\n",
       "</mark>\n",
       " programs. \n",
       "<mark class=\"entity\" style=\"background: #7aecec; padding: 0.45em 0.6em; margin: 0 0.25em; line-height: 1; border-radius: 0.35em;\">\n",
       "    The College of Business\n",
       "    <span style=\"font-size: 0.8em; font-weight: bold; line-height: 1; border-radius: 0.35em; vertical-align: middle; margin-left: 0.5rem\">ORG</span>\n",
       "</mark>\n",
       " offers multiple professional programs including \n",
       "<mark class=\"entity\" style=\"background: #f0d0ff; padding: 0.45em 0.6em; margin: 0 0.25em; line-height: 1; border-radius: 0.35em;\">\n",
       "    MBA\n",
       "    <span style=\"font-size: 0.8em; font-weight: bold; line-height: 1; border-radius: 0.35em; vertical-align: middle; margin-left: 0.5rem\">WORK_OF_ART</span>\n",
       "</mark>\n",
       " and Master of Science in Accountancy programs. It also operates facilities in \n",
       "<mark class=\"entity\" style=\"background: #feca74; padding: 0.45em 0.6em; margin: 0 0.25em; line-height: 1; border-radius: 0.35em;\">\n",
       "    Chicago\n",
       "    <span style=\"font-size: 0.8em; font-weight: bold; line-height: 1; border-radius: 0.35em; vertical-align: middle; margin-left: 0.5rem\">GPE</span>\n",
       "</mark>\n",
       " and \n",
       "<mark class=\"entity\" style=\"background: #feca74; padding: 0.45em 0.6em; margin: 0 0.25em; line-height: 1; border-radius: 0.35em;\">\n",
       "    Cincinnati\n",
       "    <span style=\"font-size: 0.8em; font-weight: bold; line-height: 1; border-radius: 0.35em; vertical-align: middle; margin-left: 0.5rem\">GPE</span>\n",
       "</mark>\n",
       " for its executive \n",
       "<mark class=\"entity\" style=\"background: #f0d0ff; padding: 0.45em 0.6em; margin: 0 0.25em; line-height: 1; border-radius: 0.35em;\">\n",
       "    MBA\n",
       "    <span style=\"font-size: 0.8em; font-weight: bold; line-height: 1; border-radius: 0.35em; vertical-align: middle; margin-left: 0.5rem\">WORK_OF_ART</span>\n",
       "</mark>\n",
       " program. Additionally, \n",
       "<mark class=\"entity\" style=\"background: #7aecec; padding: 0.45em 0.6em; margin: 0 0.25em; line-height: 1; border-radius: 0.35em;\">\n",
       "    the Alliance for Catholic Education\n",
       "    <span style=\"font-size: 0.8em; font-weight: bold; line-height: 1; border-radius: 0.35em; vertical-align: middle; margin-left: 0.5rem\">ORG</span>\n",
       "</mark>\n",
       " program offers \n",
       "<mark class=\"entity\" style=\"background: #f0d0ff; padding: 0.45em 0.6em; margin: 0 0.25em; line-height: 1; border-radius: 0.35em;\">\n",
       "    a Master of Education\n",
       "    <span style=\"font-size: 0.8em; font-weight: bold; line-height: 1; border-radius: 0.35em; vertical-align: middle; margin-left: 0.5rem\">WORK_OF_ART</span>\n",
       "</mark>\n",
       " program where students study at the university during the summer and teach in \n",
       "<mark class=\"entity\" style=\"background: #c887fb; padding: 0.45em 0.6em; margin: 0 0.25em; line-height: 1; border-radius: 0.35em;\">\n",
       "    Catholic\n",
       "    <span style=\"font-size: 0.8em; font-weight: bold; line-height: 1; border-radius: 0.35em; vertical-align: middle; margin-left: 0.5rem\">NORP</span>\n",
       "</mark>\n",
       " elementary schools, middle schools, and high schools across \n",
       "<mark class=\"entity\" style=\"background: #feca74; padding: 0.45em 0.6em; margin: 0 0.25em; line-height: 1; border-radius: 0.35em;\">\n",
       "    the Southern United States\n",
       "    <span style=\"font-size: 0.8em; font-weight: bold; line-height: 1; border-radius: 0.35em; vertical-align: middle; margin-left: 0.5rem\">GPE</span>\n",
       "</mark>\n",
       " for \n",
       "<mark class=\"entity\" style=\"background: #bfe1d9; padding: 0.45em 0.6em; margin: 0 0.25em; line-height: 1; border-radius: 0.35em;\">\n",
       "    two school years\n",
       "    <span style=\"font-size: 0.8em; font-weight: bold; line-height: 1; border-radius: 0.35em; vertical-align: middle; margin-left: 0.5rem\">DATE</span>\n",
       "</mark>\n",
       ".</div></span>"
      ],
      "text/plain": [
       "<IPython.core.display.HTML object>"
      ]
     },
     "metadata": {},
     "output_type": "display_data"
    }
   ],
   "source": [
    "displacy.render(sample, jupyter=True, style='ent')"
   ]
  },
  {
   "cell_type": "markdown",
   "id": "6634f1ad-4b34-4769-ab9c-9c405ec2ea34",
   "metadata": {},
   "source": [
    "As we can see above, the ner tagging made the following mistakes:\n",
    "- the degrees were labels as works of art\n",
    "- the academic year was labeled as a date, which is still forgivable\n",
    "- Master of Law was captured but not the Masters of Architecture, Civil Engineering, and Science"
   ]
  },
  {
   "cell_type": "markdown",
   "id": "44cd7a58-5dcb-4f80-b45b-62235195c841",
   "metadata": {},
   "source": [
    "We would also not need the lemmatizer because we want the words to remain as-is for the neural network model to learn the various inflections, and let the transformer model do the work for us. We can remove them for the pipeline to be more efficient too. Therefore, the remaining components of the spaCy pipeline are:"
   ]
  },
  {
   "cell_type": "code",
   "execution_count": 23,
   "id": "8c62432e-92cb-4b6c-a67e-24e31860f899",
   "metadata": {},
   "outputs": [
    {
     "data": {
      "text/plain": [
       "[('tok2vec', <spacy.pipeline.tok2vec.Tok2Vec at 0x215200faa00>),\n",
       " ('tagger', <spacy.pipeline.tagger.Tagger at 0x215200fab20>),\n",
       " ('attribute_ruler',\n",
       "  <spacy.pipeline.attributeruler.AttributeRuler at 0x21520621800>)]"
      ]
     },
     "execution_count": 23,
     "metadata": {},
     "output_type": "execute_result"
    }
   ],
   "source": [
    "nlp.select_pipes(disable=['parser', 'ner', 'lemmatizer'])\n",
    "nlp.pipeline"
   ]
  },
  {
   "cell_type": "markdown",
   "id": "cecfc58d-ab20-4540-90d7-069b9b60d6e8",
   "metadata": {},
   "source": [
    "### POS Tags\n",
    "\n",
    "Part-of-speech (POS) tagging is when the model identifies the word token as one of the 8 parts of speech. We define a function to count the number of POS tags for each post."
   ]
  },
  {
   "cell_type": "code",
   "execution_count": 24,
   "id": "6f2158a8-c2a8-4e22-b63c-3b1a48e3becf",
   "metadata": {},
   "outputs": [
    {
     "data": {
      "text/plain": [
       "45"
      ]
     },
     "execution_count": 24,
     "metadata": {},
     "output_type": "execute_result"
    }
   ],
   "source": [
    "# can change to input different pos tags, \n",
    "# then graph according to distribution per pos tag\n",
    "\n",
    "def proper_nouns(text, model=nlp):\n",
    "  \t# Create doc object\n",
    "    doc = model(text)\n",
    "    # Generate list of POS tags\n",
    "    pos = [token.pos_ for token in doc]\n",
    "    \n",
    "    # Return number of proper nouns\n",
    "    return pos.count('PROPN')\n",
    "\n",
    "proper_nouns(sample)"
   ]
  },
  {
   "cell_type": "code",
   "execution_count": 25,
   "id": "ff246544-c4b0-4aec-a407-3f2ce132288c",
   "metadata": {},
   "outputs": [
    {
     "name": "stdout",
     "output_type": "stream",
     "text": [
      "['DET', 'NOUN', 'ADV', 'VERB', 'NOUN', 'NOUN', 'PUNCT', 'ADP', 'DET', 'NOUN', 'ADP', 'DET', 'PROPN', 'ADP', 'PROPN', 'PUNCT', 'PROPN', 'PUNCT', 'PUNCT', 'ADP', 'DET', 'ADJ', 'ADJ', 'NOUN', 'PUNCT', 'DET', 'NOUN', 'VERB', 'PART', 'VERB', 'PROPN', 'ADP', 'PROPN', 'PUNCT', 'PROPN', 'PUNCT', 'CCONJ', 'PROPN', 'ADP', 'PROPN', 'PROPN', 'ADP', 'PRON', 'ADJ', 'NOUN', 'ADP', 'NOUN', 'PUNCT', 'SCONJ', 'DET', 'ADJ', 'NOUN', 'NOUN', 'NOUN', 'AUX', 'VERB', 'ADP', 'DET', 'NOUN', 'PART', 'VERB', 'PART', 'VERB', 'DET', 'NOUN', 'PUNCT', 'PRON', 'VERB', 'ADP', 'NUM', 'ADP', 'ADJ', 'NOUN', 'VERB', 'ADP', 'NOUN', 'NOUN', 'PUNCT', 'VERB', 'VERB', 'PROPN', 'PUNCT', 'NOUN', 'PUNCT', 'NOUN', 'PUNCT', 'NOUN', 'PRON', 'ADP', 'DET', 'NUM', 'NOUN', 'VERB', 'ADJ', 'NOUN', 'PUNCT', 'ADJ', 'ADP', 'DET', 'NOUN', 'ADP', 'DET', 'PROPN', 'ADP', 'PROPN', 'CCONJ', 'PROPN', 'VERB', 'NOUN', 'NOUN', 'PUNCT', 'SCONJ', 'DET', 'ADJ', 'PROPN', 'ADP', 'PROPN', 'PUNCT', 'PROPN', 'PROPN', 'PUNCT', 'NOUN', 'ADV', 'VERB', 'PUNCT', 'PRON', 'ADP', 'DET', 'NOUN', 'ADP', 'DET', 'PROPN', 'ADP', 'PROPN', 'NOUN', 'NOUN', 'NOUN', 'PUNCT', 'SCONJ', 'ADP', 'DET', 'PROPN', 'ADP', 'PROPN', 'PROPN', 'ADJ', 'PROPN', 'PUNCT', 'DET', 'PROPN', 'ADP', 'PROPN', 'VERB', 'DET', 'PROPN', 'ADP', 'PROPN', 'PUNCT', 'SCONJ', 'PRON', 'ADP', 'DET', 'NOUN', 'ADP', 'DET', 'PROPN', 'ADP', 'PROPN', 'NOUN', 'NOUN', 'NOUN', 'PUNCT', 'DET', 'PROPN', 'ADP', 'PROPN', 'VERB', 'ADJ', 'ADJ', 'NOUN', 'VERB', 'PROPN', 'CCONJ', 'PROPN', 'ADP', 'PROPN', 'ADP', 'PROPN', 'NOUN', 'PUNCT', 'PRON', 'ADV', 'VERB', 'NOUN', 'ADP', 'PROPN', 'CCONJ', 'PROPN', 'ADP', 'PRON', 'ADJ', 'NOUN', 'NOUN', 'PUNCT', 'ADV', 'PUNCT', 'DET', 'PROPN', 'ADP', 'PROPN', 'PROPN', 'NOUN', 'VERB', 'DET', 'PROPN', 'ADP', 'PROPN', 'NOUN', 'SCONJ', 'NOUN', 'VERB', 'ADP', 'DET', 'NOUN', 'ADP', 'DET', 'NOUN', 'CCONJ', 'VERB', 'ADP', 'ADJ', 'ADJ', 'NOUN', 'PUNCT', 'ADJ', 'NOUN', 'PUNCT', 'CCONJ', 'ADJ', 'NOUN', 'ADP', 'DET', 'PROPN', 'PROPN', 'PROPN', 'ADP', 'NUM', 'NOUN', 'NOUN', 'PUNCT']\n"
     ]
    }
   ],
   "source": [
    "pos = [token.pos_ for token in sample]\n",
    "print(pos)"
   ]
  },
  {
   "cell_type": "markdown",
   "id": "4356ca51-78a1-4a97-8813-6f6bb1913b20",
   "metadata": {},
   "source": [
    "To avoid unnecessarily changing the original dataset, we will create a new `train_nlp` dataset to capture the effects of data processing."
   ]
  },
  {
   "cell_type": "code",
   "execution_count": 26,
   "id": "b203dca9-f0f3-442c-99ec-6ec046142707",
   "metadata": {
    "tags": []
   },
   "outputs": [],
   "source": [
    "# %%time\n",
    "# # apply spacy pipeline to text columns, runs out of memory\n",
    "\n",
    "# train_nlp = pd.DataFrame(columns=word_cols)\n",
    "# test_nlp = pd.DataFrame(columns=word_cols)\n",
    "# for i in train_nlp.columns:\n",
    "#     print(f'Tokenizing train {i} column...')\n",
    "#     x = nlp.pipe(train[i])\n",
    "#     train_nlp[i] = [ent for ent in x]\n",
    "#     torch.cuda.empty_cache()\n",
    "#     print(f'Tokenizing test {i} column...')\n",
    "#     y = nlp.pipe(test[i])\n",
    "#     test_nlp[i] = [ent for ent in y]\n",
    "#     print('Clearing cache...')\n",
    "#     torch.cuda.empty_cache()\n",
    "# train_nlp.head()"
   ]
  },
  {
   "cell_type": "markdown",
   "id": "928087da-c79c-45a5-8881-79d0bccf7f4f",
   "metadata": {},
   "source": [
    "# Pickling\n",
    "\n",
    "We pickle the data to save all the changes we have made to it. Thankfully the `pandas` library has a convenient function for us to save the dataframes as pickles."
   ]
  },
  {
   "cell_type": "code",
   "execution_count": 10,
   "id": "a217f917-af34-4df5-a74e-861762f1244c",
   "metadata": {},
   "outputs": [
    {
     "name": "stdout",
     "output_type": "stream",
     "text": [
      "Wall time: 65.9 ms\n"
     ]
    }
   ],
   "source": [
    "%%time\n",
    "\n",
    "train.to_pickle('pickles/train.pkl')\n",
    "test.to_pickle('pickles/test.pkl')"
   ]
  }
 ],
 "metadata": {
  "kernelspec": {
   "display_name": "Python 3 (ipykernel)",
   "language": "python",
   "name": "python3"
  },
  "language_info": {
   "codemirror_mode": {
    "name": "ipython",
    "version": 3
   },
   "file_extension": ".py",
   "mimetype": "text/x-python",
   "name": "python",
   "nbconvert_exporter": "python",
   "pygments_lexer": "ipython3",
   "version": "3.9.7"
  }
 },
 "nbformat": 4,
 "nbformat_minor": 5
}
