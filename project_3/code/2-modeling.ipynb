{
 "cells": [
  {
   "cell_type": "markdown",
   "id": "ac8fc9b3-04fe-46f3-929a-95d18da25627",
   "metadata": {},
   "source": [
    "# GA DSI Project 3: Chapter 2"
   ]
  },
  {
   "cell_type": "markdown",
   "id": "d4692c27-d045-4a75-be0f-3c031c9e6d16",
   "metadata": {},
   "source": [
    "# Imports"
   ]
  },
  {
   "cell_type": "code",
   "execution_count": 1,
   "id": "e599b559-33fc-45ca-808b-b0e6fa3229d8",
   "metadata": {},
   "outputs": [],
   "source": [
    "# unholy trinity\n",
    "import matplotlib.pyplot as plt\n",
    "import numpy as np\n",
    "import pandas as pd\n",
    "\n",
    "# string cleaning\n",
    "from bs4 import BeautifulSoup as bs\n",
    "import re\n",
    "import string\n",
    "from nltk.corpus import stopwords\n",
    "from nltk.corpus import wordnet\n",
    "from nltk.stem import WordNetLemmatizer\n",
    "import nltk\n",
    "from sklearn.feature_extraction.text import CountVectorizer\n",
    "from sklearn.feature_extraction.text import TfidfVectorizer\n",
    "\n",
    "# data visualization\n",
    "from nltk import FreqDist\n",
    "from matplotlib import cm\n",
    "\n",
    "# model\n",
    "from sklearn.impute import KNNImputer\n",
    "from sklearn.linear_model import LogisticRegression\n",
    "from sklearn.metrics import (ConfusionMatrixDisplay, RocCurveDisplay, f1_score, \n",
    "                             roc_auc_score, classification_report, accuracy_score)\n",
    "from sklearn.model_selection import cross_val_score, train_test_split, GridSearchCV\n",
    "from sklearn.neighbors import KNeighborsClassifier\n",
    "from sklearn.pipeline import Pipeline\n",
    "from sklearn.ensemble import RandomForestClassifier\n",
    "from sklearn.naive_bayes import BernoulliNB"
   ]
  },
  {
   "cell_type": "markdown",
   "id": "e8e5f526-b4e5-4c56-a1f7-021c7983a9db",
   "metadata": {},
   "source": [
    "# Importing Data"
   ]
  },
  {
   "cell_type": "code",
   "execution_count": 2,
   "id": "fb53d7e6-0ff4-4f4c-94a4-efae7e78c1cc",
   "metadata": {},
   "outputs": [
    {
     "data": {
      "text/html": [
       "<div>\n",
       "<style scoped>\n",
       "    .dataframe tbody tr th:only-of-type {\n",
       "        vertical-align: middle;\n",
       "    }\n",
       "\n",
       "    .dataframe tbody tr th {\n",
       "        vertical-align: top;\n",
       "    }\n",
       "\n",
       "    .dataframe thead th {\n",
       "        text-align: right;\n",
       "    }\n",
       "</style>\n",
       "<table border=\"1\" class=\"dataframe\">\n",
       "  <thead>\n",
       "    <tr style=\"text-align: right;\">\n",
       "      <th></th>\n",
       "      <th>title</th>\n",
       "      <th>selftext</th>\n",
       "      <th>subreddit</th>\n",
       "    </tr>\n",
       "  </thead>\n",
       "  <tbody>\n",
       "    <tr>\n",
       "      <th>0</th>\n",
       "      <td>What is this buildup?</td>\n",
       "      <td>NaN</td>\n",
       "      <td>winemaking</td>\n",
       "    </tr>\n",
       "    <tr>\n",
       "      <th>1</th>\n",
       "      <td>Added a bit too much water 200ish ml, asked fo...</td>\n",
       "      <td>NaN</td>\n",
       "      <td>winemaking</td>\n",
       "    </tr>\n",
       "    <tr>\n",
       "      <th>2</th>\n",
       "      <td>How many vines would you start with?</td>\n",
       "      <td>Hi all- \\n\\n&amp;amp;#x200B;\\n\\nWine lover and avi...</td>\n",
       "      <td>winemaking</td>\n",
       "    </tr>\n",
       "    <tr>\n",
       "      <th>3</th>\n",
       "      <td>Misc CO2 / Oxygen protection question ...</td>\n",
       "      <td>I have a wine batch that has CO2 naturally dis...</td>\n",
       "      <td>winemaking</td>\n",
       "    </tr>\n",
       "    <tr>\n",
       "      <th>4</th>\n",
       "      <td>What's going on in this bottle?</td>\n",
       "      <td>NaN</td>\n",
       "      <td>winemaking</td>\n",
       "    </tr>\n",
       "  </tbody>\n",
       "</table>\n",
       "</div>"
      ],
      "text/plain": [
       "                                               title  \\\n",
       "0                              What is this buildup?   \n",
       "1  Added a bit too much water 200ish ml, asked fo...   \n",
       "2               How many vines would you start with?   \n",
       "3          Misc CO2 / Oxygen protection question ...   \n",
       "4                    What's going on in this bottle?   \n",
       "\n",
       "                                            selftext   subreddit  \n",
       "0                                                NaN  winemaking  \n",
       "1                                                NaN  winemaking  \n",
       "2  Hi all- \\n\\n&amp;#x200B;\\n\\nWine lover and avi...  winemaking  \n",
       "3  I have a wine batch that has CO2 naturally dis...  winemaking  \n",
       "4                                                NaN  winemaking  "
      ]
     },
     "execution_count": 2,
     "metadata": {},
     "output_type": "execute_result"
    }
   ],
   "source": [
    "df = pd.read_csv(\"../data/reddit-data.csv\")\n",
    "df.head()"
   ]
  },
  {
   "cell_type": "code",
   "execution_count": 3,
   "id": "a8e04ef4-2129-47a6-9095-295649607326",
   "metadata": {},
   "outputs": [
    {
     "data": {
      "text/plain": [
       "winemaking     1000\n",
       "Homebrewing    1000\n",
       "Name: subreddit, dtype: int64"
      ]
     },
     "execution_count": 3,
     "metadata": {},
     "output_type": "execute_result"
    }
   ],
   "source": [
    "df.subreddit.value_counts()"
   ]
  },
  {
   "cell_type": "code",
   "execution_count": 4,
   "id": "aec22e45-4be1-445f-b73d-cb0ddf44187a",
   "metadata": {},
   "outputs": [
    {
     "name": "stdout",
     "output_type": "stream",
     "text": [
      "<class 'pandas.core.frame.DataFrame'>\n",
      "RangeIndex: 2000 entries, 0 to 1999\n",
      "Data columns (total 3 columns):\n",
      " #   Column     Non-Null Count  Dtype \n",
      "---  ------     --------------  ----- \n",
      " 0   title      2000 non-null   object\n",
      " 1   selftext   1472 non-null   object\n",
      " 2   subreddit  2000 non-null   object\n",
      "dtypes: object(3)\n",
      "memory usage: 47.0+ KB\n"
     ]
    }
   ],
   "source": [
    "df.info()"
   ]
  },
  {
   "cell_type": "code",
   "execution_count": 5,
   "id": "5f7fee04-f9d8-4a77-b9b0-39496ed359cb",
   "metadata": {},
   "outputs": [
    {
     "data": {
      "text/html": [
       "<div>\n",
       "<style scoped>\n",
       "    .dataframe tbody tr th:only-of-type {\n",
       "        vertical-align: middle;\n",
       "    }\n",
       "\n",
       "    .dataframe tbody tr th {\n",
       "        vertical-align: top;\n",
       "    }\n",
       "\n",
       "    .dataframe thead th {\n",
       "        text-align: right;\n",
       "    }\n",
       "</style>\n",
       "<table border=\"1\" class=\"dataframe\">\n",
       "  <thead>\n",
       "    <tr style=\"text-align: right;\">\n",
       "      <th></th>\n",
       "      <th>title</th>\n",
       "      <th>selftext</th>\n",
       "      <th>subreddit</th>\n",
       "    </tr>\n",
       "  </thead>\n",
       "  <tbody>\n",
       "    <tr>\n",
       "      <th>0</th>\n",
       "      <td>What is this buildup?</td>\n",
       "      <td>NaN</td>\n",
       "      <td>winemaking</td>\n",
       "    </tr>\n",
       "    <tr>\n",
       "      <th>1</th>\n",
       "      <td>Added a bit too much water 200ish ml, asked fo...</td>\n",
       "      <td>NaN</td>\n",
       "      <td>winemaking</td>\n",
       "    </tr>\n",
       "    <tr>\n",
       "      <th>2</th>\n",
       "      <td>How many vines would you start with?</td>\n",
       "      <td>Hi all- \\n\\n&amp;amp;#x200B;\\n\\nWine lover and avi...</td>\n",
       "      <td>winemaking</td>\n",
       "    </tr>\n",
       "    <tr>\n",
       "      <th>3</th>\n",
       "      <td>Misc CO2 / Oxygen protection question ...</td>\n",
       "      <td>I have a wine batch that has CO2 naturally dis...</td>\n",
       "      <td>winemaking</td>\n",
       "    </tr>\n",
       "    <tr>\n",
       "      <th>4</th>\n",
       "      <td>What's going on in this bottle?</td>\n",
       "      <td>NaN</td>\n",
       "      <td>winemaking</td>\n",
       "    </tr>\n",
       "    <tr>\n",
       "      <th>...</th>\n",
       "      <td>...</td>\n",
       "      <td>...</td>\n",
       "      <td>...</td>\n",
       "    </tr>\n",
       "    <tr>\n",
       "      <th>1995</th>\n",
       "      <td>If anyone are woundring about getting into som...</td>\n",
       "      <td>NaN</td>\n",
       "      <td>Homebrewing</td>\n",
       "    </tr>\n",
       "    <tr>\n",
       "      <th>1996</th>\n",
       "      <td>Espresso stout</td>\n",
       "      <td>I have a espresso stout 10days into fermentati...</td>\n",
       "      <td>Homebrewing</td>\n",
       "    </tr>\n",
       "    <tr>\n",
       "      <th>1997</th>\n",
       "      <td>Can acid additions give bad hangovers? or is i...</td>\n",
       "      <td>So our brews have a tendency to give the drink...</td>\n",
       "      <td>Homebrewing</td>\n",
       "    </tr>\n",
       "    <tr>\n",
       "      <th>1998</th>\n",
       "      <td>Free PDF of the first issue of Zymurgy Magazine</td>\n",
       "      <td>NaN</td>\n",
       "      <td>Homebrewing</td>\n",
       "    </tr>\n",
       "    <tr>\n",
       "      <th>1999</th>\n",
       "      <td>First brew - is it OK to start bottleing ?</td>\n",
       "      <td>Hi all,  \\n\\n\\nThis is my very first brew, I d...</td>\n",
       "      <td>Homebrewing</td>\n",
       "    </tr>\n",
       "  </tbody>\n",
       "</table>\n",
       "<p>2000 rows × 3 columns</p>\n",
       "</div>"
      ],
      "text/plain": [
       "                                                  title  \\\n",
       "0                                 What is this buildup?   \n",
       "1     Added a bit too much water 200ish ml, asked fo...   \n",
       "2                  How many vines would you start with?   \n",
       "3             Misc CO2 / Oxygen protection question ...   \n",
       "4                       What's going on in this bottle?   \n",
       "...                                                 ...   \n",
       "1995  If anyone are woundring about getting into som...   \n",
       "1996                                     Espresso stout   \n",
       "1997  Can acid additions give bad hangovers? or is i...   \n",
       "1998    Free PDF of the first issue of Zymurgy Magazine   \n",
       "1999         First brew - is it OK to start bottleing ?   \n",
       "\n",
       "                                               selftext    subreddit  \n",
       "0                                                   NaN   winemaking  \n",
       "1                                                   NaN   winemaking  \n",
       "2     Hi all- \\n\\n&amp;#x200B;\\n\\nWine lover and avi...   winemaking  \n",
       "3     I have a wine batch that has CO2 naturally dis...   winemaking  \n",
       "4                                                   NaN   winemaking  \n",
       "...                                                 ...          ...  \n",
       "1995                                                NaN  Homebrewing  \n",
       "1996  I have a espresso stout 10days into fermentati...  Homebrewing  \n",
       "1997  So our brews have a tendency to give the drink...  Homebrewing  \n",
       "1998                                                NaN  Homebrewing  \n",
       "1999  Hi all,  \\n\\n\\nThis is my very first brew, I d...  Homebrewing  \n",
       "\n",
       "[2000 rows x 3 columns]"
      ]
     },
     "execution_count": 5,
     "metadata": {},
     "output_type": "execute_result"
    }
   ],
   "source": [
    "df"
   ]
  },
  {
   "cell_type": "markdown",
   "id": "a0e5d397-7ea4-4fb5-8568-57070b9fb8d0",
   "metadata": {},
   "source": [
    "# Data Processing"
   ]
  },
  {
   "cell_type": "markdown",
   "id": "ee6a155d-0cf5-4e7f-a391-314ddd0069aa",
   "metadata": {},
   "source": [
    "## Removing duplicates"
   ]
  },
  {
   "cell_type": "code",
   "execution_count": 6,
   "id": "2d162166-ccd6-4775-bd56-1ecd8f21a9c4",
   "metadata": {},
   "outputs": [
    {
     "data": {
      "text/plain": [
       "31"
      ]
     },
     "execution_count": 6,
     "metadata": {},
     "output_type": "execute_result"
    }
   ],
   "source": [
    "df.duplicated().sum()"
   ]
  },
  {
   "cell_type": "code",
   "execution_count": 7,
   "id": "8a72ad8c-6922-41c6-afd7-f2bfb4f8dd6c",
   "metadata": {},
   "outputs": [
    {
     "name": "stdout",
     "output_type": "stream",
     "text": [
      "<class 'pandas.core.frame.DataFrame'>\n",
      "Int64Index: 1969 entries, 0 to 1999\n",
      "Data columns (total 3 columns):\n",
      " #   Column     Non-Null Count  Dtype \n",
      "---  ------     --------------  ----- \n",
      " 0   title      1969 non-null   object\n",
      " 1   selftext   1454 non-null   object\n",
      " 2   subreddit  1969 non-null   object\n",
      "dtypes: object(3)\n",
      "memory usage: 61.5+ KB\n"
     ]
    }
   ],
   "source": [
    "df = df[df.duplicated() == False]\n",
    "df.info()"
   ]
  },
  {
   "cell_type": "code",
   "execution_count": 8,
   "id": "a91863b3-691c-4d9e-ac0d-cdb41a832b47",
   "metadata": {},
   "outputs": [],
   "source": [
    "df.reset_index(drop=True, inplace=True)"
   ]
  },
  {
   "cell_type": "markdown",
   "id": "eb82a832-e99d-4288-b932-89040763cc01",
   "metadata": {},
   "source": [
    "## Null values"
   ]
  },
  {
   "cell_type": "markdown",
   "id": "ac402a00-034c-4aa1-82d4-a71830e26895",
   "metadata": {},
   "source": [
    "First, let's look at the null values and what they mean. There are 3 types of missing values:\n",
    "1. null values\n",
    "2. `[removed]`\n",
    "3. `[deleted]`\n",
    "\n",
    "From this [reddit answer](https://www.reddit.com/r/redditdev/comments/6xo9h4/deleted_vs_removed/), `[removed]` are posts removed by mods, and `[deleted]` are those deleted by the users themselves. This leaves the null values as those which are pictures/videos."
   ]
  },
  {
   "cell_type": "code",
   "execution_count": 9,
   "id": "d3c2173b-5ca3-4caf-b279-2997a908a9ec",
   "metadata": {},
   "outputs": [
    {
     "data": {
      "text/plain": [
       "title          0\n",
       "selftext     515\n",
       "subreddit      0\n",
       "dtype: int64"
      ]
     },
     "execution_count": 9,
     "metadata": {},
     "output_type": "execute_result"
    }
   ],
   "source": [
    "df.isnull().sum()"
   ]
  },
  {
   "cell_type": "code",
   "execution_count": 10,
   "id": "d3668368-f45c-45b6-95fa-e833b93de5b5",
   "metadata": {},
   "outputs": [
    {
     "data": {
      "text/html": [
       "<div>\n",
       "<style scoped>\n",
       "    .dataframe tbody tr th:only-of-type {\n",
       "        vertical-align: middle;\n",
       "    }\n",
       "\n",
       "    .dataframe tbody tr th {\n",
       "        vertical-align: top;\n",
       "    }\n",
       "\n",
       "    .dataframe thead th {\n",
       "        text-align: right;\n",
       "    }\n",
       "</style>\n",
       "<table border=\"1\" class=\"dataframe\">\n",
       "  <thead>\n",
       "    <tr style=\"text-align: right;\">\n",
       "      <th></th>\n",
       "      <th>title</th>\n",
       "      <th>selftext</th>\n",
       "      <th>subreddit</th>\n",
       "    </tr>\n",
       "  </thead>\n",
       "  <tbody>\n",
       "    <tr>\n",
       "      <th>0</th>\n",
       "      <td>What is this buildup?</td>\n",
       "      <td>NaN</td>\n",
       "      <td>winemaking</td>\n",
       "    </tr>\n",
       "    <tr>\n",
       "      <th>1</th>\n",
       "      <td>Added a bit too much water 200ish ml, asked fo...</td>\n",
       "      <td>NaN</td>\n",
       "      <td>winemaking</td>\n",
       "    </tr>\n",
       "    <tr>\n",
       "      <th>4</th>\n",
       "      <td>What's going on in this bottle?</td>\n",
       "      <td>NaN</td>\n",
       "      <td>winemaking</td>\n",
       "    </tr>\n",
       "    <tr>\n",
       "      <th>7</th>\n",
       "      <td>My first batches of mead are bubbling beautifu...</td>\n",
       "      <td>NaN</td>\n",
       "      <td>winemaking</td>\n",
       "    </tr>\n",
       "    <tr>\n",
       "      <th>11</th>\n",
       "      <td>When bottling, what do you do if you end up no...</td>\n",
       "      <td>NaN</td>\n",
       "      <td>winemaking</td>\n",
       "    </tr>\n",
       "    <tr>\n",
       "      <th>...</th>\n",
       "      <td>...</td>\n",
       "      <td>...</td>\n",
       "      <td>...</td>\n",
       "    </tr>\n",
       "    <tr>\n",
       "      <th>1899</th>\n",
       "      <td>Anyone in the Midwest want some barrels? Woode...</td>\n",
       "      <td>NaN</td>\n",
       "      <td>Homebrewing</td>\n",
       "    </tr>\n",
       "    <tr>\n",
       "      <th>1911</th>\n",
       "      <td>After 10 years of homebrewing, this Oregon bre...</td>\n",
       "      <td>NaN</td>\n",
       "      <td>Homebrewing</td>\n",
       "    </tr>\n",
       "    <tr>\n",
       "      <th>1928</th>\n",
       "      <td>$39.99 ball locks and free gift card if you sp...</td>\n",
       "      <td>NaN</td>\n",
       "      <td>Homebrewing</td>\n",
       "    </tr>\n",
       "    <tr>\n",
       "      <th>1964</th>\n",
       "      <td>If anyone are woundring about getting into som...</td>\n",
       "      <td>NaN</td>\n",
       "      <td>Homebrewing</td>\n",
       "    </tr>\n",
       "    <tr>\n",
       "      <th>1967</th>\n",
       "      <td>Free PDF of the first issue of Zymurgy Magazine</td>\n",
       "      <td>NaN</td>\n",
       "      <td>Homebrewing</td>\n",
       "    </tr>\n",
       "  </tbody>\n",
       "</table>\n",
       "<p>515 rows × 3 columns</p>\n",
       "</div>"
      ],
      "text/plain": [
       "                                                  title selftext    subreddit\n",
       "0                                 What is this buildup?      NaN   winemaking\n",
       "1     Added a bit too much water 200ish ml, asked fo...      NaN   winemaking\n",
       "4                       What's going on in this bottle?      NaN   winemaking\n",
       "7     My first batches of mead are bubbling beautifu...      NaN   winemaking\n",
       "11    When bottling, what do you do if you end up no...      NaN   winemaking\n",
       "...                                                 ...      ...          ...\n",
       "1899  Anyone in the Midwest want some barrels? Woode...      NaN  Homebrewing\n",
       "1911  After 10 years of homebrewing, this Oregon bre...      NaN  Homebrewing\n",
       "1928  $39.99 ball locks and free gift card if you sp...      NaN  Homebrewing\n",
       "1964  If anyone are woundring about getting into som...      NaN  Homebrewing\n",
       "1967    Free PDF of the first issue of Zymurgy Magazine      NaN  Homebrewing\n",
       "\n",
       "[515 rows x 3 columns]"
      ]
     },
     "execution_count": 10,
     "metadata": {},
     "output_type": "execute_result"
    }
   ],
   "source": [
    "df[df[\"selftext\"].isnull() == True]"
   ]
  },
  {
   "cell_type": "code",
   "execution_count": 11,
   "id": "32db3424-6824-468e-a5a9-b9092e49b312",
   "metadata": {},
   "outputs": [
    {
     "data": {
      "text/html": [
       "<div>\n",
       "<style scoped>\n",
       "    .dataframe tbody tr th:only-of-type {\n",
       "        vertical-align: middle;\n",
       "    }\n",
       "\n",
       "    .dataframe tbody tr th {\n",
       "        vertical-align: top;\n",
       "    }\n",
       "\n",
       "    .dataframe thead th {\n",
       "        text-align: right;\n",
       "    }\n",
       "</style>\n",
       "<table border=\"1\" class=\"dataframe\">\n",
       "  <thead>\n",
       "    <tr style=\"text-align: right;\">\n",
       "      <th></th>\n",
       "      <th>title</th>\n",
       "      <th>selftext</th>\n",
       "      <th>subreddit</th>\n",
       "    </tr>\n",
       "  </thead>\n",
       "  <tbody>\n",
       "    <tr>\n",
       "      <th>66</th>\n",
       "      <td>Does my primary fermentation pulp look okay?</td>\n",
       "      <td>[removed]</td>\n",
       "      <td>winemaking</td>\n",
       "    </tr>\n",
       "    <tr>\n",
       "      <th>67</th>\n",
       "      <td>Does this look okay?</td>\n",
       "      <td>[removed]</td>\n",
       "      <td>winemaking</td>\n",
       "    </tr>\n",
       "    <tr>\n",
       "      <th>105</th>\n",
       "      <td>People of reddit..... What do you think about ...</td>\n",
       "      <td>[removed]</td>\n",
       "      <td>winemaking</td>\n",
       "    </tr>\n",
       "    <tr>\n",
       "      <th>193</th>\n",
       "      <td>Wine fermentation (grape &amp;amp; cranberries)</td>\n",
       "      <td>[removed]</td>\n",
       "      <td>winemaking</td>\n",
       "    </tr>\n",
       "    <tr>\n",
       "      <th>237</th>\n",
       "      <td>Bottling question</td>\n",
       "      <td>[removed]</td>\n",
       "      <td>winemaking</td>\n",
       "    </tr>\n",
       "    <tr>\n",
       "      <th>...</th>\n",
       "      <td>...</td>\n",
       "      <td>...</td>\n",
       "      <td>...</td>\n",
       "    </tr>\n",
       "    <tr>\n",
       "      <th>1851</th>\n",
       "      <td>Added too much water mistake!</td>\n",
       "      <td>[removed]</td>\n",
       "      <td>Homebrewing</td>\n",
       "    </tr>\n",
       "    <tr>\n",
       "      <th>1855</th>\n",
       "      <td>Bourbon ale anyone?</td>\n",
       "      <td>[removed]</td>\n",
       "      <td>Homebrewing</td>\n",
       "    </tr>\n",
       "    <tr>\n",
       "      <th>1872</th>\n",
       "      <td>Pre-Fixed Switch</td>\n",
       "      <td>[removed]</td>\n",
       "      <td>Homebrewing</td>\n",
       "    </tr>\n",
       "    <tr>\n",
       "      <th>1873</th>\n",
       "      <td>Hombrew a Pre-Fixed Switch</td>\n",
       "      <td>[removed]</td>\n",
       "      <td>Homebrewing</td>\n",
       "    </tr>\n",
       "    <tr>\n",
       "      <th>1955</th>\n",
       "      <td>3 month primary fermentation</td>\n",
       "      <td>[removed]</td>\n",
       "      <td>Homebrewing</td>\n",
       "    </tr>\n",
       "  </tbody>\n",
       "</table>\n",
       "<p>96 rows × 3 columns</p>\n",
       "</div>"
      ],
      "text/plain": [
       "                                                  title   selftext  \\\n",
       "66         Does my primary fermentation pulp look okay?  [removed]   \n",
       "67                                 Does this look okay?  [removed]   \n",
       "105   People of reddit..... What do you think about ...  [removed]   \n",
       "193         Wine fermentation (grape &amp; cranberries)  [removed]   \n",
       "237                                   Bottling question  [removed]   \n",
       "...                                                 ...        ...   \n",
       "1851                      Added too much water mistake!  [removed]   \n",
       "1855                                Bourbon ale anyone?  [removed]   \n",
       "1872                                   Pre-Fixed Switch  [removed]   \n",
       "1873                         Hombrew a Pre-Fixed Switch  [removed]   \n",
       "1955                       3 month primary fermentation  [removed]   \n",
       "\n",
       "        subreddit  \n",
       "66     winemaking  \n",
       "67     winemaking  \n",
       "105    winemaking  \n",
       "193    winemaking  \n",
       "237    winemaking  \n",
       "...           ...  \n",
       "1851  Homebrewing  \n",
       "1855  Homebrewing  \n",
       "1872  Homebrewing  \n",
       "1873  Homebrewing  \n",
       "1955  Homebrewing  \n",
       "\n",
       "[96 rows x 3 columns]"
      ]
     },
     "execution_count": 11,
     "metadata": {},
     "output_type": "execute_result"
    }
   ],
   "source": [
    "df[df[\"selftext\"] == \"[removed]\"]"
   ]
  },
  {
   "cell_type": "markdown",
   "id": "9eb19441-6d99-441a-8f64-0a29d43bd68a",
   "metadata": {},
   "source": [
    "There is one more null value, which upon inspection seems to be a miscategorized post - a beer-themed post in a winemaking subreddit. Since there is only one of them, we can remove it to remove clutter."
   ]
  },
  {
   "cell_type": "code",
   "execution_count": 12,
   "id": "bc5e70df-d9be-40a6-8706-a3665cae3037",
   "metadata": {},
   "outputs": [
    {
     "data": {
      "text/html": [
       "<div>\n",
       "<style scoped>\n",
       "    .dataframe tbody tr th:only-of-type {\n",
       "        vertical-align: middle;\n",
       "    }\n",
       "\n",
       "    .dataframe tbody tr th {\n",
       "        vertical-align: top;\n",
       "    }\n",
       "\n",
       "    .dataframe thead th {\n",
       "        text-align: right;\n",
       "    }\n",
       "</style>\n",
       "<table border=\"1\" class=\"dataframe\">\n",
       "  <thead>\n",
       "    <tr style=\"text-align: right;\">\n",
       "      <th></th>\n",
       "      <th>title</th>\n",
       "      <th>selftext</th>\n",
       "      <th>subreddit</th>\n",
       "    </tr>\n",
       "  </thead>\n",
       "  <tbody>\n",
       "    <tr>\n",
       "      <th>197</th>\n",
       "      <td>This Guy Needs A Beer</td>\n",
       "      <td>[deleted]</td>\n",
       "      <td>winemaking</td>\n",
       "    </tr>\n",
       "  </tbody>\n",
       "</table>\n",
       "</div>"
      ],
      "text/plain": [
       "                     title   selftext   subreddit\n",
       "197  This Guy Needs A Beer  [deleted]  winemaking"
      ]
     },
     "execution_count": 12,
     "metadata": {},
     "output_type": "execute_result"
    }
   ],
   "source": [
    "df[df[\"selftext\"] == \"[deleted]\"]"
   ]
  },
  {
   "cell_type": "code",
   "execution_count": 13,
   "id": "db238379-233f-46ab-a816-eaa796a6781c",
   "metadata": {},
   "outputs": [],
   "source": [
    "df = df[df[\"selftext\"] != \"[deleted]\"]"
   ]
  },
  {
   "cell_type": "markdown",
   "id": "a9c941d1-f19e-4f5f-8cef-f5db97eabe80",
   "metadata": {},
   "source": [
    "There are a total of 611 rows without a `selftext`. Since they are redundant data for our purposes, we can replace them with the null string."
   ]
  },
  {
   "cell_type": "code",
   "execution_count": 14,
   "id": "e702496b-b5dd-49ef-b50a-cf4ddd68e529",
   "metadata": {},
   "outputs": [],
   "source": [
    "df = df.replace({\"[removed]\": \"\"})\n",
    "df = df.replace(np.nan, \"\")"
   ]
  },
  {
   "cell_type": "code",
   "execution_count": 15,
   "id": "db4e9796-9f2a-488d-a69b-af4b57a22d88",
   "metadata": {},
   "outputs": [
    {
     "name": "stdout",
     "output_type": "stream",
     "text": [
      "<class 'pandas.core.frame.DataFrame'>\n",
      "Int64Index: 1968 entries, 0 to 1968\n",
      "Data columns (total 3 columns):\n",
      " #   Column     Non-Null Count  Dtype \n",
      "---  ------     --------------  ----- \n",
      " 0   title      1968 non-null   object\n",
      " 1   selftext   1968 non-null   object\n",
      " 2   subreddit  1968 non-null   object\n",
      "dtypes: object(3)\n",
      "memory usage: 61.5+ KB\n"
     ]
    }
   ],
   "source": [
    "df.info()"
   ]
  },
  {
   "cell_type": "markdown",
   "id": "894344b6-ab3c-49b8-ac43-553c0ffb52e4",
   "metadata": {},
   "source": [
    "## Combining columns"
   ]
  },
  {
   "cell_type": "markdown",
   "id": "dddb4727-8877-42da-ba21-5835ba81080f",
   "metadata": {},
   "source": [
    "Since all text data is useful data, we can combine the `title` and `selftext` columns for easier processing."
   ]
  },
  {
   "cell_type": "code",
   "execution_count": 16,
   "id": "d2cbcf05-378f-4d9f-a12b-6dc740b97bbb",
   "metadata": {},
   "outputs": [
    {
     "data": {
      "text/html": [
       "<div>\n",
       "<style scoped>\n",
       "    .dataframe tbody tr th:only-of-type {\n",
       "        vertical-align: middle;\n",
       "    }\n",
       "\n",
       "    .dataframe tbody tr th {\n",
       "        vertical-align: top;\n",
       "    }\n",
       "\n",
       "    .dataframe thead th {\n",
       "        text-align: right;\n",
       "    }\n",
       "</style>\n",
       "<table border=\"1\" class=\"dataframe\">\n",
       "  <thead>\n",
       "    <tr style=\"text-align: right;\">\n",
       "      <th></th>\n",
       "      <th>title</th>\n",
       "      <th>selftext</th>\n",
       "      <th>subreddit</th>\n",
       "      <th>combined</th>\n",
       "    </tr>\n",
       "  </thead>\n",
       "  <tbody>\n",
       "    <tr>\n",
       "      <th>0</th>\n",
       "      <td>What is this buildup?</td>\n",
       "      <td></td>\n",
       "      <td>winemaking</td>\n",
       "      <td>What is this buildup?</td>\n",
       "    </tr>\n",
       "    <tr>\n",
       "      <th>1</th>\n",
       "      <td>Added a bit too much water 200ish ml, asked fo...</td>\n",
       "      <td></td>\n",
       "      <td>winemaking</td>\n",
       "      <td>Added a bit too much water 200ish ml, asked fo...</td>\n",
       "    </tr>\n",
       "    <tr>\n",
       "      <th>2</th>\n",
       "      <td>How many vines would you start with?</td>\n",
       "      <td>Hi all- \\n\\n&amp;amp;#x200B;\\n\\nWine lover and avi...</td>\n",
       "      <td>winemaking</td>\n",
       "      <td>How many vines would you start with? Hi all- \\...</td>\n",
       "    </tr>\n",
       "    <tr>\n",
       "      <th>3</th>\n",
       "      <td>Misc CO2 / Oxygen protection question ...</td>\n",
       "      <td>I have a wine batch that has CO2 naturally dis...</td>\n",
       "      <td>winemaking</td>\n",
       "      <td>Misc CO2 / Oxygen protection question ... I ha...</td>\n",
       "    </tr>\n",
       "    <tr>\n",
       "      <th>4</th>\n",
       "      <td>What's going on in this bottle?</td>\n",
       "      <td></td>\n",
       "      <td>winemaking</td>\n",
       "      <td>What's going on in this bottle?</td>\n",
       "    </tr>\n",
       "    <tr>\n",
       "      <th>...</th>\n",
       "      <td>...</td>\n",
       "      <td>...</td>\n",
       "      <td>...</td>\n",
       "      <td>...</td>\n",
       "    </tr>\n",
       "    <tr>\n",
       "      <th>1964</th>\n",
       "      <td>If anyone are woundring about getting into som...</td>\n",
       "      <td></td>\n",
       "      <td>Homebrewing</td>\n",
       "      <td>If anyone are woundring about getting into som...</td>\n",
       "    </tr>\n",
       "    <tr>\n",
       "      <th>1965</th>\n",
       "      <td>Espresso stout</td>\n",
       "      <td>I have a espresso stout 10days into fermentati...</td>\n",
       "      <td>Homebrewing</td>\n",
       "      <td>Espresso stout I have a espresso stout 10days ...</td>\n",
       "    </tr>\n",
       "    <tr>\n",
       "      <th>1966</th>\n",
       "      <td>Can acid additions give bad hangovers? or is i...</td>\n",
       "      <td>So our brews have a tendency to give the drink...</td>\n",
       "      <td>Homebrewing</td>\n",
       "      <td>Can acid additions give bad hangovers? or is i...</td>\n",
       "    </tr>\n",
       "    <tr>\n",
       "      <th>1967</th>\n",
       "      <td>Free PDF of the first issue of Zymurgy Magazine</td>\n",
       "      <td></td>\n",
       "      <td>Homebrewing</td>\n",
       "      <td>Free PDF of the first issue of Zymurgy Magazine</td>\n",
       "    </tr>\n",
       "    <tr>\n",
       "      <th>1968</th>\n",
       "      <td>First brew - is it OK to start bottleing ?</td>\n",
       "      <td>Hi all,  \\n\\n\\nThis is my very first brew, I d...</td>\n",
       "      <td>Homebrewing</td>\n",
       "      <td>First brew - is it OK to start bottleing ? Hi ...</td>\n",
       "    </tr>\n",
       "  </tbody>\n",
       "</table>\n",
       "<p>1968 rows × 4 columns</p>\n",
       "</div>"
      ],
      "text/plain": [
       "                                                  title  \\\n",
       "0                                 What is this buildup?   \n",
       "1     Added a bit too much water 200ish ml, asked fo...   \n",
       "2                  How many vines would you start with?   \n",
       "3             Misc CO2 / Oxygen protection question ...   \n",
       "4                       What's going on in this bottle?   \n",
       "...                                                 ...   \n",
       "1964  If anyone are woundring about getting into som...   \n",
       "1965                                     Espresso stout   \n",
       "1966  Can acid additions give bad hangovers? or is i...   \n",
       "1967    Free PDF of the first issue of Zymurgy Magazine   \n",
       "1968         First brew - is it OK to start bottleing ?   \n",
       "\n",
       "                                               selftext    subreddit  \\\n",
       "0                                                         winemaking   \n",
       "1                                                         winemaking   \n",
       "2     Hi all- \\n\\n&amp;#x200B;\\n\\nWine lover and avi...   winemaking   \n",
       "3     I have a wine batch that has CO2 naturally dis...   winemaking   \n",
       "4                                                         winemaking   \n",
       "...                                                 ...          ...   \n",
       "1964                                                     Homebrewing   \n",
       "1965  I have a espresso stout 10days into fermentati...  Homebrewing   \n",
       "1966  So our brews have a tendency to give the drink...  Homebrewing   \n",
       "1967                                                     Homebrewing   \n",
       "1968  Hi all,  \\n\\n\\nThis is my very first brew, I d...  Homebrewing   \n",
       "\n",
       "                                               combined  \n",
       "0                                What is this buildup?   \n",
       "1     Added a bit too much water 200ish ml, asked fo...  \n",
       "2     How many vines would you start with? Hi all- \\...  \n",
       "3     Misc CO2 / Oxygen protection question ... I ha...  \n",
       "4                      What's going on in this bottle?   \n",
       "...                                                 ...  \n",
       "1964  If anyone are woundring about getting into som...  \n",
       "1965  Espresso stout I have a espresso stout 10days ...  \n",
       "1966  Can acid additions give bad hangovers? or is i...  \n",
       "1967   Free PDF of the first issue of Zymurgy Magazine   \n",
       "1968  First brew - is it OK to start bottleing ? Hi ...  \n",
       "\n",
       "[1968 rows x 4 columns]"
      ]
     },
     "execution_count": 16,
     "metadata": {},
     "output_type": "execute_result"
    }
   ],
   "source": [
    "df['combined'] = df['title'] + ' '+ df['selftext']\n",
    "df"
   ]
  },
  {
   "cell_type": "markdown",
   "id": "a4b234ef-93a4-40bc-ab3a-1ec3899b69a1",
   "metadata": {},
   "source": [
    "## Removing unhelpful data"
   ]
  },
  {
   "cell_type": "markdown",
   "id": "eb41f14e-7368-4d7d-ace7-cd3b99cae5a2",
   "metadata": {},
   "source": [
    "### Removing unwanted characters\n",
    "\n",
    "We can start by removing unwanted data:\n",
    "- '\\&amp;\\' etc: HTML relics\n",
    "- punctuation\n",
    "- '\\n' etc: delimiters\n",
    "- website links: 'unhelpful' as they would add unnecessary noise to our data\n",
    "\n",
    "We can combine them all into one function for future use."
   ]
  },
  {
   "cell_type": "code",
   "execution_count": 17,
   "id": "f70bfaf0-0dac-42f0-9500-4d33b8accc75",
   "metadata": {},
   "outputs": [],
   "source": [
    "def text_cleaning(text):\n",
    "    \"\"\"\n",
    "    removes unwanted characters (punctuation, HTML relics, and delimiters) and unwanted data (emails, emojis)\n",
    "    \"\"\"\n",
    "    # removing punctuation, except % which might be used for abv\n",
    "    punc = re.sub(r\"[/%]\", \"\", string.punctuation)\n",
    "    clean = \"\".join(l for l in text if l not in punc)\n",
    "\n",
    "    # remove html\n",
    "    text = bs(clean)\n",
    "    clean = text.get_text(strip=True)\n",
    "\n",
    "    # remove delimiters\n",
    "    clean = re.sub(r\"(\\\\n)+\", \" \", clean)\n",
    "\n",
    "    # remove hyperlinks\n",
    "    clean = re.sub(r\"http\\S+|www.\\S+\", \"\", clean)\n",
    "\n",
    "    # lower case\n",
    "    clean = clean.lower()\n",
    "    \n",
    "    return clean"
   ]
  },
  {
   "cell_type": "code",
   "execution_count": 18,
   "id": "5adf0621-ac8f-46a9-ae81-76427af24619",
   "metadata": {
    "tags": []
   },
   "outputs": [],
   "source": [
    "df['combined']=df['combined'].apply(text_cleaning)"
   ]
  },
  {
   "cell_type": "markdown",
   "id": "932083ff-4b35-4003-ab6c-79fab690682c",
   "metadata": {},
   "source": [
    "We can also change our dependent variable to:\n",
    "- winemaking: 0\n",
    "- homebrewing: 1\n",
    "\n",
    "for easier reference going forward."
   ]
  },
  {
   "cell_type": "code",
   "execution_count": 19,
   "id": "0f5bd62b-e87f-4645-bcc5-b5ff3e77fa9e",
   "metadata": {},
   "outputs": [],
   "source": [
    "df['subreddit'] = df['subreddit'].map({'winemaking':int(0), 'Homebrewing':int(1)})"
   ]
  },
  {
   "cell_type": "markdown",
   "id": "0c981603-f3dd-4937-8d42-a6e492654360",
   "metadata": {},
   "source": [
    "## Lemmatizing"
   ]
  },
  {
   "cell_type": "markdown",
   "id": "864d67e7-ac91-42d8-a101-5109403b3b82",
   "metadata": {},
   "source": [
    "Next, we can reduce the words to their root form so that we can handle words of a similar root, for example the words \"go/going/gone\" should be treated in the same way.\n",
    "\n",
    "To do this more efficiently, we have to provide a Part-of-Speech (POS) tag for each word, so that the lemmatizer knows whether the word is a noun, verb, adverb etc. By default, the lemmatizer recognizes every word as a noun - but the inflection rules for nouns to not apply to verbs, for example."
   ]
  },
  {
   "cell_type": "code",
   "execution_count": 20,
   "id": "43238632-366b-45bc-abc8-cb98b1cd81c6",
   "metadata": {
    "tags": []
   },
   "outputs": [
    {
     "name": "stdout",
     "output_type": "stream",
     "text": [
      "CPU times: user 22.1 s, sys: 3.63 s, total: 25.8 s\n",
      "Wall time: 26.1 s\n"
     ]
    }
   ],
   "source": [
    "%%time\n",
    "def get_wordnet_pos(word):\n",
    "    \"\"\"Map POS tag to first character lemmatize() accepts\"\"\"\n",
    "    tag = nltk.pos_tag([word])[0][1][0].upper()\n",
    "    tag_dict = {\"J\": wordnet.ADJ,\n",
    "                \"N\": wordnet.NOUN,\n",
    "                \"V\": wordnet.VERB,\n",
    "                \"R\": wordnet.ADV}\n",
    "\n",
    "    return tag_dict.get(tag, wordnet.NOUN)\n",
    "\n",
    "def lemma(text):\n",
    "    lemmatizer = WordNetLemmatizer()\n",
    "    return [lemmatizer.lemmatize(w, get_wordnet_pos(w)) for w in word_tokenize(text)]\n",
    "    \n",
    "df.combined = df.combined.apply(lemma)"
   ]
  },
  {
   "cell_type": "code",
   "execution_count": 21,
   "id": "cd2d1cee-9250-4645-ab22-b8f491d96673",
   "metadata": {},
   "outputs": [
    {
     "data": {
      "text/html": [
       "<div>\n",
       "<style scoped>\n",
       "    .dataframe tbody tr th:only-of-type {\n",
       "        vertical-align: middle;\n",
       "    }\n",
       "\n",
       "    .dataframe tbody tr th {\n",
       "        vertical-align: top;\n",
       "    }\n",
       "\n",
       "    .dataframe thead th {\n",
       "        text-align: right;\n",
       "    }\n",
       "</style>\n",
       "<table border=\"1\" class=\"dataframe\">\n",
       "  <thead>\n",
       "    <tr style=\"text-align: right;\">\n",
       "      <th></th>\n",
       "      <th>title</th>\n",
       "      <th>selftext</th>\n",
       "      <th>subreddit</th>\n",
       "      <th>combined</th>\n",
       "    </tr>\n",
       "  </thead>\n",
       "  <tbody>\n",
       "    <tr>\n",
       "      <th>0</th>\n",
       "      <td>What is this buildup?</td>\n",
       "      <td></td>\n",
       "      <td>0</td>\n",
       "      <td>[what, be, this, buildup]</td>\n",
       "    </tr>\n",
       "    <tr>\n",
       "      <th>1</th>\n",
       "      <td>Added a bit too much water 200ish ml, asked fo...</td>\n",
       "      <td></td>\n",
       "      <td>0</td>\n",
       "      <td>[add, a, bit, too, much, water, 200ish, ml, as...</td>\n",
       "    </tr>\n",
       "    <tr>\n",
       "      <th>2</th>\n",
       "      <td>How many vines would you start with?</td>\n",
       "      <td>Hi all- \\n\\n&amp;amp;#x200B;\\n\\nWine lover and avi...</td>\n",
       "      <td>0</td>\n",
       "      <td>[how, many, vine, would, you, start, with, hi,...</td>\n",
       "    </tr>\n",
       "    <tr>\n",
       "      <th>3</th>\n",
       "      <td>Misc CO2 / Oxygen protection question ...</td>\n",
       "      <td>I have a wine batch that has CO2 naturally dis...</td>\n",
       "      <td>0</td>\n",
       "      <td>[misc, co2, /, oxygen, protection, question, i...</td>\n",
       "    </tr>\n",
       "    <tr>\n",
       "      <th>4</th>\n",
       "      <td>What's going on in this bottle?</td>\n",
       "      <td></td>\n",
       "      <td>0</td>\n",
       "      <td>[whats, go, on, in, this, bottle]</td>\n",
       "    </tr>\n",
       "    <tr>\n",
       "      <th>...</th>\n",
       "      <td>...</td>\n",
       "      <td>...</td>\n",
       "      <td>...</td>\n",
       "      <td>...</td>\n",
       "    </tr>\n",
       "    <tr>\n",
       "      <th>1964</th>\n",
       "      <td>If anyone are woundring about getting into som...</td>\n",
       "      <td></td>\n",
       "      <td>1</td>\n",
       "      <td>[if, anyone, be, woundring, about, get, into, ...</td>\n",
       "    </tr>\n",
       "    <tr>\n",
       "      <th>1965</th>\n",
       "      <td>Espresso stout</td>\n",
       "      <td>I have a espresso stout 10days into fermentati...</td>\n",
       "      <td>1</td>\n",
       "      <td>[espresso, stout, i, have, a, espresso, stout,...</td>\n",
       "    </tr>\n",
       "    <tr>\n",
       "      <th>1966</th>\n",
       "      <td>Can acid additions give bad hangovers? or is i...</td>\n",
       "      <td>So our brews have a tendency to give the drink...</td>\n",
       "      <td>1</td>\n",
       "      <td>[can, acid, addition, give, bad, hangover, or,...</td>\n",
       "    </tr>\n",
       "    <tr>\n",
       "      <th>1967</th>\n",
       "      <td>Free PDF of the first issue of Zymurgy Magazine</td>\n",
       "      <td></td>\n",
       "      <td>1</td>\n",
       "      <td>[free, pdf, of, the, first, issue, of, zymurgy...</td>\n",
       "    </tr>\n",
       "    <tr>\n",
       "      <th>1968</th>\n",
       "      <td>First brew - is it OK to start bottleing ?</td>\n",
       "      <td>Hi all,  \\n\\n\\nThis is my very first brew, I d...</td>\n",
       "      <td>1</td>\n",
       "      <td>[first, brew, be, it, ok, to, start, bottleing...</td>\n",
       "    </tr>\n",
       "  </tbody>\n",
       "</table>\n",
       "<p>1968 rows × 4 columns</p>\n",
       "</div>"
      ],
      "text/plain": [
       "                                                  title  \\\n",
       "0                                 What is this buildup?   \n",
       "1     Added a bit too much water 200ish ml, asked fo...   \n",
       "2                  How many vines would you start with?   \n",
       "3             Misc CO2 / Oxygen protection question ...   \n",
       "4                       What's going on in this bottle?   \n",
       "...                                                 ...   \n",
       "1964  If anyone are woundring about getting into som...   \n",
       "1965                                     Espresso stout   \n",
       "1966  Can acid additions give bad hangovers? or is i...   \n",
       "1967    Free PDF of the first issue of Zymurgy Magazine   \n",
       "1968         First brew - is it OK to start bottleing ?   \n",
       "\n",
       "                                               selftext  subreddit  \\\n",
       "0                                                                0   \n",
       "1                                                                0   \n",
       "2     Hi all- \\n\\n&amp;#x200B;\\n\\nWine lover and avi...          0   \n",
       "3     I have a wine batch that has CO2 naturally dis...          0   \n",
       "4                                                                0   \n",
       "...                                                 ...        ...   \n",
       "1964                                                             1   \n",
       "1965  I have a espresso stout 10days into fermentati...          1   \n",
       "1966  So our brews have a tendency to give the drink...          1   \n",
       "1967                                                             1   \n",
       "1968  Hi all,  \\n\\n\\nThis is my very first brew, I d...          1   \n",
       "\n",
       "                                               combined  \n",
       "0                             [what, be, this, buildup]  \n",
       "1     [add, a, bit, too, much, water, 200ish, ml, as...  \n",
       "2     [how, many, vine, would, you, start, with, hi,...  \n",
       "3     [misc, co2, /, oxygen, protection, question, i...  \n",
       "4                     [whats, go, on, in, this, bottle]  \n",
       "...                                                 ...  \n",
       "1964  [if, anyone, be, woundring, about, get, into, ...  \n",
       "1965  [espresso, stout, i, have, a, espresso, stout,...  \n",
       "1966  [can, acid, addition, give, bad, hangover, or,...  \n",
       "1967  [free, pdf, of, the, first, issue, of, zymurgy...  \n",
       "1968  [first, brew, be, it, ok, to, start, bottleing...  \n",
       "\n",
       "[1968 rows x 4 columns]"
      ]
     },
     "execution_count": 21,
     "metadata": {},
     "output_type": "execute_result"
    }
   ],
   "source": [
    "df"
   ]
  },
  {
   "cell_type": "markdown",
   "id": "fb48dd32-d8f7-4a64-bd29-1086c7c46f1a",
   "metadata": {},
   "source": [
    "In addition, we can also remove stopwords that would negatively affect our data. We will need to add to our stopwords list to remove additional noise that might affect our model. These will have to be iteratively added as we look at the visualizations below."
   ]
  },
  {
   "cell_type": "code",
   "execution_count": 22,
   "id": "2464406b-f412-41b0-a171-d5f14cd6aa69",
   "metadata": {},
   "outputs": [
    {
     "data": {
      "text/plain": [
       "205"
      ]
     },
     "execution_count": 22,
     "metadata": {},
     "output_type": "execute_result"
    }
   ],
   "source": [
    "# editing default stopwords list\n",
    "stop_words = set(stopwords.words(\"english\")) | {'hey', 'guys', 'im', 'ive', \n",
    "                                                'hello', '2021', 'q', 'question',\n",
    "                                                '’', 'dont', 'yall', 'get', 'like',\n",
    "                                               'anyone', 'thread', 'upvote', 'upvotes', \n",
    "                                                'work', 'thanks', 'please', 'sure', 'go', \n",
    "                                                'would', 'welcome', 'vote', 'reply'}\n",
    "len(stop_words)"
   ]
  },
  {
   "cell_type": "code",
   "execution_count": 23,
   "id": "d9cedaef-5384-4e74-9aa9-489e8d7ef745",
   "metadata": {
    "tags": []
   },
   "outputs": [],
   "source": [
    "# function to remove stopwords\n",
    "def remove_stopwords(lst):\n",
    "    return [word for word in lst if word not in stop_words]\n",
    "\n",
    "df['combined'] = df['combined'].apply(remove_stopwords)\n",
    "df['combined'] = df['combined'].apply(lambda x: ' '.join(x))"
   ]
  },
  {
   "cell_type": "code",
   "execution_count": 24,
   "id": "75fc9d6e-0cf1-4391-9fff-75d594bfb7e0",
   "metadata": {},
   "outputs": [
    {
     "data": {
      "text/html": [
       "<div>\n",
       "<style scoped>\n",
       "    .dataframe tbody tr th:only-of-type {\n",
       "        vertical-align: middle;\n",
       "    }\n",
       "\n",
       "    .dataframe tbody tr th {\n",
       "        vertical-align: top;\n",
       "    }\n",
       "\n",
       "    .dataframe thead th {\n",
       "        text-align: right;\n",
       "    }\n",
       "</style>\n",
       "<table border=\"1\" class=\"dataframe\">\n",
       "  <thead>\n",
       "    <tr style=\"text-align: right;\">\n",
       "      <th></th>\n",
       "      <th>title</th>\n",
       "      <th>selftext</th>\n",
       "      <th>subreddit</th>\n",
       "      <th>combined</th>\n",
       "    </tr>\n",
       "  </thead>\n",
       "  <tbody>\n",
       "    <tr>\n",
       "      <th>0</th>\n",
       "      <td>What is this buildup?</td>\n",
       "      <td></td>\n",
       "      <td>0</td>\n",
       "      <td>buildup</td>\n",
       "    </tr>\n",
       "    <tr>\n",
       "      <th>1</th>\n",
       "      <td>Added a bit too much water 200ish ml, asked fo...</td>\n",
       "      <td></td>\n",
       "      <td>0</td>\n",
       "      <td>add bit much water 200ish ml ask 45l 47 reckon...</td>\n",
       "    </tr>\n",
       "    <tr>\n",
       "      <th>2</th>\n",
       "      <td>How many vines would you start with?</td>\n",
       "      <td>Hi all- \\n\\n&amp;amp;#x200B;\\n\\nWine lover and avi...</td>\n",
       "      <td>0</td>\n",
       "      <td>many vine start hi ampx200b wine lover avid pl...</td>\n",
       "    </tr>\n",
       "    <tr>\n",
       "      <th>3</th>\n",
       "      <td>Misc CO2 / Oxygen protection question ...</td>\n",
       "      <td>I have a wine batch that has CO2 naturally dis...</td>\n",
       "      <td>0</td>\n",
       "      <td>misc co2 / oxygen protection wine batch co2 na...</td>\n",
       "    </tr>\n",
       "    <tr>\n",
       "      <th>4</th>\n",
       "      <td>What's going on in this bottle?</td>\n",
       "      <td></td>\n",
       "      <td>0</td>\n",
       "      <td>whats bottle</td>\n",
       "    </tr>\n",
       "    <tr>\n",
       "      <th>...</th>\n",
       "      <td>...</td>\n",
       "      <td>...</td>\n",
       "      <td>...</td>\n",
       "      <td>...</td>\n",
       "    </tr>\n",
       "    <tr>\n",
       "      <th>1964</th>\n",
       "      <td>If anyone are woundring about getting into som...</td>\n",
       "      <td></td>\n",
       "      <td>1</td>\n",
       "      <td>woundring kveikfermentation short video lars m...</td>\n",
       "    </tr>\n",
       "    <tr>\n",
       "      <th>1965</th>\n",
       "      <td>Espresso stout</td>\n",
       "      <td>I have a espresso stout 10days into fermentati...</td>\n",
       "      <td>1</td>\n",
       "      <td>espresso stout espresso stout 10days fermentat...</td>\n",
       "    </tr>\n",
       "    <tr>\n",
       "      <th>1966</th>\n",
       "      <td>Can acid additions give bad hangovers? or is i...</td>\n",
       "      <td>So our brews have a tendency to give the drink...</td>\n",
       "      <td>1</td>\n",
       "      <td>acid addition give bad hangover likely differe...</td>\n",
       "    </tr>\n",
       "    <tr>\n",
       "      <th>1967</th>\n",
       "      <td>Free PDF of the first issue of Zymurgy Magazine</td>\n",
       "      <td></td>\n",
       "      <td>1</td>\n",
       "      <td>free pdf first issue zymurgy magazine</td>\n",
       "    </tr>\n",
       "    <tr>\n",
       "      <th>1968</th>\n",
       "      <td>First brew - is it OK to start bottleing ?</td>\n",
       "      <td>Hi all,  \\n\\n\\nThis is my very first brew, I d...</td>\n",
       "      <td>1</td>\n",
       "      <td>first brew ok start bottleing hi first brew eq...</td>\n",
       "    </tr>\n",
       "  </tbody>\n",
       "</table>\n",
       "<p>1968 rows × 4 columns</p>\n",
       "</div>"
      ],
      "text/plain": [
       "                                                  title  \\\n",
       "0                                 What is this buildup?   \n",
       "1     Added a bit too much water 200ish ml, asked fo...   \n",
       "2                  How many vines would you start with?   \n",
       "3             Misc CO2 / Oxygen protection question ...   \n",
       "4                       What's going on in this bottle?   \n",
       "...                                                 ...   \n",
       "1964  If anyone are woundring about getting into som...   \n",
       "1965                                     Espresso stout   \n",
       "1966  Can acid additions give bad hangovers? or is i...   \n",
       "1967    Free PDF of the first issue of Zymurgy Magazine   \n",
       "1968         First brew - is it OK to start bottleing ?   \n",
       "\n",
       "                                               selftext  subreddit  \\\n",
       "0                                                                0   \n",
       "1                                                                0   \n",
       "2     Hi all- \\n\\n&amp;#x200B;\\n\\nWine lover and avi...          0   \n",
       "3     I have a wine batch that has CO2 naturally dis...          0   \n",
       "4                                                                0   \n",
       "...                                                 ...        ...   \n",
       "1964                                                             1   \n",
       "1965  I have a espresso stout 10days into fermentati...          1   \n",
       "1966  So our brews have a tendency to give the drink...          1   \n",
       "1967                                                             1   \n",
       "1968  Hi all,  \\n\\n\\nThis is my very first brew, I d...          1   \n",
       "\n",
       "                                               combined  \n",
       "0                                               buildup  \n",
       "1     add bit much water 200ish ml ask 45l 47 reckon...  \n",
       "2     many vine start hi ampx200b wine lover avid pl...  \n",
       "3     misc co2 / oxygen protection wine batch co2 na...  \n",
       "4                                          whats bottle  \n",
       "...                                                 ...  \n",
       "1964  woundring kveikfermentation short video lars m...  \n",
       "1965  espresso stout espresso stout 10days fermentat...  \n",
       "1966  acid addition give bad hangover likely differe...  \n",
       "1967              free pdf first issue zymurgy magazine  \n",
       "1968  first brew ok start bottleing hi first brew eq...  \n",
       "\n",
       "[1968 rows x 4 columns]"
      ]
     },
     "execution_count": 24,
     "metadata": {},
     "output_type": "execute_result"
    }
   ],
   "source": [
    "df"
   ]
  },
  {
   "cell_type": "markdown",
   "id": "11853985-06af-4113-9f63-d41f76ce47b7",
   "metadata": {},
   "source": [
    "# EDA"
   ]
  },
  {
   "cell_type": "markdown",
   "id": "efcbd365-47dc-4eb2-bfca-05f520d2a9e4",
   "metadata": {},
   "source": [
    "## Tokenizing and Stemming"
   ]
  },
  {
   "cell_type": "markdown",
   "id": "0f3e06e6-67b7-4bb7-976f-d49b32d5dd1e",
   "metadata": {},
   "source": [
    "There are various tokenizing, lemmatizing, and vectorizing methods which we can use to analyze the data. The ones we have chosen are:\n",
    "- `n_grams`: for unigrams/bigrams\n",
    "- `tf-idf`: for term frequency-inverse document frequency\n",
    "\n",
    "With these various tools, we will use domain knowledge to see whether our data would be good enough to produce a good classification model."
   ]
  },
  {
   "cell_type": "markdown",
   "id": "88ed298f-e541-4405-a4e6-52e000f7647c",
   "metadata": {},
   "source": [
    "## Function\n",
    "\n",
    "We can create a function to store our EDA steps for all the 3 tokenizations."
   ]
  },
  {
   "cell_type": "code",
   "execution_count": 25,
   "id": "b5cf2def-b70e-45c3-843a-358da6368ee6",
   "metadata": {},
   "outputs": [],
   "source": [
    "def freq_plot(df, vec):\n",
    "    '''\n",
    "    function to plot the most frequent unigrams, bigrams, and tf-idf given the dataframe (df) and vectorization (vec)\n",
    "    returns the top 20 most common tokens and their frequency charts\n",
    "    '''\n",
    "    \n",
    "    if vec == 'unigram':\n",
    "        v = CountVectorizer(ngram_range=(1,2), stop_words=stop_words)\n",
    "    elif vec == 'bigram':\n",
    "        v = CountVectorizer(ngram_range=(2,2), stop_words=stop_words)\n",
    "    elif vec == 'tf-idf unigram':\n",
    "        v = TfidfVectorizer(ngram_range=(1,2), stop_words=stop_words)\n",
    "    else:\n",
    "        v = TfidfVectorizer(ngram_range=(2,2), stop_words=stop_words)\n",
    "    \n",
    "    wine = v.fit_transform(df[df['subreddit']==0]['combined'])\n",
    "    wine = pd.DataFrame(wine.todense(), columns=v.get_feature_names_out()).sum().sort_values().tail(20)\n",
    "    beer = v.fit_transform(df[df['subreddit']==1]['combined'])\n",
    "    beer = pd.DataFrame(beer.todense(), columns=v.get_feature_names_out()).sum().sort_values().tail(20)\n",
    "\n",
    "    fig, axes = plt.subplots(1, 2, figsize=(18, 8))\n",
    "    color_wine = cm.Spectral(np.linspace(0, 1, 20))\n",
    "    color_beer = cm.coolwarm(np.linspace(0, 1, 20))\n",
    "    plt.suptitle(f'Plots of most frequent {vec}s in the subreddits', fontsize=25)\n",
    "\n",
    "    axes[0].set_title(f'Top 20 words in winemaking subreddit titles', fontsize = 15)\n",
    "    axes[0].set_xlabel('Count')\n",
    "    axes[0].set_ylabel('Words')\n",
    "    axes[0].barh(wine.index, wine, color=color_wine)\n",
    "\n",
    "    axes[1].set_title(f'Top 20 words in homebrewing subreddit text', fontsize = 15)\n",
    "    axes[1].set_xlabel('Count')\n",
    "    axes[1].set_ylabel('Words')\n",
    "    axes[1].barh(beer.index, beer, color=color_beer);\n",
    "    \n",
    "    return wine, beer"
   ]
  },
  {
   "cell_type": "markdown",
   "id": "fdc97b29-0f9b-4af7-90f5-1d25bc51d3dd",
   "metadata": {},
   "source": [
    "## n-gram Vectorizer"
   ]
  },
  {
   "cell_type": "markdown",
   "id": "abb25b3b-5d30-4da7-9c9e-c2b913a4370f",
   "metadata": {},
   "source": [
    "We can first look at a plot of the 20 most common unigrams (single word token) and bigrams (double word token)."
   ]
  },
  {
   "cell_type": "code",
   "execution_count": 26,
   "id": "808b4c23-61af-4e70-a5aa-dc662e7c19ac",
   "metadata": {},
   "outputs": [
    {
     "data": {
      "image/png": "[encoded data removed]",
      "text/plain": [
       "<Figure size 1296x576 with 2 Axes>"
      ]
     },
     "metadata": {
      "needs_background": "light"
     },
     "output_type": "display_data"
    }
   ],
   "source": [
    "wine_uni, beer_uni = freq_plot(df, vec='unigram')"
   ]
  },
  {
   "cell_type": "markdown",
   "id": "682c051a-84c9-4ece-93af-532898a96d8a",
   "metadata": {},
   "source": [
    "This time, we can try a bigram splitting."
   ]
  },
  {
   "cell_type": "code",
   "execution_count": 27,
   "id": "a9faa395-547e-4168-b9e6-f138ab0bb4cf",
   "metadata": {},
   "outputs": [
    {
     "data": {
      "image/png": "[encoded data removed]",
      "text/plain": [
       "<Figure size 1296x576 with 2 Axes>"
      ]
     },
     "metadata": {
      "needs_background": "light"
     },
     "output_type": "display_data"
    }
   ],
   "source": [
    "wine_bi, beer_bi = freq_plot(df, 'bigram')"
   ]
  },
  {
   "cell_type": "markdown",
   "id": "52034f1e-73b3-4ea3-a3d1-5c2f0e9b6c0e",
   "metadata": {},
   "source": [
    "## tf-idf Vectorizer"
   ]
  },
  {
   "cell_type": "markdown",
   "id": "dd3b176c-e9c9-44e7-8dc7-000525853587",
   "metadata": {},
   "source": [
    "Lastly, we can take a look at the frequency of words with a tf-idf vectorizer."
   ]
  },
  {
   "cell_type": "code",
   "execution_count": 28,
   "id": "f01cdf32-03b6-42a1-bb58-eb3f65992176",
   "metadata": {},
   "outputs": [
    {
     "data": {
      "image/png": "[encoded data removed]",
      "text/plain": [
       "<Figure size 1296x576 with 2 Axes>"
      ]
     },
     "metadata": {
      "needs_background": "light"
     },
     "output_type": "display_data"
    }
   ],
   "source": [
    "wine_tfidf_uni, beer_tfidf_uni = freq_plot(df, vec='tf-idf unigram')"
   ]
  },
  {
   "cell_type": "code",
   "execution_count": 29,
   "id": "d0a1f005-ae4c-47fb-be05-f2ff40701350",
   "metadata": {
    "tags": []
   },
   "outputs": [
    {
     "data": {
      "image/png": "[encoded data removed]",
      "text/plain": [
       "<Figure size 1296x576 with 2 Axes>"
      ]
     },
     "metadata": {
      "needs_background": "light"
     },
     "output_type": "display_data"
    }
   ],
   "source": [
    "wine_tfidf_bi, beer_tfidf_bi = freq_plot(df, vec='tf-idf bigram')"
   ]
  },
  {
   "cell_type": "markdown",
   "id": "db7f45aa-2d42-46e3-9305-2aa5772d8c69",
   "metadata": {},
   "source": [
    "We can also take a look at the contexts in which the main words, 'wine' and 'beer' occur. This might give us more insight about the contexts of the posts and what people are posting about."
   ]
  },
  {
   "cell_type": "code",
   "execution_count": 30,
   "id": "5c1f18a6-63c1-4ac8-8348-3e84edc9eda6",
   "metadata": {},
   "outputs": [
    {
     "name": "stdout",
     "output_type": "stream",
     "text": [
      "Displaying 25 of 1258 matches:\n",
      "ent fine many vine start hi ampx200b wine lover avid plant grower want grow gr\n",
      " grower want grow grape make dry red wine think merlot variety perhaps nebbiol\n",
      "6b south east pa make mead equipment wine make part love grow plant think mana\n",
      " produce enough grape let say510 gal wine per year space isnt huge issue thoug\n",
      "pointer misc co2 / oxygen protection wine batch co2 naturally dissolve primary\n",
      "ask concerned oxygen management fact wine still little fizzy prove good job ma\n",
      "ottle help virtually experience make wine store grape juice want make wine str\n",
      "ake wine store grape juice want make wine strawberry one make wine fruit stabi\n",
      "e want make wine strawberry one make wine fruit stabilize wine bulk age gallon\n",
      "wberry one make wine fruit stabilize wine bulk age gallon carrot various fruit\n",
      "bulk age gallon carrot various fruit wine several month stabilize wine sweeten\n",
      "s fruit wine several month stabilize wine sweeten much potassium metabisulfite\n",
      " instruction also long let stabilize wine sit sweeten bottle help first batch \n",
      "ubble recipe comment top newb second wine kit say step stabilize clear top fol\n",
      "clear top follow instruction advance wine kit winemaker trio white rjs make dr\n",
      "emaker trio white rjs make drinkable wine frankfurt germany plan grow small am\n",
      "y one experience prefer drinking red wine guess white grape variety well suit \n",
      "n hi guy green irish grass come make wine start soon personal use commercial s\n",
      "preciate advance ☺ bottle end enough wine fill last bottle skin contact white \n",
      "guy planning make skin contact white wine read winemaker age skin couple month\n",
      "ge desire time decide take skin rack wine skins/lees new demijohn bother press\n",
      "long time oxidization via press ruin wine make needlepoint wine grape base pic\n",
      "via press ruin wine make needlepoint wine grape base picture know kind grape d\n",
      "ue pinot merlot help bottle 5 gallon wine yesterday leave wine primary ferment\n",
      "bottle 5 gallon wine yesterday leave wine primary fermenter bubbling stop new \n"
     ]
    }
   ],
   "source": [
    "str1 = ''\n",
    "for i in df.combined:\n",
    "    str1 = str1+i+' '\n",
    "combined_text = nltk.Text(word_tokenize(str1))\n",
    "combined_text.concordance('wine')"
   ]
  },
  {
   "cell_type": "code",
   "execution_count": 31,
   "id": "5b51d4f7-9905-4564-88fd-f45734e0eb5d",
   "metadata": {},
   "outputs": [
    {
     "name": "stdout",
     "output_type": "stream",
     "text": [
      "Displaying 25 of 673 matches:\n",
      "perly havent make wine although make beer least indirect familiarity equipment\n",
      "t first white wine maceration bottle beer growler ready bottle applewine ferme\n",
      "e save enough bottle whole batch use beer growler cornell winemaking certifica\n",
      "ctice winemaking learn diacetyl rest beer production raise temperature cold fe\n",
      "ction raise temperature cold ferment beer closer room temperature 23 day youre\n",
      "vel well undesirable compound finish beer ferment version practice carry winem\n",
      "ally want change career home brewing beer consider beer industry however think\n",
      "ge career home brewing beer consider beer industry however think rather find b\n",
      "rry fruit tip recipe advice brew lot beer think almost process wine crush boil\n",
      "ar elderberry doesnt much bottle use beer cap need cork keep mind live small t\n",
      "day quick way make pinot grigio come beer world beer 2 week brew day look wine\n",
      "ay make pinot grigio come beer world beer 2 week brew day look wine wife resea\n",
      "y 34 month way speed process brewing beer way reduce fermentation/clarity step\n",
      "uite bit time learn wine even though beer guy learn lot enjoy time tend red wh\n",
      "preciate additional background bunch beer homebrew one 5 gall wine kit wine we\n",
      "rd look cant find device design wine beer yet people seem know proof wine bret\n",
      "s come brewing background homebrewed beer mead wonder experince sole fermenter\n",
      "eer ugly christmas costume christmas beer bell pepper wine add raisin 3/4lb su\n",
      "nnay lee wine christmas sweater gift beer lover drinking team look help identi\n",
      "ne since pandemic really homebrewing beer really rabbit whole recently finish \n",
      "ty much everywhere think make ginger beer home make ginger bug innoculate drin\n",
      "ast packet something similar brewing beer wild yeast strain obviously produce \n",
      " wild yeast strain obviously produce beer high abv usually mine seem less 2 % \n",
      "reuse clean pop cork also cork glass beer rootbeer bottle old fashion christma\n",
      "rt make kit wine people share recipe beer find tia know acid titration wine ok\n"
     ]
    }
   ],
   "source": [
    "combined_text.concordance('beer')"
   ]
  },
  {
   "cell_type": "markdown",
   "id": "45bac071-9a28-4ab5-ad65-5e67bcd66d84",
   "metadata": {},
   "source": [
    "## Summary"
   ]
  },
  {
   "cell_type": "code",
   "execution_count": 32,
   "id": "b902f5cf-5858-4347-b8c2-b3346d521d84",
   "metadata": {},
   "outputs": [
    {
     "name": "stdout",
     "output_type": "stream",
     "text": [
      "{'yeast', 'make', 'add', 'day', 'bottle', 'batch', 'use', 'time', 'first', 'fermentation', 'look'}\n"
     ]
    }
   ],
   "source": [
    "print(set(wine_uni.index.to_list()) & set(beer_uni.index.to_list()))"
   ]
  },
  {
   "cell_type": "code",
   "execution_count": 33,
   "id": "785f8307-12ab-4389-b4c8-ad216c5666a8",
   "metadata": {},
   "outputs": [
    {
     "data": {
      "text/plain": [
       "{'first time'}"
      ]
     },
     "execution_count": 33,
     "metadata": {},
     "output_type": "execute_result"
    }
   ],
   "source": [
    "set(wine_bi.index.to_list()) & set(beer_bi.index.to_list())"
   ]
  },
  {
   "cell_type": "code",
   "execution_count": 34,
   "id": "2b374e54-d314-46cb-a6f5-fc4f22a719f9",
   "metadata": {},
   "outputs": [
    {
     "name": "stdout",
     "output_type": "stream",
     "text": [
      "{'gallon', 'yeast', 'make', 'add', 'bottle', 'batch', 'use', 'first', 'look'}\n"
     ]
    }
   ],
   "source": [
    "print(set(wine_tfidf_uni.index.to_list())& set(beer_tfidf_uni.index.to_list()))"
   ]
  },
  {
   "cell_type": "code",
   "execution_count": 35,
   "id": "4f72182d-f71d-44c4-9373-c5a852d73cb9",
   "metadata": {},
   "outputs": [
    {
     "data": {
      "text/plain": [
       "{'first time'}"
      ]
     },
     "execution_count": 35,
     "metadata": {},
     "output_type": "execute_result"
    }
   ],
   "source": [
    "set(wine_tfidf_bi.index.to_list())& set(beer_tfidf_bi.index.to_list())"
   ]
  },
  {
   "cell_type": "markdown",
   "id": "57fff8ba-0316-40da-8a0c-1b31111a5ad9",
   "metadata": {},
   "source": [
    "After looking at the various important words and phrases, we can see that the subreddits have sufficient differences in their most frequent words to build a useful model. There are more differences in the bigrams than the unigrams, which might indicate that they would be more useful in training our model to identify the important phrases.\n",
    "\n",
    "It seems that while 'make wine' appears way more often than 'make beer', the process is split between 'make beer', 'brewing beer', 'ferment beer', and 'homebrewing beer'. More posts seem to be about beer production, while the wine subreddit seems to have some discussion about wine styles. \n",
    "\n",
    "We can also see interesting sociolinguistic patterns - there are a number of first time brewers and winemakers who are looking for different styles to make, as 'first time' comes up relatively frequently in both subreddits. There are also more wine styles than beer styles that people are looking for, with wines being made from different fruits, whereas beer is usually beer, ginger beer, root beer or mead."
   ]
  },
  {
   "cell_type": "markdown",
   "id": "4cdfd131-e1c5-439e-bfbe-f6e86c90622f",
   "metadata": {},
   "source": [
    "# Model building\n",
    "\n",
    "We will be building a range of models with the help of pipelines and GridSearchCV. The models we will be considering are:\n",
    "- logistic regression:\n",
    "    * unigrams and bigrams\n",
    "    * tf-idf\n",
    "- KNN classifier:\n",
    "    * unigrams and bigrams\n",
    "    * tf-idf\n",
    "- naïve bayes:\n",
    "    * unigrams and bigrams\n",
    "    * tf-idf\n",
    "- random forest:\n",
    "    * unigrams and bigrams\n",
    "    * tf-idf\n",
    "\n",
    "Before that, we have to verify if the target class is balanced."
   ]
  },
  {
   "cell_type": "code",
   "execution_count": 36,
   "id": "a841c71d-5e9f-4a8c-a57d-76911c2b7205",
   "metadata": {},
   "outputs": [
    {
     "data": {
      "text/plain": [
       "0    986\n",
       "1    982\n",
       "Name: subreddit, dtype: int64"
      ]
     },
     "execution_count": 36,
     "metadata": {},
     "output_type": "execute_result"
    }
   ],
   "source": [
    "df.subreddit.value_counts()"
   ]
  },
  {
   "cell_type": "markdown",
   "id": "a1c94fe9-3d72-4687-8ad5-cfc6422a5be7",
   "metadata": {},
   "source": [
    "The classes are roughly balanced (after dropping duplicates), which makes sense as we pulled a roughly equal number of posts for each topic."
   ]
  },
  {
   "cell_type": "markdown",
   "id": "6ab2b9ea-083a-40e8-ac11-f279998004bb",
   "metadata": {},
   "source": [
    "## Splitting data"
   ]
  },
  {
   "cell_type": "markdown",
   "id": "227afefb-1a18-48af-a662-758bf7b6ba6b",
   "metadata": {},
   "source": [
    "We will first split the training data, making sure to keep the stratification of the $y$ variable the same in the `train` and `test` variables. This ensures that the proportions of the classes would be the same to avoid imbalanced data."
   ]
  },
  {
   "cell_type": "code",
   "execution_count": 37,
   "id": "471b7786-eba5-454d-863a-2524c62387d2",
   "metadata": {},
   "outputs": [],
   "source": [
    "X = df.combined\n",
    "y = df.subreddit\n",
    "\n",
    "X_train, X_test, y_train, y_test = train_test_split(\n",
    "    X, y, test_size=0.3, random_state=42, stratify=y\n",
    ")"
   ]
  },
  {
   "cell_type": "markdown",
   "id": "885f8cc9-9107-4952-9091-db609265333b",
   "metadata": {},
   "source": [
    "## Pipelines"
   ]
  },
  {
   "cell_type": "markdown",
   "id": "452d801a-d1dd-478b-8ad9-2d20ea4c0a9a",
   "metadata": {},
   "source": [
    "### Logistic Regression\n",
    "\n",
    "Logistic regression uses a linear regression but with parameters that shape the line of best fit such that it can be considered a classification model. It aims to maximize the likelihood function of the training data, and use that to classify the test data according to its likelihood. In this context, it would be using the count for each word to predict the likelihood of the post being in one subreddit or another.\n",
    "\n",
    "#### Count vectorizer\n",
    "We first consider the count vectorizer with logistic regression. We will set `random_state=42` as we do not want different values for each run."
   ]
  },
  {
   "cell_type": "code",
   "execution_count": 38,
   "id": "d8f7fb0d-5848-4cd2-858a-742f84347449",
   "metadata": {},
   "outputs": [],
   "source": [
    "pipe_log_cv = Pipeline(\n",
    "    [('cv', CountVectorizer()), (\"log\", LogisticRegression(solver='liblinear', random_state=42))]\n",
    ")"
   ]
  },
  {
   "cell_type": "code",
   "execution_count": 39,
   "id": "41e3c6e7-8936-4009-9a0a-c41a788f1125",
   "metadata": {},
   "outputs": [
    {
     "data": {
      "text/plain": [
       "{'memory': None,\n",
       " 'steps': [('cv', CountVectorizer()),\n",
       "  ('log', LogisticRegression(random_state=42, solver='liblinear'))],\n",
       " 'verbose': False,\n",
       " 'cv': CountVectorizer(),\n",
       " 'log': LogisticRegression(random_state=42, solver='liblinear'),\n",
       " 'cv__analyzer': 'word',\n",
       " 'cv__binary': False,\n",
       " 'cv__decode_error': 'strict',\n",
       " 'cv__dtype': numpy.int64,\n",
       " 'cv__encoding': 'utf-8',\n",
       " 'cv__input': 'content',\n",
       " 'cv__lowercase': True,\n",
       " 'cv__max_df': 1.0,\n",
       " 'cv__max_features': None,\n",
       " 'cv__min_df': 1,\n",
       " 'cv__ngram_range': (1, 1),\n",
       " 'cv__preprocessor': None,\n",
       " 'cv__stop_words': None,\n",
       " 'cv__strip_accents': None,\n",
       " 'cv__token_pattern': '(?u)\\\\b\\\\w\\\\w+\\\\b',\n",
       " 'cv__tokenizer': None,\n",
       " 'cv__vocabulary': None,\n",
       " 'log__C': 1.0,\n",
       " 'log__class_weight': None,\n",
       " 'log__dual': False,\n",
       " 'log__fit_intercept': True,\n",
       " 'log__intercept_scaling': 1,\n",
       " 'log__l1_ratio': None,\n",
       " 'log__max_iter': 100,\n",
       " 'log__multi_class': 'auto',\n",
       " 'log__n_jobs': None,\n",
       " 'log__penalty': 'l2',\n",
       " 'log__random_state': 42,\n",
       " 'log__solver': 'liblinear',\n",
       " 'log__tol': 0.0001,\n",
       " 'log__verbose': 0,\n",
       " 'log__warm_start': False}"
      ]
     },
     "execution_count": 39,
     "metadata": {},
     "output_type": "execute_result"
    }
   ],
   "source": [
    "pipe_log_cv.get_params()"
   ]
  },
  {
   "cell_type": "markdown",
   "id": "e80af9b6-44b8-4203-b204-56fc84aa5b59",
   "metadata": {},
   "source": [
    "The hyperparameters which we choose to tune are:\n",
    "- `max_features`: consider only the top $n$ tokens\n",
    "- `min_df`: min as above (int for no of docs, percentage of docs for float)\n",
    "- `ngram_range`: consider both a mixture of unigrams and bigrams or just bigrams\n",
    "- `penalty`: ridge or lasso regression\n",
    "- `C`: inverse of α, it gives the strength of the regularization (the smaller the stronger, cannot be 0)"
   ]
  },
  {
   "cell_type": "code",
   "execution_count": 40,
   "id": "d0103bc6-05a9-4282-83e6-7a7aadeb9065",
   "metadata": {},
   "outputs": [],
   "source": [
    "log_cv_params = {\n",
    "    'cv__max_features': [4000, 5000],\n",
    "    'cv__min_df': [2, 3],\n",
    "    'cv__ngram_range': [(1,2), (2,2)],\n",
    "    'log__penalty': ['l1', 'l2'],\n",
    "    'log__C': np.linspace(0.01, 4.3, 15)\n",
    "}"
   ]
  },
  {
   "cell_type": "markdown",
   "id": "adf1f49e-f3e5-4162-afaa-a46ee12f8740",
   "metadata": {},
   "source": [
    "We can instantiate our grid search with a 5-fold cross-valuation, splitting the jobs across 5 processors. If there are any errors we will raise them for easier troubleshooting, and we will print the total number of fittings with the `verbose` parameter."
   ]
  },
  {
   "cell_type": "code",
   "execution_count": 41,
   "id": "cd31cde9-2a88-4ef9-bf95-28d5454a81ca",
   "metadata": {
    "tags": []
   },
   "outputs": [],
   "source": [
    "log_cv_gs = GridSearchCV(pipe_log_cv, param_grid=log_cv_params, cv=5, n_jobs=5, error_score='raise', verbose=1)"
   ]
  },
  {
   "cell_type": "code",
   "execution_count": 42,
   "id": "922869b8-6c17-4e1f-8c61-ec9d135ac718",
   "metadata": {},
   "outputs": [
    {
     "name": "stdout",
     "output_type": "stream",
     "text": [
      "Fitting 5 folds for each of 240 candidates, totalling 1200 fits\n",
      "CPU times: user 3.99 s, sys: 397 ms, total: 4.39 s\n",
      "Wall time: 1min 4s\n"
     ]
    },
    {
     "data": {
      "text/plain": [
       "GridSearchCV(cv=5, error_score='raise',\n",
       "             estimator=Pipeline(steps=[('cv', CountVectorizer()),\n",
       "                                       ('log',\n",
       "                                        LogisticRegression(random_state=42,\n",
       "                                                           solver='liblinear'))]),\n",
       "             n_jobs=5,\n",
       "             param_grid={'cv__max_features': [4000, 5000], 'cv__min_df': [2, 3],\n",
       "                         'cv__ngram_range': [(1, 2), (2, 2)],\n",
       "                         'log__C': array([0.01      , 0.31642857, 0.62285714, 0.92928571, 1.23571429,\n",
       "       1.54214286, 1.84857143, 2.155     , 2.46142857, 2.76785714,\n",
       "       3.07428571, 3.38071429, 3.68714286, 3.99357143, 4.3       ]),\n",
       "                         'log__penalty': ['l1', 'l2']},\n",
       "             verbose=1)"
      ]
     },
     "execution_count": 42,
     "metadata": {},
     "output_type": "execute_result"
    }
   ],
   "source": [
    "%time log_cv_gs.fit(X_train, y_train)"
   ]
  },
  {
   "cell_type": "code",
   "execution_count": 43,
   "id": "e147f1b6-121e-47b8-84d9-79ddae460df1",
   "metadata": {
    "tags": []
   },
   "outputs": [
    {
     "name": "stdout",
     "output_type": "stream",
     "text": [
      "Pipeline(steps=[('cv',\n",
      "                 CountVectorizer(max_features=5000, min_df=2,\n",
      "                                 ngram_range=(1, 2))),\n",
      "                ('log',\n",
      "                 LogisticRegression(C=0.6228571428571429, random_state=42,\n",
      "                                    solver='liblinear'))])\n",
      "0.8969038208168643\n"
     ]
    }
   ],
   "source": [
    "print(log_cv_gs.best_estimator_)\n",
    "print(log_cv_gs.best_score_)"
   ]
  },
  {
   "cell_type": "markdown",
   "id": "68159c47-a70f-45ec-974a-3e11ea4caa6a",
   "metadata": {
    "jp-MarkdownHeadingCollapsed": true,
    "tags": []
   },
   "source": [
    "We can examine the accuracy score with the `.score()` function. Since the classes are balanced, we can simply use the accuracy score, which is the number of correct predictions divided by the total number of predictions. This will only be used to judge whether the model is overfitted or not."
   ]
  },
  {
   "cell_type": "code",
   "execution_count": 44,
   "id": "a718883b-1526-4253-acee-90c40825a4bd",
   "metadata": {
    "tags": []
   },
   "outputs": [
    {
     "name": "stdout",
     "output_type": "stream",
     "text": [
      "Accuracy scores for train and test: \n",
      "0.9876543209876543\n",
      "0.8984771573604061\n"
     ]
    }
   ],
   "source": [
    "print('Accuracy scores for train and test: ')\n",
    "print(log_cv_gs.score(X_train, y_train))\n",
    "print(log_cv_gs.score(X_test, y_test))"
   ]
  },
  {
   "cell_type": "code",
   "execution_count": 45,
   "id": "5189c83a-4eeb-477c-887c-fade11363a8e",
   "metadata": {},
   "outputs": [
    {
     "data": {
      "image/png": "[encoded data removed]",
      "text/plain": [
       "<Figure size 432x288 with 2 Axes>"
      ]
     },
     "metadata": {
      "needs_background": "light"
     },
     "output_type": "display_data"
    }
   ],
   "source": [
    "y_pred = log_cv_gs.predict(X_test)\n",
    "ConfusionMatrixDisplay.from_predictions(y_test, y_pred, cmap='inferno', display_labels=['winemaking', 'homebrewing']);"
   ]
  },
  {
   "cell_type": "markdown",
   "id": "5b93395b-cb12-45ee-b434-59bb88c23d30",
   "metadata": {},
   "source": [
    "We will also be plotting a ROC-AUC curve, which shows us the f1 score across various prediction thresholds.. The larger the AUC score, the better the model as it would capture more true positives than false positives, i.e. it would be able to separate the classes better."
   ]
  },
  {
   "cell_type": "code",
   "execution_count": 46,
   "id": "c0f14e44-d0c0-4f79-b47c-2e7db5824c4c",
   "metadata": {},
   "outputs": [
    {
     "data": {
      "image/png": "[encoded data removed]",
      "text/plain": [
       "<Figure size 432x288 with 1 Axes>"
      ]
     },
     "metadata": {
      "needs_background": "light"
     },
     "output_type": "display_data"
    }
   ],
   "source": [
    "RocCurveDisplay.from_estimator(log_cv_gs.best_estimator_, X_test, y_test)\n",
    "plt.plot([0, 1], [0, 1], label=\"baseline\", linestyle=\"--\")\n",
    "plt.legend();"
   ]
  },
  {
   "cell_type": "code",
   "execution_count": 47,
   "id": "06caf612-eb86-494a-a8cb-8a9f4f7024ee",
   "metadata": {},
   "outputs": [
    {
     "data": {
      "text/plain": [
       "0.9605932203389831"
      ]
     },
     "execution_count": 47,
     "metadata": {},
     "output_type": "execute_result"
    }
   ],
   "source": [
    "log_cv_auc = roc_auc_score(y_test, log_cv_gs.best_estimator_.predict_proba(X_test)[:,1])\n",
    "log_cv_auc"
   ]
  },
  {
   "cell_type": "markdown",
   "id": "f6e631fc-64b3-47f8-bfda-979fe6497d55",
   "metadata": {},
   "source": [
    "#### tf-idf"
   ]
  },
  {
   "cell_type": "code",
   "execution_count": 48,
   "id": "73965159-0786-4fa9-9c56-449c2955c499",
   "metadata": {},
   "outputs": [],
   "source": [
    "pipe_log_tfidf = Pipeline(\n",
    "    [('tfidf', TfidfVectorizer()), (\"log\", LogisticRegression(solver='liblinear', random_state=42))]\n",
    ")"
   ]
  },
  {
   "cell_type": "code",
   "execution_count": 49,
   "id": "84a9b11f-eb62-4df9-9a34-b74785255a60",
   "metadata": {},
   "outputs": [
    {
     "data": {
      "text/plain": [
       "{'memory': None,\n",
       " 'steps': [('tfidf', TfidfVectorizer()),\n",
       "  ('log', LogisticRegression(random_state=42, solver='liblinear'))],\n",
       " 'verbose': False,\n",
       " 'tfidf': TfidfVectorizer(),\n",
       " 'log': LogisticRegression(random_state=42, solver='liblinear'),\n",
       " 'tfidf__analyzer': 'word',\n",
       " 'tfidf__binary': False,\n",
       " 'tfidf__decode_error': 'strict',\n",
       " 'tfidf__dtype': numpy.float64,\n",
       " 'tfidf__encoding': 'utf-8',\n",
       " 'tfidf__input': 'content',\n",
       " 'tfidf__lowercase': True,\n",
       " 'tfidf__max_df': 1.0,\n",
       " 'tfidf__max_features': None,\n",
       " 'tfidf__min_df': 1,\n",
       " 'tfidf__ngram_range': (1, 1),\n",
       " 'tfidf__norm': 'l2',\n",
       " 'tfidf__preprocessor': None,\n",
       " 'tfidf__smooth_idf': True,\n",
       " 'tfidf__stop_words': None,\n",
       " 'tfidf__strip_accents': None,\n",
       " 'tfidf__sublinear_tf': False,\n",
       " 'tfidf__token_pattern': '(?u)\\\\b\\\\w\\\\w+\\\\b',\n",
       " 'tfidf__tokenizer': None,\n",
       " 'tfidf__use_idf': True,\n",
       " 'tfidf__vocabulary': None,\n",
       " 'log__C': 1.0,\n",
       " 'log__class_weight': None,\n",
       " 'log__dual': False,\n",
       " 'log__fit_intercept': True,\n",
       " 'log__intercept_scaling': 1,\n",
       " 'log__l1_ratio': None,\n",
       " 'log__max_iter': 100,\n",
       " 'log__multi_class': 'auto',\n",
       " 'log__n_jobs': None,\n",
       " 'log__penalty': 'l2',\n",
       " 'log__random_state': 42,\n",
       " 'log__solver': 'liblinear',\n",
       " 'log__tol': 0.0001,\n",
       " 'log__verbose': 0,\n",
       " 'log__warm_start': False}"
      ]
     },
     "execution_count": 49,
     "metadata": {},
     "output_type": "execute_result"
    }
   ],
   "source": [
    "pipe_log_tfidf.get_params()"
   ]
  },
  {
   "cell_type": "markdown",
   "id": "5b7690c8-69b1-4169-b482-02a25f4214e3",
   "metadata": {},
   "source": [
    "The hyperparameters which we choose to tune are:\n",
    "- `max_features`: consider only the top $n$ tokens\n",
    "- `min_df`: min as above (int for no of docs, percentage of docs for float)\n",
    "- `ngram_range`: consider both a mixture of unigrams and bigrams or just bigrams\n",
    "- `penalty`: ridge or lasso regression\n",
    "- `C`: inverse of α, it gives the strength of the regularization (the smaller the stronger, cannot be 0)"
   ]
  },
  {
   "cell_type": "code",
   "execution_count": 50,
   "id": "4162ba2f-4cf9-4e51-81ae-cb73389dd0ed",
   "metadata": {},
   "outputs": [],
   "source": [
    "log_tfidf_params = {\n",
    "    'tfidf__max_features': [4000, 5000],\n",
    "    'tfidf__min_df': [2, 3],\n",
    "    'tfidf__ngram_range': [(1,2), (2,2)],\n",
    "    'log__penalty': ['l1', 'l2'],\n",
    "    'log__C': np.linspace(0.1, 4.3, 15)\n",
    "}"
   ]
  },
  {
   "cell_type": "code",
   "execution_count": 51,
   "id": "ecb3018b-1912-419f-ade3-2f205f546d59",
   "metadata": {
    "tags": []
   },
   "outputs": [],
   "source": [
    "log_tfidf_gs = GridSearchCV(pipe_log_tfidf, param_grid=log_tfidf_params, cv=5, n_jobs=2, error_score='raise', verbose=1)"
   ]
  },
  {
   "cell_type": "code",
   "execution_count": 52,
   "id": "dc40cd70-f945-4247-999f-a651b69e1421",
   "metadata": {},
   "outputs": [
    {
     "name": "stdout",
     "output_type": "stream",
     "text": [
      "Fitting 5 folds for each of 240 candidates, totalling 1200 fits\n",
      "CPU times: user 3.35 s, sys: 317 ms, total: 3.67 s\n",
      "Wall time: 1min 53s\n"
     ]
    },
    {
     "data": {
      "text/plain": [
       "GridSearchCV(cv=5, error_score='raise',\n",
       "             estimator=Pipeline(steps=[('tfidf', TfidfVectorizer()),\n",
       "                                       ('log',\n",
       "                                        LogisticRegression(random_state=42,\n",
       "                                                           solver='liblinear'))]),\n",
       "             n_jobs=2,\n",
       "             param_grid={'log__C': array([0.1, 0.4, 0.7, 1. , 1.3, 1.6, 1.9, 2.2, 2.5, 2.8, 3.1, 3.4, 3.7,\n",
       "       4. , 4.3]),\n",
       "                         'log__penalty': ['l1', 'l2'],\n",
       "                         'tfidf__max_features': [4000, 5000],\n",
       "                         'tfidf__min_df': [2, 3],\n",
       "                         'tfidf__ngram_range': [(1, 2), (2, 2)]},\n",
       "             verbose=1)"
      ]
     },
     "execution_count": 52,
     "metadata": {},
     "output_type": "execute_result"
    }
   ],
   "source": [
    "%time log_tfidf_gs.fit(X_train, y_train)"
   ]
  },
  {
   "cell_type": "code",
   "execution_count": 53,
   "id": "f554f752-98ab-47a0-84d3-483c0833b644",
   "metadata": {
    "tags": []
   },
   "outputs": [
    {
     "name": "stdout",
     "output_type": "stream",
     "text": [
      "Pipeline(steps=[('tfidf',\n",
      "                 TfidfVectorizer(max_features=4000, min_df=2,\n",
      "                                 ngram_range=(1, 2))),\n",
      "                ('log',\n",
      "                 LogisticRegression(C=0.9999999999999999, random_state=42,\n",
      "                                    solver='liblinear'))])\n",
      "0.916532279314888\n"
     ]
    }
   ],
   "source": [
    "print(log_tfidf_gs.best_estimator_)\n",
    "print(log_tfidf_gs.best_score_)"
   ]
  },
  {
   "cell_type": "code",
   "execution_count": 54,
   "id": "bc1a9b7f-f5dc-428c-9cd8-08ed60589dd8",
   "metadata": {
    "tags": []
   },
   "outputs": [
    {
     "name": "stdout",
     "output_type": "stream",
     "text": [
      "Accuracy scores for train and test: \n",
      "0.9767610748002905\n",
      "0.9120135363790186\n"
     ]
    }
   ],
   "source": [
    "print('Accuracy scores for train and test: ')\n",
    "print(log_tfidf_gs.score(X_train, y_train))\n",
    "print(log_tfidf_gs.score(X_test, y_test))"
   ]
  },
  {
   "cell_type": "code",
   "execution_count": 55,
   "id": "0f0dfffb-dd69-4d48-a968-0aad5612b7fd",
   "metadata": {},
   "outputs": [
    {
     "data": {
      "image/png": "[encoded data removed]",
      "text/plain": [
       "<Figure size 432x288 with 2 Axes>"
      ]
     },
     "metadata": {
      "needs_background": "light"
     },
     "output_type": "display_data"
    }
   ],
   "source": [
    "y_pred = log_tfidf_gs.predict(X_test)\n",
    "ConfusionMatrixDisplay.from_predictions(y_test, y_pred, cmap='cividis', display_labels=['winemaking', 'homebrewing']);"
   ]
  },
  {
   "cell_type": "code",
   "execution_count": 56,
   "id": "b8f09d60-55bc-4c6d-9bcc-2ebec6d5213e",
   "metadata": {},
   "outputs": [
    {
     "data": {
      "image/png": "[encoded data removed]",
      "text/plain": [
       "<Figure size 432x288 with 1 Axes>"
      ]
     },
     "metadata": {
      "needs_background": "light"
     },
     "output_type": "display_data"
    }
   ],
   "source": [
    "RocCurveDisplay.from_estimator(log_tfidf_gs.best_estimator_, X_test, y_test)\n",
    "plt.plot([0, 1], [0, 1], label=\"baseline\", linestyle=\"--\")\n",
    "plt.legend();"
   ]
  },
  {
   "cell_type": "code",
   "execution_count": 57,
   "id": "033af404-3ee7-465f-a291-b725b42d3236",
   "metadata": {},
   "outputs": [
    {
     "data": {
      "text/plain": [
       "0.9745075584058634"
      ]
     },
     "execution_count": 57,
     "metadata": {},
     "output_type": "execute_result"
    }
   ],
   "source": [
    "log_tfidf_auc = roc_auc_score(y_test, log_tfidf_gs.best_estimator_.predict_proba(X_test)[:,1])\n",
    "log_tfidf_auc"
   ]
  },
  {
   "cell_type": "markdown",
   "id": "161b6b28-9817-4016-b4bc-7e5e1283576a",
   "metadata": {},
   "source": [
    "### KNN Classifier\n",
    "\n",
    "The k-nearest neighbor works by using the distance metric between posts to determine where the new post should be classified under. It takes into account word frequency to determine the distance.\n",
    "\n",
    "#### Count vectorizer"
   ]
  },
  {
   "cell_type": "code",
   "execution_count": 58,
   "id": "a7801e70-35cd-4067-ba31-ffaaf3f27610",
   "metadata": {},
   "outputs": [],
   "source": [
    "pipe_knn_cv = Pipeline(\n",
    "    [('cv', CountVectorizer()), (\"knn\", KNeighborsClassifier())]\n",
    ")"
   ]
  },
  {
   "cell_type": "code",
   "execution_count": 59,
   "id": "4fc07303-5296-4012-8f5c-664cfd182234",
   "metadata": {},
   "outputs": [
    {
     "data": {
      "text/plain": [
       "{'memory': None,\n",
       " 'steps': [('cv', CountVectorizer()), ('knn', KNeighborsClassifier())],\n",
       " 'verbose': False,\n",
       " 'cv': CountVectorizer(),\n",
       " 'knn': KNeighborsClassifier(),\n",
       " 'cv__analyzer': 'word',\n",
       " 'cv__binary': False,\n",
       " 'cv__decode_error': 'strict',\n",
       " 'cv__dtype': numpy.int64,\n",
       " 'cv__encoding': 'utf-8',\n",
       " 'cv__input': 'content',\n",
       " 'cv__lowercase': True,\n",
       " 'cv__max_df': 1.0,\n",
       " 'cv__max_features': None,\n",
       " 'cv__min_df': 1,\n",
       " 'cv__ngram_range': (1, 1),\n",
       " 'cv__preprocessor': None,\n",
       " 'cv__stop_words': None,\n",
       " 'cv__strip_accents': None,\n",
       " 'cv__token_pattern': '(?u)\\\\b\\\\w\\\\w+\\\\b',\n",
       " 'cv__tokenizer': None,\n",
       " 'cv__vocabulary': None,\n",
       " 'knn__algorithm': 'auto',\n",
       " 'knn__leaf_size': 30,\n",
       " 'knn__metric': 'minkowski',\n",
       " 'knn__metric_params': None,\n",
       " 'knn__n_jobs': None,\n",
       " 'knn__n_neighbors': 5,\n",
       " 'knn__p': 2,\n",
       " 'knn__weights': 'uniform'}"
      ]
     },
     "execution_count": 59,
     "metadata": {},
     "output_type": "execute_result"
    }
   ],
   "source": [
    "pipe_knn_cv.get_params()"
   ]
  },
  {
   "cell_type": "markdown",
   "id": "475e4bcb-36f7-42aa-8db3-5e1661f7d33c",
   "metadata": {},
   "source": [
    "The hyperparameters which we choose to tune are:\n",
    "- `max_features`: consider only the top $n$ tokens\n",
    "- `min_df`: min as above (int for no of docs, percentage of docs for float)\n",
    "- `ngram_range`: consider both a mixture of unigrams and bigrams or just bigrams\n",
    "- `metric`: whether to measure distances by minkowski or euclidean metric\n",
    "- `neighbors`: how many nearest neighbors to consider\n",
    "- `weights`: whether to add additional weights to further points"
   ]
  },
  {
   "cell_type": "code",
   "execution_count": 60,
   "id": "9f7d70db-6d3e-406c-9af7-f03122b4fbfc",
   "metadata": {},
   "outputs": [],
   "source": [
    "knn_cv_params = {\n",
    "    'cv__max_features': [4000, 5000],\n",
    "    'cv__min_df': [2, 3],\n",
    "    'cv__ngram_range': [(1,2), (2,2)],\n",
    "    'knn__metric': ['minkowski', 'euclidean'],\n",
    "    'knn__n_neighbors': np.arange(5, 12, 2),\n",
    "    'knn__weights': ['uniform', 'distance']\n",
    "}"
   ]
  },
  {
   "cell_type": "code",
   "execution_count": 61,
   "id": "7f75ae0e-892d-4a33-bffe-231ac094fb30",
   "metadata": {
    "tags": []
   },
   "outputs": [
    {
     "name": "stdout",
     "output_type": "stream",
     "text": [
      "Fitting 5 folds for each of 128 candidates, totalling 640 fits\n",
      "CPU times: user 1.68 s, sys: 155 ms, total: 1.84 s\n",
      "Wall time: 1min 2s\n"
     ]
    },
    {
     "data": {
      "text/plain": [
       "GridSearchCV(cv=5, error_score='raise',\n",
       "             estimator=Pipeline(steps=[('cv', CountVectorizer()),\n",
       "                                       ('knn', KNeighborsClassifier())]),\n",
       "             n_jobs=2,\n",
       "             param_grid={'cv__max_features': [4000, 5000], 'cv__min_df': [2, 3],\n",
       "                         'cv__ngram_range': [(1, 2), (2, 2)],\n",
       "                         'knn__metric': ['minkowski', 'euclidean'],\n",
       "                         'knn__n_neighbors': array([ 5,  7,  9, 11]),\n",
       "                         'knn__weights': ['uniform', 'distance']},\n",
       "             verbose=1)"
      ]
     },
     "execution_count": 61,
     "metadata": {},
     "output_type": "execute_result"
    }
   ],
   "source": [
    "knn_cv_gs = GridSearchCV(pipe_knn_cv, param_grid=knn_cv_params, cv=5, n_jobs=2, error_score='raise', verbose=1)\n",
    "%time knn_cv_gs.fit(X_train, y_train)"
   ]
  },
  {
   "cell_type": "code",
   "execution_count": 62,
   "id": "d3561e34-0e74-42a7-966b-90001101da7d",
   "metadata": {
    "tags": []
   },
   "outputs": [
    {
     "name": "stdout",
     "output_type": "stream",
     "text": [
      "Pipeline(steps=[('cv',\n",
      "                 CountVectorizer(max_features=4000, min_df=3,\n",
      "                                 ngram_range=(1, 2))),\n",
      "                ('knn', KNeighborsClassifier(weights='distance'))])\n",
      "0.7203978919631094\n"
     ]
    }
   ],
   "source": [
    "print(knn_cv_gs.best_estimator_)\n",
    "print(knn_cv_gs.best_score_)"
   ]
  },
  {
   "cell_type": "code",
   "execution_count": 63,
   "id": "269458e9-6a26-4037-b029-78b320a5e099",
   "metadata": {
    "tags": []
   },
   "outputs": [
    {
     "name": "stdout",
     "output_type": "stream",
     "text": [
      "Accuracy scores for train and test: \n",
      "0.9992737835875091\n",
      "0.727580372250423\n"
     ]
    }
   ],
   "source": [
    "print('Accuracy scores for train and test: ')\n",
    "print(knn_cv_gs.score(X_train, y_train))\n",
    "print(knn_cv_gs.score(X_test, y_test))"
   ]
  },
  {
   "cell_type": "code",
   "execution_count": 64,
   "id": "a5db7ad9-c400-4bb0-ab44-12c747384fe6",
   "metadata": {},
   "outputs": [
    {
     "data": {
      "image/png": "[encoded data removed]",
      "text/plain": [
       "<Figure size 432x288 with 2 Axes>"
      ]
     },
     "metadata": {
      "needs_background": "light"
     },
     "output_type": "display_data"
    }
   ],
   "source": [
    "y_pred = knn_cv_gs.predict(X_test)\n",
    "ConfusionMatrixDisplay.from_predictions(y_test, y_pred, cmap='plasma', display_labels=['winemaking', 'homebrewing']);"
   ]
  },
  {
   "cell_type": "code",
   "execution_count": 65,
   "id": "31180ad6-0ccf-4b96-a0c8-08b88b2be3f1",
   "metadata": {},
   "outputs": [
    {
     "data": {
      "image/png": "[encoded data removed]",
      "text/plain": [
       "<Figure size 432x288 with 1 Axes>"
      ]
     },
     "metadata": {
      "needs_background": "light"
     },
     "output_type": "display_data"
    }
   ],
   "source": [
    "RocCurveDisplay.from_estimator(knn_cv_gs.best_estimator_, X_test, y_test)\n",
    "plt.plot([0, 1], [0, 1], label=\"baseline\", linestyle=\"--\")\n",
    "plt.legend();"
   ]
  },
  {
   "cell_type": "code",
   "execution_count": 66,
   "id": "36126f0f-4e55-40fb-a800-c6ffd5be962e",
   "metadata": {},
   "outputs": [
    {
     "data": {
      "text/plain": [
       "0.8505611543747138"
      ]
     },
     "execution_count": 66,
     "metadata": {},
     "output_type": "execute_result"
    }
   ],
   "source": [
    "knn_cv_auc = roc_auc_score(y_test, knn_cv_gs.best_estimator_.predict_proba(X_test)[:,1])\n",
    "knn_cv_auc"
   ]
  },
  {
   "cell_type": "markdown",
   "id": "c503745b-71db-4450-8936-9df5f0a5f607",
   "metadata": {},
   "source": [
    "#### tf-idf"
   ]
  },
  {
   "cell_type": "code",
   "execution_count": 67,
   "id": "abb1f11e-a563-4b1c-a594-449d3fb092d3",
   "metadata": {},
   "outputs": [],
   "source": [
    "pipe_knn_tfidf = Pipeline(\n",
    "    [('tfidf', TfidfVectorizer()), (\"knn\", KNeighborsClassifier())]\n",
    ")"
   ]
  },
  {
   "cell_type": "code",
   "execution_count": 68,
   "id": "8b0e8134-0e6a-41f2-987a-55f0f19fb8d6",
   "metadata": {},
   "outputs": [
    {
     "data": {
      "text/plain": [
       "{'memory': None,\n",
       " 'steps': [('tfidf', TfidfVectorizer()), ('knn', KNeighborsClassifier())],\n",
       " 'verbose': False,\n",
       " 'tfidf': TfidfVectorizer(),\n",
       " 'knn': KNeighborsClassifier(),\n",
       " 'tfidf__analyzer': 'word',\n",
       " 'tfidf__binary': False,\n",
       " 'tfidf__decode_error': 'strict',\n",
       " 'tfidf__dtype': numpy.float64,\n",
       " 'tfidf__encoding': 'utf-8',\n",
       " 'tfidf__input': 'content',\n",
       " 'tfidf__lowercase': True,\n",
       " 'tfidf__max_df': 1.0,\n",
       " 'tfidf__max_features': None,\n",
       " 'tfidf__min_df': 1,\n",
       " 'tfidf__ngram_range': (1, 1),\n",
       " 'tfidf__norm': 'l2',\n",
       " 'tfidf__preprocessor': None,\n",
       " 'tfidf__smooth_idf': True,\n",
       " 'tfidf__stop_words': None,\n",
       " 'tfidf__strip_accents': None,\n",
       " 'tfidf__sublinear_tf': False,\n",
       " 'tfidf__token_pattern': '(?u)\\\\b\\\\w\\\\w+\\\\b',\n",
       " 'tfidf__tokenizer': None,\n",
       " 'tfidf__use_idf': True,\n",
       " 'tfidf__vocabulary': None,\n",
       " 'knn__algorithm': 'auto',\n",
       " 'knn__leaf_size': 30,\n",
       " 'knn__metric': 'minkowski',\n",
       " 'knn__metric_params': None,\n",
       " 'knn__n_jobs': None,\n",
       " 'knn__n_neighbors': 5,\n",
       " 'knn__p': 2,\n",
       " 'knn__weights': 'uniform'}"
      ]
     },
     "execution_count": 68,
     "metadata": {},
     "output_type": "execute_result"
    }
   ],
   "source": [
    "pipe_knn_tfidf.get_params()"
   ]
  },
  {
   "cell_type": "markdown",
   "id": "087fa26c-e074-48f5-b50e-9292ad59c2bf",
   "metadata": {},
   "source": [
    "The hyperparameters which we choose to tune are:\n",
    "- `max_features`: consider only the top $n$ tokens\n",
    "- `min_df`: min as above (int for no of docs, percentage of docs for float)\n",
    "- `ngram_range`: consider both a mixture of unigrams and bigrams or just bigrams\n",
    "- `metric`: whether to measure distances by minkowski or euclidean metric\n",
    "- `neighbors`: how many nearest neighbors to consider\n",
    "- `weights`: whether to add additional weights to further points"
   ]
  },
  {
   "cell_type": "code",
   "execution_count": 69,
   "id": "ca5f3f7d-335d-422f-9339-301f81069ecf",
   "metadata": {},
   "outputs": [],
   "source": [
    "knn_tfidf_params = {\n",
    "    'tfidf__max_features': [4000, 5000],\n",
    "    'tfidf__min_df': [2, 3],\n",
    "    'tfidf__ngram_range': [(1,2), (2,2)],\n",
    "    'knn__metric': ['minkowski', 'euclidean'],\n",
    "    'knn__n_neighbors': np.arange(5, 12, 2),\n",
    "    'knn__weights': ['uniform', 'distance']\n",
    "}"
   ]
  },
  {
   "cell_type": "code",
   "execution_count": 70,
   "id": "919d7754-c371-4bca-a4f9-d9c8190e597d",
   "metadata": {
    "tags": []
   },
   "outputs": [
    {
     "name": "stdout",
     "output_type": "stream",
     "text": [
      "Fitting 5 folds for each of 128 candidates, totalling 640 fits\n",
      "CPU times: user 1.71 s, sys: 156 ms, total: 1.86 s\n",
      "Wall time: 1min 1s\n"
     ]
    },
    {
     "data": {
      "text/plain": [
       "GridSearchCV(cv=5, error_score='raise',\n",
       "             estimator=Pipeline(steps=[('tfidf', TfidfVectorizer()),\n",
       "                                       ('knn', KNeighborsClassifier())]),\n",
       "             n_jobs=2,\n",
       "             param_grid={'knn__metric': ['minkowski', 'euclidean'],\n",
       "                         'knn__n_neighbors': array([ 5,  7,  9, 11]),\n",
       "                         'knn__weights': ['uniform', 'distance'],\n",
       "                         'tfidf__max_features': [4000, 5000],\n",
       "                         'tfidf__min_df': [2, 3],\n",
       "                         'tfidf__ngram_range': [(1, 2), (2, 2)]},\n",
       "             verbose=1)"
      ]
     },
     "execution_count": 70,
     "metadata": {},
     "output_type": "execute_result"
    }
   ],
   "source": [
    "knn_tfidf_gs = GridSearchCV(pipe_knn_tfidf, param_grid=knn_tfidf_params, cv=5, n_jobs=2, error_score='raise', verbose=1)\n",
    "%time knn_tfidf_gs.fit(X_train, y_train)"
   ]
  },
  {
   "cell_type": "code",
   "execution_count": 71,
   "id": "8e2df5e4-43fd-42cf-aeac-33af8cdcfee5",
   "metadata": {
    "tags": []
   },
   "outputs": [
    {
     "name": "stdout",
     "output_type": "stream",
     "text": [
      "Pipeline(steps=[('tfidf',\n",
      "                 TfidfVectorizer(max_features=4000, min_df=3,\n",
      "                                 ngram_range=(2, 2))),\n",
      "                ('knn', KNeighborsClassifier(weights='distance'))])\n",
      "0.5795098814229249\n"
     ]
    }
   ],
   "source": [
    "print(knn_tfidf_gs.best_estimator_)\n",
    "print(knn_tfidf_gs.best_score_)"
   ]
  },
  {
   "cell_type": "code",
   "execution_count": 72,
   "id": "9ac436b2-04d2-4cce-82db-37377485183c",
   "metadata": {
    "tags": []
   },
   "outputs": [
    {
     "name": "stdout",
     "output_type": "stream",
     "text": [
      "Accuracy scores for train and test: \n",
      "0.8779956427015251\n",
      "0.5786802030456852\n"
     ]
    }
   ],
   "source": [
    "print('Accuracy scores for train and test: ')\n",
    "print(knn_tfidf_gs.score(X_train, y_train))\n",
    "print(knn_tfidf_gs.score(X_test, y_test))"
   ]
  },
  {
   "cell_type": "code",
   "execution_count": 73,
   "id": "f733fb04-e207-456e-baf6-d2fe555dd9bd",
   "metadata": {},
   "outputs": [
    {
     "data": {
      "image/png": "[encoded data removed]",
      "text/plain": [
       "<Figure size 432x288 with 2 Axes>"
      ]
     },
     "metadata": {
      "needs_background": "light"
     },
     "output_type": "display_data"
    }
   ],
   "source": [
    "y_pred = knn_tfidf_gs.predict(X_test)\n",
    "ConfusionMatrixDisplay.from_predictions(y_test, y_pred, cmap='plasma', display_labels=['winemaking', 'homebrewing']);"
   ]
  },
  {
   "cell_type": "code",
   "execution_count": 74,
   "id": "29da2758-d033-4103-8b19-0f48143c34a2",
   "metadata": {},
   "outputs": [
    {
     "data": {
      "image/png": "[encoded data removed]",
      "text/plain": [
       "<Figure size 432x288 with 1 Axes>"
      ]
     },
     "metadata": {
      "needs_background": "light"
     },
     "output_type": "display_data"
    }
   ],
   "source": [
    "RocCurveDisplay.from_estimator(knn_tfidf_gs.best_estimator_, X_test, y_test)\n",
    "plt.plot([0, 1], [0, 1], label=\"baseline\", linestyle=\"--\")\n",
    "plt.legend();"
   ]
  },
  {
   "cell_type": "code",
   "execution_count": 75,
   "id": "6e16ef6b-58a7-45f2-b197-08c0174850a1",
   "metadata": {},
   "outputs": [
    {
     "data": {
      "text/plain": [
       "0.6547869903802106"
      ]
     },
     "execution_count": 75,
     "metadata": {},
     "output_type": "execute_result"
    }
   ],
   "source": [
    "knn_tfidf_auc = roc_auc_score(y_test, knn_tfidf_gs.best_estimator_.predict_proba(X_test)[:,1])\n",
    "knn_tfidf_auc"
   ]
  },
  {
   "cell_type": "markdown",
   "id": "a52ef32f-d95e-42a7-8f63-2cf7d289ce3a",
   "metadata": {},
   "source": [
    "### Naive Bayes"
   ]
  },
  {
   "cell_type": "markdown",
   "id": "4c72600b-ddac-47b0-b9d3-e821f4c653b1",
   "metadata": {},
   "source": [
    "Naïve bayes uses the bayseian conditional probability of each word occurrence to determine which class a new post should be under, given the occurrence of words in the post. There are three types of naïve bayes models, but we will be using the Bernoulli model since our target variable is binary."
   ]
  },
  {
   "cell_type": "markdown",
   "id": "48285765-0176-447c-bd3d-ad38d3c0b67e",
   "metadata": {},
   "source": [
    "#### Count vectorizer"
   ]
  },
  {
   "cell_type": "code",
   "execution_count": 76,
   "id": "3db368c2-f330-46a5-b8dc-392308d07efb",
   "metadata": {},
   "outputs": [],
   "source": [
    "pipe_nb_cv = Pipeline([\n",
    "    ('cv', CountVectorizer()),\n",
    "    ('nb', BernoulliNB())\n",
    "])"
   ]
  },
  {
   "cell_type": "code",
   "execution_count": 77,
   "id": "a583c14b-1edd-4b40-8e67-08242e7878b9",
   "metadata": {},
   "outputs": [
    {
     "data": {
      "text/plain": [
       "{'memory': None,\n",
       " 'steps': [('cv', CountVectorizer()), ('nb', BernoulliNB())],\n",
       " 'verbose': False,\n",
       " 'cv': CountVectorizer(),\n",
       " 'nb': BernoulliNB(),\n",
       " 'cv__analyzer': 'word',\n",
       " 'cv__binary': False,\n",
       " 'cv__decode_error': 'strict',\n",
       " 'cv__dtype': numpy.int64,\n",
       " 'cv__encoding': 'utf-8',\n",
       " 'cv__input': 'content',\n",
       " 'cv__lowercase': True,\n",
       " 'cv__max_df': 1.0,\n",
       " 'cv__max_features': None,\n",
       " 'cv__min_df': 1,\n",
       " 'cv__ngram_range': (1, 1),\n",
       " 'cv__preprocessor': None,\n",
       " 'cv__stop_words': None,\n",
       " 'cv__strip_accents': None,\n",
       " 'cv__token_pattern': '(?u)\\\\b\\\\w\\\\w+\\\\b',\n",
       " 'cv__tokenizer': None,\n",
       " 'cv__vocabulary': None,\n",
       " 'nb__alpha': 1.0,\n",
       " 'nb__binarize': 0.0,\n",
       " 'nb__class_prior': None,\n",
       " 'nb__fit_prior': True}"
      ]
     },
     "execution_count": 77,
     "metadata": {},
     "output_type": "execute_result"
    }
   ],
   "source": [
    "pipe_nb_cv.get_params()"
   ]
  },
  {
   "cell_type": "markdown",
   "id": "acf016ef-f0f4-486c-bcf7-867557e2adea",
   "metadata": {},
   "source": [
    "The hyperparameters which we choose to tune are:\n",
    "- `max_features`: consider only the top $n$ tokens\n",
    "- `min_df`: min as above (int for no of docs, percentage of docs for float)\n",
    "- `ngram_range`: consider both a mixture of unigrams and bigrams or just bigrams\n",
    "- `alpha`: Laplace smoothing parameter"
   ]
  },
  {
   "cell_type": "code",
   "execution_count": 78,
   "id": "c8ca702d-a2d7-4a04-b4d3-36c86f10b6a8",
   "metadata": {},
   "outputs": [],
   "source": [
    "nb_cv_params = {\n",
    "    'cv__max_features': [4000, 5000],\n",
    "    'cv__min_df': [2, 3],\n",
    "    'cv__ngram_range': [(1,1), (1,2)],\n",
    "    'nb__alpha': np.linspace(1, 21, 20)\n",
    "}"
   ]
  },
  {
   "cell_type": "code",
   "execution_count": 79,
   "id": "8cc7b02a-7f97-4852-adb3-e334796e19a7",
   "metadata": {
    "tags": []
   },
   "outputs": [
    {
     "name": "stdout",
     "output_type": "stream",
     "text": [
      "Fitting 5 folds for each of 160 candidates, totalling 800 fits\n",
      "CPU times: user 1.14 s, sys: 101 ms, total: 1.24 s\n",
      "Wall time: 52.6 s\n"
     ]
    },
    {
     "data": {
      "text/plain": [
       "GridSearchCV(cv=5, error_score='raise',\n",
       "             estimator=Pipeline(steps=[('cv', CountVectorizer()),\n",
       "                                       ('nb', BernoulliNB())]),\n",
       "             n_jobs=2,\n",
       "             param_grid={'cv__max_features': [4000, 5000], 'cv__min_df': [2, 3],\n",
       "                         'cv__ngram_range': [(1, 1), (1, 2)],\n",
       "                         'nb__alpha': array([ 1.        ,  2.05263158,  3.10526316,  4.15789474,  5.21052632,\n",
       "        6.26315789,  7.31578947,  8.36842105,  9.42105263, 10.47368421,\n",
       "       11.52631579, 12.57894737, 13.63157895, 14.68421053, 15.73684211,\n",
       "       16.78947368, 17.84210526, 18.89473684, 19.94736842, 21.        ])},\n",
       "             verbose=1)"
      ]
     },
     "execution_count": 79,
     "metadata": {},
     "output_type": "execute_result"
    }
   ],
   "source": [
    "nb_cv_gs = GridSearchCV(pipe_nb_cv, param_grid=nb_cv_params, cv=5, n_jobs=2, error_score='raise', verbose=1)\n",
    "%time nb_cv_gs.fit(X_train, y_train)"
   ]
  },
  {
   "cell_type": "code",
   "execution_count": 80,
   "id": "b7ac0cae-2f36-474e-8c30-8567de1a4d2f",
   "metadata": {
    "tags": []
   },
   "outputs": [
    {
     "name": "stdout",
     "output_type": "stream",
     "text": [
      "Pipeline(steps=[('cv', CountVectorizer(max_features=4000, min_df=3)),\n",
      "                ('nb', BernoulliNB())])\n",
      "0.7886693017127799\n"
     ]
    }
   ],
   "source": [
    "print(nb_cv_gs.best_estimator_)\n",
    "print(nb_cv_gs.best_score_)"
   ]
  },
  {
   "cell_type": "code",
   "execution_count": 81,
   "id": "ae0f5a18-0713-43e5-b359-ba6a8302e86d",
   "metadata": {
    "tags": []
   },
   "outputs": [
    {
     "name": "stdout",
     "output_type": "stream",
     "text": [
      "Accuracy scores for train and test: \n",
      "0.8213507625272332\n",
      "0.8037225042301185\n"
     ]
    }
   ],
   "source": [
    "print('Accuracy scores for train and test: ')\n",
    "print(nb_cv_gs.score(X_train, y_train))\n",
    "print(nb_cv_gs.score(X_test, y_test))"
   ]
  },
  {
   "cell_type": "code",
   "execution_count": 82,
   "id": "bac45477-8c8e-4db2-aafb-2c68e632b690",
   "metadata": {},
   "outputs": [
    {
     "data": {
      "image/png": "[encoded data removed]",
      "text/plain": [
       "<Figure size 432x288 with 2 Axes>"
      ]
     },
     "metadata": {
      "needs_background": "light"
     },
     "output_type": "display_data"
    }
   ],
   "source": [
    "y_pred = nb_cv_gs.predict(X_test)\n",
    "ConfusionMatrixDisplay.from_predictions(y_test, y_pred, cmap='inferno', display_labels=['winemaking', 'homebrewing']);"
   ]
  },
  {
   "cell_type": "code",
   "execution_count": 83,
   "id": "28cc5892-42a4-4956-89f4-875f2f92378a",
   "metadata": {},
   "outputs": [
    {
     "data": {
      "image/png": "[encoded data removed]",
      "text/plain": [
       "<Figure size 432x288 with 1 Axes>"
      ]
     },
     "metadata": {
      "needs_background": "light"
     },
     "output_type": "display_data"
    }
   ],
   "source": [
    "RocCurveDisplay.from_estimator(nb_cv_gs.best_estimator_, X_test, y_test)\n",
    "plt.plot([0, 1], [0, 1], label=\"baseline\", linestyle=\"--\")\n",
    "plt.legend();"
   ]
  },
  {
   "cell_type": "code",
   "execution_count": 84,
   "id": "813e6769-9e91-485a-aa5e-694620ee2c5d",
   "metadata": {},
   "outputs": [
    {
     "data": {
      "text/plain": [
       "0.9245877233165368"
      ]
     },
     "execution_count": 84,
     "metadata": {},
     "output_type": "execute_result"
    }
   ],
   "source": [
    "nb_cv_auc = roc_auc_score(y_test, nb_cv_gs.best_estimator_.predict_proba(X_test)[:,1])\n",
    "nb_cv_auc"
   ]
  },
  {
   "cell_type": "markdown",
   "id": "0e718b85-9fd8-4fbb-845e-d9cb539a919f",
   "metadata": {},
   "source": [
    "#### tf-idf"
   ]
  },
  {
   "cell_type": "code",
   "execution_count": 85,
   "id": "74965af0-822b-415b-9d53-a83ce4e62e25",
   "metadata": {},
   "outputs": [],
   "source": [
    "pipe_nb_tfidf = Pipeline([\n",
    "    ('tfidf', TfidfVectorizer()),\n",
    "    ('nb', BernoulliNB())\n",
    "])"
   ]
  },
  {
   "cell_type": "code",
   "execution_count": 86,
   "id": "f1342280-a91d-4351-a893-0ffd9906f70a",
   "metadata": {},
   "outputs": [
    {
     "data": {
      "text/plain": [
       "{'memory': None,\n",
       " 'steps': [('tfidf', TfidfVectorizer()), ('nb', BernoulliNB())],\n",
       " 'verbose': False,\n",
       " 'tfidf': TfidfVectorizer(),\n",
       " 'nb': BernoulliNB(),\n",
       " 'tfidf__analyzer': 'word',\n",
       " 'tfidf__binary': False,\n",
       " 'tfidf__decode_error': 'strict',\n",
       " 'tfidf__dtype': numpy.float64,\n",
       " 'tfidf__encoding': 'utf-8',\n",
       " 'tfidf__input': 'content',\n",
       " 'tfidf__lowercase': True,\n",
       " 'tfidf__max_df': 1.0,\n",
       " 'tfidf__max_features': None,\n",
       " 'tfidf__min_df': 1,\n",
       " 'tfidf__ngram_range': (1, 1),\n",
       " 'tfidf__norm': 'l2',\n",
       " 'tfidf__preprocessor': None,\n",
       " 'tfidf__smooth_idf': True,\n",
       " 'tfidf__stop_words': None,\n",
       " 'tfidf__strip_accents': None,\n",
       " 'tfidf__sublinear_tf': False,\n",
       " 'tfidf__token_pattern': '(?u)\\\\b\\\\w\\\\w+\\\\b',\n",
       " 'tfidf__tokenizer': None,\n",
       " 'tfidf__use_idf': True,\n",
       " 'tfidf__vocabulary': None,\n",
       " 'nb__alpha': 1.0,\n",
       " 'nb__binarize': 0.0,\n",
       " 'nb__class_prior': None,\n",
       " 'nb__fit_prior': True}"
      ]
     },
     "execution_count": 86,
     "metadata": {},
     "output_type": "execute_result"
    }
   ],
   "source": [
    "pipe_nb_tfidf.get_params()"
   ]
  },
  {
   "cell_type": "markdown",
   "id": "a866d17b-d8f7-42fb-b5b4-042aa0bbd71b",
   "metadata": {},
   "source": [
    "The hyperparameters which we choose to tune are:\n",
    "- `max_features`: consider only the top $n$ tokens\n",
    "- `min_df`: min as above (int for no of docs, percentage of docs for float)\n",
    "- `ngram_range`: consider both a mixture of unigrams and bigrams or just bigrams\n",
    "- `alpha`: Laplace smoothing parameter"
   ]
  },
  {
   "cell_type": "code",
   "execution_count": 87,
   "id": "646cbde2-d9c9-44e1-a5c5-870238e87d3b",
   "metadata": {},
   "outputs": [],
   "source": [
    "nb_tfidf_params = {\n",
    "    'tfidf__max_features': [4000, 5000],\n",
    "    'tfidf__min_df': [2, 3],\n",
    "    'tfidf__ngram_range': [(1,1), (1,2)],\n",
    "    'nb__alpha': np.linspace(1, 21, 20)\n",
    "}"
   ]
  },
  {
   "cell_type": "code",
   "execution_count": 88,
   "id": "055a0213-40da-423d-a7ba-42e62ff06eb0",
   "metadata": {
    "tags": []
   },
   "outputs": [
    {
     "name": "stdout",
     "output_type": "stream",
     "text": [
      "Fitting 5 folds for each of 160 candidates, totalling 800 fits\n",
      "CPU times: user 1.23 s, sys: 106 ms, total: 1.33 s\n",
      "Wall time: 54.7 s\n"
     ]
    },
    {
     "data": {
      "text/plain": [
       "GridSearchCV(cv=5, error_score='raise',\n",
       "             estimator=Pipeline(steps=[('tfidf', TfidfVectorizer()),\n",
       "                                       ('nb', BernoulliNB())]),\n",
       "             n_jobs=2,\n",
       "             param_grid={'nb__alpha': array([ 1.        ,  2.05263158,  3.10526316,  4.15789474,  5.21052632,\n",
       "        6.26315789,  7.31578947,  8.36842105,  9.42105263, 10.47368421,\n",
       "       11.52631579, 12.57894737, 13.63157895, 14.68421053, 15.73684211,\n",
       "       16.78947368, 17.84210526, 18.89473684, 19.94736842, 21.        ]),\n",
       "                         'tfidf__max_features': [4000, 5000],\n",
       "                         'tfidf__min_df': [2, 3],\n",
       "                         'tfidf__ngram_range': [(1, 1), (1, 2)]},\n",
       "             verbose=1)"
      ]
     },
     "execution_count": 88,
     "metadata": {},
     "output_type": "execute_result"
    }
   ],
   "source": [
    "nb_tfidf_gs = GridSearchCV(pipe_nb_tfidf, param_grid=nb_tfidf_params, cv=5, n_jobs=2, error_score='raise', verbose=1)\n",
    "%time nb_tfidf_gs.fit(X_train, y_train)"
   ]
  },
  {
   "cell_type": "code",
   "execution_count": 89,
   "id": "2e12618e-a388-47ad-8a14-a35ffcea1a58",
   "metadata": {
    "tags": []
   },
   "outputs": [
    {
     "name": "stdout",
     "output_type": "stream",
     "text": [
      "Pipeline(steps=[('tfidf', TfidfVectorizer(max_features=4000, min_df=3)),\n",
      "                ('nb', BernoulliNB())])\n",
      "0.7886693017127799\n"
     ]
    }
   ],
   "source": [
    "print(nb_tfidf_gs.best_estimator_)\n",
    "print(nb_tfidf_gs.best_score_)"
   ]
  },
  {
   "cell_type": "code",
   "execution_count": 90,
   "id": "0c1f109a-362b-4593-b836-9248154eb844",
   "metadata": {
    "tags": []
   },
   "outputs": [
    {
     "name": "stdout",
     "output_type": "stream",
     "text": [
      "Accuracy scores for train and test: \n",
      "0.8213507625272332\n",
      "0.8037225042301185\n"
     ]
    }
   ],
   "source": [
    "print('Accuracy scores for train and test: ')\n",
    "print(nb_tfidf_gs.score(X_train, y_train))\n",
    "print(nb_tfidf_gs.score(X_test, y_test))"
   ]
  },
  {
   "cell_type": "code",
   "execution_count": 91,
   "id": "8a0908bd-24fa-44c4-9c4b-c68e2571e8e7",
   "metadata": {},
   "outputs": [
    {
     "data": {
      "image/png": "[encoded data removed]",
      "text/plain": [
       "<Figure size 432x288 with 2 Axes>"
      ]
     },
     "metadata": {
      "needs_background": "light"
     },
     "output_type": "display_data"
    }
   ],
   "source": [
    "y_pred = nb_tfidf_gs.predict(X_test)\n",
    "ConfusionMatrixDisplay.from_predictions(y_test, y_pred, cmap='inferno', display_labels=['winemaking', 'homebrewing']);"
   ]
  },
  {
   "cell_type": "code",
   "execution_count": 92,
   "id": "4d7cff83-188b-4946-a83b-65b79c0d4371",
   "metadata": {},
   "outputs": [
    {
     "data": {
      "image/png": "[encoded data removed]",
      "text/plain": [
       "<Figure size 432x288 with 1 Axes>"
      ]
     },
     "metadata": {
      "needs_background": "light"
     },
     "output_type": "display_data"
    }
   ],
   "source": [
    "RocCurveDisplay.from_estimator(nb_tfidf_gs.best_estimator_, X_test, y_test)\n",
    "plt.plot([0, 1], [0, 1], label=\"baseline\", linestyle=\"--\")\n",
    "plt.legend();"
   ]
  },
  {
   "cell_type": "code",
   "execution_count": 93,
   "id": "07bf054c-7b60-4977-97c7-08deadb021c3",
   "metadata": {},
   "outputs": [
    {
     "data": {
      "text/plain": [
       "0.9245877233165368"
      ]
     },
     "execution_count": 93,
     "metadata": {},
     "output_type": "execute_result"
    }
   ],
   "source": [
    "nb_tfidf_auc = roc_auc_score(y_test, nb_tfidf_gs.best_estimator_.predict_proba(X_test)[:,1])\n",
    "nb_tfidf_auc"
   ]
  },
  {
   "cell_type": "markdown",
   "id": "da105e51-ab2e-49d1-a38f-532300cd6b26",
   "metadata": {},
   "source": [
    "### Random Forest\n",
    "\n",
    "The random forest model is an aggregated bagging of decision trees, which determines the classification of a new post given its probability of occurrence in a new post. This aggregation reduces the variance, but might lead to overfitting. It is also not as computationally efficient as the previous models."
   ]
  },
  {
   "cell_type": "markdown",
   "id": "98399c46-b50d-4d16-8f28-6c80ab71eaec",
   "metadata": {},
   "source": [
    "#### Count vectorizer"
   ]
  },
  {
   "cell_type": "code",
   "execution_count": 94,
   "id": "940fb8e3-b8bf-4c13-b84f-772a95c11935",
   "metadata": {},
   "outputs": [],
   "source": [
    "pipe_rf_cv = Pipeline([\n",
    "    ('cv', CountVectorizer()),\n",
    "    ('rf', RandomForestClassifier(random_state=42))\n",
    "])"
   ]
  },
  {
   "cell_type": "code",
   "execution_count": 95,
   "id": "ca7d96fb-d7d5-4d13-9c31-43b0facbab24",
   "metadata": {},
   "outputs": [
    {
     "data": {
      "text/plain": [
       "{'memory': None,\n",
       " 'steps': [('cv', CountVectorizer()),\n",
       "  ('rf', RandomForestClassifier(random_state=42))],\n",
       " 'verbose': False,\n",
       " 'cv': CountVectorizer(),\n",
       " 'rf': RandomForestClassifier(random_state=42),\n",
       " 'cv__analyzer': 'word',\n",
       " 'cv__binary': False,\n",
       " 'cv__decode_error': 'strict',\n",
       " 'cv__dtype': numpy.int64,\n",
       " 'cv__encoding': 'utf-8',\n",
       " 'cv__input': 'content',\n",
       " 'cv__lowercase': True,\n",
       " 'cv__max_df': 1.0,\n",
       " 'cv__max_features': None,\n",
       " 'cv__min_df': 1,\n",
       " 'cv__ngram_range': (1, 1),\n",
       " 'cv__preprocessor': None,\n",
       " 'cv__stop_words': None,\n",
       " 'cv__strip_accents': None,\n",
       " 'cv__token_pattern': '(?u)\\\\b\\\\w\\\\w+\\\\b',\n",
       " 'cv__tokenizer': None,\n",
       " 'cv__vocabulary': None,\n",
       " 'rf__bootstrap': True,\n",
       " 'rf__ccp_alpha': 0.0,\n",
       " 'rf__class_weight': None,\n",
       " 'rf__criterion': 'gini',\n",
       " 'rf__max_depth': None,\n",
       " 'rf__max_features': 'auto',\n",
       " 'rf__max_leaf_nodes': None,\n",
       " 'rf__max_samples': None,\n",
       " 'rf__min_impurity_decrease': 0.0,\n",
       " 'rf__min_samples_leaf': 1,\n",
       " 'rf__min_samples_split': 2,\n",
       " 'rf__min_weight_fraction_leaf': 0.0,\n",
       " 'rf__n_estimators': 100,\n",
       " 'rf__n_jobs': None,\n",
       " 'rf__oob_score': False,\n",
       " 'rf__random_state': 42,\n",
       " 'rf__verbose': 0,\n",
       " 'rf__warm_start': False}"
      ]
     },
     "execution_count": 95,
     "metadata": {},
     "output_type": "execute_result"
    }
   ],
   "source": [
    "pipe_rf_cv.get_params()"
   ]
  },
  {
   "cell_type": "markdown",
   "id": "fb517d00-bfff-4fdf-9f9a-d78427c3a7ed",
   "metadata": {},
   "source": [
    "The hyperparameters which we choose to tune are:\n",
    "- `max_features`: consider only the top $n$ tokens\n",
    "- `min_df`: min as above (int for no of docs, percentage of docs for float)\n",
    "- `ngram_range`: consider both a mixture of unigrams and bigrams or just bigrams\n",
    "- `max_depth`: the maximum depth of the trees\n",
    "- `ccp_alpha`: the cost-complexity parameter which prevents overfitting\n",
    "- `n_estimators`: the number of trees in the forest"
   ]
  },
  {
   "cell_type": "code",
   "execution_count": 96,
   "id": "e1548846-2c92-4a47-8f16-c2ad43227541",
   "metadata": {},
   "outputs": [],
   "source": [
    "rf_cv_params = {\n",
    "    'cv__max_features': [4000, 5000],\n",
    "    'cv__min_df': [2, 3],\n",
    "    'cv__ngram_range': [(1,2), (2,2)],\n",
    "    'rf__max_depth': np.linspace(11, 15, 5),\n",
    "    'rf__ccp_alpha': [0,1],\n",
    "    'rf__n_estimators': np.linspace(400, 800, 5).astype(int)\n",
    "}"
   ]
  },
  {
   "cell_type": "code",
   "execution_count": 97,
   "id": "24c56fbf-2506-4501-8ac1-3725f9e5b5a0",
   "metadata": {
    "tags": []
   },
   "outputs": [
    {
     "name": "stdout",
     "output_type": "stream",
     "text": [
      "Fitting 5 folds for each of 400 candidates, totalling 2000 fits\n",
      "CPU times: user 9.83 s, sys: 761 ms, total: 10.6 s\n",
      "Wall time: 14min 47s\n"
     ]
    },
    {
     "data": {
      "text/plain": [
       "GridSearchCV(cv=5, error_score='raise',\n",
       "             estimator=Pipeline(steps=[('cv', CountVectorizer()),\n",
       "                                       ('rf',\n",
       "                                        RandomForestClassifier(random_state=42))]),\n",
       "             n_jobs=5,\n",
       "             param_grid={'cv__max_features': [4000, 5000], 'cv__min_df': [2, 3],\n",
       "                         'cv__ngram_range': [(1, 2), (2, 2)],\n",
       "                         'rf__ccp_alpha': [0, 1],\n",
       "                         'rf__max_depth': array([11., 12., 13., 14., 15.]),\n",
       "                         'rf__n_estimators': array([400, 500, 600, 700, 800])},\n",
       "             verbose=1)"
      ]
     },
     "execution_count": 97,
     "metadata": {},
     "output_type": "execute_result"
    }
   ],
   "source": [
    "rf_cv_gs = GridSearchCV(pipe_rf_cv, param_grid=rf_cv_params, cv=5, n_jobs=5, error_score='raise', verbose=1)\n",
    "%time rf_cv_gs.fit(X_train, y_train)"
   ]
  },
  {
   "cell_type": "code",
   "execution_count": 98,
   "id": "864e82cb-71ac-40cc-8fe0-bd4ff3eee7aa",
   "metadata": {
    "tags": []
   },
   "outputs": [
    {
     "name": "stdout",
     "output_type": "stream",
     "text": [
      "Pipeline(steps=[('cv',\n",
      "                 CountVectorizer(max_features=4000, min_df=2,\n",
      "                                 ngram_range=(1, 2))),\n",
      "                ('rf',\n",
      "                 RandomForestClassifier(ccp_alpha=0, max_depth=12.0,\n",
      "                                        n_estimators=500, random_state=42))])\n",
      "0.8903530961791832\n"
     ]
    }
   ],
   "source": [
    "print(rf_cv_gs.best_estimator_)\n",
    "print(rf_cv_gs.best_score_)"
   ]
  },
  {
   "cell_type": "code",
   "execution_count": 99,
   "id": "9702414a-effc-4d68-8358-0b1580eac31e",
   "metadata": {
    "tags": []
   },
   "outputs": [
    {
     "name": "stdout",
     "output_type": "stream",
     "text": [
      "Accuracy scores for train and test: \n",
      "0.9179375453885258\n",
      "0.8950930626057529\n"
     ]
    }
   ],
   "source": [
    "print('Accuracy scores for train and test: ')\n",
    "print(rf_cv_gs.score(X_train, y_train))\n",
    "print(rf_cv_gs.score(X_test, y_test))"
   ]
  },
  {
   "cell_type": "code",
   "execution_count": 100,
   "id": "3ae42392-91c9-4cc2-9d31-15b38be62686",
   "metadata": {},
   "outputs": [
    {
     "data": {
      "image/png": "[encoded data removed]",
      "text/plain": [
       "<Figure size 432x288 with 2 Axes>"
      ]
     },
     "metadata": {
      "needs_background": "light"
     },
     "output_type": "display_data"
    }
   ],
   "source": [
    "y_pred = rf_cv_gs.predict(X_test)\n",
    "ConfusionMatrixDisplay.from_predictions(y_test, y_pred, cmap='summer', display_labels=['winemaking', 'homebrewing']);"
   ]
  },
  {
   "cell_type": "code",
   "execution_count": 101,
   "id": "0e6ed525-d29a-423e-ab11-59adec952928",
   "metadata": {},
   "outputs": [
    {
     "data": {
      "image/png": "[encoded data removed]",
      "text/plain": [
       "<Figure size 432x288 with 1 Axes>"
      ]
     },
     "metadata": {
      "needs_background": "light"
     },
     "output_type": "display_data"
    }
   ],
   "source": [
    "RocCurveDisplay.from_estimator(rf_cv_gs.best_estimator_, X_test, y_test)\n",
    "plt.plot([0, 1], [0, 1], label=\"baseline\", linestyle=\"--\")\n",
    "plt.legend();"
   ]
  },
  {
   "cell_type": "code",
   "execution_count": 102,
   "id": "f0eb5ac8-c90c-43a7-8ca9-2705762e9a0e",
   "metadata": {},
   "outputs": [
    {
     "data": {
      "text/plain": [
       "0.9643953275309207"
      ]
     },
     "execution_count": 102,
     "metadata": {},
     "output_type": "execute_result"
    }
   ],
   "source": [
    "rf_cv_auc = roc_auc_score(y_test, rf_cv_gs.predict_proba(X_test)[:,1])\n",
    "rf_cv_auc"
   ]
  },
  {
   "cell_type": "markdown",
   "id": "f8f836f6-a070-49f9-922d-36975f2ef20a",
   "metadata": {},
   "source": [
    "#### tf-idf"
   ]
  },
  {
   "cell_type": "code",
   "execution_count": 103,
   "id": "5a70b231-3fa1-4e1e-9c32-497c9f82c3ee",
   "metadata": {},
   "outputs": [],
   "source": [
    "pipe_rf_tfidf = Pipeline([\n",
    "    ('tfidf', TfidfVectorizer()),\n",
    "    ('rf', RandomForestClassifier(random_state=42))\n",
    "])"
   ]
  },
  {
   "cell_type": "code",
   "execution_count": 104,
   "id": "ae85b8b8-aa3d-4fc8-a8a3-d3571164f690",
   "metadata": {},
   "outputs": [
    {
     "data": {
      "text/plain": [
       "{'memory': None,\n",
       " 'steps': [('tfidf', TfidfVectorizer()),\n",
       "  ('rf', RandomForestClassifier(random_state=42))],\n",
       " 'verbose': False,\n",
       " 'tfidf': TfidfVectorizer(),\n",
       " 'rf': RandomForestClassifier(random_state=42),\n",
       " 'tfidf__analyzer': 'word',\n",
       " 'tfidf__binary': False,\n",
       " 'tfidf__decode_error': 'strict',\n",
       " 'tfidf__dtype': numpy.float64,\n",
       " 'tfidf__encoding': 'utf-8',\n",
       " 'tfidf__input': 'content',\n",
       " 'tfidf__lowercase': True,\n",
       " 'tfidf__max_df': 1.0,\n",
       " 'tfidf__max_features': None,\n",
       " 'tfidf__min_df': 1,\n",
       " 'tfidf__ngram_range': (1, 1),\n",
       " 'tfidf__norm': 'l2',\n",
       " 'tfidf__preprocessor': None,\n",
       " 'tfidf__smooth_idf': True,\n",
       " 'tfidf__stop_words': None,\n",
       " 'tfidf__strip_accents': None,\n",
       " 'tfidf__sublinear_tf': False,\n",
       " 'tfidf__token_pattern': '(?u)\\\\b\\\\w\\\\w+\\\\b',\n",
       " 'tfidf__tokenizer': None,\n",
       " 'tfidf__use_idf': True,\n",
       " 'tfidf__vocabulary': None,\n",
       " 'rf__bootstrap': True,\n",
       " 'rf__ccp_alpha': 0.0,\n",
       " 'rf__class_weight': None,\n",
       " 'rf__criterion': 'gini',\n",
       " 'rf__max_depth': None,\n",
       " 'rf__max_features': 'auto',\n",
       " 'rf__max_leaf_nodes': None,\n",
       " 'rf__max_samples': None,\n",
       " 'rf__min_impurity_decrease': 0.0,\n",
       " 'rf__min_samples_leaf': 1,\n",
       " 'rf__min_samples_split': 2,\n",
       " 'rf__min_weight_fraction_leaf': 0.0,\n",
       " 'rf__n_estimators': 100,\n",
       " 'rf__n_jobs': None,\n",
       " 'rf__oob_score': False,\n",
       " 'rf__random_state': 42,\n",
       " 'rf__verbose': 0,\n",
       " 'rf__warm_start': False}"
      ]
     },
     "execution_count": 104,
     "metadata": {},
     "output_type": "execute_result"
    }
   ],
   "source": [
    "pipe_rf_tfidf.get_params()"
   ]
  },
  {
   "cell_type": "markdown",
   "id": "32cdb04e-7119-430f-bb5d-f0873f80d5c6",
   "metadata": {},
   "source": [
    "The hyperparameters which we choose to tune are:\n",
    "- `max_features`: consider only the top $n$ tokens\n",
    "- `min_df`: min as above (int for no of docs, percentage of docs for float)\n",
    "- `ngram_range`: consider both a mixture of unigrams and bigrams or just bigrams\n",
    "- `max_depth`: the maximum depth of the trees\n",
    "- `ccp_alpha`: the cost-complexity parameter which prevents overfitting\n",
    "- `n_estimators`: the number of trees in the forest"
   ]
  },
  {
   "cell_type": "code",
   "execution_count": 105,
   "id": "65af3714-55ec-4335-a13c-b12e45e1da05",
   "metadata": {},
   "outputs": [],
   "source": [
    "rf_tfidf_params = {\n",
    "    'tfidf__max_features': [4000, 5000],\n",
    "    'tfidf__min_df': [2, 3],\n",
    "    'tfidf__ngram_range': [(1,2), (2,2)],\n",
    "    'rf__max_depth': np.linspace(10, 14, 5),\n",
    "    'rf__ccp_alpha': [0,1],\n",
    "    'rf__n_estimators': np.linspace(400, 800, 5).astype(int)\n",
    "}"
   ]
  },
  {
   "cell_type": "code",
   "execution_count": 106,
   "id": "5a442044-ae88-4690-b53b-a510b73b4d80",
   "metadata": {
    "tags": []
   },
   "outputs": [
    {
     "name": "stdout",
     "output_type": "stream",
     "text": [
      "Fitting 5 folds for each of 400 candidates, totalling 2000 fits\n",
      "CPU times: user 10.3 s, sys: 665 ms, total: 11 s\n",
      "Wall time: 15min 19s\n"
     ]
    },
    {
     "data": {
      "text/plain": [
       "GridSearchCV(cv=5, error_score='raise',\n",
       "             estimator=Pipeline(steps=[('tfidf', TfidfVectorizer()),\n",
       "                                       ('rf',\n",
       "                                        RandomForestClassifier(random_state=42))]),\n",
       "             n_jobs=5,\n",
       "             param_grid={'rf__ccp_alpha': [0, 1],\n",
       "                         'rf__max_depth': array([10., 11., 12., 13., 14.]),\n",
       "                         'rf__n_estimators': array([400, 500, 600, 700, 800]),\n",
       "                         'tfidf__max_features': [4000, 5000],\n",
       "                         'tfidf__min_df': [2, 3],\n",
       "                         'tfidf__ngram_range': [(1, 2), (2, 2)]},\n",
       "             verbose=1)"
      ]
     },
     "execution_count": 106,
     "metadata": {},
     "output_type": "execute_result"
    }
   ],
   "source": [
    "rf_tfidf_gs = GridSearchCV(pipe_rf_tfidf, param_grid=rf_tfidf_params, cv=5, n_jobs=5, error_score='raise', verbose=1)\n",
    "%time rf_tfidf_gs.fit(X_train, y_train)"
   ]
  },
  {
   "cell_type": "code",
   "execution_count": 107,
   "id": "01d4ee7f-938e-4254-b446-d4389b366026",
   "metadata": {
    "tags": []
   },
   "outputs": [
    {
     "name": "stdout",
     "output_type": "stream",
     "text": [
      "Pipeline(steps=[('tfidf',\n",
      "                 TfidfVectorizer(max_features=4000, min_df=3,\n",
      "                                 ngram_range=(1, 2))),\n",
      "                ('rf',\n",
      "                 RandomForestClassifier(ccp_alpha=0, max_depth=14.0,\n",
      "                                        n_estimators=700, random_state=42))])\n",
      "0.8881739130434783\n"
     ]
    }
   ],
   "source": [
    "print(rf_tfidf_gs.best_estimator_)\n",
    "print(rf_tfidf_gs.best_score_)"
   ]
  },
  {
   "cell_type": "code",
   "execution_count": 108,
   "id": "bb1ea9bc-5081-4a2f-9001-edc3d8c7fc4f",
   "metadata": {
    "tags": []
   },
   "outputs": [
    {
     "name": "stdout",
     "output_type": "stream",
     "text": [
      "Accuracy scores for train and test: \n",
      "0.9331880900508351\n",
      "0.9069373942470389\n"
     ]
    }
   ],
   "source": [
    "print('Accuracy scores for train and test: ')\n",
    "print(rf_tfidf_gs.score(X_train, y_train))\n",
    "print(rf_tfidf_gs.score(X_test, y_test))"
   ]
  },
  {
   "cell_type": "code",
   "execution_count": 109,
   "id": "7047c59c-9da4-4228-95bc-42bff786141f",
   "metadata": {},
   "outputs": [
    {
     "data": {
      "image/png": "[encoded data removed]",
      "text/plain": [
       "<Figure size 432x288 with 2 Axes>"
      ]
     },
     "metadata": {
      "needs_background": "light"
     },
     "output_type": "display_data"
    }
   ],
   "source": [
    "y_pred = rf_tfidf_gs.predict(X_test)\n",
    "ConfusionMatrixDisplay.from_predictions(y_test, y_pred, cmap='winter', display_labels=['winemaking', 'homebrewing']);"
   ]
  },
  {
   "cell_type": "code",
   "execution_count": 110,
   "id": "2033df4f-bc38-4e96-873d-04ba47cc7d2d",
   "metadata": {},
   "outputs": [
    {
     "data": {
      "image/png": "[encoded data removed]",
      "text/plain": [
       "<Figure size 432x288 with 1 Axes>"
      ]
     },
     "metadata": {
      "needs_background": "light"
     },
     "output_type": "display_data"
    }
   ],
   "source": [
    "RocCurveDisplay.from_estimator(rf_tfidf_gs.best_estimator_, X_test, y_test)\n",
    "plt.plot([0, 1], [0, 1], label=\"baseline\", linestyle=\"--\")\n",
    "plt.legend();"
   ]
  },
  {
   "cell_type": "code",
   "execution_count": 111,
   "id": "208e9b7e-f6ca-40a1-8196-e7905841d112",
   "metadata": {},
   "outputs": [
    {
     "data": {
      "text/plain": [
       "0.9659356390288594"
      ]
     },
     "execution_count": 111,
     "metadata": {},
     "output_type": "execute_result"
    }
   ],
   "source": [
    "rf_tfidf_auc = roc_auc_score(y_test, rf_tfidf_gs.best_estimator_.predict_proba(X_test)[:,1])\n",
    "rf_tfidf_auc"
   ]
  },
  {
   "cell_type": "markdown",
   "id": "43862792-03ff-47c6-8c50-03081e188b3a",
   "metadata": {},
   "source": [
    "# Model Analysis"
   ]
  },
  {
   "cell_type": "markdown",
   "id": "a1eff5b8-08f9-4c22-b312-f4b466a79071",
   "metadata": {},
   "source": [
    "## Model metrics"
   ]
  },
  {
   "cell_type": "markdown",
   "id": "8310d911-b0d3-42f7-ac48-892e00baab97",
   "metadata": {},
   "source": [
    "Before we analyze the model scores, we can first generate a baseline score. This will be a naive count of the proportion of each category in the training data."
   ]
  },
  {
   "cell_type": "code",
   "execution_count": 112,
   "id": "55e9721c-8414-4646-a448-a8df06b6d5e4",
   "metadata": {},
   "outputs": [
    {
     "data": {
      "text/plain": [
       "0    0.501016\n",
       "1    0.498984\n",
       "Name: subreddit, dtype: float64"
      ]
     },
     "execution_count": 112,
     "metadata": {},
     "output_type": "execute_result"
    }
   ],
   "source": [
    "df.subreddit.value_counts(normalize=True)"
   ]
  },
  {
   "cell_type": "markdown",
   "id": "9dfb0906-04cf-4b1f-a0a3-3181b0ea6b27",
   "metadata": {},
   "source": [
    "Understandably, since we obtained roughly equal portions of data (minus duplicates) of each subreddit, this means that naive prediction should give an almost equal chance of classifying any new data as one topic or the other. This is a terrible prediction score which we hope to beat with our models.\n",
    "\n",
    "We can put our models into a dataframe for easier reference."
   ]
  },
  {
   "cell_type": "code",
   "execution_count": 135,
   "id": "433a2ec8-04f1-44c5-a0bc-9a6e188272d4",
   "metadata": {},
   "outputs": [
    {
     "data": {
      "text/html": [
       "<div>\n",
       "<style scoped>\n",
       "    .dataframe tbody tr th:only-of-type {\n",
       "        vertical-align: middle;\n",
       "    }\n",
       "\n",
       "    .dataframe tbody tr th {\n",
       "        vertical-align: top;\n",
       "    }\n",
       "\n",
       "    .dataframe thead th {\n",
       "        text-align: right;\n",
       "    }\n",
       "</style>\n",
       "<table border=\"1\" class=\"dataframe\">\n",
       "  <thead>\n",
       "    <tr style=\"text-align: right;\">\n",
       "      <th></th>\n",
       "      <th>models</th>\n",
       "      <th>vectorizer</th>\n",
       "      <th>accuracy score</th>\n",
       "      <th>auc score</th>\n",
       "    </tr>\n",
       "  </thead>\n",
       "  <tbody>\n",
       "    <tr>\n",
       "      <th>0</th>\n",
       "      <td>Logistic Regression</td>\n",
       "      <td>count</td>\n",
       "      <td>0.897</td>\n",
       "      <td>0.961</td>\n",
       "    </tr>\n",
       "    <tr>\n",
       "      <th>1</th>\n",
       "      <td>Logistic Regression</td>\n",
       "      <td>tf-idf</td>\n",
       "      <td>0.917</td>\n",
       "      <td>0.975</td>\n",
       "    </tr>\n",
       "    <tr>\n",
       "      <th>2</th>\n",
       "      <td>KNN Classifier</td>\n",
       "      <td>count</td>\n",
       "      <td>0.720</td>\n",
       "      <td>0.851</td>\n",
       "    </tr>\n",
       "    <tr>\n",
       "      <th>3</th>\n",
       "      <td>KNN Classifier</td>\n",
       "      <td>tf-idf</td>\n",
       "      <td>0.580</td>\n",
       "      <td>0.655</td>\n",
       "    </tr>\n",
       "    <tr>\n",
       "      <th>4</th>\n",
       "      <td>Naïve Bayes</td>\n",
       "      <td>count</td>\n",
       "      <td>0.789</td>\n",
       "      <td>0.925</td>\n",
       "    </tr>\n",
       "    <tr>\n",
       "      <th>5</th>\n",
       "      <td>Naïve Bayes</td>\n",
       "      <td>tf-idf</td>\n",
       "      <td>0.789</td>\n",
       "      <td>0.925</td>\n",
       "    </tr>\n",
       "    <tr>\n",
       "      <th>6</th>\n",
       "      <td>Random Forest</td>\n",
       "      <td>count</td>\n",
       "      <td>0.890</td>\n",
       "      <td>0.964</td>\n",
       "    </tr>\n",
       "    <tr>\n",
       "      <th>7</th>\n",
       "      <td>Random Forest</td>\n",
       "      <td>tf-idf</td>\n",
       "      <td>0.888</td>\n",
       "      <td>0.966</td>\n",
       "    </tr>\n",
       "  </tbody>\n",
       "</table>\n",
       "</div>"
      ],
      "text/plain": [
       "                models vectorizer  accuracy score  auc score\n",
       "0  Logistic Regression      count           0.897      0.961\n",
       "1  Logistic Regression     tf-idf           0.917      0.975\n",
       "2       KNN Classifier      count           0.720      0.851\n",
       "3       KNN Classifier     tf-idf           0.580      0.655\n",
       "4          Naïve Bayes      count           0.789      0.925\n",
       "5          Naïve Bayes     tf-idf           0.789      0.925\n",
       "6        Random Forest      count           0.890      0.964\n",
       "7        Random Forest     tf-idf           0.888      0.966"
      ]
     },
     "execution_count": 135,
     "metadata": {},
     "output_type": "execute_result"
    }
   ],
   "source": [
    "models = ['Logistic Regression', 'Logistic Regression', 'KNN Classifier', 'KNN Classifier', 'Naïve Bayes', 'Naïve Bayes', 'Random Forest', 'Random Forest']\n",
    "vectorizer = ['count', 'tf-idf']*4\n",
    "f1 = [log_cv_gs, log_tfidf_gs, knn_cv_gs, knn_tfidf_gs, nb_cv_gs, nb_tfidf_gs, rf_cv_gs, rf_tfidf_gs]\n",
    "score = [i.best_score_ for i in f1]\n",
    "auc = [log_cv_auc, log_tfidf_auc, knn_cv_auc, knn_tfidf_auc, nb_cv_auc, nb_tfidf_auc, rf_cv_auc, rf_tfidf_auc]\n",
    "pd.DataFrame(list(zip(models, vectorizer, score, auc)), columns = ['models', 'vectorizer', 'accuracy score', 'auc score']).round(3)"
   ]
  },
  {
   "cell_type": "markdown",
   "id": "bc592487-9808-43b6-8737-66dc484574dc",
   "metadata": {},
   "source": [
    "The ROC-AUC score is the most robust way of determining a good model (that we have learnt thus far), because the closer to 1, the better the model is at separating the two classes. It aims to find the ratio between the sensitivity (true positive rate) and the specificity (true negative rate), which is exactly what we need. Furthermore, the ROC is insensitive to class disparities and thus suited for our balanced classes (Kuhn, Max and Johnson, Kjell, \"Applied Predictive Modeling\", 2013). \n",
    "\n",
    "According to that metric our two best models are:\n",
    "1. Logistic regression with tf-idf vectorizer\n",
    "2. Random forest with tf-idf vectorizer\n",
    "\n",
    "We can further compare these models to see their degree of overfitting, which we can see via their accuracy scores on the train and test datasets, since our classes are balanced."
   ]
  },
  {
   "cell_type": "code",
   "execution_count": 123,
   "id": "11cf8fb5-5de6-43bf-bb31-57ae86ae60a1",
   "metadata": {
    "tags": []
   },
   "outputs": [
    {
     "name": "stdout",
     "output_type": "stream",
     "text": [
      "Accuracy scores for logistic regression with tf-idf: \n",
      "train: 0.9767610748002905\n",
      "test: 0.9120135363790186\n"
     ]
    }
   ],
   "source": [
    "print('Accuracy scores for logistic regression with tf-idf: ')\n",
    "print(f'train: {log_tfidf_gs.score(X_train, y_train)}')\n",
    "print(f'test: {log_tfidf_gs.score(X_test, y_test)}')"
   ]
  },
  {
   "cell_type": "code",
   "execution_count": 122,
   "id": "87857314-b269-4067-aa38-3bc3a39c408b",
   "metadata": {
    "tags": []
   },
   "outputs": [
    {
     "name": "stdout",
     "output_type": "stream",
     "text": [
      "Accuracy scores for random forest with count: \n",
      "train: 0.9331880900508351\n",
      "test: 0.9069373942470389\n"
     ]
    }
   ],
   "source": [
    "print('Accuracy scores for random forest with count: ')\n",
    "print(f'train: {rf_tfidf_gs.score(X_train, y_train)}')\n",
    "print(f'test: {rf_tfidf_gs.score(X_test, y_test)}')"
   ]
  },
  {
   "cell_type": "markdown",
   "id": "33c69d5d-ea47-496c-9e3b-37d4b388db4a",
   "metadata": {},
   "source": [
    "The random forest model is less overfitted than the logistic regression model, but the latter has a good bias-variance tradeoff. We also see that the logistic regression model's accuracy score of 0.92 is significantly better than the baseline score of 0.5. We can thus conclude that the best model for our purposes is the **logistic regression with tf-idf vectorizer**."
   ]
  },
  {
   "cell_type": "markdown",
   "id": "f1c84140-ec51-4d1f-aea9-b747bc936d1f",
   "metadata": {},
   "source": [
    "## Corpus analysis"
   ]
  },
  {
   "cell_type": "markdown",
   "id": "7432eb77-60fc-40b1-b8a5-5c30c7f9d9aa",
   "metadata": {},
   "source": [
    "We can also print the misclassified posts to look at the texts that the model misclassified to hopefully get some insights into the type of words the model wrongly classified. These words would have contributed to the false positives and negatives in our classification model."
   ]
  },
  {
   "cell_type": "code",
   "execution_count": 119,
   "id": "49bc4136-fab8-4870-911a-fa4db6ca1772",
   "metadata": {},
   "outputs": [
    {
     "data": {
      "text/html": [
       "<div>\n",
       "<style scoped>\n",
       "    .dataframe tbody tr th:only-of-type {\n",
       "        vertical-align: middle;\n",
       "    }\n",
       "\n",
       "    .dataframe tbody tr th {\n",
       "        vertical-align: top;\n",
       "    }\n",
       "\n",
       "    .dataframe thead th {\n",
       "        text-align: right;\n",
       "    }\n",
       "</style>\n",
       "<table border=\"1\" class=\"dataframe\">\n",
       "  <thead>\n",
       "    <tr style=\"text-align: right;\">\n",
       "      <th></th>\n",
       "      <th>text</th>\n",
       "      <th>actual</th>\n",
       "      <th>predicted</th>\n",
       "    </tr>\n",
       "  </thead>\n",
       "  <tbody>\n",
       "    <tr>\n",
       "      <th>0</th>\n",
       "      <td>smart gadget update cool gadgetssmart appliances/ kitchen utensil</td>\n",
       "      <td>homebrewing</td>\n",
       "      <td>winemaking</td>\n",
       "    </tr>\n",
       "    <tr>\n",
       "      <th>1</th>\n",
       "      <td>carbon filter airlock pc cool reservoir</td>\n",
       "      <td>homebrewing</td>\n",
       "      <td>winemaking</td>\n",
       "    </tr>\n",
       "    <tr>\n",
       "      <th>2</th>\n",
       "      <td>hard cider still taste apple juice first batch hard cider cheap apple juice yeast carboy 10 day bottle small amount sugar bottle let sit 10 day taste taste regular apple juice maybe tiny bite front tell alcohol slightly carbonate expect stay sweet little alcohol taste bubble lot initial ferment ...</td>\n",
       "      <td>homebrewing</td>\n",
       "      <td>winemaking</td>\n",
       "    </tr>\n",
       "    <tr>\n",
       "      <th>3</th>\n",
       "      <td>thats co2 right shook container vigorously month old</td>\n",
       "      <td>winemaking</td>\n",
       "      <td>homebrewing</td>\n",
       "    </tr>\n",
       "    <tr>\n",
       "      <th>4</th>\n",
       "      <td>white film bottle beer help identify</td>\n",
       "      <td>homebrewing</td>\n",
       "      <td>winemaking</td>\n",
       "    </tr>\n",
       "  </tbody>\n",
       "</table>\n",
       "</div>"
      ],
      "text/plain": [
       "                                                                                                                                                                                                                                                                                                          text  \\\n",
       "0                                                                                                                                                                                                                                            smart gadget update cool gadgetssmart appliances/ kitchen utensil   \n",
       "1                                                                                                                                                                                                                                                                      carbon filter airlock pc cool reservoir   \n",
       "2  hard cider still taste apple juice first batch hard cider cheap apple juice yeast carboy 10 day bottle small amount sugar bottle let sit 10 day taste taste regular apple juice maybe tiny bite front tell alcohol slightly carbonate expect stay sweet little alcohol taste bubble lot initial ferment ...   \n",
       "3                                                                                                                                                                                                                                                         thats co2 right shook container vigorously month old   \n",
       "4                                                                                                                                                                                                                                                                         white film bottle beer help identify   \n",
       "\n",
       "        actual    predicted  \n",
       "0  homebrewing   winemaking  \n",
       "1  homebrewing   winemaking  \n",
       "2  homebrewing   winemaking  \n",
       "3   winemaking  homebrewing  \n",
       "4  homebrewing   winemaking  "
      ]
     },
     "execution_count": 119,
     "metadata": {},
     "output_type": "execute_result"
    }
   ],
   "source": [
    "pd.options.display.max_colwidth = 300\n",
    "y_pred = log_tfidf_gs.predict(X_test)\n",
    "combine = list(zip(X_test, y_test, y_pred))\n",
    "false = pd.DataFrame(columns = [\"text\", \"actual\", \"predicted\"]) \n",
    "for text, actual, prediction in combine:\n",
    "    if actual != prediction:\n",
    "        row = pd.DataFrame({'text':[text], 'actual':[actual], 'predicted':[prediction]})\n",
    "        false = false.append(row, ignore_index=True)\n",
    "for i in ['actual', 'predicted']:\n",
    "    false[i] = false[i].map({0:'winemaking', 1:'homebrewing'})\n",
    "false.head()"
   ]
  },
  {
   "cell_type": "code",
   "execution_count": 120,
   "id": "59d34f61-6e5f-455d-a774-ebfc5447d699",
   "metadata": {},
   "outputs": [
    {
     "data": {
      "text/plain": [
       "look         2.092221\n",
       "bottle       1.691372\n",
       "wine         1.352732\n",
       "make         1.074922\n",
       "bucket       1.073943\n",
       "gallon       1.069240\n",
       "add          1.054941\n",
       "batch        1.012055\n",
       "use          0.990518\n",
       "first        0.954669\n",
       "still        0.889490\n",
       "help         0.885559\n",
       "carboy       0.883672\n",
       "sugar        0.855740\n",
       "yeast        0.818457\n",
       "juice        0.784612\n",
       "also         0.762801\n",
       "fermenter    0.747630\n",
       "film         0.728193\n",
       "try          0.693803\n",
       "dtype: float64"
      ]
     },
     "execution_count": 120,
     "metadata": {},
     "output_type": "execute_result"
    }
   ],
   "source": [
    "tfidf = TfidfVectorizer(ngram_range=(1,2), stop_words=stop_words)\n",
    "mis = tfidf.fit_transform(false['text'])\n",
    "mis = pd.DataFrame(mis.todense(), columns=tfidf.get_feature_names_out()).sum().sort_values().tail(20)\n",
    "mis.sort_values(ascending=False)"
   ]
  },
  {
   "cell_type": "markdown",
   "id": "35de6d73-9123-4f6d-a749-c6e48f34490b",
   "metadata": {},
   "source": [
    "The top 20 words that the model misclassified seems to be common words, except 'wine' which is surprising. Further analysis could be done on the importance of these words and whether they could be removed as stopwords. Wine might be overclassified due to the type of beer called 'barleywine', or it could be that the beer homebrewers like to compare their process to fermenting wine. Overlapping words like 'sugar' and 'yeast', essential to the general fermentation process, also featured highly, understandably so.\n",
    "\n",
    "We can also compare the coefficients of the top 20 and bottom 20 words to see the words that the model got correct, which contributed to the true positives and negatives."
   ]
  },
  {
   "cell_type": "code",
   "execution_count": 132,
   "id": "b1bf47f1-dedd-4d60-869d-bb185fb0fbcb",
   "metadata": {},
   "outputs": [
    {
     "data": {
      "text/html": [
       "<div>\n",
       "<style scoped>\n",
       "    .dataframe tbody tr th:only-of-type {\n",
       "        vertical-align: middle;\n",
       "    }\n",
       "\n",
       "    .dataframe tbody tr th {\n",
       "        vertical-align: top;\n",
       "    }\n",
       "\n",
       "    .dataframe thead th {\n",
       "        text-align: right;\n",
       "    }\n",
       "</style>\n",
       "<table border=\"1\" class=\"dataframe\">\n",
       "  <thead>\n",
       "    <tr style=\"text-align: right;\">\n",
       "      <th></th>\n",
       "      <th>coef</th>\n",
       "    </tr>\n",
       "    <tr>\n",
       "      <th>word</th>\n",
       "      <th></th>\n",
       "    </tr>\n",
       "  </thead>\n",
       "  <tbody>\n",
       "    <tr>\n",
       "      <th>beer</th>\n",
       "      <td>40.982709</td>\n",
       "    </tr>\n",
       "    <tr>\n",
       "      <th>brew</th>\n",
       "      <td>27.174515</td>\n",
       "    </tr>\n",
       "    <tr>\n",
       "      <th>hop</th>\n",
       "      <td>17.141200</td>\n",
       "    </tr>\n",
       "    <tr>\n",
       "      <th>brewing</th>\n",
       "      <td>10.012325</td>\n",
       "    </tr>\n",
       "    <tr>\n",
       "      <th>keg</th>\n",
       "      <td>7.440317</td>\n",
       "    </tr>\n",
       "    <tr>\n",
       "      <th>malt</th>\n",
       "      <td>5.816294</td>\n",
       "    </tr>\n",
       "    <tr>\n",
       "      <th>ale</th>\n",
       "      <td>5.421691</td>\n",
       "    </tr>\n",
       "    <tr>\n",
       "      <th>grain</th>\n",
       "      <td>5.097452</td>\n",
       "    </tr>\n",
       "    <tr>\n",
       "      <th>pressure</th>\n",
       "      <td>4.933084</td>\n",
       "    </tr>\n",
       "    <tr>\n",
       "      <th>use</th>\n",
       "      <td>4.885732</td>\n",
       "    </tr>\n",
       "    <tr>\n",
       "      <th>homebrewing</th>\n",
       "      <td>3.144817</td>\n",
       "    </tr>\n",
       "    <tr>\n",
       "      <th>homebrew</th>\n",
       "      <td>3.141790</td>\n",
       "    </tr>\n",
       "    <tr>\n",
       "      <th>wort</th>\n",
       "      <td>3.105161</td>\n",
       "    </tr>\n",
       "    <tr>\n",
       "      <th>lager</th>\n",
       "      <td>2.957375</td>\n",
       "    </tr>\n",
       "    <tr>\n",
       "      <th>system</th>\n",
       "      <td>2.932764</td>\n",
       "    </tr>\n",
       "    <tr>\n",
       "      <th>brewer</th>\n",
       "      <td>2.905040</td>\n",
       "    </tr>\n",
       "    <tr>\n",
       "      <th>boil</th>\n",
       "      <td>2.880080</td>\n",
       "    </tr>\n",
       "    <tr>\n",
       "      <th>starter</th>\n",
       "      <td>2.867275</td>\n",
       "    </tr>\n",
       "    <tr>\n",
       "      <th>temperature</th>\n",
       "      <td>2.687325</td>\n",
       "    </tr>\n",
       "    <tr>\n",
       "      <th>mash</th>\n",
       "      <td>2.660843</td>\n",
       "    </tr>\n",
       "  </tbody>\n",
       "</table>\n",
       "</div>"
      ],
      "text/plain": [
       "                  coef\n",
       "word                  \n",
       "beer         40.982709\n",
       "brew         27.174515\n",
       "hop          17.141200\n",
       "brewing      10.012325\n",
       "keg           7.440317\n",
       "malt          5.816294\n",
       "ale           5.421691\n",
       "grain         5.097452\n",
       "pressure      4.933084\n",
       "use           4.885732\n",
       "homebrewing   3.144817\n",
       "homebrew      3.141790\n",
       "wort          3.105161\n",
       "lager         2.957375\n",
       "system        2.932764\n",
       "brewer        2.905040\n",
       "boil          2.880080\n",
       "starter       2.867275\n",
       "temperature   2.687325\n",
       "mash          2.660843"
      ]
     },
     "execution_count": 132,
     "metadata": {},
     "output_type": "execute_result"
    }
   ],
   "source": [
    "coef_names = log_tfidf_gs.best_estimator_.named_steps.tfidf.get_feature_names_out()\n",
    "coef_vals = np.exp(log_tfidf_gs.best_estimator_.named_steps.log.coef_[0])\n",
    "\n",
    "coef_df = pd.DataFrame ({\n",
    "    'word' : coef_names,\n",
    "    'coef' : coef_vals}).set_index('word')\n",
    "\n",
    "coef_df.reindex(coef_df['coef'].sort_values(ascending=False).index)[:20]"
   ]
  },
  {
   "cell_type": "code",
   "execution_count": 133,
   "id": "79ba4191-4c1d-4722-b7a7-bb3c4341eab9",
   "metadata": {},
   "outputs": [
    {
     "data": {
      "text/html": [
       "<div>\n",
       "<style scoped>\n",
       "    .dataframe tbody tr th:only-of-type {\n",
       "        vertical-align: middle;\n",
       "    }\n",
       "\n",
       "    .dataframe tbody tr th {\n",
       "        vertical-align: top;\n",
       "    }\n",
       "\n",
       "    .dataframe thead th {\n",
       "        text-align: right;\n",
       "    }\n",
       "</style>\n",
       "<table border=\"1\" class=\"dataframe\">\n",
       "  <thead>\n",
       "    <tr style=\"text-align: right;\">\n",
       "      <th></th>\n",
       "      <th>coef</th>\n",
       "    </tr>\n",
       "    <tr>\n",
       "      <th>word</th>\n",
       "      <th></th>\n",
       "    </tr>\n",
       "  </thead>\n",
       "  <tbody>\n",
       "    <tr>\n",
       "      <th>wine</th>\n",
       "      <td>0.000448</td>\n",
       "    </tr>\n",
       "    <tr>\n",
       "      <th>grape</th>\n",
       "      <td>0.046808</td>\n",
       "    </tr>\n",
       "    <tr>\n",
       "      <th>winemaking</th>\n",
       "      <td>0.171880</td>\n",
       "    </tr>\n",
       "    <tr>\n",
       "      <th>juice</th>\n",
       "      <td>0.271356</td>\n",
       "    </tr>\n",
       "    <tr>\n",
       "      <th>brix</th>\n",
       "      <td>0.291097</td>\n",
       "    </tr>\n",
       "    <tr>\n",
       "      <th>make wine</th>\n",
       "      <td>0.313762</td>\n",
       "    </tr>\n",
       "    <tr>\n",
       "      <th>wine make</th>\n",
       "      <td>0.322745</td>\n",
       "    </tr>\n",
       "    <tr>\n",
       "      <th>press</th>\n",
       "      <td>0.330268</td>\n",
       "    </tr>\n",
       "    <tr>\n",
       "      <th>skin</th>\n",
       "      <td>0.331489</td>\n",
       "    </tr>\n",
       "    <tr>\n",
       "      <th>fruit</th>\n",
       "      <td>0.337399</td>\n",
       "    </tr>\n",
       "    <tr>\n",
       "      <th>age</th>\n",
       "      <td>0.337829</td>\n",
       "    </tr>\n",
       "    <tr>\n",
       "      <th>winemaker</th>\n",
       "      <td>0.362356</td>\n",
       "    </tr>\n",
       "    <tr>\n",
       "      <th>cork</th>\n",
       "      <td>0.366964</td>\n",
       "    </tr>\n",
       "    <tr>\n",
       "      <th>rack</th>\n",
       "      <td>0.373602</td>\n",
       "    </tr>\n",
       "    <tr>\n",
       "      <th>cab</th>\n",
       "      <td>0.381984</td>\n",
       "    </tr>\n",
       "    <tr>\n",
       "      <th>red</th>\n",
       "      <td>0.395081</td>\n",
       "    </tr>\n",
       "    <tr>\n",
       "      <th>must</th>\n",
       "      <td>0.416132</td>\n",
       "    </tr>\n",
       "    <tr>\n",
       "      <th>fermentation</th>\n",
       "      <td>0.438295</td>\n",
       "    </tr>\n",
       "    <tr>\n",
       "      <th>strawberry</th>\n",
       "      <td>0.474020</td>\n",
       "    </tr>\n",
       "    <tr>\n",
       "      <th>carboy</th>\n",
       "      <td>0.478373</td>\n",
       "    </tr>\n",
       "  </tbody>\n",
       "</table>\n",
       "</div>"
      ],
      "text/plain": [
       "                  coef\n",
       "word                  \n",
       "wine          0.000448\n",
       "grape         0.046808\n",
       "winemaking    0.171880\n",
       "juice         0.271356\n",
       "brix          0.291097\n",
       "make wine     0.313762\n",
       "wine make     0.322745\n",
       "press         0.330268\n",
       "skin          0.331489\n",
       "fruit         0.337399\n",
       "age           0.337829\n",
       "winemaker     0.362356\n",
       "cork          0.366964\n",
       "rack          0.373602\n",
       "cab           0.381984\n",
       "red           0.395081\n",
       "must          0.416132\n",
       "fermentation  0.438295\n",
       "strawberry    0.474020\n",
       "carboy        0.478373"
      ]
     },
     "execution_count": 133,
     "metadata": {},
     "output_type": "execute_result"
    }
   ],
   "source": [
    "coef_df.reindex(coef_df['coef'].sort_values().index)[:20]"
   ]
  },
  {
   "cell_type": "markdown",
   "id": "7908e9ad-2e42-4d58-81ca-41b880f5df52",
   "metadata": {},
   "source": [
    "The coefficients tell us the probability of classification into our classes, in this case the closer to 0 means the post would be classified under winemaking while the closer to 1 would be homebrewing. Obviously the words that would lead to most correct classifications are the topics themselves, 'wine' and 'beer'. There are also topical words which the model got correct like 'hop', 'malt', and 'keg' for beer and 'grape', 'skin', and 'age' for wine. This means that a majority of key words were classified correctly."
   ]
  },
  {
   "cell_type": "markdown",
   "id": "9fa7b9fa-e718-4504-8d0e-b736593b2749",
   "metadata": {},
   "source": [
    "# Conclusion and Limitations"
   ]
  },
  {
   "cell_type": "markdown",
   "id": "88a8f4ad-d472-486b-9090-07c0f4ec2b8b",
   "metadata": {},
   "source": [
    "We will again show the most frequent word tokens that we used to train our model."
   ]
  },
  {
   "cell_type": "code",
   "execution_count": 118,
   "id": "0a1d1a0e-d3c0-45d0-a65d-1cdc6102af5c",
   "metadata": {
    "tags": []
   },
   "outputs": [
    {
     "data": {
      "image/png": "[encoded data removed]",
      "text/plain": [
       "<Figure size 1296x576 with 2 Axes>"
      ]
     },
     "metadata": {
      "needs_background": "light"
     },
     "output_type": "display_data"
    }
   ],
   "source": [
    "wine_tfidf_uni, beer_tfidf_uni = freq_plot(df, vec='tf-idf unigram')"
   ]
  },
  {
   "cell_type": "markdown",
   "id": "3d6e951b-675e-4dc7-a4f0-397fd28e8b0a",
   "metadata": {},
   "source": [
    "It seems that the unigram/bigram mix has enough unique tokens to fit our model without too much overfitting. With more data and a more robust cleaning, we are confident that the model can be improved greatly to suit the customer's needs. But in the meantime, we are confident enough to present our model to the client as it has a relatively high score and would be able to sieve out whether any prospective customer would like to know about winemaking or homebrewing.\n",
    "\n",
    "The overfitting could be addressed by removing more stopwords, and considering the context of the commonly misclassified words. We could also remove the obvious words like 'wine' and 'beer' because they are obvious indicators of the topics, and try to prioritize other adjacent words."
   ]
  },
  {
   "cell_type": "markdown",
   "id": "2d5da561-1c3f-4b03-a603-01ac35c01d44",
   "metadata": {},
   "source": [
    "We could improve our model by adding a spell-checker for certain words that are spelt wrongly, which might improve the accuracy of the lemmatizer. Work could also be done in cleaning up emojis and other unwanted data to reduce the noise that goes into the models. These would reduce the overfitting in out best model, which would make it better at predicting new data.\n",
    "\n",
    "Other models could also be explored like SVM and GLM, but they are outside the scope of this project."
   ]
  },
  {
   "cell_type": "code",
   "execution_count": null,
   "id": "980d9731-b5d4-4874-b1a1-178ab65887fa",
   "metadata": {},
   "outputs": [],
   "source": []
  }
 ],
 "metadata": {
  "kernelspec": {
   "display_name": "Python 3 (ipykernel)",
   "language": "python",
   "name": "python3"
  },
  "language_info": {
   "codemirror_mode": {
    "name": "ipython",
    "version": 3
   },
   "file_extension": ".py",
   "mimetype": "text/x-python",
   "name": "python",
   "nbconvert_exporter": "python",
   "pygments_lexer": "ipython3",
   "version": "3.9.12"
  }
 },
 "nbformat": 4,
 "nbformat_minor": 5
}
